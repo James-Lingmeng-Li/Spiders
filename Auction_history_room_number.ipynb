{
 "cells": [
  {
   "cell_type": "code",
   "execution_count": 1,
   "metadata": {},
   "outputs": [],
   "source": [
    "#import libs\n",
    "import requests\n",
    "from bs4 import BeautifulSoup\n",
    "import pandas as pd\n",
    "from tqdm import tqdm\n",
    "import re"
   ]
  },
  {
   "cell_type": "code",
   "execution_count": 4,
   "metadata": {},
   "outputs": [],
   "source": [
    "Domain_auction_price = pd.read_csv('Domain_sold_price_24_11_2019_updated.csv')"
   ]
  },
  {
   "cell_type": "code",
   "execution_count": 5,
   "metadata": {},
   "outputs": [
    {
     "data": {
      "text/plain": [
       "302"
      ]
     },
     "execution_count": 5,
     "metadata": {},
     "output_type": "execute_result"
    }
   ],
   "source": [
    "len(Domain_auction_price['url'])"
   ]
  },
  {
   "cell_type": "code",
   "execution_count": 6,
   "metadata": {},
   "outputs": [],
   "source": [
    "Domain_auction_price['beds'] = '' \n",
    "Domain_auction_price['baths'] = ''\n",
    "Domain_auction_price['cars'] = ''"
   ]
  },
  {
   "cell_type": "code",
   "execution_count": 7,
   "metadata": {},
   "outputs": [
    {
     "name": "stderr",
     "output_type": "stream",
     "text": [
      "  0%|          | 0/302 [00:00<?, ?it/s]/opt/anaconda3/lib/python3.7/site-packages/ipykernel_launcher.py:9: SettingWithCopyWarning: \n",
      "A value is trying to be set on a copy of a slice from a DataFrame\n",
      "\n",
      "See the caveats in the documentation: http://pandas.pydata.org/pandas-docs/stable/user_guide/indexing.html#returning-a-view-versus-a-copy\n",
      "  if __name__ == '__main__':\n",
      "/opt/anaconda3/lib/python3.7/site-packages/ipykernel_launcher.py:10: SettingWithCopyWarning: \n",
      "A value is trying to be set on a copy of a slice from a DataFrame\n",
      "\n",
      "See the caveats in the documentation: http://pandas.pydata.org/pandas-docs/stable/user_guide/indexing.html#returning-a-view-versus-a-copy\n",
      "  # Remove the CWD from sys.path while we load stuff.\n",
      "/opt/anaconda3/lib/python3.7/site-packages/ipykernel_launcher.py:11: SettingWithCopyWarning: \n",
      "A value is trying to be set on a copy of a slice from a DataFrame\n",
      "\n",
      "See the caveats in the documentation: http://pandas.pydata.org/pandas-docs/stable/user_guide/indexing.html#returning-a-view-versus-a-copy\n",
      "  # This is added back by InteractiveShellApp.init_path()\n",
      "  0%|          | 1/302 [00:00<04:14,  1.18it/s]"
     ]
    },
    {
     "name": "stdout",
     "output_type": "stream",
     "text": [
      "1 https://www.domain.com.au/2-elm-street-acacia-gardens-nsw-2763-2015832979 4 2 2\n"
     ]
    },
    {
     "name": "stderr",
     "output_type": "stream",
     "text": [
      "\r",
      "  1%|          | 2/302 [00:01<04:01,  1.24it/s]"
     ]
    },
    {
     "name": "stdout",
     "output_type": "stream",
     "text": [
      "2 https://www.domain.com.au/62-kingsclear-road-alexandria-nsw-2015-2015824443 2 1 −\n"
     ]
    },
    {
     "name": "stderr",
     "output_type": "stream",
     "text": [
      "\r",
      "  1%|          | 3/302 [00:02<03:34,  1.39it/s]"
     ]
    },
    {
     "name": "stdout",
     "output_type": "stream",
     "text": [
      "3 https://www.domain.com.au/12-allambie-road-allambie-heights-nsw-2100-2015826786 4 2 2\n"
     ]
    },
    {
     "name": "stderr",
     "output_type": "stream",
     "text": [
      "\r",
      "  1%|▏         | 4/302 [00:02<03:33,  1.40it/s]"
     ]
    },
    {
     "name": "stdout",
     "output_type": "stream",
     "text": [
      "4 https://www.domain.com.au/74-churchill-crescent-allambie-heights-nsw-2100-2015830027 4 2 2\n"
     ]
    },
    {
     "name": "stderr",
     "output_type": "stream",
     "text": [
      "\r",
      "  2%|▏         | 5/302 [00:03<03:11,  1.55it/s]"
     ]
    },
    {
     "name": "stdout",
     "output_type": "stream",
     "text": [
      "5 https://www.domain.com.au/176-nelson-street-annandale-nsw-2038-2015828797 3 1 1\n"
     ]
    },
    {
     "name": "stderr",
     "output_type": "stream",
     "text": [
      "\r",
      "  2%|▏         | 6/302 [00:03<03:10,  1.55it/s]"
     ]
    },
    {
     "name": "stdout",
     "output_type": "stream",
     "text": [
      "6 https://www.domain.com.au/21-36-50-taylor-street-annandale-nsw-2038-2015834482 1 1 1\n"
     ]
    },
    {
     "name": "stderr",
     "output_type": "stream",
     "text": [
      "\r",
      "  2%|▏         | 7/302 [00:04<03:06,  1.58it/s]"
     ]
    },
    {
     "name": "stdout",
     "output_type": "stream",
     "text": [
      "7 https://www.domain.com.au/5-station-street-arncliffe-nsw-2205-2015827226 3 1 −\n"
     ]
    },
    {
     "name": "stderr",
     "output_type": "stream",
     "text": [
      "\r",
      "  3%|▎         | 8/302 [00:05<03:21,  1.46it/s]"
     ]
    },
    {
     "name": "stdout",
     "output_type": "stream",
     "text": [
      "8 https://www.domain.com.au/2-163-165-wollongong-road-arncliffe-nsw-2205-2015819636 3 2 1\n"
     ]
    },
    {
     "name": "stderr",
     "output_type": "stream",
     "text": [
      "\r",
      "  3%|▎         | 9/302 [00:05<03:10,  1.54it/s]"
     ]
    },
    {
     "name": "stdout",
     "output_type": "stream",
     "text": [
      "9 https://www.domain.com.au/1103-5-jersey-road-artarmon-nsw-2064-2015828645 2 1 1\n"
     ]
    },
    {
     "name": "stderr",
     "output_type": "stream",
     "text": [
      "\r",
      "  3%|▎         | 10/302 [00:06<03:04,  1.58it/s]"
     ]
    },
    {
     "name": "stdout",
     "output_type": "stream",
     "text": [
      "10 https://www.domain.com.au/24-mernagh-street-ashcroft-nsw-2168-2015820905 3 1 −\n"
     ]
    },
    {
     "name": "stderr",
     "output_type": "stream",
     "text": [
      "\r",
      "  4%|▎         | 11/302 [00:06<02:51,  1.70it/s]"
     ]
    },
    {
     "name": "stdout",
     "output_type": "stream",
     "text": [
      "11 https://www.domain.com.au/67-stanwell-crescent-ashcroft-nsw-2168-2015808919 6 2 2\n"
     ]
    },
    {
     "name": "stderr",
     "output_type": "stream",
     "text": [
      "\r",
      "  4%|▍         | 12/302 [00:07<02:52,  1.68it/s]"
     ]
    },
    {
     "name": "stdout",
     "output_type": "stream",
     "text": [
      "12 https://www.domain.com.au/117-alt-street-ashfield-nsw-2131-2015810303 5 4 3\n"
     ]
    },
    {
     "name": "stderr",
     "output_type": "stream",
     "text": [
      "\r",
      "  4%|▍         | 13/302 [00:09<04:28,  1.08it/s]"
     ]
    },
    {
     "name": "stdout",
     "output_type": "stream",
     "text": [
      "13 https://www.domain.com.au/9-40-bland-street-ashfield-nsw-2131-2015826929 2 1 1\n"
     ]
    },
    {
     "name": "stderr",
     "output_type": "stream",
     "text": [
      "\r",
      "  5%|▍         | 14/302 [00:09<03:41,  1.30it/s]"
     ]
    },
    {
     "name": "stdout",
     "output_type": "stream",
     "text": [
      "14 https://www.domain.com.au/54-98-chandos-street-ashfield-nsw-2131-2015818243 3 2 1\n"
     ]
    },
    {
     "name": "stderr",
     "output_type": "stream",
     "text": [
      "\r",
      "  5%|▍         | 15/302 [00:10<03:29,  1.37it/s]"
     ]
    },
    {
     "name": "stdout",
     "output_type": "stream",
     "text": [
      "15 https://www.domain.com.au/8-hanks-street-ashfield-nsw-2131-2015832164 4 2 2\n"
     ]
    },
    {
     "name": "stderr",
     "output_type": "stream",
     "text": [
      "\r",
      "  5%|▌         | 16/302 [00:10<03:07,  1.53it/s]"
     ]
    },
    {
     "name": "stdout",
     "output_type": "stream",
     "text": [
      "16 https://www.domain.com.au/5-350-352-liverpool-road-ashfield-nsw-2131-2015820912 2 2 1\n"
     ]
    },
    {
     "name": "stderr",
     "output_type": "stream",
     "text": [
      "\r",
      "  6%|▌         | 17/302 [00:11<03:08,  1.51it/s]"
     ]
    },
    {
     "name": "stdout",
     "output_type": "stream",
     "text": [
      "17 https://www.domain.com.au/35-403-liverpool-road-ashfield-nsw-2131-2015794283 2 1 1\n"
     ]
    },
    {
     "name": "stderr",
     "output_type": "stream",
     "text": [
      "\r",
      "  6%|▌         | 18/302 [00:12<02:56,  1.61it/s]"
     ]
    },
    {
     "name": "stdout",
     "output_type": "stream",
     "text": [
      "18 https://www.domain.com.au/15-75-liverpool-road-ashfield-nsw-2131-2015819784 2 1 1\n"
     ]
    },
    {
     "name": "stderr",
     "output_type": "stream",
     "text": [
      "\r",
      "  6%|▋         | 19/302 [00:12<02:44,  1.72it/s]"
     ]
    },
    {
     "name": "stdout",
     "output_type": "stream",
     "text": [
      "19 https://www.domain.com.au/7-12-14-pembroke-street-ashfield-nsw-2131-2015853106 2 1 1\n"
     ]
    },
    {
     "name": "stderr",
     "output_type": "stream",
     "text": [
      "\r",
      "  7%|▋         | 20/302 [00:13<02:57,  1.59it/s]"
     ]
    },
    {
     "name": "stdout",
     "output_type": "stream",
     "text": [
      "20 https://www.domain.com.au/6-19-tintern-road-ashfield-nsw-2131-2015820806 2 2 1\n"
     ]
    },
    {
     "name": "stderr",
     "output_type": "stream",
     "text": [
      "\r",
      "  7%|▋         | 21/302 [00:13<03:03,  1.54it/s]"
     ]
    },
    {
     "name": "stdout",
     "output_type": "stream",
     "text": [
      "21 https://www.domain.com.au/18-royston-parade-asquith-nsw-2077-2015832291 3 1 2\n"
     ]
    },
    {
     "name": "stderr",
     "output_type": "stream",
     "text": [
      "\r",
      "  7%|▋         | 22/302 [00:14<02:56,  1.59it/s]"
     ]
    },
    {
     "name": "stdout",
     "output_type": "stream",
     "text": [
      "22 https://www.domain.com.au/2-66-dartbrook-street-auburn-nsw-2144-2015826898 2 1 1\n"
     ]
    },
    {
     "name": "stderr",
     "output_type": "stream",
     "text": [
      "\r",
      "  8%|▊         | 23/302 [00:15<02:59,  1.55it/s]"
     ]
    },
    {
     "name": "stdout",
     "output_type": "stream",
     "text": [
      "23 https://www.domain.com.au/16-heath-street-auburn-nsw-2144-2015819530 3 1 3\n"
     ]
    },
    {
     "name": "stderr",
     "output_type": "stream",
     "text": [
      "\r",
      "  8%|▊         | 24/302 [00:15<02:55,  1.58it/s]"
     ]
    },
    {
     "name": "stdout",
     "output_type": "stream",
     "text": [
      "24 https://www.domain.com.au/3-kitchener-street-balgowlah-nsw-2093-2015825707 5 4 4\n"
     ]
    },
    {
     "name": "stderr",
     "output_type": "stream",
     "text": [
      "\r",
      "  8%|▊         | 25/302 [00:16<02:42,  1.70it/s]"
     ]
    },
    {
     "name": "stdout",
     "output_type": "stream",
     "text": [
      "25 https://www.domain.com.au/57-new-street-west-balgowlah-heights-nsw-2093-2015825932 3 2 2\n"
     ]
    },
    {
     "name": "stderr",
     "output_type": "stream",
     "text": [
      "  9%|▉         | 27/302 [00:16<02:03,  2.22it/s]"
     ]
    },
    {
     "name": "stdout",
     "output_type": "stream",
     "text": [
      "26 https://www.domain.com.au/1-booth-street-balmain-nsw-2041-2015829477 4 2 1\n",
      "27 https://www.domain.com.au/6-allawah-close-bangor-nsw-2234-2015820052   \n"
     ]
    },
    {
     "name": "stderr",
     "output_type": "stream",
     "text": [
      "\r",
      "  9%|▉         | 28/302 [00:17<02:06,  2.16it/s]"
     ]
    },
    {
     "name": "stdout",
     "output_type": "stream",
     "text": [
      "28 https://www.domain.com.au/11-kirrily-place-bass-hill-nsw-2197-2015821421 4 2 2\n"
     ]
    },
    {
     "name": "stderr",
     "output_type": "stream",
     "text": [
      "\r",
      " 10%|▉         | 29/302 [00:18<02:30,  1.82it/s]"
     ]
    },
    {
     "name": "stdout",
     "output_type": "stream",
     "text": [
      "29 https://www.domain.com.au/32-kanadah-avenue-baulkham-hills-nsw-2153-2015829014 4 2 2\n"
     ]
    },
    {
     "name": "stderr",
     "output_type": "stream",
     "text": [
      "\r",
      " 10%|▉         | 30/302 [00:18<02:32,  1.78it/s]"
     ]
    },
    {
     "name": "stdout",
     "output_type": "stream",
     "text": [
      "30 https://www.domain.com.au/10-22-24-seven-hills-road-baulkham-hills-nsw-2153-2015823048 3 2 2\n"
     ]
    },
    {
     "name": "stderr",
     "output_type": "stream",
     "text": [
      "\r",
      " 10%|█         | 31/302 [00:19<02:40,  1.68it/s]"
     ]
    },
    {
     "name": "stdout",
     "output_type": "stream",
     "text": [
      "31 https://www.domain.com.au/29-elliott-street-belfield-nsw-2191-2015818280 2 1 2\n"
     ]
    },
    {
     "name": "stderr",
     "output_type": "stream",
     "text": [
      "\r",
      " 11%|█         | 32/302 [00:19<02:30,  1.80it/s]"
     ]
    },
    {
     "name": "stdout",
     "output_type": "stream",
     "text": [
      "32 https://www.domain.com.au/20-indiana-avenue-belfield-nsw-2191-2015805151 3 2 2\n"
     ]
    },
    {
     "name": "stderr",
     "output_type": "stream",
     "text": [
      "\r",
      " 11%|█         | 33/302 [00:20<02:16,  1.96it/s]"
     ]
    },
    {
     "name": "stdout",
     "output_type": "stream",
     "text": [
      "33 https://www.domain.com.au/11-camira-close-belrose-nsw-2085-2015854472 3 1 2\n"
     ]
    },
    {
     "name": "stderr",
     "output_type": "stream",
     "text": [
      "\r",
      " 11%|█▏        | 34/302 [00:21<02:28,  1.81it/s]"
     ]
    },
    {
     "name": "stdout",
     "output_type": "stream",
     "text": [
      "34 https://www.domain.com.au/9-everton-road-belrose-nsw-2085-2015823923 5 2 2\n"
     ]
    },
    {
     "name": "stderr",
     "output_type": "stream",
     "text": [
      "\r",
      " 12%|█▏        | 35/302 [00:21<02:40,  1.67it/s]"
     ]
    },
    {
     "name": "stdout",
     "output_type": "stream",
     "text": [
      "35 https://www.domain.com.au/14-sybil-street-beverley-park-nsw-2217-2015819933 3 2 2\n"
     ]
    },
    {
     "name": "stderr",
     "output_type": "stream",
     "text": [
      "\r",
      " 12%|█▏        | 36/302 [00:22<02:45,  1.61it/s]"
     ]
    },
    {
     "name": "stdout",
     "output_type": "stream",
     "text": [
      "36 https://www.domain.com.au/2-2a-manifold-road-blackett-nsw-2770-2015677179 8 6 2\n"
     ]
    },
    {
     "name": "stderr",
     "output_type": "stream",
     "text": [
      "\r",
      " 12%|█▏        | 37/302 [00:23<02:55,  1.51it/s]"
     ]
    },
    {
     "name": "stdout",
     "output_type": "stream",
     "text": [
      "37 https://www.domain.com.au/76-douglas-road-blacktown-nsw-2148-2015805019 4 2 2\n"
     ]
    },
    {
     "name": "stderr",
     "output_type": "stream",
     "text": [
      "\r",
      " 13%|█▎        | 38/302 [00:23<02:38,  1.67it/s]"
     ]
    },
    {
     "name": "stdout",
     "output_type": "stream",
     "text": [
      "38 https://www.domain.com.au/38-glamorgan-street-blacktown-nsw-2148-2015824171 3 2 4\n"
     ]
    },
    {
     "name": "stderr",
     "output_type": "stream",
     "text": [
      "\r",
      " 13%|█▎        | 39/302 [00:24<02:31,  1.74it/s]"
     ]
    },
    {
     "name": "stdout",
     "output_type": "stream",
     "text": [
      "39 https://www.domain.com.au/34-sarsfield-street-blacktown-nsw-2148-2015762007 3 1 2\n"
     ]
    },
    {
     "name": "stderr",
     "output_type": "stream",
     "text": [
      "\r",
      " 13%|█▎        | 40/302 [00:24<02:33,  1.70it/s]"
     ]
    },
    {
     "name": "stdout",
     "output_type": "stream",
     "text": [
      "40 https://www.domain.com.au/189-stephen-street-blacktown-nsw-2148-2015820066 6 2 4\n"
     ]
    },
    {
     "name": "stderr",
     "output_type": "stream",
     "text": [
      "\r",
      " 14%|█▎        | 41/302 [00:25<02:56,  1.48it/s]"
     ]
    },
    {
     "name": "stdout",
     "output_type": "stream",
     "text": [
      "41 https://www.domain.com.au/14-240-242-bondi-road-bondi-nsw-2026-2015804553 2 2 1\n"
     ]
    },
    {
     "name": "stderr",
     "output_type": "stream",
     "text": [
      "\r",
      " 14%|█▍        | 42/302 [00:26<02:43,  1.59it/s]"
     ]
    },
    {
     "name": "stdout",
     "output_type": "stream",
     "text": [
      "42 https://www.domain.com.au/2223-43-wilson-street-botany-nsw-2019-2015823592 1 1 1\n"
     ]
    },
    {
     "name": "stderr",
     "output_type": "stream",
     "text": [
      "\r",
      " 14%|█▍        | 43/302 [00:26<02:37,  1.65it/s]"
     ]
    },
    {
     "name": "stdout",
     "output_type": "stream",
     "text": [
      "43 https://www.domain.com.au/59b-wilson-street-botany-nsw-2019-2015837770 4 2 2\n"
     ]
    },
    {
     "name": "stderr",
     "output_type": "stream",
     "text": [
      "\r",
      " 15%|█▍        | 44/302 [00:27<02:54,  1.48it/s]"
     ]
    },
    {
     "name": "stdout",
     "output_type": "stream",
     "text": [
      "44 https://www.domain.com.au/30-balook-crescent-bradbury-nsw-2560-2015832483 5 2 1\n"
     ]
    },
    {
     "name": "stderr",
     "output_type": "stream",
     "text": [
      "\r",
      " 15%|█▍        | 45/302 [00:27<02:37,  1.63it/s]"
     ]
    },
    {
     "name": "stdout",
     "output_type": "stream",
     "text": [
      "45 https://www.domain.com.au/25-victor-road-brookvale-nsw-2100-2015814917 3 1 1\n"
     ]
    },
    {
     "name": "stderr",
     "output_type": "stream",
     "text": [
      "\r",
      " 15%|█▌        | 46/302 [00:28<02:22,  1.79it/s]"
     ]
    },
    {
     "name": "stdout",
     "output_type": "stream",
     "text": [
      "46 https://www.domain.com.au/51-tahlee-street-burwood-nsw-2134-2015304779 4 2 4\n"
     ]
    },
    {
     "name": "stderr",
     "output_type": "stream",
     "text": [
      "\r",
      " 16%|█▌        | 47/302 [00:28<02:19,  1.83it/s]"
     ]
    },
    {
     "name": "stdout",
     "output_type": "stream",
     "text": [
      "47 https://www.domain.com.au/19-edensor-road-cabramatta-west-nsw-2166-2015815889 3 1 4\n"
     ]
    },
    {
     "name": "stderr",
     "output_type": "stream",
     "text": [
      "\r",
      " 16%|█▌        | 48/302 [00:29<02:21,  1.80it/s]"
     ]
    },
    {
     "name": "stdout",
     "output_type": "stream",
     "text": [
      "48 https://www.domain.com.au/601-1-sterling-circuit-camperdown-nsw-2050-2015836726 1 1 1\n"
     ]
    },
    {
     "name": "stderr",
     "output_type": "stream",
     "text": [
      "\r",
      " 16%|█▌        | 49/302 [00:29<02:08,  1.97it/s]"
     ]
    },
    {
     "name": "stdout",
     "output_type": "stream",
     "text": [
      "49 https://www.domain.com.au/3-11-duke-street-campsie-nsw-2194-2015791172 2 1 2\n"
     ]
    },
    {
     "name": "stderr",
     "output_type": "stream",
     "text": [
      "\r",
      " 17%|█▋        | 50/302 [00:30<02:06,  1.99it/s]"
     ]
    },
    {
     "name": "stdout",
     "output_type": "stream",
     "text": [
      "50 https://www.domain.com.au/3-9-mckern-street-campsie-nsw-2194-2015821133 2 1 1\n"
     ]
    },
    {
     "name": "stderr",
     "output_type": "stream",
     "text": [
      "\r",
      " 17%|█▋        | 51/302 [00:30<02:05,  2.00it/s]"
     ]
    },
    {
     "name": "stdout",
     "output_type": "stream",
     "text": [
      "51 https://www.domain.com.au/30-earl-street-canley-vale-nsw-2166-2015803060 3 1 2\n"
     ]
    },
    {
     "name": "stderr",
     "output_type": "stream",
     "text": [
      "\r",
      " 17%|█▋        | 52/302 [00:31<02:02,  2.05it/s]"
     ]
    },
    {
     "name": "stdout",
     "output_type": "stream",
     "text": [
      "52 https://www.domain.com.au/120-lansdowne-road-canley-vale-nsw-2166-2015803675 5 2 2\n"
     ]
    },
    {
     "name": "stderr",
     "output_type": "stream",
     "text": [
      "\r",
      " 18%|█▊        | 53/302 [00:31<01:53,  2.19it/s]"
     ]
    },
    {
     "name": "stdout",
     "output_type": "stream",
     "text": [
      "53 https://www.domain.com.au/3-5-7-wonga-street-canterbury-nsw-2193-2015804341 2 2 1\n"
     ]
    },
    {
     "name": "stderr",
     "output_type": "stream",
     "text": [
      "\r",
      " 18%|█▊        | 54/302 [00:32<02:00,  2.06it/s]"
     ]
    },
    {
     "name": "stdout",
     "output_type": "stream",
     "text": [
      "54 https://www.domain.com.au/2-41-gannons-road-caringbah-nsw-2229-2015845112 3 2 2\n"
     ]
    },
    {
     "name": "stderr",
     "output_type": "stream",
     "text": [
      "\r",
      " 18%|█▊        | 55/302 [00:32<02:01,  2.03it/s]"
     ]
    },
    {
     "name": "stdout",
     "output_type": "stream",
     "text": [
      "55 https://www.domain.com.au/11-taronga-parade-caringbah-nsw-2229-2015839810 3 2 2\n"
     ]
    },
    {
     "name": "stderr",
     "output_type": "stream",
     "text": [
      "\r",
      " 19%|█▊        | 56/302 [00:33<02:00,  2.03it/s]"
     ]
    },
    {
     "name": "stdout",
     "output_type": "stream",
     "text": [
      "56 https://www.domain.com.au/4-216-224-willarong-road-caringbah-nsw-2229-2015854962 2 1 1\n"
     ]
    },
    {
     "name": "stderr",
     "output_type": "stream",
     "text": [
      "\r",
      " 19%|█▉        | 57/302 [00:34<02:31,  1.62it/s]"
     ]
    },
    {
     "name": "stdout",
     "output_type": "stream",
     "text": [
      "57 https://www.domain.com.au/17-binney-street-caringbah-south-nsw-2229-2015827009 3 1 2\n"
     ]
    },
    {
     "name": "stderr",
     "output_type": "stream",
     "text": [
      "\r",
      " 19%|█▉        | 58/302 [00:34<02:21,  1.72it/s]"
     ]
    },
    {
     "name": "stdout",
     "output_type": "stream",
     "text": [
      "58 https://www.domain.com.au/6b-kungar-road-caringbah-south-nsw-2229-2015829586 3 2 3\n"
     ]
    },
    {
     "name": "stderr",
     "output_type": "stream",
     "text": [
      "\r",
      " 20%|█▉        | 59/302 [00:35<02:18,  1.75it/s]"
     ]
    },
    {
     "name": "stdout",
     "output_type": "stream",
     "text": [
      "59 https://www.domain.com.au/25-nemesia-avenue-caringbah-south-nsw-2229-2015827004 3 1 1\n"
     ]
    },
    {
     "name": "stderr",
     "output_type": "stream",
     "text": [
      "\r",
      " 20%|█▉        | 60/302 [00:35<02:17,  1.76it/s]"
     ]
    },
    {
     "name": "stdout",
     "output_type": "stream",
     "text": [
      "60 https://www.domain.com.au/65-arcadian-circuit-carlingford-nsw-2118-2015819751 5 3 2\n"
     ]
    },
    {
     "name": "stderr",
     "output_type": "stream",
     "text": [
      "\r",
      " 20%|██        | 61/302 [00:37<03:09,  1.27it/s]"
     ]
    },
    {
     "name": "stdout",
     "output_type": "stream",
     "text": [
      "61 https://www.domain.com.au/29-karingal-avenue-carlingford-nsw-2118-2015832722 3 1 1\n"
     ]
    },
    {
     "name": "stderr",
     "output_type": "stream",
     "text": [
      "\r",
      " 21%|██        | 62/302 [00:37<02:46,  1.44it/s]"
     ]
    },
    {
     "name": "stdout",
     "output_type": "stream",
     "text": [
      "62 https://www.domain.com.au/4-carcoola-street-castle-hill-nsw-2154-2015823530 4 3 3\n"
     ]
    },
    {
     "name": "stderr",
     "output_type": "stream",
     "text": [
      "\r",
      " 21%|██        | 63/302 [00:38<02:27,  1.62it/s]"
     ]
    },
    {
     "name": "stdout",
     "output_type": "stream",
     "text": [
      "63 https://www.domain.com.au/17-crinan-court-castle-hill-nsw-2154-2015856301 4 2 2\n"
     ]
    },
    {
     "name": "stderr",
     "output_type": "stream",
     "text": [
      "\r",
      " 21%|██        | 64/302 [00:38<02:16,  1.74it/s]"
     ]
    },
    {
     "name": "stdout",
     "output_type": "stream",
     "text": [
      "64 https://www.domain.com.au/14-harlech-court-castle-hill-nsw-2154-2015811546 4 3 2\n"
     ]
    },
    {
     "name": "stderr",
     "output_type": "stream",
     "text": [
      "\r",
      " 22%|██▏       | 65/302 [00:39<02:25,  1.63it/s]"
     ]
    },
    {
     "name": "stdout",
     "output_type": "stream",
     "text": [
      "65 https://www.domain.com.au/10-jaquetta-close-cecil-hills-nsw-2171-2015823650 4 2 2\n"
     ]
    },
    {
     "name": "stderr",
     "output_type": "stream",
     "text": [
      "\r",
      " 22%|██▏       | 66/302 [00:39<02:26,  1.61it/s]"
     ]
    },
    {
     "name": "stdout",
     "output_type": "stream",
     "text": [
      "66 https://www.domain.com.au/14-ulster-street-cecil-hills-nsw-2171-2015819707 5 3 3\n"
     ]
    },
    {
     "name": "stderr",
     "output_type": "stream",
     "text": [
      "\r",
      " 22%|██▏       | 67/302 [00:40<02:19,  1.68it/s]"
     ]
    },
    {
     "name": "stdout",
     "output_type": "stream",
     "text": [
      "67 https://www.domain.com.au/73-1-cook-road-centennial-park-nsw-2021-2015838275 2 1 1\n"
     ]
    },
    {
     "name": "stderr",
     "output_type": "stream",
     "text": [
      "\r",
      " 23%|██▎       | 68/302 [00:41<02:28,  1.57it/s]"
     ]
    },
    {
     "name": "stdout",
     "output_type": "stream",
     "text": [
      "68 https://domain.com.au/property-profile/1213-2a-help-street-chatswood-nsw-2067   \n"
     ]
    },
    {
     "name": "stderr",
     "output_type": "stream",
     "text": [
      "\r",
      " 23%|██▎       | 69/302 [00:41<02:27,  1.58it/s]"
     ]
    },
    {
     "name": "stdout",
     "output_type": "stream",
     "text": [
      "69 https://www.domain.com.au/201-44-hercules-street-chatswood-nsw-2067-2015829265 2 2 1\n"
     ]
    },
    {
     "name": "stderr",
     "output_type": "stream",
     "text": [
      "\r",
      " 23%|██▎       | 70/302 [00:42<02:17,  1.69it/s]"
     ]
    },
    {
     "name": "stdout",
     "output_type": "stream",
     "text": [
      "70 https://www.domain.com.au/34-sharland-avenue-chatswood-nsw-2067-2015829862 5 4 2\n"
     ]
    },
    {
     "name": "stderr",
     "output_type": "stream",
     "text": [
      "\r",
      " 24%|██▎       | 71/302 [00:42<02:09,  1.79it/s]"
     ]
    },
    {
     "name": "stdout",
     "output_type": "stream",
     "text": [
      "71 https://www.domain.com.au/3-88-victoria-avenue-chatswood-nsw-2067-2015830033 2 2 1\n"
     ]
    },
    {
     "name": "stderr",
     "output_type": "stream",
     "text": [
      "\r",
      " 24%|██▍       | 72/302 [00:43<01:57,  1.96it/s]"
     ]
    },
    {
     "name": "stdout",
     "output_type": "stream",
     "text": [
      "72 https://www.domain.com.au/2-copperleaf-place-cherrybrook-nsw-2126-2015808117 4 2 2\n"
     ]
    },
    {
     "name": "stderr",
     "output_type": "stream",
     "text": [
      "\r",
      " 24%|██▍       | 73/302 [00:43<01:56,  1.97it/s]"
     ]
    },
    {
     "name": "stdout",
     "output_type": "stream",
     "text": [
      "73 https://www.domain.com.au/16-middleton-rd-chester-hill-nsw-2162-2015531749 5 3 2\n"
     ]
    },
    {
     "name": "stderr",
     "output_type": "stream",
     "text": [
      "\r",
      " 25%|██▍       | 74/302 [00:44<02:01,  1.87it/s]"
     ]
    },
    {
     "name": "stdout",
     "output_type": "stream",
     "text": [
      "74 https://www.domain.com.au/1-warrawidgee-road-chester-hill-nsw-2162-2015824912 5 2 2\n"
     ]
    },
    {
     "name": "stderr",
     "output_type": "stream",
     "text": [
      "\r",
      " 25%|██▍       | 75/302 [00:44<02:09,  1.76it/s]"
     ]
    },
    {
     "name": "stdout",
     "output_type": "stream",
     "text": [
      "75 https://www.domain.com.au/6-18-ramsay-street-collaroy-nsw-2097-2015829547 2 1 1\n"
     ]
    },
    {
     "name": "stderr",
     "output_type": "stream",
     "text": [
      "\r",
      " 25%|██▌       | 76/302 [00:45<02:24,  1.56it/s]"
     ]
    },
    {
     "name": "stdout",
     "output_type": "stream",
     "text": [
      "76 https://www.domain.com.au/98-edgecliffe-boulevard-collaroy-plateau-nsw-2097-2015827682 5 4 2\n"
     ]
    },
    {
     "name": "stderr",
     "output_type": "stream",
     "text": [
      "\r",
      " 25%|██▌       | 77/302 [00:46<02:18,  1.62it/s]"
     ]
    },
    {
     "name": "stdout",
     "output_type": "stream",
     "text": [
      "77 https://www.domain.com.au/41-essilia-street-collaroy-plateau-nsw-2097-2015802127 4 2 4\n"
     ]
    },
    {
     "name": "stderr",
     "output_type": "stream",
     "text": [
      "\r",
      " 26%|██▌       | 78/302 [00:47<02:31,  1.48it/s]"
     ]
    },
    {
     "name": "stdout",
     "output_type": "stream",
     "text": [
      "78 https://www.domain.com.au/103-carpenter-street-colyton-nsw-2760-2015808506 3 2 3\n"
     ]
    },
    {
     "name": "stderr",
     "output_type": "stream",
     "text": [
      "\r",
      " 26%|██▌       | 79/302 [00:47<02:18,  1.61it/s]"
     ]
    },
    {
     "name": "stdout",
     "output_type": "stream",
     "text": [
      "79 https://www.domain.com.au/36a-frederick-street-concord-nsw-2137-2015681201 4 3 2\n"
     ]
    },
    {
     "name": "stderr",
     "output_type": "stream",
     "text": [
      "\r",
      " 26%|██▋       | 80/302 [00:48<02:15,  1.64it/s]"
     ]
    },
    {
     "name": "stdout",
     "output_type": "stream",
     "text": [
      "80 https://www.domain.com.au/2-17-alexander-street-coogee-nsw-2034-2015824094 2 1 −\n"
     ]
    },
    {
     "name": "stderr",
     "output_type": "stream",
     "text": [
      "\r",
      " 27%|██▋       | 81/302 [00:48<02:17,  1.60it/s]"
     ]
    },
    {
     "name": "stdout",
     "output_type": "stream",
     "text": [
      "81 https://www.domain.com.au/8-46-bream-street-coogee-nsw-2034-2015836859 2 1 1\n"
     ]
    },
    {
     "name": "stderr",
     "output_type": "stream",
     "text": [
      "\r",
      " 27%|██▋       | 82/302 [00:49<02:05,  1.75it/s]"
     ]
    },
    {
     "name": "stdout",
     "output_type": "stream",
     "text": [
      "82 https://www.domain.com.au/1-14a-carr-street-coogee-nsw-2034-2015832732 2 1 −\n"
     ]
    },
    {
     "name": "stderr",
     "output_type": "stream",
     "text": [
      "\r",
      " 27%|██▋       | 83/302 [00:50<02:25,  1.51it/s]"
     ]
    },
    {
     "name": "stdout",
     "output_type": "stream",
     "text": [
      "83 https://www.domain.com.au/5-14a-carr-street-coogee-nsw-2034-2015832733 2 1 −\n"
     ]
    },
    {
     "name": "stderr",
     "output_type": "stream",
     "text": [
      "\r",
      " 28%|██▊       | 84/302 [00:50<02:19,  1.56it/s]"
     ]
    },
    {
     "name": "stdout",
     "output_type": "stream",
     "text": [
      "84 https://www.domain.com.au/28-moore-street-coogee-nsw-2034-2015821019 5 2 −\n"
     ]
    },
    {
     "name": "stderr",
     "output_type": "stream",
     "text": [
      "\r",
      " 28%|██▊       | 85/302 [00:51<02:17,  1.58it/s]"
     ]
    },
    {
     "name": "stdout",
     "output_type": "stream",
     "text": [
      "85 https://www.domain.com.au/10-89-mount-street-coogee-nsw-2034-2015821253 2 1 −\n"
     ]
    },
    {
     "name": "stderr",
     "output_type": "stream",
     "text": [
      "\r",
      " 28%|██▊       | 86/302 [00:51<02:07,  1.69it/s]"
     ]
    },
    {
     "name": "stdout",
     "output_type": "stream",
     "text": [
      "86 https://www.domain.com.au/14-98-mount-street-coogee-nsw-2034-2015825846 2 2 1\n"
     ]
    },
    {
     "name": "stderr",
     "output_type": "stream",
     "text": [
      "\r",
      " 29%|██▉       | 87/302 [00:53<02:48,  1.28it/s]"
     ]
    },
    {
     "name": "stdout",
     "output_type": "stream",
     "text": [
      "87 https://www.domain.com.au/7-9-sutherland-street-cremorne-nsw-2090-2015827397 3 2 2\n"
     ]
    },
    {
     "name": "stderr",
     "output_type": "stream",
     "text": [
      "\r",
      " 29%|██▉       | 88/302 [00:53<02:31,  1.41it/s]"
     ]
    },
    {
     "name": "stdout",
     "output_type": "stream",
     "text": [
      "88 https://www.domain.com.au/34-4-8-kareela-road-cremorne-point-nsw-2090-2015811064 2 2 1\n"
     ]
    },
    {
     "name": "stderr",
     "output_type": "stream",
     "text": [
      "\r",
      " 29%|██▉       | 89/302 [00:53<02:12,  1.61it/s]"
     ]
    },
    {
     "name": "stdout",
     "output_type": "stream",
     "text": [
      "89 https://www.domain.com.au/187-ewos-parade-cronulla-nsw-2230-2015798967 3 3 2\n"
     ]
    },
    {
     "name": "stderr",
     "output_type": "stream",
     "text": [
      "\r",
      " 30%|██▉       | 90/302 [00:54<02:36,  1.35it/s]"
     ]
    },
    {
     "name": "stdout",
     "output_type": "stream",
     "text": [
      "90 https://www.domain.com.au/1-6-10-lewis-street-cronulla-nsw-2230-2015834470 2 1 2\n"
     ]
    },
    {
     "name": "stderr",
     "output_type": "stream",
     "text": [
      "\r",
      " 30%|███       | 91/302 [00:55<02:23,  1.47it/s]"
     ]
    },
    {
     "name": "stdout",
     "output_type": "stream",
     "text": [
      "91 https://www.domain.com.au/9-62-70-parramatta-street-cronulla-nsw-2230-2015829560 2 1 2\n"
     ]
    },
    {
     "name": "stderr",
     "output_type": "stream",
     "text": [
      "\r",
      " 30%|███       | 92/302 [00:56<02:13,  1.57it/s]"
     ]
    },
    {
     "name": "stdout",
     "output_type": "stream",
     "text": [
      "92 https://www.domain.com.au/79-croydon-road-croydon-nsw-2132-2015817444 2 1 −\n"
     ]
    },
    {
     "name": "stderr",
     "output_type": "stream",
     "text": [
      "\r",
      " 31%|███       | 93/302 [00:56<01:58,  1.77it/s]"
     ]
    },
    {
     "name": "stdout",
     "output_type": "stream",
     "text": [
      "93 https://www.domain.com.au/32-seymour-street-croydon-park-nsw-2133-2015805332 3 1 1\n"
     ]
    },
    {
     "name": "stderr",
     "output_type": "stream",
     "text": [
      "\r",
      " 31%|███       | 94/302 [00:56<01:52,  1.85it/s]"
     ]
    },
    {
     "name": "stdout",
     "output_type": "stream",
     "text": [
      "94 https://www.domain.com.au/1-31-bennett-street-curl-curl-nsw-2096-2015712261 4 3 6\n"
     ]
    },
    {
     "name": "stderr",
     "output_type": "stream",
     "text": [
      "\r",
      " 31%|███▏      | 95/302 [00:57<01:51,  1.86it/s]"
     ]
    },
    {
     "name": "stdout",
     "output_type": "stream",
     "text": [
      "95 https://www.domain.com.au/3508-1-kings-cross-road-darlinghurst-nsw-2010-2015831277 1 1 1\n"
     ]
    },
    {
     "name": "stderr",
     "output_type": "stream",
     "text": [
      "\r",
      " 32%|███▏      | 96/302 [00:57<01:45,  1.95it/s]"
     ]
    },
    {
     "name": "stdout",
     "output_type": "stream",
     "text": [
      "96 https://www.domain.com.au/117-prahran-avenue-davidson-nsw-2085-2015835484 4 2 2\n"
     ]
    },
    {
     "name": "stderr",
     "output_type": "stream",
     "text": [
      "\r",
      " 32%|███▏      | 97/302 [00:58<01:50,  1.86it/s]"
     ]
    },
    {
     "name": "stdout",
     "output_type": "stream",
     "text": [
      "97 https://www.domain.com.au/41-wayne-street-dean-park-nsw-2761-2015833781 3 1 2\n"
     ]
    },
    {
     "name": "stderr",
     "output_type": "stream",
     "text": [
      "\r",
      " 32%|███▏      | 98/302 [00:59<01:57,  1.73it/s]"
     ]
    },
    {
     "name": "stdout",
     "output_type": "stream",
     "text": [
      "98 https://www.domain.com.au/90a-delmar-parade-dee-why-nsw-2099-2015834014 4 2 2\n"
     ]
    },
    {
     "name": "stderr",
     "output_type": "stream",
     "text": [
      "\r",
      " 33%|███▎      | 99/302 [00:59<01:52,  1.81it/s]"
     ]
    },
    {
     "name": "stdout",
     "output_type": "stream",
     "text": [
      "99 https://www.domain.com.au/84-quirk-street-dee-why-nsw-2099-2015834010 4 3 2\n"
     ]
    },
    {
     "name": "stderr",
     "output_type": "stream",
     "text": [
      "\r",
      " 33%|███▎      | 100/302 [01:00<02:02,  1.65it/s]"
     ]
    },
    {
     "name": "stdout",
     "output_type": "stream",
     "text": [
      "100 https://www.domain.com.au/2304-10-sturdee-parade-dee-why-nsw-2099-2015814282 1 1 1\n"
     ]
    },
    {
     "name": "stderr",
     "output_type": "stream",
     "text": [
      "\r",
      " 33%|███▎      | 101/302 [01:01<02:33,  1.31it/s]"
     ]
    },
    {
     "name": "stdout",
     "output_type": "stream",
     "text": [
      "101 https://www.domain.com.au/34-culverston-avenue-denham-court-nsw-2565-2015782312 5 3 3\n"
     ]
    },
    {
     "name": "stderr",
     "output_type": "stream",
     "text": [
      "\r",
      " 34%|███▍      | 102/302 [01:02<02:21,  1.41it/s]"
     ]
    },
    {
     "name": "stdout",
     "output_type": "stream",
     "text": [
      "102 https://www.domain.com.au/2-26-marlow-avenue-denistone-nsw-2114-2015826568 2 1 1\n"
     ]
    },
    {
     "name": "stderr",
     "output_type": "stream",
     "text": [
      "\r",
      " 34%|███▍      | 103/302 [01:02<02:09,  1.54it/s]"
     ]
    },
    {
     "name": "stdout",
     "output_type": "stream",
     "text": [
      "103 https://www.domain.com.au/10-sixth-avenue-denistone-nsw-2114-2015714674 4 2 2\n"
     ]
    },
    {
     "name": "stderr",
     "output_type": "stream",
     "text": [
      "\r",
      " 34%|███▍      | 104/302 [01:03<01:56,  1.70it/s]"
     ]
    },
    {
     "name": "stdout",
     "output_type": "stream",
     "text": [
      "104 https://www.domain.com.au/9-hopetoun-avenue-denistone-east-nsw-2112-2015830712 5 5 2\n"
     ]
    },
    {
     "name": "stderr",
     "output_type": "stream",
     "text": [
      "\r",
      " 35%|███▍      | 105/302 [01:03<01:50,  1.78it/s]"
     ]
    },
    {
     "name": "stdout",
     "output_type": "stream",
     "text": [
      "105 https://www.domain.com.au/10-salter-crescent-denistone-east-nsw-2112-2015824535 4 2 2\n"
     ]
    },
    {
     "name": "stderr",
     "output_type": "stream",
     "text": [
      "\r",
      " 35%|███▌      | 106/302 [01:04<01:45,  1.86it/s]"
     ]
    },
    {
     "name": "stdout",
     "output_type": "stream",
     "text": [
      "106 https://www.domain.com.au/10-varuna-place-doonside-nsw-2767-2015809426 3 1 −\n"
     ]
    },
    {
     "name": "stderr",
     "output_type": "stream",
     "text": [
      "\r",
      " 35%|███▌      | 107/302 [01:04<01:40,  1.94it/s]"
     ]
    },
    {
     "name": "stdout",
     "output_type": "stream",
     "text": [
      "107 https://www.domain.com.au/93-95-thompson-street-drummoyne-nsw-2047-2015829222 8 3 2\n"
     ]
    },
    {
     "name": "stderr",
     "output_type": "stream",
     "text": [
      "\r",
      " 36%|███▌      | 108/302 [01:05<01:45,  1.84it/s]"
     ]
    },
    {
     "name": "stdout",
     "output_type": "stream",
     "text": [
      "108 https://www.domain.com.au/24-18-wolseley-street-drummoyne-nsw-2047-2015826724 2 1 1\n"
     ]
    },
    {
     "name": "stderr",
     "output_type": "stream",
     "text": [
      "\r",
      " 36%|███▌      | 109/302 [01:05<01:49,  1.76it/s]"
     ]
    },
    {
     "name": "stdout",
     "output_type": "stream",
     "text": [
      "109 https://www.domain.com.au/22-coney-road-earlwood-nsw-2206-2015813345 4 2 2\n"
     ]
    },
    {
     "name": "stderr",
     "output_type": "stream",
     "text": [
      "\r",
      " 36%|███▋      | 110/302 [01:06<02:06,  1.52it/s]"
     ]
    },
    {
     "name": "stdout",
     "output_type": "stream",
     "text": [
      "110 https://www.domain.com.au/26-harcourt-ave-east-hills-nsw-2213-2015834519 4 2 4\n"
     ]
    },
    {
     "name": "stderr",
     "output_type": "stream",
     "text": [
      "\r",
      " 37%|███▋      | 111/302 [01:07<01:51,  1.72it/s]"
     ]
    },
    {
     "name": "stdout",
     "output_type": "stream",
     "text": [
      "111 https://www.domain.com.au/5-rene-street-east-ryde-nsw-2113-2015801312 4 2 2\n"
     ]
    },
    {
     "name": "stderr",
     "output_type": "stream",
     "text": [
      "\r",
      " 37%|███▋      | 112/302 [01:07<01:41,  1.88it/s]"
     ]
    },
    {
     "name": "stdout",
     "output_type": "stream",
     "text": [
      "112 https://www.domain.com.au/7-53-doomben-avenue-eastwood-nsw-2122-2015820582 2 1 1\n"
     ]
    },
    {
     "name": "stderr",
     "output_type": "stream",
     "text": [
      "\r",
      " 37%|███▋      | 113/302 [01:08<02:05,  1.51it/s]"
     ]
    },
    {
     "name": "stdout",
     "output_type": "stream",
     "text": [
      "113 https://www.domain.com.au/9-7-9-may-street-eastwood-nsw-2122-2015826747 2 1 1\n"
     ]
    },
    {
     "name": "stderr",
     "output_type": "stream",
     "text": [
      "\r",
      " 38%|███▊      | 114/302 [01:09<02:04,  1.51it/s]"
     ]
    },
    {
     "name": "stdout",
     "output_type": "stream",
     "text": [
      "114 https://www.domain.com.au/2-222-north-road-eastwood-nsw-2122-2015845994 3 2 2\n"
     ]
    },
    {
     "name": "stderr",
     "output_type": "stream",
     "text": [
      "\r",
      " 38%|███▊      | 115/302 [01:09<02:03,  1.52it/s]"
     ]
    },
    {
     "name": "stdout",
     "output_type": "stream",
     "text": [
      "115 https://www.domain.com.au/11-raymond-street-eastwood-nsw-2122-2015828823 5 1 1\n"
     ]
    },
    {
     "name": "stderr",
     "output_type": "stream",
     "text": [
      "\r",
      " 38%|███▊      | 116/302 [01:10<02:06,  1.47it/s]"
     ]
    },
    {
     "name": "stdout",
     "output_type": "stream",
     "text": [
      "116 https://www.domain.com.au/8-woorang-street-eastwood-nsw-2122-2015827039 5 4 2\n"
     ]
    },
    {
     "name": "stderr",
     "output_type": "stream",
     "text": [
      "\r",
      " 39%|███▊      | 117/302 [01:11<02:18,  1.34it/s]"
     ]
    },
    {
     "name": "stdout",
     "output_type": "stream",
     "text": [
      "117 https://www.domain.com.au/6-bicane-close-edensor-park-nsw-2176-2015823497 5 2 2\n"
     ]
    },
    {
     "name": "stderr",
     "output_type": "stream",
     "text": [
      "\r",
      " 39%|███▉      | 118/302 [01:11<02:05,  1.47it/s]"
     ]
    },
    {
     "name": "stdout",
     "output_type": "stream",
     "text": [
      "118 https://www.domain.com.au/50-thorne-street-edgecliff-nsw-2027-2015831711 2 1 −\n"
     ]
    },
    {
     "name": "stderr",
     "output_type": "stream",
     "text": [
      "\r",
      " 39%|███▉      | 119/302 [01:12<02:08,  1.42it/s]"
     ]
    },
    {
     "name": "stdout",
     "output_type": "stream",
     "text": [
      "119 https://www.domain.com.au/3-38-40-st-andrews-gate-elanora-heights-nsw-2101-2015851929 2 2 1\n"
     ]
    },
    {
     "name": "stderr",
     "output_type": "stream",
     "text": [
      "\r",
      " 40%|███▉      | 120/302 [01:13<01:57,  1.55it/s]"
     ]
    },
    {
     "name": "stdout",
     "output_type": "stream",
     "text": [
      "120 https://www.domain.com.au/31-6-greenknowe-avenue-elizabeth-bay-nsw-2011-2015826402 2 1 1\n"
     ]
    },
    {
     "name": "stderr",
     "output_type": "stream",
     "text": [
      "\r",
      " 40%|████      | 121/302 [01:13<01:45,  1.72it/s]"
     ]
    },
    {
     "name": "stdout",
     "output_type": "stream",
     "text": [
      "121 https://www.domain.com.au/104-kingswood-road-engadine-nsw-2233-2015825513 3 2 1\n"
     ]
    },
    {
     "name": "stderr",
     "output_type": "stream",
     "text": [
      "\r",
      " 40%|████      | 122/302 [01:14<01:48,  1.66it/s]"
     ]
    },
    {
     "name": "stdout",
     "output_type": "stream",
     "text": [
      "122 https://domain.com.au/property-profile/11-hermington-street-epping-nsw-2121   \n"
     ]
    },
    {
     "name": "stderr",
     "output_type": "stream",
     "text": [
      "\r",
      " 41%|████      | 123/302 [01:15<02:08,  1.39it/s]"
     ]
    },
    {
     "name": "stdout",
     "output_type": "stream",
     "text": [
      "123 https://www.domain.com.au/17-hermington-street-epping-nsw-2121-2015823583 4 2 2\n"
     ]
    },
    {
     "name": "stderr",
     "output_type": "stream",
     "text": [
      "\r",
      " 41%|████      | 124/302 [01:15<01:55,  1.54it/s]"
     ]
    },
    {
     "name": "stdout",
     "output_type": "stream",
     "text": [
      "124 https://www.domain.com.au/15-58-60-oxford-street-epping-nsw-2121-2015824034 2 1 1\n"
     ]
    },
    {
     "name": "stderr",
     "output_type": "stream",
     "text": [
      "\r",
      " 41%|████▏     | 125/302 [01:16<01:47,  1.64it/s]"
     ]
    },
    {
     "name": "stdout",
     "output_type": "stream",
     "text": [
      "125 https://www.domain.com.au/250-the-entrance-road-erina-nsw-2250-2015754115 5 3 4\n"
     ]
    },
    {
     "name": "stderr",
     "output_type": "stream",
     "text": [
      "\r",
      " 42%|████▏     | 126/302 [01:17<02:01,  1.45it/s]"
     ]
    },
    {
     "name": "stdout",
     "output_type": "stream",
     "text": [
      "126 https://www.domain.com.au/38-hughes-avenue-ermington-nsw-2115-2015828005 3 1 2\n"
     ]
    },
    {
     "name": "stderr",
     "output_type": "stream",
     "text": [
      "\r",
      " 42%|████▏     | 127/302 [01:17<01:52,  1.56it/s]"
     ]
    },
    {
     "name": "stdout",
     "output_type": "stream",
     "text": [
      "127 https://www.domain.com.au/43-cathcart-street-fairfield-nsw-2165-2015820177 3 2 2\n"
     ]
    },
    {
     "name": "stderr",
     "output_type": "stream",
     "text": [
      "\r",
      " 42%|████▏     | 128/302 [01:18<01:59,  1.46it/s]"
     ]
    },
    {
     "name": "stdout",
     "output_type": "stream",
     "text": [
      "128 https://www.domain.com.au/1a-austin-street-fairlight-nsw-2094-2015822775 3 2 2\n"
     ]
    },
    {
     "name": "stderr",
     "output_type": "stream",
     "text": [
      "\r",
      " 43%|████▎     | 129/302 [01:19<02:04,  1.39it/s]"
     ]
    },
    {
     "name": "stdout",
     "output_type": "stream",
     "text": [
      "129 https://www.domain.com.au/255-great-north-road-five-dock-nsw-2046-2015818386 2 2 3\n"
     ]
    },
    {
     "name": "stderr",
     "output_type": "stream",
     "text": [
      "\r",
      " 43%|████▎     | 130/302 [01:19<02:00,  1.43it/s]"
     ]
    },
    {
     "name": "stdout",
     "output_type": "stream",
     "text": [
      "130 https://www.domain.com.au/63-lancelot-street-five-dock-nsw-2046-2015802600 3 1 1\n"
     ]
    },
    {
     "name": "stderr",
     "output_type": "stream",
     "text": [
      "\r",
      " 43%|████▎     | 131/302 [01:20<01:50,  1.55it/s]"
     ]
    },
    {
     "name": "stdout",
     "output_type": "stream",
     "text": [
      "131 https://www.domain.com.au/15-bluegum-crescent-frenchs-forest-nsw-2086-2015810609 4 2 2\n"
     ]
    },
    {
     "name": "stderr",
     "output_type": "stream",
     "text": [
      "\r",
      " 44%|████▎     | 132/302 [01:21<01:52,  1.51it/s]"
     ]
    },
    {
     "name": "stdout",
     "output_type": "stream",
     "text": [
      "132 https://www.domain.com.au/20-28-mcdonald-street-freshwater-nsw-2096-2015823998 2 1 1\n"
     ]
    },
    {
     "name": "stderr",
     "output_type": "stream",
     "text": [
      "\r",
      " 44%|████▍     | 133/302 [01:21<01:51,  1.51it/s]"
     ]
    },
    {
     "name": "stdout",
     "output_type": "stream",
     "text": [
      "133 https://www.domain.com.au/1-25-waine-street-freshwater-nsw-2096-2015827337 2 1 1\n"
     ]
    },
    {
     "name": "stderr",
     "output_type": "stream",
     "text": [
      "\r",
      " 44%|████▍     | 134/302 [01:22<01:51,  1.51it/s]"
     ]
    },
    {
     "name": "stdout",
     "output_type": "stream",
     "text": [
      "134 https://www.domain.com.au/45-bellevue-avenue-georges-hall-nsw-2198-2015835204 4 1 2\n"
     ]
    },
    {
     "name": "stderr",
     "output_type": "stream",
     "text": [
      "\r",
      " 45%|████▍     | 135/302 [01:23<01:47,  1.56it/s]"
     ]
    },
    {
     "name": "stdout",
     "output_type": "stream",
     "text": [
      "135 https://www.domain.com.au/16b-junction-street-gladesville-nsw-2111-2015831397 3 2 2\n"
     ]
    },
    {
     "name": "stderr",
     "output_type": "stream",
     "text": [
      "\r",
      " 45%|████▌     | 136/302 [01:23<01:43,  1.61it/s]"
     ]
    },
    {
     "name": "stdout",
     "output_type": "stream",
     "text": [
      "136 https://www.domain.com.au/16-colbourne-avenue-glebe-nsw-2037-2015819604 3 1 2\n"
     ]
    },
    {
     "name": "stderr",
     "output_type": "stream",
     "text": [
      "\r",
      " 45%|████▌     | 137/302 [01:24<01:35,  1.73it/s]"
     ]
    },
    {
     "name": "stdout",
     "output_type": "stream",
     "text": [
      "137 https://www.domain.com.au/5-cattai-ridge-road-glenorie-nsw-2157-2015798009 4 3 2\n"
     ]
    },
    {
     "name": "stderr",
     "output_type": "stream",
     "text": [
      "\r",
      " 46%|████▌     | 138/302 [01:24<01:33,  1.75it/s]"
     ]
    },
    {
     "name": "stdout",
     "output_type": "stream",
     "text": [
      "138 https://www.domain.com.au/10-seventh-street-granville-nsw-2142-2015819557 4 3 1\n"
     ]
    },
    {
     "name": "stderr",
     "output_type": "stream",
     "text": [
      "\r",
      " 46%|████▌     | 139/302 [01:25<01:38,  1.65it/s]"
     ]
    },
    {
     "name": "stdout",
     "output_type": "stream",
     "text": [
      "139 https://www.domain.com.au/83-the-trongate-granville-nsw-2142-2015820291 3 2 4\n"
     ]
    },
    {
     "name": "stderr",
     "output_type": "stream",
     "text": [
      "\r",
      " 46%|████▋     | 140/302 [01:25<01:31,  1.77it/s]"
     ]
    },
    {
     "name": "stdout",
     "output_type": "stream",
     "text": [
      "140 https://www.domain.com.au/40-osprey-avenue-green-valley-nsw-2168-2015821865 4 2 2\n"
     ]
    },
    {
     "name": "stderr",
     "output_type": "stream",
     "text": [
      "\r",
      " 47%|████▋     | 141/302 [01:26<01:27,  1.85it/s]"
     ]
    },
    {
     "name": "stdout",
     "output_type": "stream",
     "text": [
      "141 https://www.domain.com.au/66-noble-avenue-greenacre-nsw-2190-2015818913 6 3 3\n"
     ]
    },
    {
     "name": "stderr",
     "output_type": "stream",
     "text": [
      "\r",
      " 47%|████▋     | 142/302 [01:26<01:24,  1.90it/s]"
     ]
    },
    {
     "name": "stdout",
     "output_type": "stream",
     "text": [
      "142 https://www.domain.com.au/11-shannon-street-greenacre-nsw-2190-2015819685 3 1 3\n"
     ]
    },
    {
     "name": "stderr",
     "output_type": "stream",
     "text": [
      "\r",
      " 47%|████▋     | 143/302 [01:27<01:29,  1.77it/s]"
     ]
    },
    {
     "name": "stdout",
     "output_type": "stream",
     "text": [
      "143 https://www.domain.com.au/10-20-innes-road-greenwich-nsw-2065-2015820475 2 1 1\n"
     ]
    },
    {
     "name": "stderr",
     "output_type": "stream",
     "text": [
      "\r",
      " 48%|████▊     | 144/302 [01:27<01:28,  1.78it/s]"
     ]
    },
    {
     "name": "stdout",
     "output_type": "stream",
     "text": [
      "144 https://www.domain.com.au/12-victor-street-greystanes-nsw-2145-2015825799 4 2 3\n"
     ]
    },
    {
     "name": "stderr",
     "output_type": "stream",
     "text": [
      "\r",
      " 48%|████▊     | 145/302 [01:28<01:35,  1.64it/s]"
     ]
    },
    {
     "name": "stdout",
     "output_type": "stream",
     "text": [
      "145 https://www.domain.com.au/67-albert-street-guildford-nsw-2161-2015825739 3 1 −\n"
     ]
    },
    {
     "name": "stderr",
     "output_type": "stream",
     "text": [
      "\r",
      " 48%|████▊     | 146/302 [01:29<01:29,  1.74it/s]"
     ]
    },
    {
     "name": "stdout",
     "output_type": "stream",
     "text": [
      "146 https://www.domain.com.au/1-157-gymea-bay-road-gymea-nsw-2227-2015829063 4 3 2\n"
     ]
    },
    {
     "name": "stderr",
     "output_type": "stream",
     "text": [
      "\r",
      " 49%|████▊     | 147/302 [01:29<01:23,  1.86it/s]"
     ]
    },
    {
     "name": "stdout",
     "output_type": "stream",
     "text": [
      "147 https://www.domain.com.au/46-walker-avenue-haberfield-nsw-2045-2015754034 3 2 1\n"
     ]
    },
    {
     "name": "stderr",
     "output_type": "stream",
     "text": [
      "\r",
      " 49%|████▉     | 148/302 [01:30<01:24,  1.82it/s]"
     ]
    },
    {
     "name": "stdout",
     "output_type": "stream",
     "text": [
      "148 https://www.domain.com.au/98-sunrise-avenue-halekulani-nsw-2262-2015745652 4 2 1\n"
     ]
    },
    {
     "name": "stderr",
     "output_type": "stream",
     "text": [
      "\r",
      " 49%|████▉     | 149/302 [01:30<01:16,  1.99it/s]"
     ]
    },
    {
     "name": "stdout",
     "output_type": "stream",
     "text": [
      "149 https://www.domain.com.au/327-303-castlereagh-st-haymarket-nsw-2000-2015727973 3 2 2\n"
     ]
    },
    {
     "name": "stderr",
     "output_type": "stream",
     "text": [
      "\r",
      " 50%|████▉     | 150/302 [01:31<01:22,  1.84it/s]"
     ]
    },
    {
     "name": "stdout",
     "output_type": "stream",
     "text": [
      "150 https://www.domain.com.au/b9-21-21-mandemar-avenue-homebush-west-nsw-2140-2015835562 2 2 3\n"
     ]
    },
    {
     "name": "stderr",
     "output_type": "stream",
     "text": [
      "\r",
      " 50%|█████     | 151/302 [01:31<01:30,  1.66it/s]"
     ]
    },
    {
     "name": "stdout",
     "output_type": "stream",
     "text": [
      "151 https://www.domain.com.au/27-perisher-street-horningsea-park-nsw-2171-2015825728 4 2 3\n"
     ]
    },
    {
     "name": "stderr",
     "output_type": "stream",
     "text": [
      "\r",
      " 50%|█████     | 152/302 [01:32<01:24,  1.78it/s]"
     ]
    },
    {
     "name": "stdout",
     "output_type": "stream",
     "text": [
      "152 https://www.domain.com.au/5-54-king-road-hornsby-nsw-2077-2015831583 3 2 2\n"
     ]
    },
    {
     "name": "stderr",
     "output_type": "stream",
     "text": [
      "\r",
      " 51%|█████     | 153/302 [01:32<01:22,  1.81it/s]"
     ]
    },
    {
     "name": "stdout",
     "output_type": "stream",
     "text": [
      "153 https://www.domain.com.au/9-somerville-road-hornsby-heights-nsw-2077-2015835205 2 1 1\n"
     ]
    },
    {
     "name": "stderr",
     "output_type": "stream",
     "text": [
      "\r",
      " 51%|█████     | 154/302 [01:33<01:17,  1.91it/s]"
     ]
    },
    {
     "name": "stdout",
     "output_type": "stream",
     "text": [
      "154 https://www.domain.com.au/73-soldiers-road-jannali-nsw-2226-2015828528 4 2 1\n"
     ]
    },
    {
     "name": "stderr",
     "output_type": "stream",
     "text": [
      "\r",
      " 51%|█████▏    | 155/302 [01:33<01:11,  2.06it/s]"
     ]
    },
    {
     "name": "stdout",
     "output_type": "stream",
     "text": [
      "155 https://www.domain.com.au/30-wrights-road-kellyville-nsw-2155-2015822112 5 2 2\n"
     ]
    },
    {
     "name": "stderr",
     "output_type": "stream",
     "text": [
      "\r",
      " 52%|█████▏    | 156/302 [01:34<01:14,  1.97it/s]"
     ]
    },
    {
     "name": "stdout",
     "output_type": "stream",
     "text": [
      "156 https://www.domain.com.au/13-hazelton-avenue-kellyville-ridge-nsw-2155-2015836511 4 2 2\n"
     ]
    },
    {
     "name": "stderr",
     "output_type": "stream",
     "text": [
      "\r",
      " 52%|█████▏    | 157/302 [01:34<01:08,  2.12it/s]"
     ]
    },
    {
     "name": "stdout",
     "output_type": "stream",
     "text": [
      "157 https://www.domain.com.au/3-bannerman-road-kenthurst-nsw-2156-2015791730 4 3 3\n"
     ]
    },
    {
     "name": "stderr",
     "output_type": "stream",
     "text": [
      "\r",
      " 52%|█████▏    | 158/302 [01:35<01:09,  2.06it/s]"
     ]
    },
    {
     "name": "stdout",
     "output_type": "stream",
     "text": [
      "158 https://www.domain.com.au/67-springdale-road-killara-nsw-2071-2015833767 3 2 2\n"
     ]
    },
    {
     "name": "stderr",
     "output_type": "stream",
     "text": [
      "\r",
      " 53%|█████▎    | 159/302 [01:35<01:13,  1.95it/s]"
     ]
    },
    {
     "name": "stdout",
     "output_type": "stream",
     "text": [
      "159 https://www.domain.com.au/11-wilde-avenue-killarney-heights-nsw-2087-2015828712 3 2 2\n"
     ]
    },
    {
     "name": "stderr",
     "output_type": "stream",
     "text": [
      "\r",
      " 53%|█████▎    | 160/302 [01:36<01:16,  1.85it/s]"
     ]
    },
    {
     "name": "stdout",
     "output_type": "stream",
     "text": [
      "160 https://www.domain.com.au/59-manly-view-road-killcare-heights-nsw-2257-2015824381 5 2 5\n"
     ]
    },
    {
     "name": "stderr",
     "output_type": "stream",
     "text": [
      "\r",
      " 53%|█████▎    | 161/302 [01:36<01:15,  1.88it/s]"
     ]
    },
    {
     "name": "stdout",
     "output_type": "stream",
     "text": [
      "161 https://www.domain.com.au/21-43-kennedy-street-kingsford-nsw-2032-2015826948 2 1 1\n"
     ]
    },
    {
     "name": "stderr",
     "output_type": "stream",
     "text": [
      "\r",
      " 54%|█████▎    | 162/302 [01:37<01:15,  1.85it/s]"
     ]
    },
    {
     "name": "stdout",
     "output_type": "stream",
     "text": [
      "162 https://www.domain.com.au/35-caroline-street-kingsgrove-nsw-2208-2015825020 3 1 1\n"
     ]
    },
    {
     "name": "stderr",
     "output_type": "stream",
     "text": [
      "\r",
      " 54%|█████▍    | 163/302 [01:39<01:58,  1.17it/s]"
     ]
    },
    {
     "name": "stdout",
     "output_type": "stream",
     "text": [
      "163 https://www.domain.com.au/30-junee-crescent-kingsgrove-nsw-2208-2015820611 4 2 1\n"
     ]
    },
    {
     "name": "stderr",
     "output_type": "stream",
     "text": [
      "\r",
      " 54%|█████▍    | 164/302 [01:39<01:47,  1.28it/s]"
     ]
    },
    {
     "name": "stdout",
     "output_type": "stream",
     "text": [
      "164 https://www.domain.com.au/14-shackel-avenue-kingsgrove-nsw-2208-2015827069 3 1 2\n"
     ]
    },
    {
     "name": "stderr",
     "output_type": "stream",
     "text": [
      "\r",
      " 55%|█████▍    | 165/302 [01:40<01:43,  1.32it/s]"
     ]
    },
    {
     "name": "stdout",
     "output_type": "stream",
     "text": [
      "165 https://www.domain.com.au/1-meehan-place-kirrawee-nsw-2232-2015829739 5 3 3\n"
     ]
    },
    {
     "name": "stderr",
     "output_type": "stream",
     "text": [
      "\r",
      " 55%|█████▍    | 166/302 [01:41<01:36,  1.42it/s]"
     ]
    },
    {
     "name": "stdout",
     "output_type": "stream",
     "text": [
      "166 https://www.domain.com.au/4-51-broughton-street-kirribilli-nsw-2061-2015831822 1 1 −\n"
     ]
    },
    {
     "name": "stderr",
     "output_type": "stream",
     "text": [
      "\r",
      " 55%|█████▌    | 167/302 [01:41<01:30,  1.50it/s]"
     ]
    },
    {
     "name": "stdout",
     "output_type": "stream",
     "text": [
      "167 https://www.domain.com.au/4-23-holbrook-avenue-kirribilli-nsw-2061-2015740261 3 1 1\n"
     ]
    },
    {
     "name": "stderr",
     "output_type": "stream",
     "text": [
      "\r",
      " 56%|█████▌    | 168/302 [01:42<01:28,  1.51it/s]"
     ]
    },
    {
     "name": "stdout",
     "output_type": "stream",
     "text": [
      "168 https://www.domain.com.au/8-53-55-montgomery-street-kogarah-nsw-2217-2015793145 3 2 2\n"
     ]
    },
    {
     "name": "stderr",
     "output_type": "stream",
     "text": [
      "\r",
      " 56%|█████▌    | 169/302 [01:42<01:21,  1.64it/s]"
     ]
    },
    {
     "name": "stdout",
     "output_type": "stream",
     "text": [
      "169 https://www.domain.com.au/35-penrose-street-lane-cove-nsw-2066-2015832247 4 2 2\n"
     ]
    },
    {
     "name": "stderr",
     "output_type": "stream",
     "text": [
      "\r",
      " 56%|█████▋    | 170/302 [01:43<01:16,  1.74it/s]"
     ]
    },
    {
     "name": "stdout",
     "output_type": "stream",
     "text": [
      "170 https://www.domain.com.au/3-dalrymple-avenue-lane-cove-nsw-2066-2015829341 4 3 2\n"
     ]
    },
    {
     "name": "stderr",
     "output_type": "stream",
     "text": [
      "\r",
      " 57%|█████▋    | 171/302 [01:43<01:10,  1.87it/s]"
     ]
    },
    {
     "name": "stdout",
     "output_type": "stream",
     "text": [
      "171 https://www.domain.com.au/5-528-mowbray-road-lane-cove-nsw-2066-2015776107 3 2 2\n"
     ]
    },
    {
     "name": "stderr",
     "output_type": "stream",
     "text": [
      "\r",
      " 57%|█████▋    | 172/302 [01:44<01:14,  1.74it/s]"
     ]
    },
    {
     "name": "stdout",
     "output_type": "stream",
     "text": [
      "172 https://www.domain.com.au/106-penrose-street-lane-cove-nsw-2066-2015807930 4 3 2\n"
     ]
    },
    {
     "name": "stderr",
     "output_type": "stream",
     "text": [
      "\r",
      " 57%|█████▋    | 173/302 [01:44<01:14,  1.73it/s]"
     ]
    },
    {
     "name": "stdout",
     "output_type": "stream",
     "text": [
      "173 https://www.domain.com.au/5-1-harbourview-crescent-lavender-bay-nsw-2060-2015805045 3 2 2\n"
     ]
    },
    {
     "name": "stderr",
     "output_type": "stream",
     "text": [
      "\r",
      " 58%|█████▊    | 174/302 [01:45<01:10,  1.81it/s]"
     ]
    },
    {
     "name": "stdout",
     "output_type": "stream",
     "text": [
      "174 https://www.domain.com.au/244-new-canterbury-road-lewisham-nsw-2049-2015815520 4 2 2\n"
     ]
    },
    {
     "name": "stderr",
     "output_type": "stream",
     "text": [
      "\r",
      " 58%|█████▊    | 175/302 [01:45<01:06,  1.90it/s]"
     ]
    },
    {
     "name": "stdout",
     "output_type": "stream",
     "text": [
      "175 https://www.domain.com.au/25-koorabel-street-lugarno-nsw-2210-2015631591 5 4 5\n"
     ]
    },
    {
     "name": "stderr",
     "output_type": "stream",
     "text": [
      "\r",
      " 58%|█████▊    | 176/302 [01:46<01:24,  1.49it/s]"
     ]
    },
    {
     "name": "stdout",
     "output_type": "stream",
     "text": [
      "176 https://www.domain.com.au/3-lime-kiln-road-lugarno-nsw-2210-2015851090 5 2 2\n"
     ]
    },
    {
     "name": "stderr",
     "output_type": "stream",
     "text": [
      "\r",
      " 59%|█████▊    | 177/302 [01:47<01:18,  1.58it/s]"
     ]
    },
    {
     "name": "stdout",
     "output_type": "stream",
     "text": [
      "177 https://www.domain.com.au/9-7-osborne-road-manly-nsw-2095-2015827957 2 2 1\n"
     ]
    },
    {
     "name": "stderr",
     "output_type": "stream",
     "text": [
      "\r",
      " 59%|█████▉    | 178/302 [01:47<01:11,  1.73it/s]"
     ]
    },
    {
     "name": "stdout",
     "output_type": "stream",
     "text": [
      "178 https://www.domain.com.au/3-18-raglan-street-manly-nsw-2095-2015830215 2 2 2\n"
     ]
    },
    {
     "name": "stderr",
     "output_type": "stream",
     "text": [
      "\r",
      " 59%|█████▉    | 179/302 [01:48<01:23,  1.47it/s]"
     ]
    },
    {
     "name": "stdout",
     "output_type": "stream",
     "text": [
      "179 https://www.domain.com.au/14-addiscombe-road-manly-vale-nsw-2093-2015798432 4 2 2\n"
     ]
    },
    {
     "name": "stderr",
     "output_type": "stream",
     "text": [
      "\r",
      " 60%|█████▉    | 180/302 [01:49<01:31,  1.34it/s]"
     ]
    },
    {
     "name": "stdout",
     "output_type": "stream",
     "text": [
      "180 https://www.domain.com.au/14-10-campbell-parade-manly-vale-nsw-2093-2015826842 − 1 1\n"
     ]
    },
    {
     "name": "stderr",
     "output_type": "stream",
     "text": [
      "\r",
      " 60%|█████▉    | 181/302 [01:50<01:28,  1.36it/s]"
     ]
    },
    {
     "name": "stdout",
     "output_type": "stream",
     "text": [
      "181 https://www.domain.com.au/1004-anzac-parade-maroubra-nsw-2035-2015802245 3 2 2\n"
     ]
    },
    {
     "name": "stderr",
     "output_type": "stream",
     "text": [
      "\r",
      " 60%|██████    | 182/302 [01:50<01:15,  1.59it/s]"
     ]
    },
    {
     "name": "stdout",
     "output_type": "stream",
     "text": [
      "182 https://www.domain.com.au/50-mons-avenue-maroubra-nsw-2035-2015791839 4 2 2\n"
     ]
    },
    {
     "name": "stderr",
     "output_type": "stream",
     "text": [
      "\r",
      " 61%|██████    | 183/302 [01:52<01:40,  1.18it/s]"
     ]
    },
    {
     "name": "stdout",
     "output_type": "stream",
     "text": [
      "183 https://www.domain.com.au/73-new-orleans-crescent-maroubra-nsw-2035-2015805011 2 1 2\n"
     ]
    },
    {
     "name": "stderr",
     "output_type": "stream",
     "text": [
      "\r",
      " 61%|██████    | 184/302 [01:53<01:52,  1.05it/s]"
     ]
    },
    {
     "name": "stdout",
     "output_type": "stream",
     "text": [
      "184 https://www.domain.com.au/45-parer-street-maroubra-nsw-2035-2015802247 3 2 1\n"
     ]
    },
    {
     "name": "stderr",
     "output_type": "stream",
     "text": [
      "\r",
      " 61%|██████▏   | 185/302 [01:54<01:40,  1.16it/s]"
     ]
    },
    {
     "name": "stdout",
     "output_type": "stream",
     "text": [
      "185 https://www.domain.com.au/25-wilson-street-maroubra-nsw-2035-2015824096 4 2 2\n"
     ]
    },
    {
     "name": "stderr",
     "output_type": "stream",
     "text": [
      "\r",
      " 62%|██████▏   | 186/302 [01:54<01:32,  1.25it/s]"
     ]
    },
    {
     "name": "stdout",
     "output_type": "stream",
     "text": [
      "186 https://www.domain.com.au/8-38c-ewart-street-marrickville-nsw-2204-2015820613 2 1 1\n"
     ]
    },
    {
     "name": "stderr",
     "output_type": "stream",
     "text": [
      "\r",
      " 62%|██████▏   | 187/302 [01:55<01:30,  1.27it/s]"
     ]
    },
    {
     "name": "stdout",
     "output_type": "stream",
     "text": [
      "187 https://www.domain.com.au/15-11-wallace-marrickville-nsw-2204-2015830445 2 2 1\n"
     ]
    },
    {
     "name": "stderr",
     "output_type": "stream",
     "text": [
      "\r",
      " 62%|██████▏   | 188/302 [01:55<01:17,  1.48it/s]"
     ]
    },
    {
     "name": "stdout",
     "output_type": "stream",
     "text": [
      "188 https://www.domain.com.au/19-beverley-crescent-marsfield-nsw-2122-2015780772 3 1 2\n"
     ]
    },
    {
     "name": "stderr",
     "output_type": "stream",
     "text": [
      "\r",
      " 63%|██████▎   | 189/302 [01:56<01:12,  1.57it/s]"
     ]
    },
    {
     "name": "stdout",
     "output_type": "stream",
     "text": [
      "189 https://www.domain.com.au/3-wilding-street-marsfield-nsw-2122-2015823429 4 4 2\n"
     ]
    },
    {
     "name": "stderr",
     "output_type": "stream",
     "text": [
      "\r",
      " 63%|██████▎   | 190/302 [01:56<01:09,  1.62it/s]"
     ]
    },
    {
     "name": "stdout",
     "output_type": "stream",
     "text": [
      "190 https://www.domain.com.au/4-henry-kendall-crescent-mascot-nsw-2020-2015808829 3 1 3\n"
     ]
    },
    {
     "name": "stderr",
     "output_type": "stream",
     "text": [
      "\r",
      " 63%|██████▎   | 191/302 [01:57<01:10,  1.58it/s]"
     ]
    },
    {
     "name": "stdout",
     "output_type": "stream",
     "text": [
      "191 https://www.domain.com.au/15c-1-7-daunt-avenue-matraville-nsw-2036-2015820223 3 2 2\n"
     ]
    },
    {
     "name": "stderr",
     "output_type": "stream",
     "text": [
      "\r",
      " 64%|██████▎   | 192/302 [01:58<01:13,  1.50it/s]"
     ]
    },
    {
     "name": "stdout",
     "output_type": "stream",
     "text": [
      "192 https://www.domain.com.au/15-22-24-wassell-street-matraville-nsw-2036-2015802456 3 2 2\n"
     ]
    },
    {
     "name": "stderr",
     "output_type": "stream",
     "text": [
      "\r",
      " 64%|██████▍   | 193/302 [01:59<01:19,  1.36it/s]"
     ]
    },
    {
     "name": "stdout",
     "output_type": "stream",
     "text": [
      "193 https://www.domain.com.au/11-french-street-mcmahons-point-nsw-2060-2015811273 2 1 −\n"
     ]
    },
    {
     "name": "stderr",
     "output_type": "stream",
     "text": [
      "\r",
      " 64%|██████▍   | 194/302 [01:59<01:11,  1.50it/s]"
     ]
    },
    {
     "name": "stdout",
     "output_type": "stream",
     "text": [
      "194 https://www.domain.com.au/6-james-close-menai-nsw-2234-2015835159 4 2 2\n"
     ]
    },
    {
     "name": "stderr",
     "output_type": "stream",
     "text": [
      "\r",
      " 65%|██████▍   | 195/302 [02:00<01:09,  1.54it/s]"
     ]
    },
    {
     "name": "stdout",
     "output_type": "stream",
     "text": [
      "195 https://www.domain.com.au/24-22-26-urunga-parade-miranda-nsw-2228-2015803633 2 2 2\n"
     ]
    },
    {
     "name": "stderr",
     "output_type": "stream",
     "text": [
      "\r",
      " 65%|██████▍   | 196/302 [02:01<01:10,  1.50it/s]"
     ]
    },
    {
     "name": "stdout",
     "output_type": "stream",
     "text": [
      "196 https://www.domain.com.au/50-23-29-willock-avenue-miranda-nsw-2228-2015815905 3 2 3\n"
     ]
    },
    {
     "name": "stderr",
     "output_type": "stream",
     "text": [
      "\r",
      " 65%|██████▌   | 197/302 [02:01<01:07,  1.55it/s]"
     ]
    },
    {
     "name": "stdout",
     "output_type": "stream",
     "text": [
      "197 https://www.domain.com.au/60-samuel-street-mona-vale-nsw-2103-2015832108 3 2 3\n"
     ]
    },
    {
     "name": "stderr",
     "output_type": "stream",
     "text": [
      "\r",
      " 66%|██████▌   | 198/302 [02:02<01:03,  1.64it/s]"
     ]
    },
    {
     "name": "stdout",
     "output_type": "stream",
     "text": [
      "198 https://www.domain.com.au/1-35-37-solander-street-monterey-nsw-2217-2015819698 2 1 1\n"
     ]
    },
    {
     "name": "stderr",
     "output_type": "stream",
     "text": [
      "\r",
      " 66%|██████▌   | 199/302 [02:08<03:54,  2.27s/it]"
     ]
    },
    {
     "name": "stdout",
     "output_type": "stream",
     "text": [
      "199 https://www.domain.com.au/7-baringa-road-mortdale-nsw-2223-2015799534 2 1 3\n"
     ]
    },
    {
     "name": "stderr",
     "output_type": "stream",
     "text": [
      "\r",
      " 66%|██████▌   | 200/302 [02:08<02:58,  1.75s/it]"
     ]
    },
    {
     "name": "stdout",
     "output_type": "stream",
     "text": [
      "200 https://www.domain.com.au/27-blackshaw-avenue-mortdale-nsw-2223-2015821040 3 2 1\n"
     ]
    },
    {
     "name": "stderr",
     "output_type": "stream",
     "text": [
      "\r",
      " 67%|██████▋   | 201/302 [02:09<02:30,  1.49s/it]"
     ]
    },
    {
     "name": "stdout",
     "output_type": "stream",
     "text": [
      "201 https://www.domain.com.au/16-fairway-avenue-mortdale-nsw-2223-2015796861 4 3 2\n"
     ]
    },
    {
     "name": "stderr",
     "output_type": "stream",
     "text": [
      "\r",
      " 67%|██████▋   | 202/302 [02:10<02:10,  1.31s/it]"
     ]
    },
    {
     "name": "stdout",
     "output_type": "stream",
     "text": [
      "202 https://www.domain.com.au/27-avenue-road-mosman-nsw-2088-2015808029 4 3 2\n"
     ]
    },
    {
     "name": "stderr",
     "output_type": "stream",
     "text": [
      "\r",
      " 67%|██████▋   | 203/302 [02:11<01:44,  1.05s/it]"
     ]
    },
    {
     "name": "stdout",
     "output_type": "stream",
     "text": [
      "203 https://www.domain.com.au/2-47-bradleys-head-road-mosman-nsw-2088-2015832911 4 2 1\n"
     ]
    },
    {
     "name": "stderr",
     "output_type": "stream",
     "text": [
      "\r",
      " 68%|██████▊   | 204/302 [02:12<01:51,  1.13s/it]"
     ]
    },
    {
     "name": "stdout",
     "output_type": "stream",
     "text": [
      "204 https://www.domain.com.au/1008-8-northcote-street-naremburn-nsw-2065-2015805792 1 1 1\n"
     ]
    },
    {
     "name": "stderr",
     "output_type": "stream",
     "text": [
      "\r",
      " 68%|██████▊   | 205/302 [02:13<01:43,  1.07s/it]"
     ]
    },
    {
     "name": "stdout",
     "output_type": "stream",
     "text": [
      "205 https://www.domain.com.au/1-greenwood-avenue-narraweena-nsw-2099-2015853762 3 2 2\n"
     ]
    },
    {
     "name": "stderr",
     "output_type": "stream",
     "text": [
      "\r",
      " 68%|██████▊   | 206/302 [02:14<01:31,  1.05it/s]"
     ]
    },
    {
     "name": "stdout",
     "output_type": "stream",
     "text": [
      "206 https://www.domain.com.au/5-113-penshurst-road-narwee-nsw-2209-2015828839 2 1 1\n"
     ]
    },
    {
     "name": "stderr",
     "output_type": "stream",
     "text": [
      "\r",
      " 69%|██████▊   | 207/302 [02:14<01:22,  1.15it/s]"
     ]
    },
    {
     "name": "stdout",
     "output_type": "stream",
     "text": [
      "207 https://www.domain.com.au/1-317-alfred-street-north-neutral-bay-nsw-2089-2015813672 2 1 −\n"
     ]
    },
    {
     "name": "stderr",
     "output_type": "stream",
     "text": [
      "\r",
      " 69%|██████▉   | 208/302 [02:15<01:12,  1.30it/s]"
     ]
    },
    {
     "name": "stdout",
     "output_type": "stream",
     "text": [
      "208 https://www.domain.com.au/146-darley-street-newtown-nsw-2042-2015826809 2 1 −\n"
     ]
    },
    {
     "name": "stderr",
     "output_type": "stream",
     "text": [
      "\r",
      " 69%|██████▉   | 209/302 [02:16<01:37,  1.04s/it]"
     ]
    },
    {
     "name": "stdout",
     "output_type": "stream",
     "text": [
      "209 https://www.domain.com.au/39-newman-street-newtown-nsw-2042-2015827162 2 1 −\n"
     ]
    },
    {
     "name": "stderr",
     "output_type": "stream",
     "text": [
      "\r",
      " 70%|██████▉   | 210/302 [02:24<04:34,  2.98s/it]"
     ]
    },
    {
     "name": "stdout",
     "output_type": "stream",
     "text": [
      "210 https://www.domain.com.au/13-oxford-street-newtown-nsw-2042-2015832047 2 2 −\n"
     ]
    },
    {
     "name": "stderr",
     "output_type": "stream",
     "text": [
      "\r",
      " 70%|██████▉   | 211/302 [02:25<03:25,  2.26s/it]"
     ]
    },
    {
     "name": "stdout",
     "output_type": "stream",
     "text": [
      "211 https://www.domain.com.au/25-pine-street-newtown-nsw-2042-2015805968 3 1 −\n"
     ]
    },
    {
     "name": "stderr",
     "output_type": "stream",
     "text": [
      "\r",
      " 70%|███████   | 212/302 [02:25<02:47,  1.86s/it]"
     ]
    },
    {
     "name": "stdout",
     "output_type": "stream",
     "text": [
      "212 https://www.domain.com.au/39-water-reserve-road-north-balgowlah-nsw-2093-2015828330 4 2 2\n"
     ]
    },
    {
     "name": "stderr",
     "output_type": "stream",
     "text": [
      "\r",
      " 71%|███████   | 213/302 [02:26<02:11,  1.48s/it]"
     ]
    },
    {
     "name": "stdout",
     "output_type": "stream",
     "text": [
      "213 https://www.domain.com.au/9-68-plowman-street-north-bondi-nsw-2026-2015834368 1 1 −\n"
     ]
    },
    {
     "name": "stderr",
     "output_type": "stream",
     "text": [
      "\r",
      " 71%|███████   | 214/302 [02:27<01:45,  1.20s/it]"
     ]
    },
    {
     "name": "stdout",
     "output_type": "stream",
     "text": [
      "214 https://www.domain.com.au/152-headland-road-north-curl-curl-nsw-2099-2015805465 4 3 2\n"
     ]
    },
    {
     "name": "stderr",
     "output_type": "stream",
     "text": [
      "\r",
      " 71%|███████   | 215/302 [02:28<02:00,  1.39s/it]"
     ]
    },
    {
     "name": "stdout",
     "output_type": "stream",
     "text": [
      "215 https://www.domain.com.au/2-10-rickard-road-north-narrabeen-nsw-2101-2015824887   \n"
     ]
    },
    {
     "name": "stderr",
     "output_type": "stream",
     "text": [
      "\r",
      " 72%|███████▏  | 216/302 [02:29<01:37,  1.13s/it]"
     ]
    },
    {
     "name": "stdout",
     "output_type": "stream",
     "text": [
      "216 https://www.domain.com.au/27-33-brickfield-street-north-parramatta-nsw-2151-2015805817 2 2 2\n"
     ]
    },
    {
     "name": "stderr",
     "output_type": "stream",
     "text": [
      "\r",
      " 72%|███████▏  | 217/302 [02:29<01:21,  1.05it/s]"
     ]
    },
    {
     "name": "stdout",
     "output_type": "stream",
     "text": [
      "217 https://www.domain.com.au/9-webb-street-north-parramatta-nsw-2151-2015826200 6 4 1\n"
     ]
    },
    {
     "name": "stderr",
     "output_type": "stream",
     "text": [
      "\r",
      " 72%|███████▏  | 218/302 [02:30<01:15,  1.12it/s]"
     ]
    },
    {
     "name": "stdout",
     "output_type": "stream",
     "text": [
      "218 https://www.domain.com.au/4-9-11-william-street-north-parramatta-nsw-2151-2015832388 2 1 1\n"
     ]
    },
    {
     "name": "stderr",
     "output_type": "stream",
     "text": [
      "\r",
      " 73%|███████▎  | 219/302 [02:31<01:10,  1.18it/s]"
     ]
    },
    {
     "name": "stdout",
     "output_type": "stream",
     "text": [
      "219 https://www.domain.com.au/14b-david-avenue-north-ryde-nsw-2113-2015827463 3 3 2\n"
     ]
    },
    {
     "name": "stderr",
     "output_type": "stream",
     "text": [
      "\r",
      " 73%|███████▎  | 220/302 [02:32<01:03,  1.29it/s]"
     ]
    },
    {
     "name": "stdout",
     "output_type": "stream",
     "text": [
      "220 https://www.domain.com.au/73a-wicks-road-north-ryde-nsw-2113-2015826987 3 3 1\n"
     ]
    },
    {
     "name": "stderr",
     "output_type": "stream",
     "text": [
      "\r",
      " 73%|███████▎  | 221/302 [02:32<00:56,  1.44it/s]"
     ]
    },
    {
     "name": "stdout",
     "output_type": "stream",
     "text": [
      "221 https://www.domain.com.au/80-george-street-north-strathfield-nsw-2137-2015804916 3 2 3\n"
     ]
    },
    {
     "name": "stderr",
     "output_type": "stream",
     "text": [
      "\r",
      " 74%|███████▎  | 222/302 [02:33<00:59,  1.35it/s]"
     ]
    },
    {
     "name": "stdout",
     "output_type": "stream",
     "text": [
      "222 https://www.domain.com.au/11-pomeroy-street-north-strathfield-nsw-2137-2015827088 4 1 2\n"
     ]
    },
    {
     "name": "stderr",
     "output_type": "stream",
     "text": [
      "\r",
      " 74%|███████▍  | 223/302 [02:34<00:54,  1.45it/s]"
     ]
    },
    {
     "name": "stdout",
     "output_type": "stream",
     "text": [
      "223 https://www.domain.com.au/12-bedford-avenue-turramurra-nsw-2074-2015811220 5 4 2\n"
     ]
    },
    {
     "name": "stderr",
     "output_type": "stream",
     "text": [
      "\r",
      " 74%|███████▍  | 224/302 [02:34<00:54,  1.43it/s]"
     ]
    },
    {
     "name": "stdout",
     "output_type": "stream",
     "text": [
      "224 https://www.domain.com.au/2a-clanwilliam-street-willoughby-nsw-2068-2015856205 2 1 1\n"
     ]
    },
    {
     "name": "stderr",
     "output_type": "stream",
     "text": [
      "\r",
      " 75%|███████▍  | 225/302 [02:35<00:53,  1.43it/s]"
     ]
    },
    {
     "name": "stdout",
     "output_type": "stream",
     "text": [
      "225 https://www.domain.com.au/20-connell-road-oyster-bay-nsw-2225-2015831327 3 2 4\n"
     ]
    },
    {
     "name": "stderr",
     "output_type": "stream",
     "text": [
      "\r",
      " 75%|███████▍  | 226/302 [02:35<00:49,  1.52it/s]"
     ]
    },
    {
     "name": "stdout",
     "output_type": "stream",
     "text": [
      "226 https://www.domain.com.au/45-cascade-street-paddington-nsw-2021-2015798483 2 1 1\n"
     ]
    },
    {
     "name": "stderr",
     "output_type": "stream",
     "text": [
      "\r",
      " 75%|███████▌  | 227/302 [02:36<00:46,  1.60it/s]"
     ]
    },
    {
     "name": "stdout",
     "output_type": "stream",
     "text": [
      "227 https://www.domain.com.au/4-13-oatley-road-enter-via-renny-lane-paddington-nsw-2021-2015838448 1 1 −\n"
     ]
    },
    {
     "name": "stderr",
     "output_type": "stream",
     "text": [
      "\r",
      " 75%|███████▌  | 228/302 [02:37<00:49,  1.48it/s]"
     ]
    },
    {
     "name": "stdout",
     "output_type": "stream",
     "text": [
      "228 https://www.domain.com.au/63-chamberlain-road-padstow-nsw-2211-2015825355 4 1 2\n"
     ]
    },
    {
     "name": "stderr",
     "output_type": "stream",
     "text": [
      "\r",
      " 76%|███████▌  | 229/302 [02:38<00:51,  1.41it/s]"
     ]
    },
    {
     "name": "stdout",
     "output_type": "stream",
     "text": [
      "229 https://www.domain.com.au/2-91-iberia-street-padstow-nsw-2211-2015822098 4 2 1\n"
     ]
    },
    {
     "name": "stderr",
     "output_type": "stream",
     "text": [
      "\r",
      " 76%|███████▌  | 230/302 [02:38<00:51,  1.41it/s]"
     ]
    },
    {
     "name": "stdout",
     "output_type": "stream",
     "text": [
      "230 https://www.domain.com.au/26-stephanie-street-padstow-nsw-2211-2015828732 4 4 1\n"
     ]
    },
    {
     "name": "stderr",
     "output_type": "stream",
     "text": [
      "\r",
      " 76%|███████▋  | 231/302 [02:39<00:50,  1.41it/s]"
     ]
    },
    {
     "name": "stdout",
     "output_type": "stream",
     "text": [
      "231 https://www.domain.com.au/4-birdwood-avenue-pagewood-nsw-2035-2015836679 4 3 2\n"
     ]
    },
    {
     "name": "stderr",
     "output_type": "stream",
     "text": [
      "\r",
      " 77%|███████▋  | 232/302 [02:40<00:46,  1.50it/s]"
     ]
    },
    {
     "name": "stdout",
     "output_type": "stream",
     "text": [
      "232 https://www.domain.com.au/10-macarthur-avenue-pagewood-nsw-2035-2015832734 4 2 2\n"
     ]
    },
    {
     "name": "stderr",
     "output_type": "stream",
     "text": [
      "\r",
      " 77%|███████▋  | 233/302 [02:41<00:50,  1.36it/s]"
     ]
    },
    {
     "name": "stdout",
     "output_type": "stream",
     "text": [
      "233 https://www.domain.com.au/60-amy-road-peakhurst-nsw-2210-2015820473 3 1 1\n"
     ]
    },
    {
     "name": "stderr",
     "output_type": "stream",
     "text": [
      "\r",
      " 77%|███████▋  | 234/302 [02:42<00:55,  1.22it/s]"
     ]
    },
    {
     "name": "stdout",
     "output_type": "stream",
     "text": [
      "234 https://www.domain.com.au/589-forest-road-peakhurst-nsw-2210-2015823979 3 1 2\n"
     ]
    },
    {
     "name": "stderr",
     "output_type": "stream",
     "text": [
      "\r",
      " 78%|███████▊  | 235/302 [02:42<00:56,  1.18it/s]"
     ]
    },
    {
     "name": "stdout",
     "output_type": "stream",
     "text": [
      "235 https://www.domain.com.au/35-mavis-avenue-peakhurst-nsw-2210-2015831849 3 1 4\n"
     ]
    },
    {
     "name": "stderr",
     "output_type": "stream",
     "text": [
      "\r",
      " 78%|███████▊  | 236/302 [02:43<00:49,  1.34it/s]"
     ]
    },
    {
     "name": "stdout",
     "output_type": "stream",
     "text": [
      "236 https://www.domain.com.au/30a-pomona-street-pennant-hills-nsw-2120-2015832811 4 2 2\n"
     ]
    },
    {
     "name": "stderr",
     "output_type": "stream",
     "text": [
      "\r",
      " 78%|███████▊  | 237/302 [02:43<00:43,  1.51it/s]"
     ]
    },
    {
     "name": "stdout",
     "output_type": "stream",
     "text": [
      "237 https://www.domain.com.au/509-50-macleay-street-potts-point-nsw-2011-2015815804 2 2 1\n"
     ]
    },
    {
     "name": "stderr",
     "output_type": "stream",
     "text": [
      "\r",
      " 79%|███████▉  | 238/302 [02:44<00:42,  1.50it/s]"
     ]
    },
    {
     "name": "stdout",
     "output_type": "stream",
     "text": [
      "238 https://www.domain.com.au/21-2-mcdonald-street-potts-point-nsw-2011-2015792466   \n"
     ]
    },
    {
     "name": "stderr",
     "output_type": "stream",
     "text": [
      "\r",
      " 79%|███████▉  | 239/302 [02:47<01:16,  1.22s/it]"
     ]
    },
    {
     "name": "stdout",
     "output_type": "stream",
     "text": [
      "239 https://www.domain.com.au/5-brae-street-prospect-nsw-2148-2015798855 5 2 2\n"
     ]
    },
    {
     "name": "stderr",
     "output_type": "stream",
     "text": [
      "\r",
      " 79%|███████▉  | 240/302 [02:47<01:06,  1.08s/it]"
     ]
    },
    {
     "name": "stdout",
     "output_type": "stream",
     "text": [
      "240 https://www.domain.com.au/185-victoria-road-punchbowl-nsw-2196-2015835499 2 1 1\n"
     ]
    },
    {
     "name": "stderr",
     "output_type": "stream",
     "text": [
      "\r",
      " 80%|███████▉  | 241/302 [02:48<00:58,  1.05it/s]"
     ]
    },
    {
     "name": "stdout",
     "output_type": "stream",
     "text": [
      "241 https://www.domain.com.au/2-ida-street-putney-nsw-2112-2015814428 3 1 1\n"
     ]
    },
    {
     "name": "stderr",
     "output_type": "stream",
     "text": [
      "\r",
      " 80%|████████  | 242/302 [02:49<00:53,  1.11it/s]"
     ]
    },
    {
     "name": "stdout",
     "output_type": "stream",
     "text": [
      "242 https://www.domain.com.au/29-avon-road-pymble-nsw-2073-2015826183 4 2 2\n"
     ]
    },
    {
     "name": "stderr",
     "output_type": "stream",
     "text": [
      "\r",
      " 80%|████████  | 243/302 [02:49<00:47,  1.23it/s]"
     ]
    },
    {
     "name": "stdout",
     "output_type": "stream",
     "text": [
      "243 https://www.domain.com.au/8-dakara-close-pymble-nsw-2073-2015713694 5 4 4\n"
     ]
    },
    {
     "name": "stderr",
     "output_type": "stream",
     "text": [
      "\r",
      " 81%|████████  | 244/302 [02:50<00:41,  1.40it/s]"
     ]
    },
    {
     "name": "stdout",
     "output_type": "stream",
     "text": [
      "244 https://www.domain.com.au/3-30-dalley-street-queenscliff-nsw-2096-2015832970 2 1 1\n"
     ]
    },
    {
     "name": "stderr",
     "output_type": "stream",
     "text": [
      "\r",
      " 81%|████████  | 245/302 [02:51<00:41,  1.38it/s]"
     ]
    },
    {
     "name": "stdout",
     "output_type": "stream",
     "text": [
      "245 https://www.domain.com.au/5-35-dalley-street-queenscliff-nsw-2096-2015824664 2 2 1\n"
     ]
    },
    {
     "name": "stderr",
     "output_type": "stream",
     "text": [
      "\r",
      " 81%|████████▏ | 246/302 [02:51<00:37,  1.51it/s]"
     ]
    },
    {
     "name": "stdout",
     "output_type": "stream",
     "text": [
      "246 https://www.domain.com.au/3-105-queenscliff-road-queenscliff-nsw-2096-2015829108 2 1 1\n"
     ]
    },
    {
     "name": "stderr",
     "output_type": "stream",
     "text": [
      "\r",
      " 82%|████████▏ | 247/302 [02:58<02:16,  2.49s/it]"
     ]
    },
    {
     "name": "stdout",
     "output_type": "stream",
     "text": [
      "247 https://www.domain.com.au/6a-24-queenscliff-road-queenscliff-nsw-2096-2015836934 2 1 1\n"
     ]
    },
    {
     "name": "stderr",
     "output_type": "stream",
     "text": [
      "\r",
      " 82%|████████▏ | 248/302 [02:58<01:41,  1.88s/it]"
     ]
    },
    {
     "name": "stdout",
     "output_type": "stream",
     "text": [
      "248 https://www.domain.com.au/5-102-104-chuter-avenue-ramsgate-beach-nsw-2217-2015819670 2 1 1\n"
     ]
    },
    {
     "name": "stderr",
     "output_type": "stream",
     "text": [
      "\r",
      " 82%|████████▏ | 249/302 [02:59<01:17,  1.46s/it]"
     ]
    },
    {
     "name": "stdout",
     "output_type": "stream",
     "text": [
      "249 https://www.domain.com.au/4-16-chepstow-street-randwick-nsw-2031-2015802360 2 1 1\n"
     ]
    },
    {
     "name": "stderr",
     "output_type": "stream",
     "text": [
      "\r",
      " 83%|████████▎ | 250/302 [02:59<01:01,  1.18s/it]"
     ]
    },
    {
     "name": "stdout",
     "output_type": "stream",
     "text": [
      "250 https://www.domain.com.au/10-3-11-church-street-randwick-nsw-2031-2015824783 1 1 1\n"
     ]
    },
    {
     "name": "stderr",
     "output_type": "stream",
     "text": [
      "\r",
      " 83%|████████▎ | 251/302 [03:00<00:49,  1.02it/s]"
     ]
    },
    {
     "name": "stdout",
     "output_type": "stream",
     "text": [
      "251 https://www.domain.com.au/9-pine-street-randwick-nsw-2031-2015825848 4 2 3\n"
     ]
    },
    {
     "name": "stderr",
     "output_type": "stream",
     "text": [
      "\r",
      " 83%|████████▎ | 252/302 [03:01<00:46,  1.08it/s]"
     ]
    },
    {
     "name": "stdout",
     "output_type": "stream",
     "text": [
      "252 https://www.domain.com.au/3-37-39-prince-street-randwick-nsw-2031-2015814017 3 1 1\n"
     ]
    },
    {
     "name": "stderr",
     "output_type": "stream",
     "text": [
      "\r",
      " 84%|████████▍ | 253/302 [03:01<00:39,  1.24it/s]"
     ]
    },
    {
     "name": "stdout",
     "output_type": "stream",
     "text": [
      "253 https://www.domain.com.au/146-rainbow-street-randwick-nsw-2031-2015832224 5 3 2\n"
     ]
    },
    {
     "name": "stderr",
     "output_type": "stream",
     "text": [
      "\r",
      " 84%|████████▍ | 254/302 [03:02<00:40,  1.18it/s]"
     ]
    },
    {
     "name": "stdout",
     "output_type": "stream",
     "text": [
      "254 https://www.domain.com.au/467-cleveland-street-redfern-nsw-2016-2015828727 3 2 −\n"
     ]
    },
    {
     "name": "stderr",
     "output_type": "stream",
     "text": [
      "\r",
      " 84%|████████▍ | 255/302 [03:03<00:34,  1.35it/s]"
     ]
    },
    {
     "name": "stdout",
     "output_type": "stream",
     "text": [
      "255 https://www.domain.com.au/10-clive-street-revesby-nsw-2212-2015827848 5 3 2\n"
     ]
    },
    {
     "name": "stderr",
     "output_type": "stream",
     "text": [
      "\r",
      " 85%|████████▍ | 256/302 [03:03<00:31,  1.45it/s]"
     ]
    },
    {
     "name": "stdout",
     "output_type": "stream",
     "text": [
      "256 https://www.domain.com.au/56-iluka-street-revesby-nsw-2212-2015820692 5 2 4\n"
     ]
    },
    {
     "name": "stderr",
     "output_type": "stream",
     "text": [
      "\r",
      " 85%|████████▌ | 257/302 [03:04<00:29,  1.55it/s]"
     ]
    },
    {
     "name": "stdout",
     "output_type": "stream",
     "text": [
      "257 https://www.domain.com.au/6-36-salisbury-road-rose-bay-nsw-2029-2015820743 2 1 −\n"
     ]
    },
    {
     "name": "stderr",
     "output_type": "stream",
     "text": [
      "\r",
      " 85%|████████▌ | 258/302 [03:10<01:46,  2.43s/it]"
     ]
    },
    {
     "name": "stdout",
     "output_type": "stream",
     "text": [
      "258 https://www.domain.com.au/109-stoddart-street-roselands-nsw-2196-2015813378 4 2 1\n"
     ]
    },
    {
     "name": "stderr",
     "output_type": "stream",
     "text": [
      "\r",
      " 86%|████████▌ | 259/302 [03:15<02:09,  3.00s/it]"
     ]
    },
    {
     "name": "stdout",
     "output_type": "stream",
     "text": [
      "259 https://www.domain.com.au/11-primrose-avenue-rydalmere-nsw-2116-2015824640 3 1 2\n"
     ]
    },
    {
     "name": "stderr",
     "output_type": "stream",
     "text": [
      "\r",
      " 86%|████████▌ | 260/302 [03:15<01:36,  2.30s/it]"
     ]
    },
    {
     "name": "stdout",
     "output_type": "stream",
     "text": [
      "260 https://www.domain.com.au/30-cressy-road-ryde-nsw-2112-2015802448 3 2 3\n"
     ]
    },
    {
     "name": "stderr",
     "output_type": "stream",
     "text": [
      "\r",
      " 86%|████████▋ | 261/302 [03:16<01:11,  1.75s/it]"
     ]
    },
    {
     "name": "stdout",
     "output_type": "stream",
     "text": [
      "261 https://www.domain.com.au/49-madeline-circuit-schofields-nsw-2762-2015809607 4 3 2\n"
     ]
    },
    {
     "name": "stderr",
     "output_type": "stream",
     "text": [
      "\r",
      " 87%|████████▋ | 262/302 [03:16<00:55,  1.38s/it]"
     ]
    },
    {
     "name": "stdout",
     "output_type": "stream",
     "text": [
      "262 https://www.domain.com.au/26-bulwarra-avenue-sefton-nsw-2162-2015827750 3 1 1\n"
     ]
    },
    {
     "name": "stderr",
     "output_type": "stream",
     "text": [
      "\r",
      " 87%|████████▋ | 263/302 [03:17<00:45,  1.17s/it]"
     ]
    },
    {
     "name": "stdout",
     "output_type": "stream",
     "text": [
      "263 https://www.domain.com.au/1-6-garie-place-south-coogee-nsw-2034-2015830716 2 1 1\n"
     ]
    },
    {
     "name": "stderr",
     "output_type": "stream",
     "text": [
      "\r",
      " 87%|████████▋ | 264/302 [03:17<00:36,  1.05it/s]"
     ]
    },
    {
     "name": "stdout",
     "output_type": "stream",
     "text": [
      "264 https://www.domain.com.au/123-woniora-road-south-hurstville-nsw-2221-2015820828 3 1 2\n"
     ]
    },
    {
     "name": "stderr",
     "output_type": "stream",
     "text": [
      "\r",
      " 88%|████████▊ | 265/302 [03:18<00:32,  1.14it/s]"
     ]
    },
    {
     "name": "stdout",
     "output_type": "stream",
     "text": [
      "265 https://www.domain.com.au/67-boronia-street-south-wentworthville-nsw-2145-2015821730 3 1 3\n"
     ]
    },
    {
     "name": "stderr",
     "output_type": "stream",
     "text": [
      "\r",
      " 88%|████████▊ | 266/302 [03:19<00:30,  1.17it/s]"
     ]
    },
    {
     "name": "stdout",
     "output_type": "stream",
     "text": [
      "266 https://www.domain.com.au/2-hamilton-st-south-wentworthville-nsw-2145-2015826433 5 4 5\n"
     ]
    },
    {
     "name": "stderr",
     "output_type": "stream",
     "text": [
      "\r",
      " 88%|████████▊ | 267/302 [03:20<00:27,  1.29it/s]"
     ]
    },
    {
     "name": "stdout",
     "output_type": "stream",
     "text": [
      "267 https://www.domain.com.au/34-hampden-road-south-wentworthville-nsw-2145-2015838258 3 1 2\n"
     ]
    },
    {
     "name": "stderr",
     "output_type": "stream",
     "text": [
      "\r",
      " 89%|████████▊ | 268/302 [03:20<00:23,  1.45it/s]"
     ]
    },
    {
     "name": "stdout",
     "output_type": "stream",
     "text": [
      "268 https://www.domain.com.au/19-todd-row-st-clair-nsw-2759-2015830037 7 2 4\n"
     ]
    },
    {
     "name": "stderr",
     "output_type": "stream",
     "text": [
      "\r",
      " 89%|████████▉ | 269/302 [03:21<00:23,  1.43it/s]"
     ]
    },
    {
     "name": "stdout",
     "output_type": "stream",
     "text": [
      "269 https://www.domain.com.au/1-2-4-newhaven-place-st-ives-nsw-2075-2015808815 2 2 1\n"
     ]
    },
    {
     "name": "stderr",
     "output_type": "stream",
     "text": [
      "\r",
      " 89%|████████▉ | 270/302 [03:22<00:23,  1.39it/s]"
     ]
    },
    {
     "name": "stdout",
     "output_type": "stream",
     "text": [
      "270 https://www.domain.com.au/5-alana-place-st-ives-nsw-2075-2015739796 4 3 3\n"
     ]
    },
    {
     "name": "stderr",
     "output_type": "stream",
     "text": [
      "\r",
      " 90%|████████▉ | 271/302 [03:22<00:20,  1.50it/s]"
     ]
    },
    {
     "name": "stdout",
     "output_type": "stream",
     "text": [
      "271 https://www.domain.com.au/120-collins-road-st-ives-nsw-2075-2015833157 4 3 4\n"
     ]
    },
    {
     "name": "stderr",
     "output_type": "stream",
     "text": [
      "\r",
      " 90%|█████████ | 272/302 [03:23<00:20,  1.49it/s]"
     ]
    },
    {
     "name": "stdout",
     "output_type": "stream",
     "text": [
      "272 https://www.domain.com.au/37-159-princes-highway-st-peters-nsw-2044-2015821313 1 1 1\n"
     ]
    },
    {
     "name": "stderr",
     "output_type": "stream",
     "text": [
      "\r",
      " 90%|█████████ | 273/302 [03:23<00:18,  1.61it/s]"
     ]
    },
    {
     "name": "stdout",
     "output_type": "stream",
     "text": [
      "273 https://www.domain.com.au/14-temple-street-stanmore-nsw-2048-2015826923 3 2 1\n"
     ]
    },
    {
     "name": "stderr",
     "output_type": "stream",
     "text": [
      "\r",
      " 91%|█████████ | 274/302 [03:24<00:16,  1.66it/s]"
     ]
    },
    {
     "name": "stdout",
     "output_type": "stream",
     "text": [
      "274 https://www.domain.com.au/179a-homebush-road-strathfield-nsw-2135-2015787511 4 2 2\n"
     ]
    },
    {
     "name": "stderr",
     "output_type": "stream",
     "text": [
      "\r",
      " 91%|█████████ | 275/302 [03:24<00:16,  1.61it/s]"
     ]
    },
    {
     "name": "stdout",
     "output_type": "stream",
     "text": [
      "275 https://www.domain.com.au/15-myee-avenue-strathfield-nsw-2135-2015758337 4 2 2\n"
     ]
    },
    {
     "name": "stderr",
     "output_type": "stream",
     "text": [
      "\r",
      " 91%|█████████▏| 276/302 [03:25<00:16,  1.59it/s]"
     ]
    },
    {
     "name": "stdout",
     "output_type": "stream",
     "text": [
      "276 https://www.domain.com.au/27-moonbie-street-summer-hill-nsw-2130-2015818291 4 2 3\n"
     ]
    },
    {
     "name": "stderr",
     "output_type": "stream",
     "text": [
      "\r",
      " 92%|█████████▏| 277/302 [03:26<00:14,  1.72it/s]"
     ]
    },
    {
     "name": "stdout",
     "output_type": "stream",
     "text": [
      "277 https://www.domain.com.au/45-morris-street-summer-hill-nsw-2130-2015819596 3 1 −\n"
     ]
    },
    {
     "name": "stderr",
     "output_type": "stream",
     "text": [
      "\r",
      " 92%|█████████▏| 278/302 [03:26<00:12,  1.90it/s]"
     ]
    },
    {
     "name": "stdout",
     "output_type": "stream",
     "text": [
      "278 https://www.domain.com.au/805-209-castlereagh-street-sydney-nsw-2000-2015814598 1 1 −\n"
     ]
    },
    {
     "name": "stderr",
     "output_type": "stream",
     "text": [
      "\r",
      " 92%|█████████▏| 279/302 [03:27<00:12,  1.91it/s]"
     ]
    },
    {
     "name": "stdout",
     "output_type": "stream",
     "text": [
      "279 https://www.domain.com.au/410-45-shelley-street-sydney-nsw-2000-2015828332 2 2 1\n"
     ]
    },
    {
     "name": "stderr",
     "output_type": "stream",
     "text": [
      "\r",
      " 93%|█████████▎| 280/302 [03:27<00:12,  1.79it/s]"
     ]
    },
    {
     "name": "stdout",
     "output_type": "stream",
     "text": [
      "280 https://www.domain.com.au/58b-easton-avenue-sylvania-nsw-2224-2015827313 4 2 1\n"
     ]
    },
    {
     "name": "stderr",
     "output_type": "stream",
     "text": [
      "\r",
      " 93%|█████████▎| 281/302 [03:28<00:13,  1.58it/s]"
     ]
    },
    {
     "name": "stdout",
     "output_type": "stream",
     "text": [
      "281 https://www.domain.com.au/8-wells-avenue-tempe-nsw-2044-2015826109 3 1 1\n"
     ]
    },
    {
     "name": "stderr",
     "output_type": "stream",
     "text": [
      "\r",
      " 93%|█████████▎| 282/302 [03:29<00:14,  1.34it/s]"
     ]
    },
    {
     "name": "stdout",
     "output_type": "stream",
     "text": [
      "282 https://www.domain.com.au/3-richard-street-the-entrance-nsw-2261-2015837557 4 2 3\n"
     ]
    },
    {
     "name": "stderr",
     "output_type": "stream",
     "text": [
      "\r",
      " 94%|█████████▎| 283/302 [03:30<00:13,  1.45it/s]"
     ]
    },
    {
     "name": "stdout",
     "output_type": "stream",
     "text": [
      "283 https://www.domain.com.au/11-barrett-avenue-thornleigh-nsw-2120-2015847561 3 1 2\n"
     ]
    },
    {
     "name": "stderr",
     "output_type": "stream",
     "text": [
      "\r",
      " 94%|█████████▍| 284/302 [03:30<00:11,  1.57it/s]"
     ]
    },
    {
     "name": "stdout",
     "output_type": "stream",
     "text": [
      "284 https://www.domain.com.au/22-favell-street-toongabbie-nsw-2146-2015821427 5 3 2\n"
     ]
    },
    {
     "name": "stderr",
     "output_type": "stream",
     "text": [
      "\r",
      " 94%|█████████▍| 285/302 [03:31<00:10,  1.58it/s]"
     ]
    },
    {
     "name": "stdout",
     "output_type": "stream",
     "text": [
      "285 https://www.domain.com.au/82-turrella-street-turrella-nsw-2205-2015820102 4 3 2\n"
     ]
    },
    {
     "name": "stderr",
     "output_type": "stream",
     "text": [
      "\r",
      " 95%|█████████▍| 286/302 [03:31<00:09,  1.67it/s]"
     ]
    },
    {
     "name": "stdout",
     "output_type": "stream",
     "text": [
      "286 https://www.domain.com.au/31-watergum-drive-warriewood-nsw-2102-2015850177 5 2 2\n"
     ]
    },
    {
     "name": "stderr",
     "output_type": "stream",
     "text": [
      "\r",
      " 95%|█████████▌| 287/302 [03:32<00:08,  1.72it/s]"
     ]
    },
    {
     "name": "stdout",
     "output_type": "stream",
     "text": [
      "287 https://www.domain.com.au/131-169-phillip-street-waterloo-nsw-2017-2015801902 1 1 1\n"
     ]
    },
    {
     "name": "stderr",
     "output_type": "stream",
     "text": [
      "\r",
      " 95%|█████████▌| 288/302 [03:32<00:07,  1.75it/s]"
     ]
    },
    {
     "name": "stdout",
     "output_type": "stream",
     "text": [
      "288 https://www.domain.com.au/5-salisbury-street-waverley-nsw-2024-2015838347 3 2 1\n"
     ]
    },
    {
     "name": "stderr",
     "output_type": "stream",
     "text": [
      "\r",
      " 96%|█████████▌| 289/302 [03:33<00:07,  1.64it/s]"
     ]
    },
    {
     "name": "stdout",
     "output_type": "stream",
     "text": [
      "289 https://www.domain.com.au/318-3-stromboli-strait-wentworth-point-nsw-2127-2015830669 2 2 2\n"
     ]
    },
    {
     "name": "stderr",
     "output_type": "stream",
     "text": [
      "\r",
      " 96%|█████████▌| 290/302 [03:33<00:06,  1.80it/s]"
     ]
    },
    {
     "name": "stdout",
     "output_type": "stream",
     "text": [
      "290 https://www.domain.com.au/59-garfield-street-wentworthville-nsw-2145-2015800811 3 2 2\n"
     ]
    },
    {
     "name": "stderr",
     "output_type": "stream",
     "text": [
      "\r",
      " 96%|█████████▋| 291/302 [03:34<00:05,  1.85it/s]"
     ]
    },
    {
     "name": "stdout",
     "output_type": "stream",
     "text": [
      "291 https://www.domain.com.au/45-congham-road-west-pymble-nsw-2073-2015806051 5 3 2\n"
     ]
    },
    {
     "name": "stderr",
     "output_type": "stream",
     "text": [
      "\r",
      " 97%|█████████▋| 292/302 [03:34<00:05,  1.97it/s]"
     ]
    },
    {
     "name": "stdout",
     "output_type": "stream",
     "text": [
      "292 https://www.domain.com.au/59-adelaide-street-west-ryde-nsw-2114-2015792540 3 1 1\n"
     ]
    },
    {
     "name": "stderr",
     "output_type": "stream",
     "text": [
      "\r",
      " 97%|█████████▋| 293/302 [03:35<00:04,  1.86it/s]"
     ]
    },
    {
     "name": "stdout",
     "output_type": "stream",
     "text": [
      "293 https://www.domain.com.au/54-bridge-road-westmead-nsw-2145-2015765430 4 1 2\n"
     ]
    },
    {
     "name": "stderr",
     "output_type": "stream",
     "text": [
      "\r",
      " 97%|█████████▋| 294/302 [03:35<00:04,  1.97it/s]"
     ]
    },
    {
     "name": "stdout",
     "output_type": "stream",
     "text": [
      "294 https://www.domain.com.au/2-11-ferguson-avenue-wiley-park-nsw-2195-2015225765 2 1 1\n"
     ]
    },
    {
     "name": "stderr",
     "output_type": "stream",
     "text": [
      "\r",
      " 98%|█████████▊| 295/302 [03:36<00:03,  1.92it/s]"
     ]
    },
    {
     "name": "stdout",
     "output_type": "stream",
     "text": [
      "295 https://www.domain.com.au/29-high-street-willoughby-nsw-2068-2015829861 4 2 4\n"
     ]
    },
    {
     "name": "stderr",
     "output_type": "stream",
     "text": [
      "\r",
      " 98%|█████████▊| 296/302 [03:37<00:03,  1.81it/s]"
     ]
    },
    {
     "name": "stdout",
     "output_type": "stream",
     "text": [
      "296 https://www.domain.com.au/405-old-windsor-road-service-road-winston-hills-nsw-2153-2015819894 3 1 2\n"
     ]
    },
    {
     "name": "stderr",
     "output_type": "stream",
     "text": [
      "\r",
      " 98%|█████████▊| 297/302 [03:37<00:02,  1.84it/s]"
     ]
    },
    {
     "name": "stdout",
     "output_type": "stream",
     "text": [
      "297 https://www.domain.com.au/159-cathedral-street-woolloomooloo-nsw-2011-2015824255 4 3 3\n"
     ]
    },
    {
     "name": "stderr",
     "output_type": "stream",
     "text": [
      "\r",
      " 99%|█████████▊| 298/302 [03:38<00:02,  1.82it/s]"
     ]
    },
    {
     "name": "stdout",
     "output_type": "stream",
     "text": [
      "298 https://www.domain.com.au/437-6-cowper-wharf-roadway-woolloomooloo-nsw-2011-2015832921 2 1 1\n"
     ]
    },
    {
     "name": "stderr",
     "output_type": "stream",
     "text": [
      "\r",
      " 99%|█████████▉| 299/302 [03:38<00:01,  1.75it/s]"
     ]
    },
    {
     "name": "stdout",
     "output_type": "stream",
     "text": [
      "299 https://www.domain.com.au/197a-prices-circuit-woronora-nsw-2232-2015844975 3 2 3\n"
     ]
    },
    {
     "name": "stderr",
     "output_type": "stream",
     "text": [
      "\r",
      " 99%|█████████▉| 300/302 [03:39<00:01,  1.77it/s]"
     ]
    },
    {
     "name": "stdout",
     "output_type": "stream",
     "text": [
      "300 https://www.domain.com.au/13-norma-crescent-woy-woy-nsw-2256-2015805508 4 2 2\n"
     ]
    },
    {
     "name": "stderr",
     "output_type": "stream",
     "text": [
      "\r",
      "100%|█████████▉| 301/302 [03:39<00:00,  1.71it/s]"
     ]
    },
    {
     "name": "stdout",
     "output_type": "stream",
     "text": [
      "301 https://www.domain.com.au/9-lambert-street-yagoona-nsw-2199-2015573154 3 2 2\n"
     ]
    },
    {
     "name": "stderr",
     "output_type": "stream",
     "text": [
      "100%|██████████| 302/302 [03:40<00:00,  1.37it/s]"
     ]
    },
    {
     "name": "stdout",
     "output_type": "stream",
     "text": [
      "302 https://domain.com.au/property-profile/4-the-avenue-yagoona-nsw-2199   \n"
     ]
    },
    {
     "name": "stderr",
     "output_type": "stream",
     "text": [
      "\n"
     ]
    }
   ],
   "source": [
    "n = 0\n",
    "for i in tqdm(range(len(Domain_auction_price['url']))):\n",
    "    n = n+1\n",
    "    url = Domain_auction_price['url'][i]\n",
    "    resp = requests.get(url)\n",
    "    resp.encoding = 'utf-8'\n",
    "    soup = BeautifulSoup(resp.text, 'html.parser')\n",
    "    for bed in soup.select('.listing-details__listing-summary-features'):\n",
    "        Domain_auction_price['beds'][i] = bed.select('span')[1].text[0]\n",
    "        Domain_auction_price['baths'][i] = baths = bed.select('span')[3].text[0]\n",
    "        Domain_auction_price['cars'][i] = bed.select('span')[6].text[0]\n",
    "    print(n, url, Domain_auction_price['beds'][i], Domain_auction_price['baths'][i], Domain_auction_price['cars'][i])"
   ]
  },
  {
   "cell_type": "code",
   "execution_count": 8,
   "metadata": {},
   "outputs": [
    {
     "data": {
      "text/html": [
       "<div>\n",
       "<style scoped>\n",
       "    .dataframe tbody tr th:only-of-type {\n",
       "        vertical-align: middle;\n",
       "    }\n",
       "\n",
       "    .dataframe tbody tr th {\n",
       "        vertical-align: top;\n",
       "    }\n",
       "\n",
       "    .dataframe thead th {\n",
       "        text-align: right;\n",
       "    }\n",
       "</style>\n",
       "<table border=\"1\" class=\"dataframe\">\n",
       "  <thead>\n",
       "    <tr style=\"text-align: right;\">\n",
       "      <th></th>\n",
       "      <th>Unnamed: 0</th>\n",
       "      <th>date</th>\n",
       "      <th>address</th>\n",
       "      <th>suburb</th>\n",
       "      <th>prop_type</th>\n",
       "      <th>status</th>\n",
       "      <th>sold_price</th>\n",
       "      <th>url</th>\n",
       "      <th>post_code</th>\n",
       "      <th>address_for_api</th>\n",
       "      <th>address_from_api</th>\n",
       "      <th>beds</th>\n",
       "      <th>baths</th>\n",
       "      <th>cars</th>\n",
       "    </tr>\n",
       "  </thead>\n",
       "  <tbody>\n",
       "    <tr>\n",
       "      <td>0</td>\n",
       "      <td>0</td>\n",
       "      <td>09/11/2019</td>\n",
       "      <td>2 Elm St</td>\n",
       "      <td>ACACIA GARDENS</td>\n",
       "      <td>House</td>\n",
       "      <td>Sold prior to auction</td>\n",
       "      <td>961000</td>\n",
       "      <td>https://www.domain.com.au/2-elm-street-acacia-...</td>\n",
       "      <td>2763</td>\n",
       "      <td>2+Elm+St,+ACACIA+GARDENS+NSW+2763</td>\n",
       "      <td>2 ELM ST, ACACIA GARDENS NSW 2763</td>\n",
       "      <td>4</td>\n",
       "      <td>2</td>\n",
       "      <td>2</td>\n",
       "    </tr>\n",
       "    <tr>\n",
       "      <td>1</td>\n",
       "      <td>1</td>\n",
       "      <td>09/11/2019</td>\n",
       "      <td>62 Kingsclear Rd</td>\n",
       "      <td>ALEXANDRIA</td>\n",
       "      <td>House</td>\n",
       "      <td>Sold</td>\n",
       "      <td>1336000</td>\n",
       "      <td>https://www.domain.com.au/62-kingsclear-road-a...</td>\n",
       "      <td>2015</td>\n",
       "      <td>62+Kingsclear+Rd,+ALEXANDRIA+NSW+2015</td>\n",
       "      <td>62 KINGSCLEAR RD, ALEXANDRIA NSW 2015</td>\n",
       "      <td>2</td>\n",
       "      <td>1</td>\n",
       "      <td>−</td>\n",
       "    </tr>\n",
       "    <tr>\n",
       "      <td>2</td>\n",
       "      <td>2</td>\n",
       "      <td>09/11/2019</td>\n",
       "      <td>12 Allambie Rd</td>\n",
       "      <td>ALLAMBIE HEIGHTS</td>\n",
       "      <td>House</td>\n",
       "      <td>Sold prior to auction</td>\n",
       "      <td>1480000</td>\n",
       "      <td>https://www.domain.com.au/12-allambie-road-all...</td>\n",
       "      <td>2100</td>\n",
       "      <td>12+Allambie+Rd,+ALLAMBIE+HEIGHTS+NSW+2100</td>\n",
       "      <td>12 ALLAMBIE RD, ALLAMBIE HEIGHTS NSW 2100</td>\n",
       "      <td>4</td>\n",
       "      <td>2</td>\n",
       "      <td>2</td>\n",
       "    </tr>\n",
       "    <tr>\n",
       "      <td>3</td>\n",
       "      <td>3</td>\n",
       "      <td>09/11/2019</td>\n",
       "      <td>74 Churchill Cr</td>\n",
       "      <td>ALLAMBIE HEIGHTS</td>\n",
       "      <td>House</td>\n",
       "      <td>Sold prior to auction</td>\n",
       "      <td>2320000</td>\n",
       "      <td>https://www.domain.com.au/74-churchill-crescen...</td>\n",
       "      <td>2100</td>\n",
       "      <td>74+Churchill+Cr,+ALLAMBIE+HEIGHTS+NSW+2100</td>\n",
       "      <td>74 CHURCHILL CRES, ALLAMBIE HEIGHTS NSW 2100</td>\n",
       "      <td>4</td>\n",
       "      <td>2</td>\n",
       "      <td>2</td>\n",
       "    </tr>\n",
       "    <tr>\n",
       "      <td>4</td>\n",
       "      <td>4</td>\n",
       "      <td>09/11/2019</td>\n",
       "      <td>176 Nelson St</td>\n",
       "      <td>ANNANDALE</td>\n",
       "      <td>House</td>\n",
       "      <td>Sold prior to auction</td>\n",
       "      <td>2050000</td>\n",
       "      <td>https://www.domain.com.au/176-nelson-street-an...</td>\n",
       "      <td>2038</td>\n",
       "      <td>176+Nelson+St,+ANNANDALE+NSW+2038</td>\n",
       "      <td>176 NELSON ST, ANNANDALE NSW 2038</td>\n",
       "      <td>3</td>\n",
       "      <td>1</td>\n",
       "      <td>1</td>\n",
       "    </tr>\n",
       "    <tr>\n",
       "      <td>...</td>\n",
       "      <td>...</td>\n",
       "      <td>...</td>\n",
       "      <td>...</td>\n",
       "      <td>...</td>\n",
       "      <td>...</td>\n",
       "      <td>...</td>\n",
       "      <td>...</td>\n",
       "      <td>...</td>\n",
       "      <td>...</td>\n",
       "      <td>...</td>\n",
       "      <td>...</td>\n",
       "      <td>...</td>\n",
       "      <td>...</td>\n",
       "      <td>...</td>\n",
       "    </tr>\n",
       "    <tr>\n",
       "      <td>297</td>\n",
       "      <td>297</td>\n",
       "      <td>09/11/2019</td>\n",
       "      <td>437/6 Cowper Wharf Roadway</td>\n",
       "      <td>WOOLLOOMOOLOO</td>\n",
       "      <td>Unit</td>\n",
       "      <td>Sold prior to auction</td>\n",
       "      <td>1600000</td>\n",
       "      <td>https://www.domain.com.au/437-6-cowper-wharf-r...</td>\n",
       "      <td>2011</td>\n",
       "      <td>437/6+Cowper+Wharf+Roadway+,+WOOLLOOMOOLOO+NSW...</td>\n",
       "      <td>NaN</td>\n",
       "      <td>2</td>\n",
       "      <td>1</td>\n",
       "      <td>1</td>\n",
       "    </tr>\n",
       "    <tr>\n",
       "      <td>298</td>\n",
       "      <td>298</td>\n",
       "      <td>09/11/2019</td>\n",
       "      <td>197A Prices Cct</td>\n",
       "      <td>WORONORA</td>\n",
       "      <td>House</td>\n",
       "      <td>Sold</td>\n",
       "      <td>1280000</td>\n",
       "      <td>https://www.domain.com.au/197a-prices-circuit-...</td>\n",
       "      <td>2232</td>\n",
       "      <td>197A+Prices+Cct,+WORONORA+NSW+2232</td>\n",
       "      <td>NaN</td>\n",
       "      <td>3</td>\n",
       "      <td>2</td>\n",
       "      <td>3</td>\n",
       "    </tr>\n",
       "    <tr>\n",
       "      <td>299</td>\n",
       "      <td>299</td>\n",
       "      <td>09/11/2019</td>\n",
       "      <td>13 Norma Cr</td>\n",
       "      <td>WOY WOY</td>\n",
       "      <td>House</td>\n",
       "      <td>Sold</td>\n",
       "      <td>760000</td>\n",
       "      <td>https://www.domain.com.au/13-norma-crescent-wo...</td>\n",
       "      <td>2256</td>\n",
       "      <td>13+Norma+Cr,+WOY+WOY+NSW+2256</td>\n",
       "      <td>NaN</td>\n",
       "      <td>4</td>\n",
       "      <td>2</td>\n",
       "      <td>2</td>\n",
       "    </tr>\n",
       "    <tr>\n",
       "      <td>300</td>\n",
       "      <td>300</td>\n",
       "      <td>09/11/2019</td>\n",
       "      <td>9 Lambert St</td>\n",
       "      <td>YAGOONA</td>\n",
       "      <td>House</td>\n",
       "      <td>Sold</td>\n",
       "      <td>768000</td>\n",
       "      <td>https://www.domain.com.au/9-lambert-street-yag...</td>\n",
       "      <td>2199</td>\n",
       "      <td>9+Lambert+St,+YAGOONA+NSW+2199</td>\n",
       "      <td>NaN</td>\n",
       "      <td>3</td>\n",
       "      <td>2</td>\n",
       "      <td>2</td>\n",
       "    </tr>\n",
       "    <tr>\n",
       "      <td>301</td>\n",
       "      <td>301</td>\n",
       "      <td>09/11/2019</td>\n",
       "      <td>4 The Avenue</td>\n",
       "      <td>YAGOONA</td>\n",
       "      <td>House</td>\n",
       "      <td>Sold</td>\n",
       "      <td>1167450</td>\n",
       "      <td>https://domain.com.au/property-profile/4-the-a...</td>\n",
       "      <td>2199</td>\n",
       "      <td>4+The+Avenue+,+YAGOONA+NSW+2199</td>\n",
       "      <td>NaN</td>\n",
       "      <td></td>\n",
       "      <td></td>\n",
       "      <td></td>\n",
       "    </tr>\n",
       "  </tbody>\n",
       "</table>\n",
       "<p>302 rows × 14 columns</p>\n",
       "</div>"
      ],
      "text/plain": [
       "     Unnamed: 0        date                      address            suburb  \\\n",
       "0             0  09/11/2019                     2 Elm St    ACACIA GARDENS   \n",
       "1             1  09/11/2019             62 Kingsclear Rd        ALEXANDRIA   \n",
       "2             2  09/11/2019               12 Allambie Rd  ALLAMBIE HEIGHTS   \n",
       "3             3  09/11/2019              74 Churchill Cr  ALLAMBIE HEIGHTS   \n",
       "4             4  09/11/2019                176 Nelson St         ANNANDALE   \n",
       "..          ...         ...                          ...               ...   \n",
       "297         297  09/11/2019  437/6 Cowper Wharf Roadway      WOOLLOOMOOLOO   \n",
       "298         298  09/11/2019              197A Prices Cct          WORONORA   \n",
       "299         299  09/11/2019                  13 Norma Cr           WOY WOY   \n",
       "300         300  09/11/2019                 9 Lambert St           YAGOONA   \n",
       "301         301  09/11/2019                4 The Avenue            YAGOONA   \n",
       "\n",
       "    prop_type                 status  sold_price  \\\n",
       "0       House  Sold prior to auction      961000   \n",
       "1       House                   Sold     1336000   \n",
       "2       House  Sold prior to auction     1480000   \n",
       "3       House  Sold prior to auction     2320000   \n",
       "4       House  Sold prior to auction     2050000   \n",
       "..        ...                    ...         ...   \n",
       "297      Unit  Sold prior to auction     1600000   \n",
       "298     House                   Sold     1280000   \n",
       "299     House                   Sold      760000   \n",
       "300     House                   Sold      768000   \n",
       "301     House                   Sold     1167450   \n",
       "\n",
       "                                                   url  post_code  \\\n",
       "0    https://www.domain.com.au/2-elm-street-acacia-...       2763   \n",
       "1    https://www.domain.com.au/62-kingsclear-road-a...       2015   \n",
       "2    https://www.domain.com.au/12-allambie-road-all...       2100   \n",
       "3    https://www.domain.com.au/74-churchill-crescen...       2100   \n",
       "4    https://www.domain.com.au/176-nelson-street-an...       2038   \n",
       "..                                                 ...        ...   \n",
       "297  https://www.domain.com.au/437-6-cowper-wharf-r...       2011   \n",
       "298  https://www.domain.com.au/197a-prices-circuit-...       2232   \n",
       "299  https://www.domain.com.au/13-norma-crescent-wo...       2256   \n",
       "300  https://www.domain.com.au/9-lambert-street-yag...       2199   \n",
       "301  https://domain.com.au/property-profile/4-the-a...       2199   \n",
       "\n",
       "                                       address_for_api  \\\n",
       "0                    2+Elm+St,+ACACIA+GARDENS+NSW+2763   \n",
       "1                62+Kingsclear+Rd,+ALEXANDRIA+NSW+2015   \n",
       "2            12+Allambie+Rd,+ALLAMBIE+HEIGHTS+NSW+2100   \n",
       "3           74+Churchill+Cr,+ALLAMBIE+HEIGHTS+NSW+2100   \n",
       "4                    176+Nelson+St,+ANNANDALE+NSW+2038   \n",
       "..                                                 ...   \n",
       "297  437/6+Cowper+Wharf+Roadway+,+WOOLLOOMOOLOO+NSW...   \n",
       "298                 197A+Prices+Cct,+WORONORA+NSW+2232   \n",
       "299                      13+Norma+Cr,+WOY+WOY+NSW+2256   \n",
       "300                     9+Lambert+St,+YAGOONA+NSW+2199   \n",
       "301                    4+The+Avenue+,+YAGOONA+NSW+2199   \n",
       "\n",
       "                                 address_from_api beds baths cars  \n",
       "0               2 ELM ST, ACACIA GARDENS NSW 2763    4     2    2  \n",
       "1           62 KINGSCLEAR RD, ALEXANDRIA NSW 2015    2     1    −  \n",
       "2       12 ALLAMBIE RD, ALLAMBIE HEIGHTS NSW 2100    4     2    2  \n",
       "3    74 CHURCHILL CRES, ALLAMBIE HEIGHTS NSW 2100    4     2    2  \n",
       "4               176 NELSON ST, ANNANDALE NSW 2038    3     1    1  \n",
       "..                                            ...  ...   ...  ...  \n",
       "297                                           NaN    2     1    1  \n",
       "298                                           NaN    3     2    3  \n",
       "299                                           NaN    4     2    2  \n",
       "300                                           NaN    3     2    2  \n",
       "301                                           NaN                  \n",
       "\n",
       "[302 rows x 14 columns]"
      ]
     },
     "execution_count": 8,
     "metadata": {},
     "output_type": "execute_result"
    }
   ],
   "source": [
    "Domain_auction_price"
   ]
  },
  {
   "cell_type": "code",
   "execution_count": 11,
   "metadata": {},
   "outputs": [],
   "source": [
    "road_list = ['STREET', 'AVENUE', 'ROAD', 'DRIVE', 'WAY', 'COURT', 'CIRCUIT', 'CRESCENT', 'PLACE', 'CLOSE', \n",
    "             'PARADE','LANE','BOULEVARDE','GROVE','CIRCLE']"
   ]
  },
  {
   "cell_type": "code",
   "execution_count": 12,
   "metadata": {},
   "outputs": [
    {
     "name": "stderr",
     "output_type": "stream",
     "text": [
      "  0%|          | 0/325 [00:00<?, ?it/s]C:\\Users\\Dell\\Anaconda\\lib\\site-packages\\ipykernel_launcher.py:7: SettingWithCopyWarning: \n",
      "A value is trying to be set on a copy of a slice from a DataFrame\n",
      "\n",
      "See the caveats in the documentation: http://pandas.pydata.org/pandas-docs/stable/indexing.html#indexing-view-versus-copy\n",
      "  import sys\n",
      "C:\\Users\\Dell\\Anaconda\\lib\\site-packages\\pandas\\core\\indexing.py:190: SettingWithCopyWarning: \n",
      "A value is trying to be set on a copy of a slice from a DataFrame\n",
      "\n",
      "See the caveats in the documentation: http://pandas.pydata.org/pandas-docs/stable/indexing.html#indexing-view-versus-copy\n",
      "  self._setitem_with_indexer(indexer, value)\n",
      "C:\\Users\\Dell\\Anaconda\\lib\\site-packages\\ipykernel_launcher.py:8: SettingWithCopyWarning: \n",
      "A value is trying to be set on a copy of a slice from a DataFrame\n",
      "\n",
      "See the caveats in the documentation: http://pandas.pydata.org/pandas-docs/stable/indexing.html#indexing-view-versus-copy\n",
      "  \n",
      "100%|██████████| 325/325 [00:36<00:00,  6.77it/s]\n"
     ]
    }
   ],
   "source": [
    "#提取suburb\n",
    "for i in tqdm(range(len(Domain_auction_price['url']))):\n",
    "    mystring = Domain_auction_price['url'][i].upper()\n",
    "    for keyword in road_list:\n",
    "        befor_keyowrd, keyword, after_keyword = mystring.partition(keyword)\n",
    "        if after_keyword != '':\n",
    "            Domain_auction_price['suburb'][i] = str(re.findall(r\"(\\D*)-NSW-\", after_keyword))[3:-2]\n",
    "            Domain_auction_price['suburb'][i] = Domain_auction_price['suburb'][i].replace('-', ' ')"
   ]
  },
  {
   "cell_type": "code",
   "execution_count": 13,
   "metadata": {},
   "outputs": [
    {
     "data": {
      "text/html": [
       "<div>\n",
       "<style scoped>\n",
       "    .dataframe tbody tr th:only-of-type {\n",
       "        vertical-align: middle;\n",
       "    }\n",
       "\n",
       "    .dataframe tbody tr th {\n",
       "        vertical-align: top;\n",
       "    }\n",
       "\n",
       "    .dataframe thead th {\n",
       "        text-align: right;\n",
       "    }\n",
       "</style>\n",
       "<table border=\"1\" class=\"dataframe\">\n",
       "  <thead>\n",
       "    <tr style=\"text-align: right;\">\n",
       "      <th></th>\n",
       "      <th>Unnamed: 0</th>\n",
       "      <th>date</th>\n",
       "      <th>address</th>\n",
       "      <th>suburb</th>\n",
       "      <th>prop_type</th>\n",
       "      <th>status</th>\n",
       "      <th>sold_price</th>\n",
       "      <th>url</th>\n",
       "      <th>post_code</th>\n",
       "      <th>full_address</th>\n",
       "      <th>beds</th>\n",
       "      <th>baths</th>\n",
       "      <th>cars</th>\n",
       "    </tr>\n",
       "  </thead>\n",
       "  <tbody>\n",
       "    <tr>\n",
       "      <th>0</th>\n",
       "      <td>0</td>\n",
       "      <td>16/11/2019</td>\n",
       "      <td>2 FIGTREE AVENUE ABBOTSFORD</td>\n",
       "      <td>ABBOTSFORD</td>\n",
       "      <td>House</td>\n",
       "      <td>Sold</td>\n",
       "      <td>155000000.0</td>\n",
       "      <td>https://www.domain.com.au/2-figtree-avenue-abb...</td>\n",
       "      <td>2046</td>\n",
       "      <td>2 FIGTREE AVENUE ABBOTSFORD, NSW 2046</td>\n",
       "      <td>3</td>\n",
       "      <td>2</td>\n",
       "      <td>3</td>\n",
       "    </tr>\n",
       "    <tr>\n",
       "      <th>1</th>\n",
       "      <td>2</td>\n",
       "      <td>16/11/2019</td>\n",
       "      <td>29 18 20 NEWTON STREET ALEXANDRIA</td>\n",
       "      <td>ALEXANDRIA</td>\n",
       "      <td>Unit</td>\n",
       "      <td>Sold</td>\n",
       "      <td>57000000.0</td>\n",
       "      <td>https://www.domain.com.au/29-18-20-newton-stre...</td>\n",
       "      <td>2015</td>\n",
       "      <td>29 18 20 NEWTON STREET ALEXANDRIA, NSW 2015</td>\n",
       "      <td>1</td>\n",
       "      <td>1</td>\n",
       "      <td>−</td>\n",
       "    </tr>\n",
       "    <tr>\n",
       "      <th>2</th>\n",
       "      <td>3</td>\n",
       "      <td>16/11/2019</td>\n",
       "      <td>31A WANDELLA ROAD ALLAMBIE HEIGHTS</td>\n",
       "      <td>ALLAMBIE HEIGHTS</td>\n",
       "      <td>House</td>\n",
       "      <td>Sold prior to auction</td>\n",
       "      <td>800000000.0</td>\n",
       "      <td>https://www.domain.com.au/31a-wandella-road-al...</td>\n",
       "      <td>2100</td>\n",
       "      <td>31A WANDELLA ROAD ALLAMBIE HEIGHTS, NSW 2100</td>\n",
       "      <td>4</td>\n",
       "      <td>2</td>\n",
       "      <td>1</td>\n",
       "    </tr>\n",
       "    <tr>\n",
       "      <th>3</th>\n",
       "      <td>4</td>\n",
       "      <td>16/11/2019</td>\n",
       "      <td>98 ST GEORGE PARADE ALLAWAH</td>\n",
       "      <td>ALLAWAH</td>\n",
       "      <td>House</td>\n",
       "      <td>Sold</td>\n",
       "      <td>215000000.0</td>\n",
       "      <td>https://www.domain.com.au/98-st-george-parade-...</td>\n",
       "      <td>2218</td>\n",
       "      <td>98 ST GEORGE PARADE ALLAWAH, NSW 2218</td>\n",
       "      <td>5</td>\n",
       "      <td>2</td>\n",
       "      <td>1</td>\n",
       "    </tr>\n",
       "    <tr>\n",
       "      <th>4</th>\n",
       "      <td>5</td>\n",
       "      <td>16/11/2019</td>\n",
       "      <td>164 ALBION STREET ANNANDALE</td>\n",
       "      <td>ANNANDALE</td>\n",
       "      <td>House</td>\n",
       "      <td>Sold</td>\n",
       "      <td>676000000.0</td>\n",
       "      <td>https://www.domain.com.au/164-albion-street-an...</td>\n",
       "      <td>2038</td>\n",
       "      <td>164 ALBION STREET ANNANDALE, NSW 2038</td>\n",
       "      <td>3</td>\n",
       "      <td>2</td>\n",
       "      <td>1</td>\n",
       "    </tr>\n",
       "    <tr>\n",
       "      <th>5</th>\n",
       "      <td>9</td>\n",
       "      <td>16/11/2019</td>\n",
       "      <td>14 SYDNEY STREET ARTARMON</td>\n",
       "      <td>ARTARMON</td>\n",
       "      <td>House</td>\n",
       "      <td>Sold prior to auction</td>\n",
       "      <td>720000000.0</td>\n",
       "      <td>https://www.domain.com.au/14-sydney-street-art...</td>\n",
       "      <td>2064</td>\n",
       "      <td>14 SYDNEY STREET ARTARMON, NSW 2064</td>\n",
       "      <td>4</td>\n",
       "      <td>2</td>\n",
       "      <td>2</td>\n",
       "    </tr>\n",
       "    <tr>\n",
       "      <th>6</th>\n",
       "      <td>10</td>\n",
       "      <td>16/11/2019</td>\n",
       "      <td>12 CRIMSON STREET ASHBURY</td>\n",
       "      <td>ASHBURY</td>\n",
       "      <td>House</td>\n",
       "      <td>Sold</td>\n",
       "      <td>851000000.0</td>\n",
       "      <td>https://www.domain.com.au/12-crimson-street-as...</td>\n",
       "      <td>2193</td>\n",
       "      <td>12 CRIMSON STREET ASHBURY, NSW 2193</td>\n",
       "      <td>3</td>\n",
       "      <td>2</td>\n",
       "      <td>3</td>\n",
       "    </tr>\n",
       "    <tr>\n",
       "      <th>7</th>\n",
       "      <td>11</td>\n",
       "      <td>16/11/2019</td>\n",
       "      <td>27 FIFTH STREET ASHBURY</td>\n",
       "      <td>ASHBURY</td>\n",
       "      <td>House</td>\n",
       "      <td>Sold prior to auction</td>\n",
       "      <td>900000000.0</td>\n",
       "      <td>https://www.domain.com.au/27-fifth-street-ashb...</td>\n",
       "      <td>2193</td>\n",
       "      <td>27 FIFTH STREET ASHBURY, NSW 2193</td>\n",
       "      <td>4</td>\n",
       "      <td>3</td>\n",
       "      <td>3</td>\n",
       "    </tr>\n",
       "    <tr>\n",
       "      <th>8</th>\n",
       "      <td>12</td>\n",
       "      <td>16/11/2019</td>\n",
       "      <td>35 STRICKLAND CRESCENT ASHCROFT</td>\n",
       "      <td>ASHCROFT</td>\n",
       "      <td>House</td>\n",
       "      <td>Sold</td>\n",
       "      <td>30000000.0</td>\n",
       "      <td>https://www.domain.com.au/35-strickland-cresce...</td>\n",
       "      <td>2168</td>\n",
       "      <td>35 STRICKLAND CRESCENT ASHCROFT, NSW 2168</td>\n",
       "      <td>3</td>\n",
       "      <td>1</td>\n",
       "      <td>−</td>\n",
       "    </tr>\n",
       "    <tr>\n",
       "      <th>9</th>\n",
       "      <td>13</td>\n",
       "      <td>16/11/2019</td>\n",
       "      <td>3 3 CHANDOS STREET ASHFIELD</td>\n",
       "      <td>ASHFIELD</td>\n",
       "      <td>Unit</td>\n",
       "      <td>Sold</td>\n",
       "      <td>33000000.0</td>\n",
       "      <td>https://www.domain.com.au/3-3-chandos-street-a...</td>\n",
       "      <td>2131</td>\n",
       "      <td>3 3 CHANDOS STREET ASHFIELD, NSW 2131</td>\n",
       "      <td>2</td>\n",
       "      <td>1</td>\n",
       "      <td>1</td>\n",
       "    </tr>\n",
       "    <tr>\n",
       "      <th>10</th>\n",
       "      <td>14</td>\n",
       "      <td>16/11/2019</td>\n",
       "      <td>2 42 ELIZABETH STREET ASHFIELD</td>\n",
       "      <td>ASHFIELD</td>\n",
       "      <td>Unit</td>\n",
       "      <td>Sold</td>\n",
       "      <td>34000000.0</td>\n",
       "      <td>https://www.domain.com.au/2-42-elizabeth-stree...</td>\n",
       "      <td>2131</td>\n",
       "      <td>2 42 ELIZABETH STREET ASHFIELD, NSW 2131</td>\n",
       "      <td>2</td>\n",
       "      <td>1</td>\n",
       "      <td>1</td>\n",
       "    </tr>\n",
       "    <tr>\n",
       "      <th>11</th>\n",
       "      <td>15</td>\n",
       "      <td>16/11/2019</td>\n",
       "      <td>39 BERITH STREET AUBURN</td>\n",
       "      <td>AUBURN</td>\n",
       "      <td>House</td>\n",
       "      <td>Sold</td>\n",
       "      <td>480000000.0</td>\n",
       "      <td>https://www.domain.com.au/39-berith-street-aub...</td>\n",
       "      <td>2144</td>\n",
       "      <td>39 BERITH STREET AUBURN, NSW 2144</td>\n",
       "      <td>3</td>\n",
       "      <td>1</td>\n",
       "      <td>2</td>\n",
       "    </tr>\n",
       "    <tr>\n",
       "      <th>12</th>\n",
       "      <td>16</td>\n",
       "      <td>16/11/2019</td>\n",
       "      <td>22 PHILLIPS STREET AUBURN</td>\n",
       "      <td>AUBURN</td>\n",
       "      <td>House</td>\n",
       "      <td>Sold</td>\n",
       "      <td>50000000.0</td>\n",
       "      <td>https://www.domain.com.au/22-phillips-street-a...</td>\n",
       "      <td>2144</td>\n",
       "      <td>22 PHILLIPS STREET AUBURN, NSW 2144</td>\n",
       "      <td>4</td>\n",
       "      <td>1</td>\n",
       "      <td>1</td>\n",
       "    </tr>\n",
       "    <tr>\n",
       "      <th>13</th>\n",
       "      <td>17</td>\n",
       "      <td>16/11/2019</td>\n",
       "      <td>15 660 BARRENJOEY ROAD AVALON BEACH</td>\n",
       "      <td>AVALON BEACH</td>\n",
       "      <td>Unit</td>\n",
       "      <td>Sold prior to auction</td>\n",
       "      <td>28000000.0</td>\n",
       "      <td>https://www.domain.com.au/15-660-barrenjoey-ro...</td>\n",
       "      <td>2107</td>\n",
       "      <td>15 660 BARRENJOEY ROAD AVALON BEACH, NSW 2107</td>\n",
       "      <td>1</td>\n",
       "      <td>1</td>\n",
       "      <td>1</td>\n",
       "    </tr>\n",
       "    <tr>\n",
       "      <th>14</th>\n",
       "      <td>18</td>\n",
       "      <td>16/11/2019</td>\n",
       "      <td>47 CENTRAL ROAD AVALON BEACH</td>\n",
       "      <td>AVALON BEACH</td>\n",
       "      <td>House</td>\n",
       "      <td>Sold prior to auction</td>\n",
       "      <td>920000000.0</td>\n",
       "      <td>https://www.domain.com.au/47-central-road-aval...</td>\n",
       "      <td>2107</td>\n",
       "      <td>47 CENTRAL ROAD AVALON BEACH, NSW 2107</td>\n",
       "      <td>5</td>\n",
       "      <td>3</td>\n",
       "      <td>3</td>\n",
       "    </tr>\n",
       "    <tr>\n",
       "      <th>15</th>\n",
       "      <td>20</td>\n",
       "      <td>16/11/2019</td>\n",
       "      <td>62 RIVIERA AVENUE AVALON BEACH</td>\n",
       "      <td>AVALON BEACH</td>\n",
       "      <td>House</td>\n",
       "      <td>Sold</td>\n",
       "      <td>310000000.0</td>\n",
       "      <td>https://www.domain.com.au/62-riviera-avenue-av...</td>\n",
       "      <td>2107</td>\n",
       "      <td>62 RIVIERA AVENUE AVALON BEACH, NSW 2107</td>\n",
       "      <td>3</td>\n",
       "      <td>1</td>\n",
       "      <td>2</td>\n",
       "    </tr>\n",
       "    <tr>\n",
       "      <th>16</th>\n",
       "      <td>23</td>\n",
       "      <td>16/11/2019</td>\n",
       "      <td>19 BOYLE STREET BALGOWLAH</td>\n",
       "      <td>BALGOWLAH</td>\n",
       "      <td>House</td>\n",
       "      <td>Sold prior to auction</td>\n",
       "      <td>275000000.0</td>\n",
       "      <td>https://www.domain.com.au/19-boyle-street-balg...</td>\n",
       "      <td>2093</td>\n",
       "      <td>19 BOYLE STREET BALGOWLAH, NSW 2093</td>\n",
       "      <td>3</td>\n",
       "      <td>1</td>\n",
       "      <td>1</td>\n",
       "    </tr>\n",
       "    <tr>\n",
       "      <th>17</th>\n",
       "      <td>24</td>\n",
       "      <td>16/11/2019</td>\n",
       "      <td>14 NEW STREET EAST BALGOWLAH</td>\n",
       "      <td>EAST BALGOWLAH</td>\n",
       "      <td>House</td>\n",
       "      <td>Sold</td>\n",
       "      <td>300000000.0</td>\n",
       "      <td>https://www.domain.com.au/14-new-street-east-b...</td>\n",
       "      <td>2093</td>\n",
       "      <td>14 NEW STREET EAST BALGOWLAH, NSW 2093</td>\n",
       "      <td>5</td>\n",
       "      <td>3</td>\n",
       "      <td>2</td>\n",
       "    </tr>\n",
       "    <tr>\n",
       "      <th>18</th>\n",
       "      <td>25</td>\n",
       "      <td>16/11/2019</td>\n",
       "      <td>89 WANGANELLA STREET BALGOWLAH</td>\n",
       "      <td>BALGOWLAH</td>\n",
       "      <td>House</td>\n",
       "      <td>Sold prior to auction</td>\n",
       "      <td>635000000.0</td>\n",
       "      <td>https://www.domain.com.au/89-wanganella-street...</td>\n",
       "      <td>2093</td>\n",
       "      <td>89 WANGANELLA STREET BALGOWLAH, NSW 2093</td>\n",
       "      <td>3</td>\n",
       "      <td>1</td>\n",
       "      <td>2</td>\n",
       "    </tr>\n",
       "    <tr>\n",
       "      <th>19</th>\n",
       "      <td>26</td>\n",
       "      <td>16/11/2019</td>\n",
       "      <td>5 18 WHITE STREET BALGOWLAH</td>\n",
       "      <td>BALGOWLAH</td>\n",
       "      <td>Unit</td>\n",
       "      <td>Sold prior to auction</td>\n",
       "      <td>45000000.0</td>\n",
       "      <td>https://www.domain.com.au/5-18-white-street-ba...</td>\n",
       "      <td>2093</td>\n",
       "      <td>5 18 WHITE STREET BALGOWLAH, NSW 2093</td>\n",
       "      <td>2</td>\n",
       "      <td>1</td>\n",
       "      <td>1</td>\n",
       "    </tr>\n",
       "    <tr>\n",
       "      <th>20</th>\n",
       "      <td>27</td>\n",
       "      <td>16/11/2019</td>\n",
       "      <td>15 HEATHCLIFF CRESCENT BALGOWLAH HEIGHTS</td>\n",
       "      <td>BALGOWLAH HEIGHTS</td>\n",
       "      <td>House</td>\n",
       "      <td>Sold prior to auction</td>\n",
       "      <td>290000000.0</td>\n",
       "      <td>https://www.domain.com.au/15-heathcliff-cresce...</td>\n",
       "      <td>2093</td>\n",
       "      <td>15 HEATHCLIFF CRESCENT BALGOWLAH HEIGHTS, NSW ...</td>\n",
       "      <td>3</td>\n",
       "      <td>2</td>\n",
       "      <td>2</td>\n",
       "    </tr>\n",
       "    <tr>\n",
       "      <th>21</th>\n",
       "      <td>28</td>\n",
       "      <td>16/11/2019</td>\n",
       "      <td>2 ADOLPHUS STREET BALMAIN</td>\n",
       "      <td>BALMAIN</td>\n",
       "      <td>House</td>\n",
       "      <td>Sold</td>\n",
       "      <td>912000000.0</td>\n",
       "      <td>https://www.domain.com.au/2-adolphus-street-ba...</td>\n",
       "      <td>2041</td>\n",
       "      <td>2 ADOLPHUS STREET BALMAIN, NSW 2041</td>\n",
       "      <td>2</td>\n",
       "      <td>1</td>\n",
       "      <td>1</td>\n",
       "    </tr>\n",
       "    <tr>\n",
       "      <th>22</th>\n",
       "      <td>29</td>\n",
       "      <td>16/11/2019</td>\n",
       "      <td>9 CHURCH STREET BALMAIN</td>\n",
       "      <td>BALMAIN</td>\n",
       "      <td>House</td>\n",
       "      <td>Sold prior to auction</td>\n",
       "      <td>300000000.0</td>\n",
       "      <td>https://www.domain.com.au/9-church-street-balm...</td>\n",
       "      <td>2041</td>\n",
       "      <td>9 CHURCH STREET BALMAIN, NSW 2041</td>\n",
       "      <td>2</td>\n",
       "      <td>1</td>\n",
       "      <td>−</td>\n",
       "    </tr>\n",
       "    <tr>\n",
       "      <th>23</th>\n",
       "      <td>31</td>\n",
       "      <td>16/11/2019</td>\n",
       "      <td>11 BODALLA CRESCENT BANGOR</td>\n",
       "      <td>BANGOR</td>\n",
       "      <td>House</td>\n",
       "      <td>Sold prior to auction</td>\n",
       "      <td>150000000.0</td>\n",
       "      <td>https://www.domain.com.au/11-bodalla-crescent-...</td>\n",
       "      <td>2234</td>\n",
       "      <td>11 BODALLA CRESCENT BANGOR, NSW 2234</td>\n",
       "      <td>5</td>\n",
       "      <td>2</td>\n",
       "      <td>2</td>\n",
       "    </tr>\n",
       "    <tr>\n",
       "      <th>24</th>\n",
       "      <td>32</td>\n",
       "      <td>16/11/2019</td>\n",
       "      <td>11 BOWER STREET BANKSTOWN</td>\n",
       "      <td>BANKSTOWN</td>\n",
       "      <td>House</td>\n",
       "      <td>Sold</td>\n",
       "      <td>175000000.0</td>\n",
       "      <td>https://www.domain.com.au/11-bower-street-bank...</td>\n",
       "      <td>2200</td>\n",
       "      <td>11 BOWER STREET BANKSTOWN, NSW 2200</td>\n",
       "      <td>3</td>\n",
       "      <td>1</td>\n",
       "      <td>−</td>\n",
       "    </tr>\n",
       "    <tr>\n",
       "      <th>25</th>\n",
       "      <td>33</td>\n",
       "      <td>16/11/2019</td>\n",
       "      <td>15 DUTTON STREET BANKSTOWN</td>\n",
       "      <td>BANKSTOWN</td>\n",
       "      <td>House</td>\n",
       "      <td>Sold after auction</td>\n",
       "      <td>275000000.0</td>\n",
       "      <td>https://www.domain.com.au/15-dutton-street-ban...</td>\n",
       "      <td>2200</td>\n",
       "      <td>15 DUTTON STREET BANKSTOWN, NSW 2200</td>\n",
       "      <td>5</td>\n",
       "      <td>2</td>\n",
       "      <td>3</td>\n",
       "    </tr>\n",
       "    <tr>\n",
       "      <th>26</th>\n",
       "      <td>36</td>\n",
       "      <td>16/11/2019</td>\n",
       "      <td>73 LAKIN STREET BATEAU BAY</td>\n",
       "      <td>BATEAU BAY</td>\n",
       "      <td>House</td>\n",
       "      <td>Sold prior to auction</td>\n",
       "      <td>50000000.0</td>\n",
       "      <td>https://www.domain.com.au/73-lakin-street-bate...</td>\n",
       "      <td>2261</td>\n",
       "      <td>73 LAKIN STREET BATEAU BAY, NSW 2261</td>\n",
       "      <td>3</td>\n",
       "      <td>2</td>\n",
       "      <td>1</td>\n",
       "    </tr>\n",
       "    <tr>\n",
       "      <th>27</th>\n",
       "      <td>37</td>\n",
       "      <td>16/11/2019</td>\n",
       "      <td>13 AMPHITHEATRE CIRCUIT BAULKHAM HILLS</td>\n",
       "      <td>BAULKHAM HILLS</td>\n",
       "      <td>House</td>\n",
       "      <td>Sold prior to auction</td>\n",
       "      <td>700000000.0</td>\n",
       "      <td>https://www.domain.com.au/13-amphitheatre-circ...</td>\n",
       "      <td>2153</td>\n",
       "      <td>13 AMPHITHEATRE CIRCUIT BAULKHAM HILLS, NSW 2153</td>\n",
       "      <td>5</td>\n",
       "      <td>3</td>\n",
       "      <td>2</td>\n",
       "    </tr>\n",
       "    <tr>\n",
       "      <th>28</th>\n",
       "      <td>39</td>\n",
       "      <td>16/11/2019</td>\n",
       "      <td>3 GLEESON AVENUE BAULKHAM HILLS</td>\n",
       "      <td>BAULKHAM HILLS</td>\n",
       "      <td>House</td>\n",
       "      <td>Sold</td>\n",
       "      <td>435000000.0</td>\n",
       "      <td>https://www.domain.com.au/3-gleeson-avenue-bau...</td>\n",
       "      <td>2153</td>\n",
       "      <td>3 GLEESON AVENUE BAULKHAM HILLS, NSW 2153</td>\n",
       "      <td>5</td>\n",
       "      <td>2</td>\n",
       "      <td>3</td>\n",
       "    </tr>\n",
       "    <tr>\n",
       "      <th>29</th>\n",
       "      <td>40</td>\n",
       "      <td>16/11/2019</td>\n",
       "      <td>96 TAMBOURA AVENUE BAULKHAM HILLS</td>\n",
       "      <td>BAULKHAM HILLS</td>\n",
       "      <td>House</td>\n",
       "      <td>Sold</td>\n",
       "      <td>360000000.0</td>\n",
       "      <td>https://www.domain.com.au/96-tamboura-avenue-b...</td>\n",
       "      <td>2153</td>\n",
       "      <td>96 TAMBOURA AVENUE BAULKHAM HILLS, NSW 2153</td>\n",
       "      <td>5</td>\n",
       "      <td>3</td>\n",
       "      <td>3</td>\n",
       "    </tr>\n",
       "    <tr>\n",
       "      <th>...</th>\n",
       "      <td>...</td>\n",
       "      <td>...</td>\n",
       "      <td>...</td>\n",
       "      <td>...</td>\n",
       "      <td>...</td>\n",
       "      <td>...</td>\n",
       "      <td>...</td>\n",
       "      <td>...</td>\n",
       "      <td>...</td>\n",
       "      <td>...</td>\n",
       "      <td>...</td>\n",
       "      <td>...</td>\n",
       "      <td>...</td>\n",
       "    </tr>\n",
       "    <tr>\n",
       "      <th>295</th>\n",
       "      <td>431</td>\n",
       "      <td>16/11/2019</td>\n",
       "      <td>14 MOONBIE STREET SUMMER HILL</td>\n",
       "      <td>SUMMER HILL</td>\n",
       "      <td>House</td>\n",
       "      <td>Sold</td>\n",
       "      <td>500000000.0</td>\n",
       "      <td>https://www.domain.com.au/14-moonbie-street-su...</td>\n",
       "      <td>2130</td>\n",
       "      <td>14 MOONBIE STREET SUMMER HILL, NSW 2130</td>\n",
       "      <td>3</td>\n",
       "      <td>1</td>\n",
       "      <td>−</td>\n",
       "    </tr>\n",
       "    <tr>\n",
       "      <th>296</th>\n",
       "      <td>432</td>\n",
       "      <td>16/11/2019</td>\n",
       "      <td>15 453 465 BOURKE STREET SURRY HILLS</td>\n",
       "      <td>SURRY HILLS</td>\n",
       "      <td>Unit</td>\n",
       "      <td>Sold prior to auction</td>\n",
       "      <td>415000000.0</td>\n",
       "      <td>https://www.domain.com.au/15-453-465-bourke-st...</td>\n",
       "      <td>2010</td>\n",
       "      <td>15 453 465 BOURKE STREET SURRY HILLS, NSW 2010</td>\n",
       "      <td>2</td>\n",
       "      <td>2</td>\n",
       "      <td>2</td>\n",
       "    </tr>\n",
       "    <tr>\n",
       "      <th>297</th>\n",
       "      <td>433</td>\n",
       "      <td>16/11/2019</td>\n",
       "      <td>70 BUCKINGHAM STREET SURRY HILLS</td>\n",
       "      <td>SURRY HILLS</td>\n",
       "      <td>House</td>\n",
       "      <td>Sold</td>\n",
       "      <td>430000000.0</td>\n",
       "      <td>https://www.domain.com.au/70-buckingham-street...</td>\n",
       "      <td>2010</td>\n",
       "      <td>70 BUCKINGHAM STREET SURRY HILLS, NSW 2010</td>\n",
       "      <td>1</td>\n",
       "      <td>1</td>\n",
       "      <td>1</td>\n",
       "    </tr>\n",
       "    <tr>\n",
       "      <th>298</th>\n",
       "      <td>434</td>\n",
       "      <td>16/11/2019</td>\n",
       "      <td>908 47 53 COOPER STREET SURRY HILLS</td>\n",
       "      <td>SURRY HILLS</td>\n",
       "      <td>Unit</td>\n",
       "      <td>Sold prior to auction</td>\n",
       "      <td>20000000.0</td>\n",
       "      <td>https://www.domain.com.au/908-47-53-cooper-str...</td>\n",
       "      <td>2010</td>\n",
       "      <td>908 47 53 COOPER STREET SURRY HILLS, NSW 2010</td>\n",
       "      <td>1</td>\n",
       "      <td>1</td>\n",
       "      <td>−</td>\n",
       "    </tr>\n",
       "    <tr>\n",
       "      <th>299</th>\n",
       "      <td>435</td>\n",
       "      <td>16/11/2019</td>\n",
       "      <td>130 WILTON STREET SURRY HILLS</td>\n",
       "      <td>SURRY HILLS</td>\n",
       "      <td>House</td>\n",
       "      <td>Sold prior to auction</td>\n",
       "      <td>430000000.0</td>\n",
       "      <td>https://www.domain.com.au/130-wilton-street-su...</td>\n",
       "      <td>2010</td>\n",
       "      <td>130 WILTON STREET SURRY HILLS, NSW 2010</td>\n",
       "      <td>3</td>\n",
       "      <td>2</td>\n",
       "      <td>1</td>\n",
       "    </tr>\n",
       "    <tr>\n",
       "      <th>300</th>\n",
       "      <td>436</td>\n",
       "      <td>16/11/2019</td>\n",
       "      <td>79 YELVERTON STREET SYDENHAM</td>\n",
       "      <td>SYDENHAM</td>\n",
       "      <td>House</td>\n",
       "      <td>Sold prior to auction</td>\n",
       "      <td>120000000.0</td>\n",
       "      <td>https://www.domain.com.au/79-yelverton-street-...</td>\n",
       "      <td>2044</td>\n",
       "      <td>79 YELVERTON STREET SYDENHAM, NSW 2044</td>\n",
       "      <td>3</td>\n",
       "      <td>1</td>\n",
       "      <td>−</td>\n",
       "    </tr>\n",
       "    <tr>\n",
       "      <th>301</th>\n",
       "      <td>437</td>\n",
       "      <td>16/11/2019</td>\n",
       "      <td>173 298 SUSSEX STREET SYDNEY</td>\n",
       "      <td>SYDNEY</td>\n",
       "      <td>Unit</td>\n",
       "      <td>Sold</td>\n",
       "      <td>0.0</td>\n",
       "      <td>https://www.domain.com.au/173-298-sussex-stree...</td>\n",
       "      <td>2000</td>\n",
       "      <td>173 298 SUSSEX STREET SYDNEY, NSW 2000</td>\n",
       "      <td>1</td>\n",
       "      <td>1</td>\n",
       "      <td>−</td>\n",
       "    </tr>\n",
       "    <tr>\n",
       "      <th>302</th>\n",
       "      <td>438</td>\n",
       "      <td>16/11/2019</td>\n",
       "      <td>11 3 9 BEACH STREET TENNYSON POINT</td>\n",
       "      <td>TENNYSON POINT</td>\n",
       "      <td>Villa</td>\n",
       "      <td>Sold</td>\n",
       "      <td>306000000.0</td>\n",
       "      <td>https://www.domain.com.au/11-3-9-beach-street-...</td>\n",
       "      <td>2111</td>\n",
       "      <td>11 3 9 BEACH STREET TENNYSON POINT, NSW 2111</td>\n",
       "      <td>3</td>\n",
       "      <td>2</td>\n",
       "      <td>2</td>\n",
       "    </tr>\n",
       "    <tr>\n",
       "      <th>303</th>\n",
       "      <td>440</td>\n",
       "      <td>16/11/2019</td>\n",
       "      <td>18 35 37 CORAL STREET THE ENTRANCE</td>\n",
       "      <td>THE ENTRANCE</td>\n",
       "      <td>Unit</td>\n",
       "      <td>Sold</td>\n",
       "      <td>80000000.0</td>\n",
       "      <td>https://www.domain.com.au/18-35-37-coral-stree...</td>\n",
       "      <td>2261</td>\n",
       "      <td>18 35 37 CORAL STREET THE ENTRANCE, NSW 2261</td>\n",
       "      <td>2</td>\n",
       "      <td>2</td>\n",
       "      <td>1</td>\n",
       "    </tr>\n",
       "    <tr>\n",
       "      <th>304</th>\n",
       "      <td>441</td>\n",
       "      <td>16/11/2019</td>\n",
       "      <td>41 OAKLAND AVE THE ENTRANCE</td>\n",
       "      <td>NaN</td>\n",
       "      <td>House</td>\n",
       "      <td>Sold</td>\n",
       "      <td>0.0</td>\n",
       "      <td>https://www.domain.com.au/41-oakland-ave-the-e...</td>\n",
       "      <td>2261</td>\n",
       "      <td>41 OAKLAND AVE THE ENTRANCE, NSW 2261</td>\n",
       "      <td>2</td>\n",
       "      <td>1</td>\n",
       "      <td>2</td>\n",
       "    </tr>\n",
       "    <tr>\n",
       "      <th>305</th>\n",
       "      <td>442</td>\n",
       "      <td>16/11/2019</td>\n",
       "      <td>55 SCOTT STREET TOONGABBIE</td>\n",
       "      <td>TOONGABBIE</td>\n",
       "      <td>House</td>\n",
       "      <td>Sold prior to auction</td>\n",
       "      <td>888000.0</td>\n",
       "      <td>https://www.domain.com.au/55-scott-street-toon...</td>\n",
       "      <td>2146</td>\n",
       "      <td>55 SCOTT STREET TOONGABBIE, NSW 2146</td>\n",
       "      <td>3</td>\n",
       "      <td>1</td>\n",
       "      <td>1</td>\n",
       "    </tr>\n",
       "    <tr>\n",
       "      <th>306</th>\n",
       "      <td>443</td>\n",
       "      <td>16/11/2019</td>\n",
       "      <td>1 SPLENDENS PLACE TUGGERAH</td>\n",
       "      <td>TUGGERAH</td>\n",
       "      <td>House</td>\n",
       "      <td>Sold</td>\n",
       "      <td>70000000.0</td>\n",
       "      <td>https://www.domain.com.au/1-splendens-place-tu...</td>\n",
       "      <td>2259</td>\n",
       "      <td>1 SPLENDENS PLACE TUGGERAH, NSW 2259</td>\n",
       "      <td>3</td>\n",
       "      <td>1</td>\n",
       "      <td>1</td>\n",
       "    </tr>\n",
       "    <tr>\n",
       "      <th>307</th>\n",
       "      <td>446</td>\n",
       "      <td>16/11/2019</td>\n",
       "      <td>33 PAUL STREET UMINA BEACH</td>\n",
       "      <td>UMINA BEACH</td>\n",
       "      <td>House</td>\n",
       "      <td>Sold</td>\n",
       "      <td>55000000.0</td>\n",
       "      <td>https://www.domain.com.au/33-paul-street-umina...</td>\n",
       "      <td>2257</td>\n",
       "      <td>33 PAUL STREET UMINA BEACH, NSW 2257</td>\n",
       "      <td>3</td>\n",
       "      <td>1</td>\n",
       "      <td>1</td>\n",
       "    </tr>\n",
       "    <tr>\n",
       "      <th>308</th>\n",
       "      <td>449</td>\n",
       "      <td>16/11/2019</td>\n",
       "      <td>78 BURNS ROAD WAHROONGA</td>\n",
       "      <td>WAHROONGA</td>\n",
       "      <td>House</td>\n",
       "      <td>Sold prior to auction</td>\n",
       "      <td>865000000.0</td>\n",
       "      <td>https://www.domain.com.au/78-burns-road-wahroo...</td>\n",
       "      <td>2076</td>\n",
       "      <td>78 BURNS ROAD WAHROONGA, NSW 2076</td>\n",
       "      <td>5</td>\n",
       "      <td>4</td>\n",
       "      <td>3</td>\n",
       "    </tr>\n",
       "    <tr>\n",
       "      <th>309</th>\n",
       "      <td>451</td>\n",
       "      <td>16/11/2019</td>\n",
       "      <td>33 JORDAN ROAD WAHROONGA</td>\n",
       "      <td>WAHROONGA</td>\n",
       "      <td>House</td>\n",
       "      <td>Sold prior to auction</td>\n",
       "      <td>930000000.0</td>\n",
       "      <td>https://www.domain.com.au/33-jordan-road-wahro...</td>\n",
       "      <td>2076</td>\n",
       "      <td>33 JORDAN ROAD WAHROONGA, NSW 2076</td>\n",
       "      <td>4</td>\n",
       "      <td>4</td>\n",
       "      <td>4</td>\n",
       "    </tr>\n",
       "    <tr>\n",
       "      <th>310</th>\n",
       "      <td>452</td>\n",
       "      <td>16/11/2019</td>\n",
       "      <td>33 CHERRY STREET WARRAWEE</td>\n",
       "      <td>WARRAWEE</td>\n",
       "      <td>House</td>\n",
       "      <td>Sold prior to auction</td>\n",
       "      <td>901000000.0</td>\n",
       "      <td>https://www.domain.com.au/33-cherry-street-war...</td>\n",
       "      <td>2074</td>\n",
       "      <td>33 CHERRY STREET WARRAWEE, NSW 2074</td>\n",
       "      <td>6</td>\n",
       "      <td>4</td>\n",
       "      <td>3</td>\n",
       "    </tr>\n",
       "    <tr>\n",
       "      <th>311</th>\n",
       "      <td>453</td>\n",
       "      <td>16/11/2019</td>\n",
       "      <td>22 SHEARWATER DRIVE WARRIEWOOD</td>\n",
       "      <td>WARRIEWOOD</td>\n",
       "      <td>House</td>\n",
       "      <td>Sold prior to auction</td>\n",
       "      <td>490000000.0</td>\n",
       "      <td>https://www.domain.com.au/22-shearwater-drive-...</td>\n",
       "      <td>2102</td>\n",
       "      <td>22 SHEARWATER DRIVE WARRIEWOOD, NSW 2102</td>\n",
       "      <td>4</td>\n",
       "      <td>2</td>\n",
       "      <td>2</td>\n",
       "    </tr>\n",
       "    <tr>\n",
       "      <th>312</th>\n",
       "      <td>454</td>\n",
       "      <td>16/11/2019</td>\n",
       "      <td>443 169 175 PHILLIP STREET WATERLOO</td>\n",
       "      <td>WATERLOO</td>\n",
       "      <td>Unit</td>\n",
       "      <td>Sold prior to auction</td>\n",
       "      <td>30000000.0</td>\n",
       "      <td>https://www.domain.com.au/443-169-175-phillip-...</td>\n",
       "      <td>2017</td>\n",
       "      <td>443 169 175 PHILLIP STREET WATERLOO, NSW 2017</td>\n",
       "      <td>2</td>\n",
       "      <td>2</td>\n",
       "      <td>1</td>\n",
       "    </tr>\n",
       "    <tr>\n",
       "      <th>313</th>\n",
       "      <td>456</td>\n",
       "      <td>16/11/2019</td>\n",
       "      <td>12A GIBSON STREET WAVERLEY</td>\n",
       "      <td>WAVERLEY</td>\n",
       "      <td>House</td>\n",
       "      <td>Sold</td>\n",
       "      <td>150000000.0</td>\n",
       "      <td>https://www.domain.com.au/12a-gibson-street-wa...</td>\n",
       "      <td>2024</td>\n",
       "      <td>12A GIBSON STREET WAVERLEY, NSW 2024</td>\n",
       "      <td>4</td>\n",
       "      <td>3</td>\n",
       "      <td>1</td>\n",
       "    </tr>\n",
       "    <tr>\n",
       "      <th>314</th>\n",
       "      <td>457</td>\n",
       "      <td>16/11/2019</td>\n",
       "      <td>22 WALMER CRESCENT WENTWORTH FALLS</td>\n",
       "      <td>WENTWORTH FALLS</td>\n",
       "      <td>House</td>\n",
       "      <td>Sold</td>\n",
       "      <td>80000000.0</td>\n",
       "      <td>https://www.domain.com.au/22-walmer-crescent-w...</td>\n",
       "      <td>2782</td>\n",
       "      <td>22 WALMER CRESCENT WENTWORTH FALLS, NSW 2782</td>\n",
       "      <td>3</td>\n",
       "      <td>1</td>\n",
       "      <td>1</td>\n",
       "    </tr>\n",
       "    <tr>\n",
       "      <th>315</th>\n",
       "      <td>458</td>\n",
       "      <td>16/11/2019</td>\n",
       "      <td>236 25 BENNELONG PARKWAY WENTWORTH POINT</td>\n",
       "      <td>WENTWORTH POINT</td>\n",
       "      <td>Unit</td>\n",
       "      <td>Sold prior to auction</td>\n",
       "      <td>70000000.0</td>\n",
       "      <td>https://www.domain.com.au/236-25-bennelong-par...</td>\n",
       "      <td>2127</td>\n",
       "      <td>236 25 BENNELONG PARKWAY WENTWORTH POINT, NSW ...</td>\n",
       "      <td>2</td>\n",
       "      <td>2</td>\n",
       "      <td>1</td>\n",
       "    </tr>\n",
       "    <tr>\n",
       "      <th>316</th>\n",
       "      <td>459</td>\n",
       "      <td>16/11/2019</td>\n",
       "      <td>789 33 HILL ROAD WENTWORTH POINT</td>\n",
       "      <td>WENTWORTH POINT</td>\n",
       "      <td>Unit</td>\n",
       "      <td>Sold prior to auction</td>\n",
       "      <td>30000000.0</td>\n",
       "      <td>https://www.domain.com.au/789-33-hill-road-wen...</td>\n",
       "      <td>2127</td>\n",
       "      <td>789 33 HILL ROAD WENTWORTH POINT, NSW 2127</td>\n",
       "      <td>2</td>\n",
       "      <td>2</td>\n",
       "      <td>2</td>\n",
       "    </tr>\n",
       "    <tr>\n",
       "      <th>317</th>\n",
       "      <td>461</td>\n",
       "      <td>16/11/2019</td>\n",
       "      <td>8 REX STREET WEST RYDE</td>\n",
       "      <td>WEST RYDE</td>\n",
       "      <td>House</td>\n",
       "      <td>Sold</td>\n",
       "      <td>365000000.0</td>\n",
       "      <td>https://www.domain.com.au/8-rex-street-west-ry...</td>\n",
       "      <td>2114</td>\n",
       "      <td>8 REX STREET WEST RYDE, NSW 2114</td>\n",
       "      <td>4</td>\n",
       "      <td>2</td>\n",
       "      <td>2</td>\n",
       "    </tr>\n",
       "    <tr>\n",
       "      <th>318</th>\n",
       "      <td>463</td>\n",
       "      <td>16/11/2019</td>\n",
       "      <td>3 FROST COURT WETHERILL PARK</td>\n",
       "      <td>WETHERILL PARK</td>\n",
       "      <td>House</td>\n",
       "      <td>Sold</td>\n",
       "      <td>72000000.0</td>\n",
       "      <td>https://www.domain.com.au/3-frost-court-wether...</td>\n",
       "      <td>2164</td>\n",
       "      <td>3 FROST COURT WETHERILL PARK, NSW 2164</td>\n",
       "      <td>4</td>\n",
       "      <td>2</td>\n",
       "      <td>1</td>\n",
       "    </tr>\n",
       "    <tr>\n",
       "      <th>319</th>\n",
       "      <td>464</td>\n",
       "      <td>16/11/2019</td>\n",
       "      <td>46 DEFOE STREET WILEY PARK</td>\n",
       "      <td>WILEY PARK</td>\n",
       "      <td>House</td>\n",
       "      <td>Sold</td>\n",
       "      <td>25000000.0</td>\n",
       "      <td>https://www.domain.com.au/46-defoe-street-wile...</td>\n",
       "      <td>2195</td>\n",
       "      <td>46 DEFOE STREET WILEY PARK, NSW 2195</td>\n",
       "      <td>4</td>\n",
       "      <td>2</td>\n",
       "      <td>1</td>\n",
       "    </tr>\n",
       "    <tr>\n",
       "      <th>320</th>\n",
       "      <td>470</td>\n",
       "      <td>16/11/2019</td>\n",
       "      <td>7 10 GILLIES STREET WOLLSTONECRAFT</td>\n",
       "      <td>WOLLSTONECRAFT</td>\n",
       "      <td>Townhouse</td>\n",
       "      <td>Sold</td>\n",
       "      <td>360000000.0</td>\n",
       "      <td>https://www.domain.com.au/7-10-gillies-street-...</td>\n",
       "      <td>2065</td>\n",
       "      <td>7 10 GILLIES STREET WOLLSTONECRAFT, NSW 2065</td>\n",
       "      <td>2</td>\n",
       "      <td>1</td>\n",
       "      <td>1</td>\n",
       "    </tr>\n",
       "    <tr>\n",
       "      <th>321</th>\n",
       "      <td>472</td>\n",
       "      <td>16/11/2019</td>\n",
       "      <td>32 BLAND STREET WOOLLOOMOOLOO</td>\n",
       "      <td>WOOLLOOMOOLOO</td>\n",
       "      <td>Terrace</td>\n",
       "      <td>Passed in</td>\n",
       "      <td>175000000.0</td>\n",
       "      <td>https://www.domain.com.au/32-bland-street-wool...</td>\n",
       "      <td>2011</td>\n",
       "      <td>32 BLAND STREET WOOLLOOMOOLOO, NSW 2011</td>\n",
       "      <td>2</td>\n",
       "      <td>1</td>\n",
       "      <td>−</td>\n",
       "    </tr>\n",
       "    <tr>\n",
       "      <th>322</th>\n",
       "      <td>474</td>\n",
       "      <td>16/11/2019</td>\n",
       "      <td>303 22 SIR JOHN YOUNG CRESCENT WOOLLOOMOOLOO</td>\n",
       "      <td>WOOLLOOMOOLOO</td>\n",
       "      <td>Unit</td>\n",
       "      <td>Sold</td>\n",
       "      <td>55000000.0</td>\n",
       "      <td>https://www.domain.com.au/303-22-sir-john-youn...</td>\n",
       "      <td>2011</td>\n",
       "      <td>303 22 SIR JOHN YOUNG CRESCENT WOOLLOOMOOLOO, ...</td>\n",
       "      <td>1</td>\n",
       "      <td>1</td>\n",
       "      <td>−</td>\n",
       "    </tr>\n",
       "    <tr>\n",
       "      <th>323</th>\n",
       "      <td>475</td>\n",
       "      <td>16/11/2019</td>\n",
       "      <td>1 AVOCA STREET YAGOONA</td>\n",
       "      <td>YAGOONA</td>\n",
       "      <td>House</td>\n",
       "      <td>Sold</td>\n",
       "      <td>88000000.0</td>\n",
       "      <td>https://www.domain.com.au/1-avoca-street-yagoo...</td>\n",
       "      <td>2199</td>\n",
       "      <td>1 AVOCA STREET YAGOONA, NSW 2199</td>\n",
       "      <td>5</td>\n",
       "      <td>3</td>\n",
       "      <td>4</td>\n",
       "    </tr>\n",
       "    <tr>\n",
       "      <th>324</th>\n",
       "      <td>476</td>\n",
       "      <td>16/11/2019</td>\n",
       "      <td>15 EDGAR STREET YAGOONA</td>\n",
       "      <td>YAGOONA</td>\n",
       "      <td>House</td>\n",
       "      <td>Sold prior to auction</td>\n",
       "      <td>26000000.0</td>\n",
       "      <td>https://www.domain.com.au/15-edgar-street-yago...</td>\n",
       "      <td>2199</td>\n",
       "      <td>15 EDGAR STREET YAGOONA, NSW 2199</td>\n",
       "      <td>2</td>\n",
       "      <td>1</td>\n",
       "      <td>2</td>\n",
       "    </tr>\n",
       "  </tbody>\n",
       "</table>\n",
       "<p>325 rows × 13 columns</p>\n",
       "</div>"
      ],
      "text/plain": [
       "     Unnamed: 0        date                                       address  \\\n",
       "0             0  16/11/2019                   2 FIGTREE AVENUE ABBOTSFORD   \n",
       "1             2  16/11/2019             29 18 20 NEWTON STREET ALEXANDRIA   \n",
       "2             3  16/11/2019            31A WANDELLA ROAD ALLAMBIE HEIGHTS   \n",
       "3             4  16/11/2019                   98 ST GEORGE PARADE ALLAWAH   \n",
       "4             5  16/11/2019                   164 ALBION STREET ANNANDALE   \n",
       "5             9  16/11/2019                     14 SYDNEY STREET ARTARMON   \n",
       "6            10  16/11/2019                     12 CRIMSON STREET ASHBURY   \n",
       "7            11  16/11/2019                       27 FIFTH STREET ASHBURY   \n",
       "8            12  16/11/2019               35 STRICKLAND CRESCENT ASHCROFT   \n",
       "9            13  16/11/2019                   3 3 CHANDOS STREET ASHFIELD   \n",
       "10           14  16/11/2019                2 42 ELIZABETH STREET ASHFIELD   \n",
       "11           15  16/11/2019                       39 BERITH STREET AUBURN   \n",
       "12           16  16/11/2019                     22 PHILLIPS STREET AUBURN   \n",
       "13           17  16/11/2019           15 660 BARRENJOEY ROAD AVALON BEACH   \n",
       "14           18  16/11/2019                  47 CENTRAL ROAD AVALON BEACH   \n",
       "15           20  16/11/2019                62 RIVIERA AVENUE AVALON BEACH   \n",
       "16           23  16/11/2019                     19 BOYLE STREET BALGOWLAH   \n",
       "17           24  16/11/2019                  14 NEW STREET EAST BALGOWLAH   \n",
       "18           25  16/11/2019                89 WANGANELLA STREET BALGOWLAH   \n",
       "19           26  16/11/2019                   5 18 WHITE STREET BALGOWLAH   \n",
       "20           27  16/11/2019      15 HEATHCLIFF CRESCENT BALGOWLAH HEIGHTS   \n",
       "21           28  16/11/2019                     2 ADOLPHUS STREET BALMAIN   \n",
       "22           29  16/11/2019                       9 CHURCH STREET BALMAIN   \n",
       "23           31  16/11/2019                    11 BODALLA CRESCENT BANGOR   \n",
       "24           32  16/11/2019                     11 BOWER STREET BANKSTOWN   \n",
       "25           33  16/11/2019                    15 DUTTON STREET BANKSTOWN   \n",
       "26           36  16/11/2019                    73 LAKIN STREET BATEAU BAY   \n",
       "27           37  16/11/2019        13 AMPHITHEATRE CIRCUIT BAULKHAM HILLS   \n",
       "28           39  16/11/2019               3 GLEESON AVENUE BAULKHAM HILLS   \n",
       "29           40  16/11/2019             96 TAMBOURA AVENUE BAULKHAM HILLS   \n",
       "..          ...         ...                                           ...   \n",
       "295         431  16/11/2019                 14 MOONBIE STREET SUMMER HILL   \n",
       "296         432  16/11/2019          15 453 465 BOURKE STREET SURRY HILLS   \n",
       "297         433  16/11/2019              70 BUCKINGHAM STREET SURRY HILLS   \n",
       "298         434  16/11/2019           908 47 53 COOPER STREET SURRY HILLS   \n",
       "299         435  16/11/2019                 130 WILTON STREET SURRY HILLS   \n",
       "300         436  16/11/2019                  79 YELVERTON STREET SYDENHAM   \n",
       "301         437  16/11/2019                  173 298 SUSSEX STREET SYDNEY   \n",
       "302         438  16/11/2019            11 3 9 BEACH STREET TENNYSON POINT   \n",
       "303         440  16/11/2019            18 35 37 CORAL STREET THE ENTRANCE   \n",
       "304         441  16/11/2019                   41 OAKLAND AVE THE ENTRANCE   \n",
       "305         442  16/11/2019                    55 SCOTT STREET TOONGABBIE   \n",
       "306         443  16/11/2019                    1 SPLENDENS PLACE TUGGERAH   \n",
       "307         446  16/11/2019                    33 PAUL STREET UMINA BEACH   \n",
       "308         449  16/11/2019                       78 BURNS ROAD WAHROONGA   \n",
       "309         451  16/11/2019                      33 JORDAN ROAD WAHROONGA   \n",
       "310         452  16/11/2019                     33 CHERRY STREET WARRAWEE   \n",
       "311         453  16/11/2019                22 SHEARWATER DRIVE WARRIEWOOD   \n",
       "312         454  16/11/2019           443 169 175 PHILLIP STREET WATERLOO   \n",
       "313         456  16/11/2019                    12A GIBSON STREET WAVERLEY   \n",
       "314         457  16/11/2019            22 WALMER CRESCENT WENTWORTH FALLS   \n",
       "315         458  16/11/2019      236 25 BENNELONG PARKWAY WENTWORTH POINT   \n",
       "316         459  16/11/2019              789 33 HILL ROAD WENTWORTH POINT   \n",
       "317         461  16/11/2019                        8 REX STREET WEST RYDE   \n",
       "318         463  16/11/2019                  3 FROST COURT WETHERILL PARK   \n",
       "319         464  16/11/2019                    46 DEFOE STREET WILEY PARK   \n",
       "320         470  16/11/2019            7 10 GILLIES STREET WOLLSTONECRAFT   \n",
       "321         472  16/11/2019                 32 BLAND STREET WOOLLOOMOOLOO   \n",
       "322         474  16/11/2019  303 22 SIR JOHN YOUNG CRESCENT WOOLLOOMOOLOO   \n",
       "323         475  16/11/2019                        1 AVOCA STREET YAGOONA   \n",
       "324         476  16/11/2019                       15 EDGAR STREET YAGOONA   \n",
       "\n",
       "                suburb  prop_type                 status   sold_price  \\\n",
       "0           ABBOTSFORD      House                   Sold  155000000.0   \n",
       "1           ALEXANDRIA       Unit                   Sold   57000000.0   \n",
       "2     ALLAMBIE HEIGHTS      House  Sold prior to auction  800000000.0   \n",
       "3              ALLAWAH      House                   Sold  215000000.0   \n",
       "4            ANNANDALE      House                   Sold  676000000.0   \n",
       "5             ARTARMON      House  Sold prior to auction  720000000.0   \n",
       "6              ASHBURY      House                   Sold  851000000.0   \n",
       "7              ASHBURY      House  Sold prior to auction  900000000.0   \n",
       "8             ASHCROFT      House                   Sold   30000000.0   \n",
       "9             ASHFIELD       Unit                   Sold   33000000.0   \n",
       "10            ASHFIELD       Unit                   Sold   34000000.0   \n",
       "11              AUBURN      House                   Sold  480000000.0   \n",
       "12              AUBURN      House                   Sold   50000000.0   \n",
       "13        AVALON BEACH       Unit  Sold prior to auction   28000000.0   \n",
       "14        AVALON BEACH      House  Sold prior to auction  920000000.0   \n",
       "15        AVALON BEACH      House                   Sold  310000000.0   \n",
       "16           BALGOWLAH      House  Sold prior to auction  275000000.0   \n",
       "17      EAST BALGOWLAH      House                   Sold  300000000.0   \n",
       "18           BALGOWLAH      House  Sold prior to auction  635000000.0   \n",
       "19           BALGOWLAH       Unit  Sold prior to auction   45000000.0   \n",
       "20   BALGOWLAH HEIGHTS      House  Sold prior to auction  290000000.0   \n",
       "21             BALMAIN      House                   Sold  912000000.0   \n",
       "22             BALMAIN      House  Sold prior to auction  300000000.0   \n",
       "23              BANGOR      House  Sold prior to auction  150000000.0   \n",
       "24           BANKSTOWN      House                   Sold  175000000.0   \n",
       "25           BANKSTOWN      House     Sold after auction  275000000.0   \n",
       "26          BATEAU BAY      House  Sold prior to auction   50000000.0   \n",
       "27      BAULKHAM HILLS      House  Sold prior to auction  700000000.0   \n",
       "28      BAULKHAM HILLS      House                   Sold  435000000.0   \n",
       "29      BAULKHAM HILLS      House                   Sold  360000000.0   \n",
       "..                 ...        ...                    ...          ...   \n",
       "295        SUMMER HILL      House                   Sold  500000000.0   \n",
       "296        SURRY HILLS       Unit  Sold prior to auction  415000000.0   \n",
       "297        SURRY HILLS      House                   Sold  430000000.0   \n",
       "298        SURRY HILLS       Unit  Sold prior to auction   20000000.0   \n",
       "299        SURRY HILLS      House  Sold prior to auction  430000000.0   \n",
       "300           SYDENHAM      House  Sold prior to auction  120000000.0   \n",
       "301             SYDNEY       Unit                   Sold          0.0   \n",
       "302     TENNYSON POINT      Villa                   Sold  306000000.0   \n",
       "303       THE ENTRANCE       Unit                   Sold   80000000.0   \n",
       "304                NaN      House                   Sold          0.0   \n",
       "305         TOONGABBIE      House  Sold prior to auction     888000.0   \n",
       "306           TUGGERAH      House                   Sold   70000000.0   \n",
       "307        UMINA BEACH      House                   Sold   55000000.0   \n",
       "308          WAHROONGA      House  Sold prior to auction  865000000.0   \n",
       "309          WAHROONGA      House  Sold prior to auction  930000000.0   \n",
       "310           WARRAWEE      House  Sold prior to auction  901000000.0   \n",
       "311         WARRIEWOOD      House  Sold prior to auction  490000000.0   \n",
       "312           WATERLOO       Unit  Sold prior to auction   30000000.0   \n",
       "313           WAVERLEY      House                   Sold  150000000.0   \n",
       "314    WENTWORTH FALLS      House                   Sold   80000000.0   \n",
       "315    WENTWORTH POINT       Unit  Sold prior to auction   70000000.0   \n",
       "316    WENTWORTH POINT       Unit  Sold prior to auction   30000000.0   \n",
       "317          WEST RYDE      House                   Sold  365000000.0   \n",
       "318     WETHERILL PARK      House                   Sold   72000000.0   \n",
       "319         WILEY PARK      House                   Sold   25000000.0   \n",
       "320     WOLLSTONECRAFT  Townhouse                   Sold  360000000.0   \n",
       "321      WOOLLOOMOOLOO    Terrace              Passed in  175000000.0   \n",
       "322      WOOLLOOMOOLOO       Unit                   Sold   55000000.0   \n",
       "323            YAGOONA      House                   Sold   88000000.0   \n",
       "324            YAGOONA      House  Sold prior to auction   26000000.0   \n",
       "\n",
       "                                                   url  post_code  \\\n",
       "0    https://www.domain.com.au/2-figtree-avenue-abb...       2046   \n",
       "1    https://www.domain.com.au/29-18-20-newton-stre...       2015   \n",
       "2    https://www.domain.com.au/31a-wandella-road-al...       2100   \n",
       "3    https://www.domain.com.au/98-st-george-parade-...       2218   \n",
       "4    https://www.domain.com.au/164-albion-street-an...       2038   \n",
       "5    https://www.domain.com.au/14-sydney-street-art...       2064   \n",
       "6    https://www.domain.com.au/12-crimson-street-as...       2193   \n",
       "7    https://www.domain.com.au/27-fifth-street-ashb...       2193   \n",
       "8    https://www.domain.com.au/35-strickland-cresce...       2168   \n",
       "9    https://www.domain.com.au/3-3-chandos-street-a...       2131   \n",
       "10   https://www.domain.com.au/2-42-elizabeth-stree...       2131   \n",
       "11   https://www.domain.com.au/39-berith-street-aub...       2144   \n",
       "12   https://www.domain.com.au/22-phillips-street-a...       2144   \n",
       "13   https://www.domain.com.au/15-660-barrenjoey-ro...       2107   \n",
       "14   https://www.domain.com.au/47-central-road-aval...       2107   \n",
       "15   https://www.domain.com.au/62-riviera-avenue-av...       2107   \n",
       "16   https://www.domain.com.au/19-boyle-street-balg...       2093   \n",
       "17   https://www.domain.com.au/14-new-street-east-b...       2093   \n",
       "18   https://www.domain.com.au/89-wanganella-street...       2093   \n",
       "19   https://www.domain.com.au/5-18-white-street-ba...       2093   \n",
       "20   https://www.domain.com.au/15-heathcliff-cresce...       2093   \n",
       "21   https://www.domain.com.au/2-adolphus-street-ba...       2041   \n",
       "22   https://www.domain.com.au/9-church-street-balm...       2041   \n",
       "23   https://www.domain.com.au/11-bodalla-crescent-...       2234   \n",
       "24   https://www.domain.com.au/11-bower-street-bank...       2200   \n",
       "25   https://www.domain.com.au/15-dutton-street-ban...       2200   \n",
       "26   https://www.domain.com.au/73-lakin-street-bate...       2261   \n",
       "27   https://www.domain.com.au/13-amphitheatre-circ...       2153   \n",
       "28   https://www.domain.com.au/3-gleeson-avenue-bau...       2153   \n",
       "29   https://www.domain.com.au/96-tamboura-avenue-b...       2153   \n",
       "..                                                 ...        ...   \n",
       "295  https://www.domain.com.au/14-moonbie-street-su...       2130   \n",
       "296  https://www.domain.com.au/15-453-465-bourke-st...       2010   \n",
       "297  https://www.domain.com.au/70-buckingham-street...       2010   \n",
       "298  https://www.domain.com.au/908-47-53-cooper-str...       2010   \n",
       "299  https://www.domain.com.au/130-wilton-street-su...       2010   \n",
       "300  https://www.domain.com.au/79-yelverton-street-...       2044   \n",
       "301  https://www.domain.com.au/173-298-sussex-stree...       2000   \n",
       "302  https://www.domain.com.au/11-3-9-beach-street-...       2111   \n",
       "303  https://www.domain.com.au/18-35-37-coral-stree...       2261   \n",
       "304  https://www.domain.com.au/41-oakland-ave-the-e...       2261   \n",
       "305  https://www.domain.com.au/55-scott-street-toon...       2146   \n",
       "306  https://www.domain.com.au/1-splendens-place-tu...       2259   \n",
       "307  https://www.domain.com.au/33-paul-street-umina...       2257   \n",
       "308  https://www.domain.com.au/78-burns-road-wahroo...       2076   \n",
       "309  https://www.domain.com.au/33-jordan-road-wahro...       2076   \n",
       "310  https://www.domain.com.au/33-cherry-street-war...       2074   \n",
       "311  https://www.domain.com.au/22-shearwater-drive-...       2102   \n",
       "312  https://www.domain.com.au/443-169-175-phillip-...       2017   \n",
       "313  https://www.domain.com.au/12a-gibson-street-wa...       2024   \n",
       "314  https://www.domain.com.au/22-walmer-crescent-w...       2782   \n",
       "315  https://www.domain.com.au/236-25-bennelong-par...       2127   \n",
       "316  https://www.domain.com.au/789-33-hill-road-wen...       2127   \n",
       "317  https://www.domain.com.au/8-rex-street-west-ry...       2114   \n",
       "318  https://www.domain.com.au/3-frost-court-wether...       2164   \n",
       "319  https://www.domain.com.au/46-defoe-street-wile...       2195   \n",
       "320  https://www.domain.com.au/7-10-gillies-street-...       2065   \n",
       "321  https://www.domain.com.au/32-bland-street-wool...       2011   \n",
       "322  https://www.domain.com.au/303-22-sir-john-youn...       2011   \n",
       "323  https://www.domain.com.au/1-avoca-street-yagoo...       2199   \n",
       "324  https://www.domain.com.au/15-edgar-street-yago...       2199   \n",
       "\n",
       "                                          full_address beds baths cars  \n",
       "0                2 FIGTREE AVENUE ABBOTSFORD, NSW 2046    3     2    3  \n",
       "1          29 18 20 NEWTON STREET ALEXANDRIA, NSW 2015    1     1    −  \n",
       "2         31A WANDELLA ROAD ALLAMBIE HEIGHTS, NSW 2100    4     2    1  \n",
       "3                98 ST GEORGE PARADE ALLAWAH, NSW 2218    5     2    1  \n",
       "4                164 ALBION STREET ANNANDALE, NSW 2038    3     2    1  \n",
       "5                  14 SYDNEY STREET ARTARMON, NSW 2064    4     2    2  \n",
       "6                  12 CRIMSON STREET ASHBURY, NSW 2193    3     2    3  \n",
       "7                    27 FIFTH STREET ASHBURY, NSW 2193    4     3    3  \n",
       "8            35 STRICKLAND CRESCENT ASHCROFT, NSW 2168    3     1    −  \n",
       "9                3 3 CHANDOS STREET ASHFIELD, NSW 2131    2     1    1  \n",
       "10            2 42 ELIZABETH STREET ASHFIELD, NSW 2131    2     1    1  \n",
       "11                   39 BERITH STREET AUBURN, NSW 2144    3     1    2  \n",
       "12                 22 PHILLIPS STREET AUBURN, NSW 2144    4     1    1  \n",
       "13       15 660 BARRENJOEY ROAD AVALON BEACH, NSW 2107    1     1    1  \n",
       "14              47 CENTRAL ROAD AVALON BEACH, NSW 2107    5     3    3  \n",
       "15            62 RIVIERA AVENUE AVALON BEACH, NSW 2107    3     1    2  \n",
       "16                 19 BOYLE STREET BALGOWLAH, NSW 2093    3     1    1  \n",
       "17              14 NEW STREET EAST BALGOWLAH, NSW 2093    5     3    2  \n",
       "18            89 WANGANELLA STREET BALGOWLAH, NSW 2093    3     1    2  \n",
       "19               5 18 WHITE STREET BALGOWLAH, NSW 2093    2     1    1  \n",
       "20   15 HEATHCLIFF CRESCENT BALGOWLAH HEIGHTS, NSW ...    3     2    2  \n",
       "21                 2 ADOLPHUS STREET BALMAIN, NSW 2041    2     1    1  \n",
       "22                   9 CHURCH STREET BALMAIN, NSW 2041    2     1    −  \n",
       "23                11 BODALLA CRESCENT BANGOR, NSW 2234    5     2    2  \n",
       "24                 11 BOWER STREET BANKSTOWN, NSW 2200    3     1    −  \n",
       "25                15 DUTTON STREET BANKSTOWN, NSW 2200    5     2    3  \n",
       "26                73 LAKIN STREET BATEAU BAY, NSW 2261    3     2    1  \n",
       "27    13 AMPHITHEATRE CIRCUIT BAULKHAM HILLS, NSW 2153    5     3    2  \n",
       "28           3 GLEESON AVENUE BAULKHAM HILLS, NSW 2153    5     2    3  \n",
       "29         96 TAMBOURA AVENUE BAULKHAM HILLS, NSW 2153    5     3    3  \n",
       "..                                                 ...  ...   ...  ...  \n",
       "295            14 MOONBIE STREET SUMMER HILL, NSW 2130    3     1    −  \n",
       "296     15 453 465 BOURKE STREET SURRY HILLS, NSW 2010    2     2    2  \n",
       "297         70 BUCKINGHAM STREET SURRY HILLS, NSW 2010    1     1    1  \n",
       "298      908 47 53 COOPER STREET SURRY HILLS, NSW 2010    1     1    −  \n",
       "299            130 WILTON STREET SURRY HILLS, NSW 2010    3     2    1  \n",
       "300             79 YELVERTON STREET SYDENHAM, NSW 2044    3     1    −  \n",
       "301             173 298 SUSSEX STREET SYDNEY, NSW 2000    1     1    −  \n",
       "302       11 3 9 BEACH STREET TENNYSON POINT, NSW 2111    3     2    2  \n",
       "303       18 35 37 CORAL STREET THE ENTRANCE, NSW 2261    2     2    1  \n",
       "304              41 OAKLAND AVE THE ENTRANCE, NSW 2261    2     1    2  \n",
       "305               55 SCOTT STREET TOONGABBIE, NSW 2146    3     1    1  \n",
       "306               1 SPLENDENS PLACE TUGGERAH, NSW 2259    3     1    1  \n",
       "307               33 PAUL STREET UMINA BEACH, NSW 2257    3     1    1  \n",
       "308                  78 BURNS ROAD WAHROONGA, NSW 2076    5     4    3  \n",
       "309                 33 JORDAN ROAD WAHROONGA, NSW 2076    4     4    4  \n",
       "310                33 CHERRY STREET WARRAWEE, NSW 2074    6     4    3  \n",
       "311           22 SHEARWATER DRIVE WARRIEWOOD, NSW 2102    4     2    2  \n",
       "312      443 169 175 PHILLIP STREET WATERLOO, NSW 2017    2     2    1  \n",
       "313               12A GIBSON STREET WAVERLEY, NSW 2024    4     3    1  \n",
       "314       22 WALMER CRESCENT WENTWORTH FALLS, NSW 2782    3     1    1  \n",
       "315  236 25 BENNELONG PARKWAY WENTWORTH POINT, NSW ...    2     2    1  \n",
       "316         789 33 HILL ROAD WENTWORTH POINT, NSW 2127    2     2    2  \n",
       "317                   8 REX STREET WEST RYDE, NSW 2114    4     2    2  \n",
       "318             3 FROST COURT WETHERILL PARK, NSW 2164    4     2    1  \n",
       "319               46 DEFOE STREET WILEY PARK, NSW 2195    4     2    1  \n",
       "320       7 10 GILLIES STREET WOLLSTONECRAFT, NSW 2065    2     1    1  \n",
       "321            32 BLAND STREET WOOLLOOMOOLOO, NSW 2011    2     1    −  \n",
       "322  303 22 SIR JOHN YOUNG CRESCENT WOOLLOOMOOLOO, ...    1     1    −  \n",
       "323                   1 AVOCA STREET YAGOONA, NSW 2199    5     3    4  \n",
       "324                  15 EDGAR STREET YAGOONA, NSW 2199    2     1    2  \n",
       "\n",
       "[325 rows x 13 columns]"
      ]
     },
     "execution_count": 13,
     "metadata": {},
     "output_type": "execute_result"
    }
   ],
   "source": [
    "Domain_auction_price"
   ]
  },
  {
   "cell_type": "code",
   "execution_count": 243,
   "metadata": {},
   "outputs": [],
   "source": [
    "Domain_auction_price = pd.read_csv('Domain_auction_price_26_10_2019_16_11_2019_Unit_2.csv')"
   ]
  },
  {
   "cell_type": "code",
   "execution_count": 251,
   "metadata": {},
   "outputs": [
    {
     "name": "stderr",
     "output_type": "stream",
     "text": [
      "\n",
      "\n",
      "\n",
      "\n",
      "\n",
      "\n",
      "  0%|          | 0/311 [00:00<?, ?it/s]C:\\Users\\Dell\\Anaconda\\lib\\site-packages\\ipykernel_launcher.py:2: SettingWithCopyWarning: \n",
      "A value is trying to be set on a copy of a slice from a DataFrame\n",
      "\n",
      "See the caveats in the documentation: http://pandas.pydata.org/pandas-docs/stable/indexing.html#indexing-view-versus-copy\n",
      "  \n",
      "\n",
      "\n",
      "\n",
      "\n",
      "\n",
      "\n",
      "  1%|          | 2/311 [00:00<00:25, 12.01it/s]\n",
      "\n",
      "\n",
      "\n",
      "\n",
      "\n",
      "  1%|▏         | 4/311 [00:00<00:24, 12.36it/s]\n",
      "\n",
      "\n",
      "\n",
      "\n",
      "\n",
      "  2%|▏         | 6/311 [00:00<00:23, 12.79it/s]\n",
      "\n",
      "\n",
      "\n",
      "\n",
      "\n",
      "  3%|▎         | 8/311 [00:00<00:23, 13.17it/s]\n",
      "\n",
      "\n",
      "\n",
      "\n",
      "\n",
      "  3%|▎         | 10/311 [00:00<00:22, 13.47it/s]\n",
      "\n",
      "\n",
      "\n",
      "\n",
      "\n",
      "  4%|▍         | 12/311 [00:00<00:23, 12.79it/s]\n",
      "\n",
      "\n",
      "\n",
      "\n",
      "\n",
      "  5%|▍         | 14/311 [00:01<00:24, 12.05it/s]\n",
      "\n",
      "\n",
      "\n",
      "\n",
      "\n",
      "  5%|▌         | 16/311 [00:01<00:23, 12.35it/s]\n",
      "\n",
      "\n",
      "\n",
      "\n",
      "\n",
      "  6%|▌         | 18/311 [00:01<00:24, 12.05it/s]\n",
      "\n",
      "\n",
      "\n",
      "\n",
      "\n",
      "  6%|▋         | 20/311 [00:01<00:23, 12.37it/s]\n",
      "\n",
      "\n",
      "\n",
      "\n",
      "\n",
      "  7%|▋         | 22/311 [00:01<00:23, 12.49it/s]\n",
      "\n",
      "\n",
      "\n",
      "\n",
      "\n",
      "  8%|▊         | 24/311 [00:01<00:22, 12.96it/s]\n",
      "\n",
      "\n",
      "\n",
      "\n",
      "\n",
      "  8%|▊         | 26/311 [00:02<00:21, 13.26it/s]\n",
      "\n",
      "\n",
      "\n",
      "\n",
      "\n",
      "  9%|▉         | 28/311 [00:02<00:22, 12.81it/s]\n",
      "\n",
      "\n",
      "\n",
      "\n",
      "\n",
      " 10%|▉         | 30/311 [00:02<00:21, 13.15it/s]\n",
      "\n",
      "\n",
      "\n",
      "\n",
      "\n",
      " 10%|█         | 32/311 [00:02<00:20, 13.32it/s]\n",
      "\n",
      "\n",
      "\n",
      "\n",
      "\n",
      " 11%|█         | 34/311 [00:02<00:20, 13.61it/s]\n",
      "\n",
      "\n",
      "\n",
      "\n",
      "\n",
      " 12%|█▏        | 36/311 [00:02<00:19, 13.93it/s]\n",
      "\n",
      "\n",
      "\n",
      "\n",
      "\n",
      " 12%|█▏        | 38/311 [00:02<00:19, 14.14it/s]\n",
      "\n",
      "\n",
      "\n",
      "\n",
      "\n",
      " 13%|█▎        | 40/311 [00:03<00:19, 14.19it/s]\n",
      "\n",
      "\n",
      "\n",
      "\n",
      "\n",
      " 14%|█▎        | 42/311 [00:03<00:19, 14.05it/s]\n",
      "\n",
      "\n",
      "\n",
      "\n",
      "\n",
      " 14%|█▍        | 44/311 [00:03<00:19, 13.70it/s]\n",
      "\n",
      "\n",
      "\n",
      "\n",
      "\n",
      " 15%|█▍        | 46/311 [00:03<00:19, 13.49it/s]\n",
      "\n",
      "\n",
      "\n",
      "\n",
      "\n",
      " 15%|█▌        | 48/311 [00:03<00:18, 14.02it/s]\n",
      "\n",
      "\n",
      "\n",
      "\n",
      "\n",
      " 16%|█▌        | 50/311 [00:03<00:18, 14.35it/s]\n",
      "\n",
      "\n",
      "\n",
      "\n",
      "\n",
      " 17%|█▋        | 52/311 [00:03<00:18, 13.95it/s]\n",
      "\n",
      "\n",
      "\n",
      "\n",
      "\n",
      " 17%|█▋        | 54/311 [00:04<00:18, 13.72it/s]\n",
      "\n",
      "\n",
      "\n",
      "\n",
      "\n",
      " 18%|█▊        | 56/311 [00:04<00:18, 14.01it/s]\n",
      "\n",
      "\n",
      "\n",
      "\n",
      "\n",
      " 19%|█▊        | 58/311 [00:04<00:17, 14.13it/s]\n",
      "\n",
      "\n",
      "\n",
      "\n",
      "\n",
      " 19%|█▉        | 60/311 [00:04<00:17, 14.01it/s]\n",
      "\n",
      "\n",
      "\n",
      "\n",
      "\n",
      " 20%|█▉        | 62/311 [00:04<00:17, 14.50it/s]\n",
      "\n",
      "\n",
      "\n",
      "\n",
      "\n",
      " 21%|██        | 64/311 [00:04<00:16, 14.57it/s]\n",
      "\n",
      "\n",
      "\n",
      "\n",
      "\n",
      " 21%|██        | 66/311 [00:04<00:17, 14.07it/s]\n",
      "\n",
      "\n",
      "\n",
      "\n",
      "\n",
      " 22%|██▏       | 68/311 [00:05<00:17, 13.71it/s]\n",
      "\n",
      "\n",
      "\n",
      "\n",
      "\n",
      " 23%|██▎       | 70/311 [00:05<00:17, 13.52it/s]\n",
      "\n",
      "\n",
      "\n",
      "\n",
      "\n",
      " 23%|██▎       | 72/311 [00:05<00:17, 13.75it/s]\n",
      "\n",
      "\n",
      "\n",
      "\n",
      "\n",
      " 24%|██▍       | 74/311 [00:05<00:17, 13.42it/s]\n",
      "\n",
      "\n",
      "\n",
      "\n",
      "\n",
      " 24%|██▍       | 76/311 [00:05<00:18, 13.01it/s]\n",
      "\n",
      "\n",
      "\n",
      "\n",
      "\n",
      " 25%|██▌       | 78/311 [00:05<00:17, 13.17it/s]\n",
      "\n",
      "\n",
      "\n",
      "\n",
      "\n",
      " 26%|██▌       | 80/311 [00:05<00:17, 13.55it/s]\n",
      "\n",
      "\n",
      "\n",
      "\n",
      "\n",
      " 26%|██▋       | 82/311 [00:06<00:16, 13.95it/s]\n",
      "\n",
      "\n",
      "\n",
      "\n",
      "\n",
      " 27%|██▋       | 84/311 [00:06<00:17, 13.30it/s]\n",
      "\n",
      "\n",
      "\n",
      "\n",
      "\n",
      " 28%|██▊       | 86/311 [00:06<00:17, 13.22it/s]\n",
      "\n",
      "\n",
      "\n",
      "\n",
      "\n",
      " 28%|██▊       | 88/311 [00:06<00:16, 13.78it/s]\n",
      "\n",
      "\n",
      "\n",
      "\n",
      "\n",
      " 29%|██▉       | 90/311 [00:06<00:15, 14.18it/s]\n",
      "\n",
      "\n",
      "\n",
      "\n",
      "\n",
      " 30%|██▉       | 92/311 [00:06<00:15, 14.31it/s]\n",
      "\n",
      "\n",
      "\n",
      "\n",
      "\n",
      " 30%|███       | 94/311 [00:06<00:15, 14.19it/s]\n",
      "\n",
      "\n",
      "\n",
      "\n",
      "\n",
      " 31%|███       | 96/311 [00:07<00:16, 13.03it/s]\n",
      "\n",
      "\n",
      "\n",
      "\n",
      "\n",
      " 32%|███▏      | 98/311 [00:07<00:17, 12.45it/s]\n",
      "\n",
      "\n",
      "\n",
      "\n",
      "\n",
      " 32%|███▏      | 100/311 [00:07<00:18, 11.43it/s]\n",
      "\n",
      "\n",
      "\n",
      "\n",
      "\n",
      " 33%|███▎      | 102/311 [00:07<00:17, 11.64it/s]\n",
      "\n",
      "\n",
      "\n",
      "\n",
      "\n",
      " 33%|███▎      | 104/311 [00:07<00:17, 11.87it/s]\n",
      "\n",
      "\n",
      "\n",
      "\n",
      "\n",
      " 34%|███▍      | 106/311 [00:07<00:16, 12.33it/s]\n",
      "\n",
      "\n",
      "\n",
      "\n",
      "\n",
      " 35%|███▍      | 108/311 [00:08<00:15, 12.97it/s]\n",
      "\n",
      "\n",
      "\n",
      "\n",
      "\n",
      " 35%|███▌      | 110/311 [00:08<00:15, 13.35it/s]\n",
      "\n",
      "\n",
      "\n",
      "\n",
      "\n",
      " 36%|███▌      | 112/311 [00:08<00:15, 13.19it/s]\n",
      "\n",
      "\n",
      "\n",
      "\n",
      "\n",
      " 37%|███▋      | 114/311 [00:08<00:14, 13.33it/s]\n",
      "\n",
      "\n",
      "\n",
      "\n",
      "\n",
      " 37%|███▋      | 116/311 [00:08<00:14, 13.15it/s]\n",
      "\n",
      "\n",
      "\n",
      "\n",
      "\n",
      " 38%|███▊      | 118/311 [00:08<00:14, 13.27it/s]\n",
      "\n",
      "\n",
      "\n",
      "\n",
      "\n",
      " 39%|███▊      | 120/311 [00:09<00:14, 13.30it/s]\n",
      "\n",
      "\n",
      "\n",
      "\n",
      "\n",
      " 39%|███▉      | 122/311 [00:09<00:14, 13.43it/s]\n",
      "\n",
      "\n",
      "\n",
      "\n",
      "\n",
      " 40%|███▉      | 124/311 [00:09<00:14, 12.89it/s]\n",
      "\n",
      "\n",
      "\n",
      "\n",
      "\n",
      " 41%|████      | 126/311 [00:09<00:14, 12.98it/s]\n",
      "\n",
      "\n",
      "\n",
      "\n",
      "\n",
      " 41%|████      | 128/311 [00:09<00:13, 13.12it/s]\n",
      "\n",
      "\n",
      "\n",
      "\n",
      "\n",
      " 42%|████▏     | 130/311 [00:09<00:13, 13.35it/s]\n",
      "\n",
      "\n",
      "\n",
      "\n",
      "\n",
      " 42%|████▏     | 132/311 [00:09<00:13, 13.17it/s]\n",
      "\n",
      "\n",
      "\n",
      "\n",
      "\n",
      " 43%|████▎     | 134/311 [00:10<00:13, 13.15it/s]\n",
      "\n",
      "\n",
      "\n",
      "\n",
      "\n",
      " 44%|████▎     | 136/311 [00:10<00:13, 12.96it/s]\n",
      "\n",
      "\n",
      "\n",
      "\n",
      "\n",
      " 44%|████▍     | 138/311 [00:10<00:13, 13.24it/s]\n",
      "\n",
      "\n",
      "\n",
      "\n",
      "\n",
      " 45%|████▌     | 140/311 [00:10<00:13, 13.14it/s]\n",
      "\n",
      "\n",
      "\n",
      "\n",
      "\n",
      " 46%|████▌     | 142/311 [00:10<00:12, 13.19it/s]\n",
      "\n",
      "\n",
      "\n",
      "\n",
      "\n",
      " 46%|████▋     | 144/311 [00:10<00:12, 12.91it/s]\n",
      "\n",
      "\n",
      "\n",
      "\n",
      "\n",
      " 47%|████▋     | 146/311 [00:11<00:12, 12.89it/s]\n",
      "\n",
      "\n",
      "\n",
      "\n",
      "\n",
      " 48%|████▊     | 148/311 [00:11<00:12, 12.81it/s]\n",
      "\n",
      "\n",
      "\n",
      "\n",
      "\n",
      " 48%|████▊     | 150/311 [00:11<00:12, 13.23it/s]\n",
      "\n",
      "\n",
      "\n",
      "\n",
      "\n",
      " 49%|████▉     | 152/311 [00:11<00:11, 13.73it/s]\n",
      "\n",
      "\n",
      "\n",
      "\n",
      "\n",
      " 50%|████▉     | 154/311 [00:11<00:11, 13.93it/s]\n",
      "\n",
      "\n",
      "\n",
      "\n",
      "\n",
      " 50%|█████     | 156/311 [00:11<00:11, 13.32it/s]\n",
      "\n",
      "\n",
      "\n",
      "\n",
      "\n",
      " 51%|█████     | 158/311 [00:11<00:11, 13.47it/s]\n",
      "\n",
      "\n",
      "\n",
      "\n",
      "\n",
      " 51%|█████▏    | 160/311 [00:12<00:10, 13.89it/s]\n",
      "\n",
      "\n",
      "\n",
      "\n",
      "\n",
      " 52%|█████▏    | 162/311 [00:12<00:10, 13.76it/s]\n",
      "\n",
      "\n",
      "\n",
      "\n",
      "\n",
      " 53%|█████▎    | 164/311 [00:12<00:11, 13.34it/s]\n",
      "\n",
      "\n",
      "\n",
      "\n",
      "\n",
      " 53%|█████▎    | 166/311 [00:12<00:11, 12.48it/s]\n",
      "\n",
      "\n",
      "\n",
      "\n",
      "\n",
      " 54%|█████▍    | 168/311 [00:12<00:11, 12.83it/s]\n",
      "\n",
      "\n",
      "\n",
      "\n",
      "\n",
      " 55%|█████▍    | 170/311 [00:12<00:10, 13.40it/s]\n",
      "\n",
      "\n",
      "\n",
      "\n",
      "\n",
      " 55%|█████▌    | 172/311 [00:12<00:10, 13.69it/s]\n",
      "\n",
      "\n",
      "\n",
      "\n",
      "\n",
      " 56%|█████▌    | 174/311 [00:13<00:09, 13.85it/s]\n",
      "\n",
      "\n",
      "\n",
      "\n",
      "\n",
      " 57%|█████▋    | 176/311 [00:13<00:10, 13.21it/s]\n",
      "\n",
      "\n",
      "\n",
      "\n",
      "\n",
      " 57%|█████▋    | 178/311 [00:13<00:10, 12.98it/s]\n",
      "\n",
      "\n",
      "\n",
      "\n",
      "\n",
      " 58%|█████▊    | 180/311 [00:13<00:10, 12.72it/s]\n",
      "\n",
      "\n",
      "\n",
      "\n",
      "\n",
      " 59%|█████▊    | 182/311 [00:13<00:10, 12.81it/s]\n",
      "\n",
      "\n",
      "\n",
      "\n",
      "\n",
      " 59%|█████▉    | 184/311 [00:13<00:09, 12.77it/s]\n",
      "\n",
      "\n",
      "\n",
      "\n",
      "\n",
      " 60%|█████▉    | 186/311 [00:14<00:09, 12.65it/s]\n",
      "\n",
      "\n",
      "\n",
      "\n",
      "\n",
      " 60%|██████    | 188/311 [00:14<00:09, 12.64it/s]\n",
      "\n",
      "\n",
      "\n",
      "\n",
      "\n",
      " 61%|██████    | 190/311 [00:14<00:09, 12.51it/s]\n",
      "\n",
      "\n",
      "\n",
      "\n",
      "\n",
      " 62%|██████▏   | 192/311 [00:14<00:09, 12.50it/s]\n",
      "\n",
      "\n",
      "\n",
      "\n",
      "\n",
      " 62%|██████▏   | 194/311 [00:14<00:09, 12.72it/s]\n",
      "\n",
      "\n",
      "\n",
      "\n",
      "\n",
      " 63%|██████▎   | 196/311 [00:14<00:09, 12.69it/s]\n",
      "\n",
      "\n",
      "\n",
      "\n",
      "\n",
      " 64%|██████▎   | 198/311 [00:14<00:08, 12.74it/s]\n",
      "\n",
      "\n",
      "\n",
      "\n",
      "\n",
      " 64%|██████▍   | 200/311 [00:15<00:08, 12.97it/s]\n",
      "\n",
      "\n",
      "\n",
      "\n",
      "\n",
      " 65%|██████▍   | 202/311 [00:15<00:08, 13.01it/s]\n",
      "\n",
      "\n",
      "\n",
      "\n",
      "\n",
      " 66%|██████▌   | 204/311 [00:15<00:07, 13.46it/s]\n",
      "\n",
      "\n",
      "\n",
      "\n",
      "\n",
      " 66%|██████▌   | 206/311 [00:15<00:07, 14.00it/s]\n",
      "\n",
      "\n",
      "\n",
      "\n",
      "\n",
      " 67%|██████▋   | 208/311 [00:15<00:07, 14.36it/s]\n",
      "\n",
      "\n",
      "\n",
      "\n",
      "\n",
      " 68%|██████▊   | 210/311 [00:15<00:06, 14.51it/s]\n",
      "\n",
      "\n",
      "\n",
      "\n",
      "\n",
      " 68%|██████▊   | 212/311 [00:15<00:06, 14.61it/s]\n",
      "\n",
      "\n",
      "\n",
      "\n",
      "\n",
      " 69%|██████▉   | 214/311 [00:16<00:06, 14.62it/s]\n",
      "\n",
      "\n",
      "\n",
      "\n",
      "\n",
      " 69%|██████▉   | 216/311 [00:16<00:06, 14.62it/s]\n",
      "\n",
      "\n",
      "\n",
      "\n",
      "\n",
      " 70%|███████   | 218/311 [00:16<00:06, 14.63it/s]\n",
      "\n",
      "\n",
      "\n",
      "\n",
      "\n",
      " 71%|███████   | 220/311 [00:16<00:06, 14.73it/s]\n",
      "\n",
      "\n",
      "\n",
      "\n",
      "\n",
      " 71%|███████▏  | 222/311 [00:16<00:05, 15.00it/s]\n",
      "\n",
      "\n",
      "\n",
      "\n",
      "\n",
      " 72%|███████▏  | 224/311 [00:16<00:05, 14.99it/s]\n",
      "\n",
      "\n",
      "\n",
      "\n",
      "\n",
      " 73%|███████▎  | 226/311 [00:16<00:05, 14.78it/s]\n",
      "\n",
      "\n",
      "\n",
      "\n",
      "\n",
      " 73%|███████▎  | 228/311 [00:17<00:06, 13.82it/s]\n",
      "\n",
      "\n",
      "\n",
      "\n",
      "\n",
      " 74%|███████▍  | 230/311 [00:17<00:06, 13.28it/s]\n",
      "\n",
      "\n",
      "\n",
      "\n",
      "\n",
      " 75%|███████▍  | 232/311 [00:17<00:06, 12.99it/s]\n",
      "\n",
      "\n",
      "\n",
      "\n",
      "\n",
      " 75%|███████▌  | 234/311 [00:17<00:06, 12.73it/s]\n",
      "\n",
      "\n",
      "\n",
      "\n",
      "\n",
      " 76%|███████▌  | 236/311 [00:17<00:06, 11.88it/s]\n",
      "\n",
      "\n",
      "\n",
      "\n",
      "\n",
      " 77%|███████▋  | 238/311 [00:17<00:06, 11.84it/s]\n",
      "\n",
      "\n",
      "\n",
      "\n",
      "\n",
      " 77%|███████▋  | 240/311 [00:18<00:05, 11.93it/s]\n",
      "\n",
      "\n",
      "\n",
      "\n",
      "\n",
      " 78%|███████▊  | 242/311 [00:18<00:05, 11.91it/s]\n",
      "\n",
      "\n",
      "\n",
      "\n",
      "\n",
      " 78%|███████▊  | 244/311 [00:18<00:05, 12.03it/s]\n",
      "\n",
      "\n",
      "\n",
      "\n",
      "\n",
      " 79%|███████▉  | 246/311 [00:18<00:05, 12.06it/s]\n",
      "\n",
      "\n",
      "\n",
      "\n",
      "\n",
      " 80%|███████▉  | 248/311 [00:18<00:05, 12.09it/s]\n",
      "\n",
      "\n",
      "\n",
      "\n",
      "\n",
      " 80%|████████  | 250/311 [00:18<00:04, 12.22it/s]\n",
      "\n",
      "\n",
      "\n",
      "\n",
      "\n",
      " 81%|████████  | 252/311 [00:19<00:04, 12.45it/s]\n",
      "\n",
      "\n",
      "\n",
      "\n",
      "\n",
      " 82%|████████▏ | 254/311 [00:19<00:04, 12.64it/s]\n",
      "\n",
      "\n",
      "\n",
      "\n",
      "\n",
      " 82%|████████▏ | 256/311 [00:19<00:04, 12.92it/s]\n",
      "\n",
      "\n",
      "\n",
      "\n",
      "\n",
      " 83%|████████▎ | 258/311 [00:19<00:04, 13.18it/s]\n",
      "\n",
      "\n",
      "\n",
      "\n",
      "\n",
      " 84%|████████▎ | 260/311 [00:19<00:03, 13.42it/s]\n",
      "\n",
      "\n",
      "\n",
      "\n",
      "\n",
      " 84%|████████▍ | 262/311 [00:19<00:03, 13.57it/s]\n",
      "\n",
      "\n",
      "\n",
      "\n",
      "\n",
      " 85%|████████▍ | 264/311 [00:19<00:03, 13.43it/s]\n",
      "\n",
      "\n",
      "\n",
      "\n",
      "\n",
      " 86%|████████▌ | 266/311 [00:20<00:03, 13.41it/s]\n",
      "\n",
      "\n",
      "\n",
      "\n",
      "\n",
      " 86%|████████▌ | 268/311 [00:20<00:03, 13.53it/s]\n",
      "\n",
      "\n",
      "\n",
      "\n",
      "\n",
      " 87%|████████▋ | 270/311 [00:20<00:02, 13.85it/s]\n",
      "\n",
      "\n",
      "\n",
      "\n",
      "\n",
      " 87%|████████▋ | 272/311 [00:20<00:02, 14.22it/s]\n",
      "\n",
      "\n",
      "\n",
      "\n",
      "\n",
      " 88%|████████▊ | 274/311 [00:20<00:02, 14.63it/s]\n",
      "\n",
      "\n",
      "\n",
      "\n",
      "\n",
      " 89%|████████▊ | 276/311 [00:20<00:02, 14.02it/s]\n",
      "\n",
      "\n",
      "\n",
      "\n",
      "\n",
      " 89%|████████▉ | 278/311 [00:20<00:02, 13.37it/s]\n",
      "\n",
      "\n",
      "\n",
      "\n",
      "\n",
      " 90%|█████████ | 280/311 [00:21<00:02, 13.27it/s]\n",
      "\n",
      "\n",
      "\n",
      "\n",
      "\n",
      " 91%|█████████ | 282/311 [00:21<00:02, 12.84it/s]\n",
      "\n",
      "\n",
      "\n",
      "\n",
      "\n",
      " 91%|█████████▏| 284/311 [00:21<00:02, 12.39it/s]\n",
      "\n",
      "\n",
      "\n",
      "\n",
      "\n",
      " 92%|█████████▏| 286/311 [00:21<00:01, 12.53it/s]\n",
      "\n",
      "\n",
      "\n",
      "\n",
      "\n",
      " 93%|█████████▎| 288/311 [00:21<00:01, 12.67it/s]\n",
      "\n",
      "\n",
      "\n",
      "\n",
      "\n",
      " 93%|█████████▎| 290/311 [00:21<00:01, 12.82it/s]\n",
      "\n",
      "\n",
      "\n",
      "\n",
      "\n",
      " 94%|█████████▍| 292/311 [00:22<00:01, 13.13it/s]\n",
      "\n",
      "\n",
      "\n",
      "\n",
      "\n",
      " 95%|█████████▍| 294/311 [00:22<00:01, 13.34it/s]\n",
      "\n",
      "\n",
      "\n",
      "\n",
      "\n",
      " 95%|█████████▌| 296/311 [00:22<00:01, 13.14it/s]\n",
      "\n",
      "\n",
      "\n",
      "\n",
      "\n",
      " 96%|█████████▌| 298/311 [00:22<00:00, 13.10it/s]\n",
      "\n",
      "\n",
      "\n",
      "\n",
      "\n",
      " 96%|█████████▋| 300/311 [00:22<00:00, 13.42it/s]\n",
      "\n",
      "\n",
      "\n",
      "\n",
      "\n",
      " 97%|█████████▋| 302/311 [00:22<00:00, 13.54it/s]\n",
      "\n",
      "\n",
      "\n",
      "\n",
      "\n",
      " 98%|█████████▊| 304/311 [00:22<00:00, 12.94it/s]\n",
      "\n",
      "\n",
      "\n",
      "\n",
      "\n",
      " 98%|█████████▊| 306/311 [00:23<00:00, 12.94it/s]\n",
      "\n",
      "\n",
      "\n",
      "\n",
      "\n",
      " 99%|█████████▉| 308/311 [00:23<00:00, 13.12it/s]\n",
      "\n",
      "\n",
      "\n",
      "\n",
      "\n",
      "100%|█████████▉| 310/311 [00:23<00:00, 13.14it/s]\n",
      "\n",
      "\n",
      "\n",
      "\n",
      "\n",
      "100%|██████████| 311/311 [00:23<00:00, 13.23it/s]"
     ]
    }
   ],
   "source": [
    "for i in tqdm(range(len(Domain_auction_price['full_address']))):\n",
    "    Domain_auction_price['full_address'][i] = str(Domain_auction_price['address'][i])+', '+str(Domain_auction_price['suburb'][i])+' NSW '+ str(Domain_auction_price['post_code'][i])"
   ]
  },
  {
   "cell_type": "code",
   "execution_count": 252,
   "metadata": {},
   "outputs": [
    {
     "data": {
      "text/html": [
       "<div>\n",
       "<style scoped>\n",
       "    .dataframe tbody tr th:only-of-type {\n",
       "        vertical-align: middle;\n",
       "    }\n",
       "\n",
       "    .dataframe tbody tr th {\n",
       "        vertical-align: top;\n",
       "    }\n",
       "\n",
       "    .dataframe thead th {\n",
       "        text-align: right;\n",
       "    }\n",
       "</style>\n",
       "<table border=\"1\" class=\"dataframe\">\n",
       "  <thead>\n",
       "    <tr style=\"text-align: right;\">\n",
       "      <th></th>\n",
       "      <th>Unnamed: 0</th>\n",
       "      <th>date</th>\n",
       "      <th>address</th>\n",
       "      <th>suburb</th>\n",
       "      <th>prop_type</th>\n",
       "      <th>status</th>\n",
       "      <th>beds</th>\n",
       "      <th>baths</th>\n",
       "      <th>cars</th>\n",
       "      <th>sold_price</th>\n",
       "      <th>url</th>\n",
       "      <th>post_code</th>\n",
       "      <th>full_address</th>\n",
       "    </tr>\n",
       "  </thead>\n",
       "  <tbody>\n",
       "    <tr>\n",
       "      <th>0</th>\n",
       "      <td>0</td>\n",
       "      <td>16/11/2019</td>\n",
       "      <td>29/18 20 NEWTON ST</td>\n",
       "      <td>ALEXANDRIA</td>\n",
       "      <td>Unit</td>\n",
       "      <td>Sold</td>\n",
       "      <td>1</td>\n",
       "      <td>1.0</td>\n",
       "      <td>−</td>\n",
       "      <td>657000</td>\n",
       "      <td>https://www.domain.com.au/29-18-20-newton-stre...</td>\n",
       "      <td>2015</td>\n",
       "      <td>29/18 20 NEWTON ST, ALEXANDRIA NSW 2015</td>\n",
       "    </tr>\n",
       "    <tr>\n",
       "      <th>1</th>\n",
       "      <td>1</td>\n",
       "      <td>16/11/2019</td>\n",
       "      <td>3/3 CHANDOS ST</td>\n",
       "      <td>ASHFIELD</td>\n",
       "      <td>Unit</td>\n",
       "      <td>Sold</td>\n",
       "      <td>2</td>\n",
       "      <td>1.0</td>\n",
       "      <td>1</td>\n",
       "      <td>633000</td>\n",
       "      <td>https://www.domain.com.au/3-3-chandos-street-a...</td>\n",
       "      <td>2131</td>\n",
       "      <td>3/3 CHANDOS ST, ASHFIELD NSW 2131</td>\n",
       "    </tr>\n",
       "    <tr>\n",
       "      <th>2</th>\n",
       "      <td>2</td>\n",
       "      <td>16/11/2019</td>\n",
       "      <td>2/42 ELIZABETH ST</td>\n",
       "      <td>ASHFIELD</td>\n",
       "      <td>Unit</td>\n",
       "      <td>Sold</td>\n",
       "      <td>2</td>\n",
       "      <td>1.0</td>\n",
       "      <td>1</td>\n",
       "      <td>734000</td>\n",
       "      <td>https://www.domain.com.au/2-42-elizabeth-stree...</td>\n",
       "      <td>2131</td>\n",
       "      <td>2/42 ELIZABETH ST, ASHFIELD NSW 2131</td>\n",
       "    </tr>\n",
       "    <tr>\n",
       "      <th>3</th>\n",
       "      <td>3</td>\n",
       "      <td>16/11/2019</td>\n",
       "      <td>15/660 BARRENJOEY RD</td>\n",
       "      <td>AVALON BEACH</td>\n",
       "      <td>Unit</td>\n",
       "      <td>Sold prior to auction</td>\n",
       "      <td>1</td>\n",
       "      <td>1.0</td>\n",
       "      <td>1</td>\n",
       "      <td>528000</td>\n",
       "      <td>https://www.domain.com.au/15-660-barrenjoey-ro...</td>\n",
       "      <td>2107</td>\n",
       "      <td>15/660 BARRENJOEY RD, AVALON BEACH NSW 2107</td>\n",
       "    </tr>\n",
       "    <tr>\n",
       "      <th>4</th>\n",
       "      <td>4</td>\n",
       "      <td>16/11/2019</td>\n",
       "      <td>5/18 WHITE ST</td>\n",
       "      <td>BALGOWLAH</td>\n",
       "      <td>Unit</td>\n",
       "      <td>Sold prior to auction</td>\n",
       "      <td>2</td>\n",
       "      <td>1.0</td>\n",
       "      <td>1</td>\n",
       "      <td>945000</td>\n",
       "      <td>https://www.domain.com.au/5-18-white-street-ba...</td>\n",
       "      <td>2093</td>\n",
       "      <td>5/18 WHITE ST, BALGOWLAH NSW 2093</td>\n",
       "    </tr>\n",
       "    <tr>\n",
       "      <th>5</th>\n",
       "      <td>5</td>\n",
       "      <td>16/11/2019</td>\n",
       "      <td>8/22 FLOOD ST</td>\n",
       "      <td>BONDI</td>\n",
       "      <td>Unit</td>\n",
       "      <td>Sold</td>\n",
       "      <td>2</td>\n",
       "      <td>1.0</td>\n",
       "      <td>1</td>\n",
       "      <td>1090000</td>\n",
       "      <td>https://www.domain.com.au/8-22-flood-street-bo...</td>\n",
       "      <td>2026</td>\n",
       "      <td>8/22 FLOOD ST, BONDI NSW 2026</td>\n",
       "    </tr>\n",
       "    <tr>\n",
       "      <th>6</th>\n",
       "      <td>6</td>\n",
       "      <td>16/11/2019</td>\n",
       "      <td>39/2 VICTORIA ST</td>\n",
       "      <td>BOTANY</td>\n",
       "      <td>Unit</td>\n",
       "      <td>Sold prior to auction</td>\n",
       "      <td>3</td>\n",
       "      <td>2.0</td>\n",
       "      <td>2</td>\n",
       "      <td>870000</td>\n",
       "      <td>https://www.domain.com.au/39-2-victoria-street...</td>\n",
       "      <td>2019</td>\n",
       "      <td>39/2 VICTORIA ST, BOTANY NSW 2019</td>\n",
       "    </tr>\n",
       "    <tr>\n",
       "      <th>7</th>\n",
       "      <td>7</td>\n",
       "      <td>16/11/2019</td>\n",
       "      <td>15/25 BARR ST</td>\n",
       "      <td>CAMPERDOWN</td>\n",
       "      <td>Unit</td>\n",
       "      <td>Sold</td>\n",
       "      <td>2</td>\n",
       "      <td>2.0</td>\n",
       "      <td>2</td>\n",
       "      <td>1050000</td>\n",
       "      <td>https://www.domain.com.au/15-25-barr-street-ca...</td>\n",
       "      <td>2050</td>\n",
       "      <td>15/25 BARR ST, CAMPERDOWN NSW 2050</td>\n",
       "    </tr>\n",
       "    <tr>\n",
       "      <th>8</th>\n",
       "      <td>8</td>\n",
       "      <td>16/11/2019</td>\n",
       "      <td>11/34 ARCHER ST</td>\n",
       "      <td>CHATSWOOD</td>\n",
       "      <td>Unit</td>\n",
       "      <td>Sold prior to auction</td>\n",
       "      <td>2</td>\n",
       "      <td>1.0</td>\n",
       "      <td>1</td>\n",
       "      <td>1100000</td>\n",
       "      <td>https://www.domain.com.au/11-34-archer-street-...</td>\n",
       "      <td>2067</td>\n",
       "      <td>11/34 ARCHER ST, CHATSWOOD NSW 2067</td>\n",
       "    </tr>\n",
       "    <tr>\n",
       "      <th>9</th>\n",
       "      <td>9</td>\n",
       "      <td>16/11/2019</td>\n",
       "      <td>34/14 16 FREEMAN RD</td>\n",
       "      <td>CHATSWOOD</td>\n",
       "      <td>Unit</td>\n",
       "      <td>Sold</td>\n",
       "      <td>2</td>\n",
       "      <td>2.0</td>\n",
       "      <td>1</td>\n",
       "      <td>1025000</td>\n",
       "      <td>https://www.domain.com.au/34-14-16-freeman-roa...</td>\n",
       "      <td>2067</td>\n",
       "      <td>34/14 16 FREEMAN RD, CHATSWOOD NSW 2067</td>\n",
       "    </tr>\n",
       "    <tr>\n",
       "      <th>10</th>\n",
       "      <td>10</td>\n",
       "      <td>16/11/2019</td>\n",
       "      <td>14/15 KOORINGA RD</td>\n",
       "      <td>CHATSWOOD</td>\n",
       "      <td>Unit</td>\n",
       "      <td>Sold</td>\n",
       "      <td>2</td>\n",
       "      <td>3.0</td>\n",
       "      <td>2</td>\n",
       "      <td>1402000</td>\n",
       "      <td>https://www.domain.com.au/14-15-kooringa-road-...</td>\n",
       "      <td>2067</td>\n",
       "      <td>14/15 KOORINGA RD, CHATSWOOD NSW 2067</td>\n",
       "    </tr>\n",
       "    <tr>\n",
       "      <th>11</th>\n",
       "      <td>11</td>\n",
       "      <td>16/11/2019</td>\n",
       "      <td>8/14 16 O'CONNOR ST</td>\n",
       "      <td>CHIPPENDALE</td>\n",
       "      <td>Unit</td>\n",
       "      <td>Sold prior to auction</td>\n",
       "      <td>NaN</td>\n",
       "      <td>NaN</td>\n",
       "      <td>NaN</td>\n",
       "      <td>580000</td>\n",
       "      <td>https://domain.com.au/property-profile/8-14-16...</td>\n",
       "      <td>2008</td>\n",
       "      <td>8/14 16 O'CONNOR ST, CHIPPENDALE NSW 2008</td>\n",
       "    </tr>\n",
       "    <tr>\n",
       "      <th>12</th>\n",
       "      <td>12</td>\n",
       "      <td>16/11/2019</td>\n",
       "      <td>114/2 MACPHERSON ST</td>\n",
       "      <td>CREMORNE</td>\n",
       "      <td>Unit</td>\n",
       "      <td>Sold prior to auction</td>\n",
       "      <td>1</td>\n",
       "      <td>1.0</td>\n",
       "      <td>1</td>\n",
       "      <td>681300</td>\n",
       "      <td>https://www.domain.com.au/114-2-macpherson-str...</td>\n",
       "      <td>2090</td>\n",
       "      <td>114/2 MACPHERSON ST, CREMORNE NSW 2090</td>\n",
       "    </tr>\n",
       "    <tr>\n",
       "      <th>13</th>\n",
       "      <td>13</td>\n",
       "      <td>16/11/2019</td>\n",
       "      <td>1/7 COAST AV</td>\n",
       "      <td>CRONULLA</td>\n",
       "      <td>Unit</td>\n",
       "      <td>Sold</td>\n",
       "      <td>2</td>\n",
       "      <td>1.0</td>\n",
       "      <td>−</td>\n",
       "      <td>700000</td>\n",
       "      <td>https://www.domain.com.au/1-7-coast-avenue-cro...</td>\n",
       "      <td>2230</td>\n",
       "      <td>1/7 COAST AV, CRONULLA NSW 2230</td>\n",
       "    </tr>\n",
       "    <tr>\n",
       "      <th>14</th>\n",
       "      <td>14</td>\n",
       "      <td>16/11/2019</td>\n",
       "      <td>8/2 6 PARRAMATTA ST</td>\n",
       "      <td>CRONULLA</td>\n",
       "      <td>Unit</td>\n",
       "      <td>Sold</td>\n",
       "      <td>3</td>\n",
       "      <td>2.0</td>\n",
       "      <td>2</td>\n",
       "      <td>1310000</td>\n",
       "      <td>https://www.domain.com.au/8-2-parramatta-stree...</td>\n",
       "      <td>2230</td>\n",
       "      <td>8/2 6 PARRAMATTA ST, CRONULLA NSW 2230</td>\n",
       "    </tr>\n",
       "    <tr>\n",
       "      <th>15</th>\n",
       "      <td>15</td>\n",
       "      <td>16/11/2019</td>\n",
       "      <td>203/402 420 PACIFIC HWY</td>\n",
       "      <td>CROWS NEST</td>\n",
       "      <td>Unit</td>\n",
       "      <td>Sold prior to auction</td>\n",
       "      <td>NaN</td>\n",
       "      <td>NaN</td>\n",
       "      <td>NaN</td>\n",
       "      <td>529000</td>\n",
       "      <td>https://domain.com.au/property-profile/203-402...</td>\n",
       "      <td>2065</td>\n",
       "      <td>203/402 420 PACIFIC HWY, CROWS NEST NSW 2065</td>\n",
       "    </tr>\n",
       "    <tr>\n",
       "      <th>16</th>\n",
       "      <td>16</td>\n",
       "      <td>16/11/2019</td>\n",
       "      <td>2/147 CROYDON AV</td>\n",
       "      <td>CROYDON PARK</td>\n",
       "      <td>Unit</td>\n",
       "      <td>Sold</td>\n",
       "      <td>2</td>\n",
       "      <td>1.0</td>\n",
       "      <td>1</td>\n",
       "      <td>712500</td>\n",
       "      <td>https://www.domain.com.au/2-147-croydon-avenue...</td>\n",
       "      <td>2133</td>\n",
       "      <td>2/147 CROYDON AV, CROYDON PARK NSW 2133</td>\n",
       "    </tr>\n",
       "    <tr>\n",
       "      <th>17</th>\n",
       "      <td>17</td>\n",
       "      <td>16/11/2019</td>\n",
       "      <td>26/347 LIVERPOOL ST</td>\n",
       "      <td>DARLINGHURST</td>\n",
       "      <td>Studio</td>\n",
       "      <td>Passed in</td>\n",
       "      <td>−</td>\n",
       "      <td>1.0</td>\n",
       "      <td>−</td>\n",
       "      <td>465000</td>\n",
       "      <td>https://www.domain.com.au/26-347-liverpool-str...</td>\n",
       "      <td>2010</td>\n",
       "      <td>26/347 LIVERPOOL ST, DARLINGHURST NSW 2010</td>\n",
       "    </tr>\n",
       "    <tr>\n",
       "      <th>18</th>\n",
       "      <td>18</td>\n",
       "      <td>16/11/2019</td>\n",
       "      <td>6/20 CASSIA ST</td>\n",
       "      <td>DEE WHY</td>\n",
       "      <td>Unit</td>\n",
       "      <td>Sold</td>\n",
       "      <td>1</td>\n",
       "      <td>1.0</td>\n",
       "      <td>1</td>\n",
       "      <td>660000</td>\n",
       "      <td>https://www.domain.com.au/6-20-cassia-street-d...</td>\n",
       "      <td>2099</td>\n",
       "      <td>6/20 CASSIA ST, DEE WHY NSW 2099</td>\n",
       "    </tr>\n",
       "    <tr>\n",
       "      <th>19</th>\n",
       "      <td>19</td>\n",
       "      <td>16/11/2019</td>\n",
       "      <td>1/58 60 OAKS AV</td>\n",
       "      <td>DEE WHY</td>\n",
       "      <td>Unit</td>\n",
       "      <td>Sold</td>\n",
       "      <td>2</td>\n",
       "      <td>2.0</td>\n",
       "      <td>1</td>\n",
       "      <td>1070000</td>\n",
       "      <td>https://www.domain.com.au/1-58-oaks-avenue-dee...</td>\n",
       "      <td>2099</td>\n",
       "      <td>1/58 60 OAKS AV, DEE WHY NSW 2099</td>\n",
       "    </tr>\n",
       "    <tr>\n",
       "      <th>20</th>\n",
       "      <td>20</td>\n",
       "      <td>16/11/2019</td>\n",
       "      <td>8/16 THE CRESCENT</td>\n",
       "      <td>DEE WHY</td>\n",
       "      <td>Unit</td>\n",
       "      <td>Sold</td>\n",
       "      <td>2</td>\n",
       "      <td>1.0</td>\n",
       "      <td>2</td>\n",
       "      <td>920000</td>\n",
       "      <td>https://www.domain.com.au/8-16-the-crescent-de...</td>\n",
       "      <td>2099</td>\n",
       "      <td>8/16 THE CRESCENT , DEE WHY NSW 2099</td>\n",
       "    </tr>\n",
       "    <tr>\n",
       "      <th>21</th>\n",
       "      <td>21</td>\n",
       "      <td>16/11/2019</td>\n",
       "      <td>2/182 RUSSELL AV</td>\n",
       "      <td>DOLLS POINT</td>\n",
       "      <td>Unit</td>\n",
       "      <td>Sold</td>\n",
       "      <td>2</td>\n",
       "      <td>1.0</td>\n",
       "      <td>2</td>\n",
       "      <td>663000</td>\n",
       "      <td>https://www.domain.com.au/2-182-russell-avenue...</td>\n",
       "      <td>2219</td>\n",
       "      <td>2/182 RUSSELL AV, DOLLS POINT NSW 2219</td>\n",
       "    </tr>\n",
       "    <tr>\n",
       "      <th>22</th>\n",
       "      <td>22</td>\n",
       "      <td>16/11/2019</td>\n",
       "      <td>12A/385 NEW CANTERBURY RD</td>\n",
       "      <td>DULWICH HILL</td>\n",
       "      <td>Unit</td>\n",
       "      <td>Sold</td>\n",
       "      <td>2</td>\n",
       "      <td>1.0</td>\n",
       "      <td>2</td>\n",
       "      <td>692000</td>\n",
       "      <td>https://www.domain.com.au/12a-385-new-canterbu...</td>\n",
       "      <td>2203</td>\n",
       "      <td>12A/385 NEW CANTERBURY RD, DULWICH HILL NSW 2203</td>\n",
       "    </tr>\n",
       "    <tr>\n",
       "      <th>23</th>\n",
       "      <td>23</td>\n",
       "      <td>16/11/2019</td>\n",
       "      <td>7/1 STATION ST</td>\n",
       "      <td>DUNDAS</td>\n",
       "      <td>Unit</td>\n",
       "      <td>Sold prior to auction</td>\n",
       "      <td>2</td>\n",
       "      <td>1.0</td>\n",
       "      <td>1</td>\n",
       "      <td>495000</td>\n",
       "      <td>https://www.domain.com.au/7-1-station-street-d...</td>\n",
       "      <td>2117</td>\n",
       "      <td>7/1 STATION ST, DUNDAS NSW 2117</td>\n",
       "    </tr>\n",
       "    <tr>\n",
       "      <th>24</th>\n",
       "      <td>24</td>\n",
       "      <td>16/11/2019</td>\n",
       "      <td>16/27 HOMER ST</td>\n",
       "      <td>EARLWOOD</td>\n",
       "      <td>Unit</td>\n",
       "      <td>Passed in</td>\n",
       "      <td>2</td>\n",
       "      <td>2.0</td>\n",
       "      <td>1</td>\n",
       "      <td>850000</td>\n",
       "      <td>https://www.domain.com.au/16-27-homer-street-e...</td>\n",
       "      <td>2206</td>\n",
       "      <td>16/27 HOMER ST, EARLWOOD NSW 2206</td>\n",
       "    </tr>\n",
       "    <tr>\n",
       "      <th>25</th>\n",
       "      <td>25</td>\n",
       "      <td>16/11/2019</td>\n",
       "      <td>14/19 MASCOT DR</td>\n",
       "      <td>EASTLAKES</td>\n",
       "      <td>Unit</td>\n",
       "      <td>Sold prior to auction</td>\n",
       "      <td>2</td>\n",
       "      <td>1.0</td>\n",
       "      <td>1</td>\n",
       "      <td>610000</td>\n",
       "      <td>https://www.domain.com.au/14-19-mascot-drive-e...</td>\n",
       "      <td>2018</td>\n",
       "      <td>14/19 MASCOT DR, EASTLAKES NSW 2018</td>\n",
       "    </tr>\n",
       "    <tr>\n",
       "      <th>26</th>\n",
       "      <td>26</td>\n",
       "      <td>16/11/2019</td>\n",
       "      <td>5/52 56 OXFORD ST</td>\n",
       "      <td>EPPING</td>\n",
       "      <td>Unit</td>\n",
       "      <td>Sold prior to auction</td>\n",
       "      <td>NaN</td>\n",
       "      <td>NaN</td>\n",
       "      <td>NaN</td>\n",
       "      <td>611000</td>\n",
       "      <td>https://domain.com.au/property-profile/5-52-56...</td>\n",
       "      <td>2121</td>\n",
       "      <td>5/52 56 OXFORD ST, EPPING NSW 2121</td>\n",
       "    </tr>\n",
       "    <tr>\n",
       "      <th>27</th>\n",
       "      <td>27</td>\n",
       "      <td>16/11/2019</td>\n",
       "      <td>706/36 38 VICTORIA ST</td>\n",
       "      <td>EPPING</td>\n",
       "      <td>Unit</td>\n",
       "      <td>Sold prior to auction</td>\n",
       "      <td>3</td>\n",
       "      <td>2.0</td>\n",
       "      <td>2</td>\n",
       "      <td>1235000</td>\n",
       "      <td>https://www.domain.com.au/706-38-victoria-stre...</td>\n",
       "      <td>2121</td>\n",
       "      <td>706/36 38 VICTORIA ST, EPPING NSW 2121</td>\n",
       "    </tr>\n",
       "    <tr>\n",
       "      <th>28</th>\n",
       "      <td>28</td>\n",
       "      <td>16/11/2019</td>\n",
       "      <td>1/43 OCEAN VIEW RD</td>\n",
       "      <td>FRESHWATER</td>\n",
       "      <td>Unit</td>\n",
       "      <td>Sold</td>\n",
       "      <td>1</td>\n",
       "      <td>1.0</td>\n",
       "      <td>1</td>\n",
       "      <td>950000</td>\n",
       "      <td>https://www.domain.com.au/1-43-ocean-view-road...</td>\n",
       "      <td>2096</td>\n",
       "      <td>1/43 OCEAN VIEW RD, FRESHWATER NSW 2096</td>\n",
       "    </tr>\n",
       "    <tr>\n",
       "      <th>29</th>\n",
       "      <td>29</td>\n",
       "      <td>16/11/2019</td>\n",
       "      <td>1/19 ASHBURN PL</td>\n",
       "      <td>GLADESVILLE</td>\n",
       "      <td>Unit</td>\n",
       "      <td>Sold</td>\n",
       "      <td>NaN</td>\n",
       "      <td>NaN</td>\n",
       "      <td>NaN</td>\n",
       "      <td>806000</td>\n",
       "      <td>https://domain.com.au/property-profile/1-19-as...</td>\n",
       "      <td>2111</td>\n",
       "      <td>1/19 ASHBURN PL, GLADESVILLE NSW 2111</td>\n",
       "    </tr>\n",
       "    <tr>\n",
       "      <th>...</th>\n",
       "      <td>...</td>\n",
       "      <td>...</td>\n",
       "      <td>...</td>\n",
       "      <td>...</td>\n",
       "      <td>...</td>\n",
       "      <td>...</td>\n",
       "      <td>...</td>\n",
       "      <td>...</td>\n",
       "      <td>...</td>\n",
       "      <td>...</td>\n",
       "      <td>...</td>\n",
       "      <td>...</td>\n",
       "      <td>...</td>\n",
       "    </tr>\n",
       "    <tr>\n",
       "      <th>281</th>\n",
       "      <td>281</td>\n",
       "      <td>26/10/2019</td>\n",
       "      <td>6/18A HIPWOOD ST</td>\n",
       "      <td>KIRRIBILLI</td>\n",
       "      <td>Unit</td>\n",
       "      <td>Sold</td>\n",
       "      <td>2</td>\n",
       "      <td>1.0</td>\n",
       "      <td>1</td>\n",
       "      <td>1120000</td>\n",
       "      <td>https://www.domain.com.au/6-18a-hipwood-street...</td>\n",
       "      <td>2061</td>\n",
       "      <td>6/18A HIPWOOD ST, KIRRIBILLI NSW 2061</td>\n",
       "    </tr>\n",
       "    <tr>\n",
       "      <th>282</th>\n",
       "      <td>282</td>\n",
       "      <td>26/10/2019</td>\n",
       "      <td>1/97 KIRRIBILLI AV</td>\n",
       "      <td>KIRRIBILLI</td>\n",
       "      <td>Unit</td>\n",
       "      <td>Sold</td>\n",
       "      <td>2</td>\n",
       "      <td>1.0</td>\n",
       "      <td>−</td>\n",
       "      <td>860000</td>\n",
       "      <td>https://www.domain.com.au/1-97-kirribilli-aven...</td>\n",
       "      <td>2061</td>\n",
       "      <td>1/97 KIRRIBILLI AV, KIRRIBILLI NSW 2061</td>\n",
       "    </tr>\n",
       "    <tr>\n",
       "      <th>283</th>\n",
       "      <td>283</td>\n",
       "      <td>26/10/2019</td>\n",
       "      <td>708/1 15 CENTRAL AV</td>\n",
       "      <td>MANLY</td>\n",
       "      <td>Unit</td>\n",
       "      <td>Passed in</td>\n",
       "      <td>2</td>\n",
       "      <td>2.0</td>\n",
       "      <td>1</td>\n",
       "      <td>1550000</td>\n",
       "      <td>https://www.domain.com.au/708-9-15-central-ave...</td>\n",
       "      <td>2095</td>\n",
       "      <td>708/1 15 CENTRAL AV, MANLY NSW 2095</td>\n",
       "    </tr>\n",
       "    <tr>\n",
       "      <th>284</th>\n",
       "      <td>284</td>\n",
       "      <td>26/10/2019</td>\n",
       "      <td>4/6 12 PACIFIC ST</td>\n",
       "      <td>MANLY</td>\n",
       "      <td>Unit</td>\n",
       "      <td>Sold prior to auction</td>\n",
       "      <td>2</td>\n",
       "      <td>2.0</td>\n",
       "      <td>1</td>\n",
       "      <td>1665000</td>\n",
       "      <td>https://www.domain.com.au/4-6-12-pacific-stree...</td>\n",
       "      <td>2095</td>\n",
       "      <td>4/6 12 PACIFIC ST, MANLY NSW 2095</td>\n",
       "    </tr>\n",
       "    <tr>\n",
       "      <th>285</th>\n",
       "      <td>285</td>\n",
       "      <td>26/10/2019</td>\n",
       "      <td>17/25 29 VICTORIA PDE</td>\n",
       "      <td>MANLY</td>\n",
       "      <td>Unit</td>\n",
       "      <td>Sold prior to auction</td>\n",
       "      <td>1</td>\n",
       "      <td>1.0</td>\n",
       "      <td>1</td>\n",
       "      <td>1225000</td>\n",
       "      <td>https://www.domain.com.au/17-29-victoria-parad...</td>\n",
       "      <td>2095</td>\n",
       "      <td>17/25 29 VICTORIA PDE, MANLY NSW 2095</td>\n",
       "    </tr>\n",
       "    <tr>\n",
       "      <th>286</th>\n",
       "      <td>286</td>\n",
       "      <td>26/10/2019</td>\n",
       "      <td>11/34 36 BOND ST</td>\n",
       "      <td>MAROUBRA</td>\n",
       "      <td>Unit</td>\n",
       "      <td>Sold</td>\n",
       "      <td>2</td>\n",
       "      <td>2.0</td>\n",
       "      <td>2</td>\n",
       "      <td>1525000</td>\n",
       "      <td>https://www.domain.com.au/11-34-bond-street-ma...</td>\n",
       "      <td>2035</td>\n",
       "      <td>11/34 36 BOND ST, MAROUBRA NSW 2035</td>\n",
       "    </tr>\n",
       "    <tr>\n",
       "      <th>287</th>\n",
       "      <td>287</td>\n",
       "      <td>26/10/2019</td>\n",
       "      <td>11/6 FORD RD</td>\n",
       "      <td>MAROUBRA</td>\n",
       "      <td>Unit</td>\n",
       "      <td>Sold</td>\n",
       "      <td>2</td>\n",
       "      <td>1.0</td>\n",
       "      <td>1</td>\n",
       "      <td>1130000</td>\n",
       "      <td>https://www.domain.com.au/11-6-ford-road-marou...</td>\n",
       "      <td>2035</td>\n",
       "      <td>11/6 FORD RD, MAROUBRA NSW 2035</td>\n",
       "    </tr>\n",
       "    <tr>\n",
       "      <th>288</th>\n",
       "      <td>288</td>\n",
       "      <td>26/10/2019</td>\n",
       "      <td>16D/70 ALFRED ST S</td>\n",
       "      <td>MILSONS POINT</td>\n",
       "      <td>Unit</td>\n",
       "      <td>Sold prior to auction</td>\n",
       "      <td>3</td>\n",
       "      <td>2.0</td>\n",
       "      <td>2</td>\n",
       "      <td>3275000</td>\n",
       "      <td>https://www.domain.com.au/16d-70-alfred-street...</td>\n",
       "      <td>2061</td>\n",
       "      <td>16D/70 ALFRED ST S, MILSONS POINT NSW 2061</td>\n",
       "    </tr>\n",
       "    <tr>\n",
       "      <th>289</th>\n",
       "      <td>289</td>\n",
       "      <td>26/10/2019</td>\n",
       "      <td>3/20 LISLE ST</td>\n",
       "      <td>NARRABEEN</td>\n",
       "      <td>Unit</td>\n",
       "      <td>Sold</td>\n",
       "      <td>2</td>\n",
       "      <td>1.0</td>\n",
       "      <td>1</td>\n",
       "      <td>811000</td>\n",
       "      <td>https://www.domain.com.au/3-20-lisle-street-na...</td>\n",
       "      <td>2101</td>\n",
       "      <td>3/20 LISLE ST, NARRABEEN NSW 2101</td>\n",
       "    </tr>\n",
       "    <tr>\n",
       "      <th>290</th>\n",
       "      <td>290</td>\n",
       "      <td>26/10/2019</td>\n",
       "      <td>1/35 PARK ST</td>\n",
       "      <td>NARRABEEN</td>\n",
       "      <td>Unit</td>\n",
       "      <td>Sold</td>\n",
       "      <td>2</td>\n",
       "      <td>1.0</td>\n",
       "      <td>1</td>\n",
       "      <td>788000</td>\n",
       "      <td>https://www.domain.com.au/1-35-park-street-nar...</td>\n",
       "      <td>2101</td>\n",
       "      <td>1/35 PARK ST, NARRABEEN NSW 2101</td>\n",
       "    </tr>\n",
       "    <tr>\n",
       "      <th>291</th>\n",
       "      <td>291</td>\n",
       "      <td>26/10/2019</td>\n",
       "      <td>106/11 GROSVENOR LA</td>\n",
       "      <td>NEUTRAL BAY</td>\n",
       "      <td>Unit</td>\n",
       "      <td>Sold</td>\n",
       "      <td>2</td>\n",
       "      <td>2.0</td>\n",
       "      <td>1</td>\n",
       "      <td>1324000</td>\n",
       "      <td>https://www.domain.com.au/106-11-grosvenor-lan...</td>\n",
       "      <td>2089</td>\n",
       "      <td>106/11 GROSVENOR LA, NEUTRAL BAY NSW 2089</td>\n",
       "    </tr>\n",
       "    <tr>\n",
       "      <th>292</th>\n",
       "      <td>292</td>\n",
       "      <td>26/10/2019</td>\n",
       "      <td>1/62 WYCOMBE RD</td>\n",
       "      <td>NEUTRAL BAY</td>\n",
       "      <td>Unit</td>\n",
       "      <td>Sold prior to auction</td>\n",
       "      <td>2</td>\n",
       "      <td>2.0</td>\n",
       "      <td>1</td>\n",
       "      <td>1420000</td>\n",
       "      <td>https://www.domain.com.au/1-62-wycombe-road-ne...</td>\n",
       "      <td>2089</td>\n",
       "      <td>1/62 WYCOMBE RD, NEUTRAL BAY NSW 2089</td>\n",
       "    </tr>\n",
       "    <tr>\n",
       "      <th>293</th>\n",
       "      <td>293</td>\n",
       "      <td>26/10/2019</td>\n",
       "      <td>401/245 PACIFIC HWY</td>\n",
       "      <td>NORTH SYDNEY</td>\n",
       "      <td>Unit</td>\n",
       "      <td>Sold</td>\n",
       "      <td>2</td>\n",
       "      <td>2.0</td>\n",
       "      <td>1</td>\n",
       "      <td>1205000</td>\n",
       "      <td>https://www.domain.com.au/401-245-pacific-high...</td>\n",
       "      <td>2060</td>\n",
       "      <td>401/245 PACIFIC HWY, NORTH SYDNEY NSW 2060</td>\n",
       "    </tr>\n",
       "    <tr>\n",
       "      <th>294</th>\n",
       "      <td>294</td>\n",
       "      <td>26/10/2019</td>\n",
       "      <td>317/357 GLENMORE RD</td>\n",
       "      <td>PADDINGTON</td>\n",
       "      <td>Unit</td>\n",
       "      <td>Sold prior to auction</td>\n",
       "      <td>3</td>\n",
       "      <td>3.0</td>\n",
       "      <td>2</td>\n",
       "      <td>4250000</td>\n",
       "      <td>https://www.domain.com.au/317-357-glenmore-roa...</td>\n",
       "      <td>2021</td>\n",
       "      <td>317/357 GLENMORE RD, PADDINGTON NSW 2021</td>\n",
       "    </tr>\n",
       "    <tr>\n",
       "      <th>295</th>\n",
       "      <td>295</td>\n",
       "      <td>26/10/2019</td>\n",
       "      <td>2/232 MOORE PARK RD</td>\n",
       "      <td>PADDINGTON</td>\n",
       "      <td>Unit</td>\n",
       "      <td>Sold prior to auction</td>\n",
       "      <td>1</td>\n",
       "      <td>1.0</td>\n",
       "      <td>−</td>\n",
       "      <td>661000</td>\n",
       "      <td>https://www.domain.com.au/2-232-moore-park-roa...</td>\n",
       "      <td>2021</td>\n",
       "      <td>2/232 MOORE PARK RD, PADDINGTON NSW 2021</td>\n",
       "    </tr>\n",
       "    <tr>\n",
       "      <th>296</th>\n",
       "      <td>296</td>\n",
       "      <td>26/10/2019</td>\n",
       "      <td>43/20 VICTORIA RD</td>\n",
       "      <td>PARRAMATTA</td>\n",
       "      <td>Unit</td>\n",
       "      <td>Sold</td>\n",
       "      <td>2</td>\n",
       "      <td>2.0</td>\n",
       "      <td>1</td>\n",
       "      <td>628000</td>\n",
       "      <td>https://www.domain.com.au/43-20-victoria-road-...</td>\n",
       "      <td>2150</td>\n",
       "      <td>43/20 VICTORIA RD, PARRAMATTA NSW 2150</td>\n",
       "    </tr>\n",
       "    <tr>\n",
       "      <th>297</th>\n",
       "      <td>297</td>\n",
       "      <td>26/10/2019</td>\n",
       "      <td>21/5 7 RICHARDS AV</td>\n",
       "      <td>PEAKHURST</td>\n",
       "      <td>Unit</td>\n",
       "      <td>Sold</td>\n",
       "      <td>3</td>\n",
       "      <td>2.0</td>\n",
       "      <td>2</td>\n",
       "      <td>730000</td>\n",
       "      <td>https://www.domain.com.au/21-5-7-richards-aven...</td>\n",
       "      <td>2210</td>\n",
       "      <td>21/5 7 RICHARDS AV, PEAKHURST NSW 2210</td>\n",
       "    </tr>\n",
       "    <tr>\n",
       "      <th>298</th>\n",
       "      <td>298</td>\n",
       "      <td>26/10/2019</td>\n",
       "      <td>2/18 SPRINGFIELD AV</td>\n",
       "      <td>POTTS POINT</td>\n",
       "      <td>Studio</td>\n",
       "      <td>Sold prior to auction</td>\n",
       "      <td>−</td>\n",
       "      <td>1.0</td>\n",
       "      <td>−</td>\n",
       "      <td>430000</td>\n",
       "      <td>https://www.domain.com.au/2-18-springfield-ave...</td>\n",
       "      <td>2011</td>\n",
       "      <td>2/18 SPRINGFIELD AV, POTTS POINT NSW 2011</td>\n",
       "    </tr>\n",
       "    <tr>\n",
       "      <th>299</th>\n",
       "      <td>299</td>\n",
       "      <td>26/10/2019</td>\n",
       "      <td>193/120 140 PYRMONT ST</td>\n",
       "      <td>PYRMONT</td>\n",
       "      <td>Unit</td>\n",
       "      <td>Sold</td>\n",
       "      <td>2</td>\n",
       "      <td>2.0</td>\n",
       "      <td>1</td>\n",
       "      <td>1050000</td>\n",
       "      <td>https://www.domain.com.au/193-120-pyrmont-stre...</td>\n",
       "      <td>2009</td>\n",
       "      <td>193/120 140 PYRMONT ST, PYRMONT NSW 2009</td>\n",
       "    </tr>\n",
       "    <tr>\n",
       "      <th>300</th>\n",
       "      <td>300</td>\n",
       "      <td>26/10/2019</td>\n",
       "      <td>2/108 QUEENSCLIFF RD</td>\n",
       "      <td>QUEENSCLIFF</td>\n",
       "      <td>Unit</td>\n",
       "      <td>Sold</td>\n",
       "      <td>2</td>\n",
       "      <td>1.0</td>\n",
       "      <td>2</td>\n",
       "      <td>1375000</td>\n",
       "      <td>https://www.domain.com.au/2-108-queenscliff-ro...</td>\n",
       "      <td>2096</td>\n",
       "      <td>2/108 QUEENSCLIFF RD, QUEENSCLIFF NSW 2096</td>\n",
       "    </tr>\n",
       "    <tr>\n",
       "      <th>301</th>\n",
       "      <td>301</td>\n",
       "      <td>26/10/2019</td>\n",
       "      <td>8/1 7 MALABAR RD</td>\n",
       "      <td>SOUTH COOGEE</td>\n",
       "      <td>Unit</td>\n",
       "      <td>Sold</td>\n",
       "      <td>2</td>\n",
       "      <td>1.0</td>\n",
       "      <td>−</td>\n",
       "      <td>1055000</td>\n",
       "      <td>https://www.domain.com.au/8-1-7-malabar-road-s...</td>\n",
       "      <td>2034</td>\n",
       "      <td>8/1 7 MALABAR RD, SOUTH COOGEE NSW 2034</td>\n",
       "    </tr>\n",
       "    <tr>\n",
       "      <th>302</th>\n",
       "      <td>302</td>\n",
       "      <td>26/10/2019</td>\n",
       "      <td>6/1 GOODSELL ST</td>\n",
       "      <td>ST PETERS</td>\n",
       "      <td>Unit</td>\n",
       "      <td>Sold prior to auction</td>\n",
       "      <td>2</td>\n",
       "      <td>2.0</td>\n",
       "      <td>1</td>\n",
       "      <td>820000</td>\n",
       "      <td>https://www.domain.com.au/6-1-goodsell-street-...</td>\n",
       "      <td>2044</td>\n",
       "      <td>6/1 GOODSELL ST, ST PETERS NSW 2044</td>\n",
       "    </tr>\n",
       "    <tr>\n",
       "      <th>303</th>\n",
       "      <td>303</td>\n",
       "      <td>26/10/2019</td>\n",
       "      <td>3/60 HUTCHINSON ST</td>\n",
       "      <td>ST PETERS</td>\n",
       "      <td>Unit</td>\n",
       "      <td>Sold prior to auction</td>\n",
       "      <td>2</td>\n",
       "      <td>1.0</td>\n",
       "      <td>1</td>\n",
       "      <td>970000</td>\n",
       "      <td>https://www.domain.com.au/3-60-hutchinson-stre...</td>\n",
       "      <td>2044</td>\n",
       "      <td>3/60 HUTCHINSON ST, ST PETERS NSW 2044</td>\n",
       "    </tr>\n",
       "    <tr>\n",
       "      <th>304</th>\n",
       "      <td>304</td>\n",
       "      <td>26/10/2019</td>\n",
       "      <td>12/11 EVERTON RD</td>\n",
       "      <td>STRATHFIELD</td>\n",
       "      <td>Unit</td>\n",
       "      <td>Sold</td>\n",
       "      <td>3</td>\n",
       "      <td>2.0</td>\n",
       "      <td>1</td>\n",
       "      <td>901500</td>\n",
       "      <td>https://www.domain.com.au/12-11-everton-road-s...</td>\n",
       "      <td>2135</td>\n",
       "      <td>12/11 EVERTON RD, STRATHFIELD NSW 2135</td>\n",
       "    </tr>\n",
       "    <tr>\n",
       "      <th>305</th>\n",
       "      <td>305</td>\n",
       "      <td>26/10/2019</td>\n",
       "      <td>14/23 25 GOWER ST</td>\n",
       "      <td>SUMMER HILL</td>\n",
       "      <td>Unit</td>\n",
       "      <td>Sold prior to auction</td>\n",
       "      <td>2</td>\n",
       "      <td>1.0</td>\n",
       "      <td>−</td>\n",
       "      <td>723186</td>\n",
       "      <td>https://www.domain.com.au/14-23-25-gower-stree...</td>\n",
       "      <td>2130</td>\n",
       "      <td>14/23 25 GOWER ST, SUMMER HILL NSW 2130</td>\n",
       "    </tr>\n",
       "    <tr>\n",
       "      <th>306</th>\n",
       "      <td>306</td>\n",
       "      <td>26/10/2019</td>\n",
       "      <td>3/102 104 ALBION ST</td>\n",
       "      <td>SURRY HILLS</td>\n",
       "      <td>Unit</td>\n",
       "      <td>Sold prior to auction</td>\n",
       "      <td>1</td>\n",
       "      <td>1.0</td>\n",
       "      <td>−</td>\n",
       "      <td>650000</td>\n",
       "      <td>https://www.domain.com.au/3-102-albion-street-...</td>\n",
       "      <td>2010</td>\n",
       "      <td>3/102 104 ALBION ST, SURRY HILLS NSW 2010</td>\n",
       "    </tr>\n",
       "    <tr>\n",
       "      <th>307</th>\n",
       "      <td>307</td>\n",
       "      <td>26/10/2019</td>\n",
       "      <td>44/33 RESERVOIR ST</td>\n",
       "      <td>SURRY HILLS</td>\n",
       "      <td>Unit</td>\n",
       "      <td>Sold prior to auction</td>\n",
       "      <td>2</td>\n",
       "      <td>2.0</td>\n",
       "      <td>2</td>\n",
       "      <td>1375000</td>\n",
       "      <td>https://www.domain.com.au/44-33-reservoir-stre...</td>\n",
       "      <td>2010</td>\n",
       "      <td>44/33 RESERVOIR ST, SURRY HILLS NSW 2010</td>\n",
       "    </tr>\n",
       "    <tr>\n",
       "      <th>308</th>\n",
       "      <td>308</td>\n",
       "      <td>26/10/2019</td>\n",
       "      <td>23/2 4 FINLAY RD</td>\n",
       "      <td>TURRAMURRA</td>\n",
       "      <td>Unit</td>\n",
       "      <td>Sold prior to auction</td>\n",
       "      <td>2</td>\n",
       "      <td>2.0</td>\n",
       "      <td>2</td>\n",
       "      <td>892000</td>\n",
       "      <td>https://www.domain.com.au/23-2-finlay-road-tur...</td>\n",
       "      <td>2074</td>\n",
       "      <td>23/2 4 FINLAY RD, TURRAMURRA NSW 2074</td>\n",
       "    </tr>\n",
       "    <tr>\n",
       "      <th>309</th>\n",
       "      <td>309</td>\n",
       "      <td>26/10/2019</td>\n",
       "      <td>605/11A LACHLAN ST</td>\n",
       "      <td>WATERLOO</td>\n",
       "      <td>Unit</td>\n",
       "      <td>Sold prior to auction</td>\n",
       "      <td>2</td>\n",
       "      <td>2.0</td>\n",
       "      <td>1</td>\n",
       "      <td>876000</td>\n",
       "      <td>https://www.domain.com.au/605-11a-lachlan-stre...</td>\n",
       "      <td>2017</td>\n",
       "      <td>605/11A LACHLAN ST, WATERLOO NSW 2017</td>\n",
       "    </tr>\n",
       "    <tr>\n",
       "      <th>310</th>\n",
       "      <td>310</td>\n",
       "      <td>26/10/2019</td>\n",
       "      <td>6/14 HELEN ST</td>\n",
       "      <td>WESTMEAD</td>\n",
       "      <td>Unit</td>\n",
       "      <td>Sold</td>\n",
       "      <td>2</td>\n",
       "      <td>1.0</td>\n",
       "      <td>1</td>\n",
       "      <td>515000</td>\n",
       "      <td>https://www.domain.com.au/6-14-16-helen-street...</td>\n",
       "      <td>2145</td>\n",
       "      <td>6/14 HELEN ST, WESTMEAD NSW 2145</td>\n",
       "    </tr>\n",
       "  </tbody>\n",
       "</table>\n",
       "<p>311 rows × 13 columns</p>\n",
       "</div>"
      ],
      "text/plain": [
       "     Unnamed: 0        date                    address         suburb  \\\n",
       "0             0  16/11/2019         29/18 20 NEWTON ST     ALEXANDRIA   \n",
       "1             1  16/11/2019             3/3 CHANDOS ST       ASHFIELD   \n",
       "2             2  16/11/2019          2/42 ELIZABETH ST       ASHFIELD   \n",
       "3             3  16/11/2019       15/660 BARRENJOEY RD   AVALON BEACH   \n",
       "4             4  16/11/2019              5/18 WHITE ST      BALGOWLAH   \n",
       "5             5  16/11/2019              8/22 FLOOD ST          BONDI   \n",
       "6             6  16/11/2019           39/2 VICTORIA ST         BOTANY   \n",
       "7             7  16/11/2019              15/25 BARR ST     CAMPERDOWN   \n",
       "8             8  16/11/2019            11/34 ARCHER ST      CHATSWOOD   \n",
       "9             9  16/11/2019        34/14 16 FREEMAN RD      CHATSWOOD   \n",
       "10           10  16/11/2019          14/15 KOORINGA RD      CHATSWOOD   \n",
       "11           11  16/11/2019        8/14 16 O'CONNOR ST    CHIPPENDALE   \n",
       "12           12  16/11/2019        114/2 MACPHERSON ST       CREMORNE   \n",
       "13           13  16/11/2019               1/7 COAST AV       CRONULLA   \n",
       "14           14  16/11/2019        8/2 6 PARRAMATTA ST       CRONULLA   \n",
       "15           15  16/11/2019    203/402 420 PACIFIC HWY     CROWS NEST   \n",
       "16           16  16/11/2019           2/147 CROYDON AV   CROYDON PARK   \n",
       "17           17  16/11/2019        26/347 LIVERPOOL ST   DARLINGHURST   \n",
       "18           18  16/11/2019             6/20 CASSIA ST        DEE WHY   \n",
       "19           19  16/11/2019            1/58 60 OAKS AV        DEE WHY   \n",
       "20           20  16/11/2019         8/16 THE CRESCENT         DEE WHY   \n",
       "21           21  16/11/2019           2/182 RUSSELL AV    DOLLS POINT   \n",
       "22           22  16/11/2019  12A/385 NEW CANTERBURY RD   DULWICH HILL   \n",
       "23           23  16/11/2019             7/1 STATION ST         DUNDAS   \n",
       "24           24  16/11/2019             16/27 HOMER ST       EARLWOOD   \n",
       "25           25  16/11/2019            14/19 MASCOT DR      EASTLAKES   \n",
       "26           26  16/11/2019          5/52 56 OXFORD ST         EPPING   \n",
       "27           27  16/11/2019      706/36 38 VICTORIA ST         EPPING   \n",
       "28           28  16/11/2019         1/43 OCEAN VIEW RD     FRESHWATER   \n",
       "29           29  16/11/2019            1/19 ASHBURN PL    GLADESVILLE   \n",
       "..          ...         ...                        ...            ...   \n",
       "281         281  26/10/2019           6/18A HIPWOOD ST     KIRRIBILLI   \n",
       "282         282  26/10/2019         1/97 KIRRIBILLI AV     KIRRIBILLI   \n",
       "283         283  26/10/2019        708/1 15 CENTRAL AV          MANLY   \n",
       "284         284  26/10/2019          4/6 12 PACIFIC ST          MANLY   \n",
       "285         285  26/10/2019      17/25 29 VICTORIA PDE          MANLY   \n",
       "286         286  26/10/2019           11/34 36 BOND ST       MAROUBRA   \n",
       "287         287  26/10/2019               11/6 FORD RD       MAROUBRA   \n",
       "288         288  26/10/2019         16D/70 ALFRED ST S  MILSONS POINT   \n",
       "289         289  26/10/2019              3/20 LISLE ST      NARRABEEN   \n",
       "290         290  26/10/2019               1/35 PARK ST      NARRABEEN   \n",
       "291         291  26/10/2019        106/11 GROSVENOR LA    NEUTRAL BAY   \n",
       "292         292  26/10/2019            1/62 WYCOMBE RD    NEUTRAL BAY   \n",
       "293         293  26/10/2019        401/245 PACIFIC HWY   NORTH SYDNEY   \n",
       "294         294  26/10/2019        317/357 GLENMORE RD     PADDINGTON   \n",
       "295         295  26/10/2019        2/232 MOORE PARK RD     PADDINGTON   \n",
       "296         296  26/10/2019          43/20 VICTORIA RD     PARRAMATTA   \n",
       "297         297  26/10/2019         21/5 7 RICHARDS AV      PEAKHURST   \n",
       "298         298  26/10/2019        2/18 SPRINGFIELD AV    POTTS POINT   \n",
       "299         299  26/10/2019     193/120 140 PYRMONT ST        PYRMONT   \n",
       "300         300  26/10/2019       2/108 QUEENSCLIFF RD    QUEENSCLIFF   \n",
       "301         301  26/10/2019           8/1 7 MALABAR RD   SOUTH COOGEE   \n",
       "302         302  26/10/2019            6/1 GOODSELL ST      ST PETERS   \n",
       "303         303  26/10/2019         3/60 HUTCHINSON ST      ST PETERS   \n",
       "304         304  26/10/2019           12/11 EVERTON RD    STRATHFIELD   \n",
       "305         305  26/10/2019          14/23 25 GOWER ST    SUMMER HILL   \n",
       "306         306  26/10/2019        3/102 104 ALBION ST    SURRY HILLS   \n",
       "307         307  26/10/2019         44/33 RESERVOIR ST    SURRY HILLS   \n",
       "308         308  26/10/2019           23/2 4 FINLAY RD     TURRAMURRA   \n",
       "309         309  26/10/2019         605/11A LACHLAN ST       WATERLOO   \n",
       "310         310  26/10/2019              6/14 HELEN ST       WESTMEAD   \n",
       "\n",
       "    prop_type                 status beds  baths cars  sold_price  \\\n",
       "0        Unit                   Sold    1    1.0    −      657000   \n",
       "1        Unit                   Sold    2    1.0    1      633000   \n",
       "2        Unit                   Sold    2    1.0    1      734000   \n",
       "3        Unit  Sold prior to auction    1    1.0    1      528000   \n",
       "4        Unit  Sold prior to auction    2    1.0    1      945000   \n",
       "5        Unit                   Sold    2    1.0    1     1090000   \n",
       "6        Unit  Sold prior to auction    3    2.0    2      870000   \n",
       "7        Unit                   Sold    2    2.0    2     1050000   \n",
       "8        Unit  Sold prior to auction    2    1.0    1     1100000   \n",
       "9        Unit                   Sold    2    2.0    1     1025000   \n",
       "10       Unit                   Sold    2    3.0    2     1402000   \n",
       "11       Unit  Sold prior to auction  NaN    NaN  NaN      580000   \n",
       "12       Unit  Sold prior to auction    1    1.0    1      681300   \n",
       "13       Unit                   Sold    2    1.0    −      700000   \n",
       "14       Unit                   Sold    3    2.0    2     1310000   \n",
       "15       Unit  Sold prior to auction  NaN    NaN  NaN      529000   \n",
       "16       Unit                   Sold    2    1.0    1      712500   \n",
       "17     Studio              Passed in    −    1.0    −      465000   \n",
       "18       Unit                   Sold    1    1.0    1      660000   \n",
       "19       Unit                   Sold    2    2.0    1     1070000   \n",
       "20       Unit                   Sold    2    1.0    2      920000   \n",
       "21       Unit                   Sold    2    1.0    2      663000   \n",
       "22       Unit                   Sold    2    1.0    2      692000   \n",
       "23       Unit  Sold prior to auction    2    1.0    1      495000   \n",
       "24       Unit              Passed in    2    2.0    1      850000   \n",
       "25       Unit  Sold prior to auction    2    1.0    1      610000   \n",
       "26       Unit  Sold prior to auction  NaN    NaN  NaN      611000   \n",
       "27       Unit  Sold prior to auction    3    2.0    2     1235000   \n",
       "28       Unit                   Sold    1    1.0    1      950000   \n",
       "29       Unit                   Sold  NaN    NaN  NaN      806000   \n",
       "..        ...                    ...  ...    ...  ...         ...   \n",
       "281      Unit                   Sold    2    1.0    1     1120000   \n",
       "282      Unit                   Sold    2    1.0    −      860000   \n",
       "283      Unit              Passed in    2    2.0    1     1550000   \n",
       "284      Unit  Sold prior to auction    2    2.0    1     1665000   \n",
       "285      Unit  Sold prior to auction    1    1.0    1     1225000   \n",
       "286      Unit                   Sold    2    2.0    2     1525000   \n",
       "287      Unit                   Sold    2    1.0    1     1130000   \n",
       "288      Unit  Sold prior to auction    3    2.0    2     3275000   \n",
       "289      Unit                   Sold    2    1.0    1      811000   \n",
       "290      Unit                   Sold    2    1.0    1      788000   \n",
       "291      Unit                   Sold    2    2.0    1     1324000   \n",
       "292      Unit  Sold prior to auction    2    2.0    1     1420000   \n",
       "293      Unit                   Sold    2    2.0    1     1205000   \n",
       "294      Unit  Sold prior to auction    3    3.0    2     4250000   \n",
       "295      Unit  Sold prior to auction    1    1.0    −      661000   \n",
       "296      Unit                   Sold    2    2.0    1      628000   \n",
       "297      Unit                   Sold    3    2.0    2      730000   \n",
       "298    Studio  Sold prior to auction    −    1.0    −      430000   \n",
       "299      Unit                   Sold    2    2.0    1     1050000   \n",
       "300      Unit                   Sold    2    1.0    2     1375000   \n",
       "301      Unit                   Sold    2    1.0    −     1055000   \n",
       "302      Unit  Sold prior to auction    2    2.0    1      820000   \n",
       "303      Unit  Sold prior to auction    2    1.0    1      970000   \n",
       "304      Unit                   Sold    3    2.0    1      901500   \n",
       "305      Unit  Sold prior to auction    2    1.0    −      723186   \n",
       "306      Unit  Sold prior to auction    1    1.0    −      650000   \n",
       "307      Unit  Sold prior to auction    2    2.0    2     1375000   \n",
       "308      Unit  Sold prior to auction    2    2.0    2      892000   \n",
       "309      Unit  Sold prior to auction    2    2.0    1      876000   \n",
       "310      Unit                   Sold    2    1.0    1      515000   \n",
       "\n",
       "                                                   url  post_code  \\\n",
       "0    https://www.domain.com.au/29-18-20-newton-stre...       2015   \n",
       "1    https://www.domain.com.au/3-3-chandos-street-a...       2131   \n",
       "2    https://www.domain.com.au/2-42-elizabeth-stree...       2131   \n",
       "3    https://www.domain.com.au/15-660-barrenjoey-ro...       2107   \n",
       "4    https://www.domain.com.au/5-18-white-street-ba...       2093   \n",
       "5    https://www.domain.com.au/8-22-flood-street-bo...       2026   \n",
       "6    https://www.domain.com.au/39-2-victoria-street...       2019   \n",
       "7    https://www.domain.com.au/15-25-barr-street-ca...       2050   \n",
       "8    https://www.domain.com.au/11-34-archer-street-...       2067   \n",
       "9    https://www.domain.com.au/34-14-16-freeman-roa...       2067   \n",
       "10   https://www.domain.com.au/14-15-kooringa-road-...       2067   \n",
       "11   https://domain.com.au/property-profile/8-14-16...       2008   \n",
       "12   https://www.domain.com.au/114-2-macpherson-str...       2090   \n",
       "13   https://www.domain.com.au/1-7-coast-avenue-cro...       2230   \n",
       "14   https://www.domain.com.au/8-2-parramatta-stree...       2230   \n",
       "15   https://domain.com.au/property-profile/203-402...       2065   \n",
       "16   https://www.domain.com.au/2-147-croydon-avenue...       2133   \n",
       "17   https://www.domain.com.au/26-347-liverpool-str...       2010   \n",
       "18   https://www.domain.com.au/6-20-cassia-street-d...       2099   \n",
       "19   https://www.domain.com.au/1-58-oaks-avenue-dee...       2099   \n",
       "20   https://www.domain.com.au/8-16-the-crescent-de...       2099   \n",
       "21   https://www.domain.com.au/2-182-russell-avenue...       2219   \n",
       "22   https://www.domain.com.au/12a-385-new-canterbu...       2203   \n",
       "23   https://www.domain.com.au/7-1-station-street-d...       2117   \n",
       "24   https://www.domain.com.au/16-27-homer-street-e...       2206   \n",
       "25   https://www.domain.com.au/14-19-mascot-drive-e...       2018   \n",
       "26   https://domain.com.au/property-profile/5-52-56...       2121   \n",
       "27   https://www.domain.com.au/706-38-victoria-stre...       2121   \n",
       "28   https://www.domain.com.au/1-43-ocean-view-road...       2096   \n",
       "29   https://domain.com.au/property-profile/1-19-as...       2111   \n",
       "..                                                 ...        ...   \n",
       "281  https://www.domain.com.au/6-18a-hipwood-street...       2061   \n",
       "282  https://www.domain.com.au/1-97-kirribilli-aven...       2061   \n",
       "283  https://www.domain.com.au/708-9-15-central-ave...       2095   \n",
       "284  https://www.domain.com.au/4-6-12-pacific-stree...       2095   \n",
       "285  https://www.domain.com.au/17-29-victoria-parad...       2095   \n",
       "286  https://www.domain.com.au/11-34-bond-street-ma...       2035   \n",
       "287  https://www.domain.com.au/11-6-ford-road-marou...       2035   \n",
       "288  https://www.domain.com.au/16d-70-alfred-street...       2061   \n",
       "289  https://www.domain.com.au/3-20-lisle-street-na...       2101   \n",
       "290  https://www.domain.com.au/1-35-park-street-nar...       2101   \n",
       "291  https://www.domain.com.au/106-11-grosvenor-lan...       2089   \n",
       "292  https://www.domain.com.au/1-62-wycombe-road-ne...       2089   \n",
       "293  https://www.domain.com.au/401-245-pacific-high...       2060   \n",
       "294  https://www.domain.com.au/317-357-glenmore-roa...       2021   \n",
       "295  https://www.domain.com.au/2-232-moore-park-roa...       2021   \n",
       "296  https://www.domain.com.au/43-20-victoria-road-...       2150   \n",
       "297  https://www.domain.com.au/21-5-7-richards-aven...       2210   \n",
       "298  https://www.domain.com.au/2-18-springfield-ave...       2011   \n",
       "299  https://www.domain.com.au/193-120-pyrmont-stre...       2009   \n",
       "300  https://www.domain.com.au/2-108-queenscliff-ro...       2096   \n",
       "301  https://www.domain.com.au/8-1-7-malabar-road-s...       2034   \n",
       "302  https://www.domain.com.au/6-1-goodsell-street-...       2044   \n",
       "303  https://www.domain.com.au/3-60-hutchinson-stre...       2044   \n",
       "304  https://www.domain.com.au/12-11-everton-road-s...       2135   \n",
       "305  https://www.domain.com.au/14-23-25-gower-stree...       2130   \n",
       "306  https://www.domain.com.au/3-102-albion-street-...       2010   \n",
       "307  https://www.domain.com.au/44-33-reservoir-stre...       2010   \n",
       "308  https://www.domain.com.au/23-2-finlay-road-tur...       2074   \n",
       "309  https://www.domain.com.au/605-11a-lachlan-stre...       2017   \n",
       "310  https://www.domain.com.au/6-14-16-helen-street...       2145   \n",
       "\n",
       "                                         full_address  \n",
       "0             29/18 20 NEWTON ST, ALEXANDRIA NSW 2015  \n",
       "1                   3/3 CHANDOS ST, ASHFIELD NSW 2131  \n",
       "2                2/42 ELIZABETH ST, ASHFIELD NSW 2131  \n",
       "3         15/660 BARRENJOEY RD, AVALON BEACH NSW 2107  \n",
       "4                   5/18 WHITE ST, BALGOWLAH NSW 2093  \n",
       "5                       8/22 FLOOD ST, BONDI NSW 2026  \n",
       "6                   39/2 VICTORIA ST, BOTANY NSW 2019  \n",
       "7                  15/25 BARR ST, CAMPERDOWN NSW 2050  \n",
       "8                 11/34 ARCHER ST, CHATSWOOD NSW 2067  \n",
       "9             34/14 16 FREEMAN RD, CHATSWOOD NSW 2067  \n",
       "10              14/15 KOORINGA RD, CHATSWOOD NSW 2067  \n",
       "11          8/14 16 O'CONNOR ST, CHIPPENDALE NSW 2008  \n",
       "12             114/2 MACPHERSON ST, CREMORNE NSW 2090  \n",
       "13                    1/7 COAST AV, CRONULLA NSW 2230  \n",
       "14             8/2 6 PARRAMATTA ST, CRONULLA NSW 2230  \n",
       "15       203/402 420 PACIFIC HWY, CROWS NEST NSW 2065  \n",
       "16            2/147 CROYDON AV, CROYDON PARK NSW 2133  \n",
       "17         26/347 LIVERPOOL ST, DARLINGHURST NSW 2010  \n",
       "18                   6/20 CASSIA ST, DEE WHY NSW 2099  \n",
       "19                  1/58 60 OAKS AV, DEE WHY NSW 2099  \n",
       "20               8/16 THE CRESCENT , DEE WHY NSW 2099  \n",
       "21             2/182 RUSSELL AV, DOLLS POINT NSW 2219  \n",
       "22   12A/385 NEW CANTERBURY RD, DULWICH HILL NSW 2203  \n",
       "23                    7/1 STATION ST, DUNDAS NSW 2117  \n",
       "24                  16/27 HOMER ST, EARLWOOD NSW 2206  \n",
       "25                14/19 MASCOT DR, EASTLAKES NSW 2018  \n",
       "26                 5/52 56 OXFORD ST, EPPING NSW 2121  \n",
       "27             706/36 38 VICTORIA ST, EPPING NSW 2121  \n",
       "28            1/43 OCEAN VIEW RD, FRESHWATER NSW 2096  \n",
       "29              1/19 ASHBURN PL, GLADESVILLE NSW 2111  \n",
       "..                                                ...  \n",
       "281             6/18A HIPWOOD ST, KIRRIBILLI NSW 2061  \n",
       "282           1/97 KIRRIBILLI AV, KIRRIBILLI NSW 2061  \n",
       "283               708/1 15 CENTRAL AV, MANLY NSW 2095  \n",
       "284                 4/6 12 PACIFIC ST, MANLY NSW 2095  \n",
       "285             17/25 29 VICTORIA PDE, MANLY NSW 2095  \n",
       "286               11/34 36 BOND ST, MAROUBRA NSW 2035  \n",
       "287                   11/6 FORD RD, MAROUBRA NSW 2035  \n",
       "288        16D/70 ALFRED ST S, MILSONS POINT NSW 2061  \n",
       "289                 3/20 LISLE ST, NARRABEEN NSW 2101  \n",
       "290                  1/35 PARK ST, NARRABEEN NSW 2101  \n",
       "291         106/11 GROSVENOR LA, NEUTRAL BAY NSW 2089  \n",
       "292             1/62 WYCOMBE RD, NEUTRAL BAY NSW 2089  \n",
       "293        401/245 PACIFIC HWY, NORTH SYDNEY NSW 2060  \n",
       "294          317/357 GLENMORE RD, PADDINGTON NSW 2021  \n",
       "295          2/232 MOORE PARK RD, PADDINGTON NSW 2021  \n",
       "296            43/20 VICTORIA RD, PARRAMATTA NSW 2150  \n",
       "297            21/5 7 RICHARDS AV, PEAKHURST NSW 2210  \n",
       "298         2/18 SPRINGFIELD AV, POTTS POINT NSW 2011  \n",
       "299          193/120 140 PYRMONT ST, PYRMONT NSW 2009  \n",
       "300        2/108 QUEENSCLIFF RD, QUEENSCLIFF NSW 2096  \n",
       "301           8/1 7 MALABAR RD, SOUTH COOGEE NSW 2034  \n",
       "302               6/1 GOODSELL ST, ST PETERS NSW 2044  \n",
       "303            3/60 HUTCHINSON ST, ST PETERS NSW 2044  \n",
       "304            12/11 EVERTON RD, STRATHFIELD NSW 2135  \n",
       "305           14/23 25 GOWER ST, SUMMER HILL NSW 2130  \n",
       "306         3/102 104 ALBION ST, SURRY HILLS NSW 2010  \n",
       "307          44/33 RESERVOIR ST, SURRY HILLS NSW 2010  \n",
       "308             23/2 4 FINLAY RD, TURRAMURRA NSW 2074  \n",
       "309             605/11A LACHLAN ST, WATERLOO NSW 2017  \n",
       "310                  6/14 HELEN ST, WESTMEAD NSW 2145  \n",
       "\n",
       "[311 rows x 13 columns]"
      ]
     },
     "execution_count": 252,
     "metadata": {},
     "output_type": "execute_result"
    }
   ],
   "source": [
    "Domain_auction_price"
   ]
  },
  {
   "cell_type": "code",
   "execution_count": 9,
   "metadata": {},
   "outputs": [],
   "source": [
    "Domain_auction_price.to_csv('Domain_sold_price_24_11_2019_upadated_2.csv')"
   ]
  },
  {
   "cell_type": "code",
   "execution_count": null,
   "metadata": {},
   "outputs": [],
   "source": []
  }
 ],
 "metadata": {
  "kernelspec": {
   "display_name": "Python 3",
   "language": "python",
   "name": "python3"
  },
  "language_info": {
   "codemirror_mode": {
    "name": "ipython",
    "version": 3
   },
   "file_extension": ".py",
   "mimetype": "text/x-python",
   "name": "python",
   "nbconvert_exporter": "python",
   "pygments_lexer": "ipython3",
   "version": "3.7.4"
  }
 },
 "nbformat": 4,
 "nbformat_minor": 2
}
