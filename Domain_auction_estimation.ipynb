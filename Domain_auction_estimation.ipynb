{
 "cells": [
  {
   "cell_type": "code",
   "execution_count": 1,
   "metadata": {},
   "outputs": [],
   "source": [
    "from bs4 import BeautifulSoup\n",
    "import pandas as pd\n",
    "import requests,re,json, random\n",
    "from tqdm import tqdm\n",
    "import time"
   ]
  },
  {
   "cell_type": "code",
   "execution_count": 16,
   "metadata": {},
   "outputs": [],
   "source": [
    "address = pd.read_csv('Auction_list_21_12_2019_updated.csv')"
   ]
  },
  {
   "cell_type": "code",
   "execution_count": 17,
   "metadata": {
    "scrolled": true
   },
   "outputs": [
    {
     "data": {
      "text/plain": [
       "Index(['Unnamed: 0', 'full_address', 'url', 'prop_type', 'street',\n",
       "       'suburb_state_postcode', 'suburb', 'state', 'post_code', 'beds',\n",
       "       'baths', 'cars', 'area', 'multi-storey', 'Swimming pool',\n",
       "       'Need major renovation', 'Impressive decor', 'Lack of natural lights',\n",
       "       'Weatherboard house', 'Recently built', 'Tennis court',\n",
       "       'Well designed outdoor space', 'Indoor-outdoor connected living',\n",
       "       'Granny flat', 'Reasonable floor plan', 'Indoor space',\n",
       "       'sec_pri_sold_time', 'syd_pri_sold_time', 'syd_pri_lv_time',\n",
       "       'sec_pri_lv_time'],\n",
       "      dtype='object')"
      ]
     },
     "execution_count": 17,
     "metadata": {},
     "output_type": "execute_result"
    }
   ],
   "source": [
    "address.columns"
   ]
  },
  {
   "cell_type": "code",
   "execution_count": 19,
   "metadata": {},
   "outputs": [
    {
     "name": "stderr",
     "output_type": "stream",
     "text": [
      "\n",
      "  0%|          | 0/106 [00:00<?, ?it/s]\u001b[A/opt/anaconda3/lib/python3.7/site-packages/ipykernel_launcher.py:2: SettingWithCopyWarning: \n",
      "A value is trying to be set on a copy of a slice from a DataFrame\n",
      "\n",
      "See the caveats in the documentation: http://pandas.pydata.org/pandas-docs/stable/user_guide/indexing.html#returning-a-view-versus-a-copy\n",
      "  \n",
      "100%|██████████| 106/106 [00:00<00:00, 8711.42it/s]\n"
     ]
    }
   ],
   "source": [
    "for i in tqdm(range(len(address['full_address']))):\n",
    "    address['full_address'][i] = address['full_address'][i].lower()\n"
   ]
  },
  {
   "cell_type": "code",
   "execution_count": 20,
   "metadata": {},
   "outputs": [
    {
     "name": "stderr",
     "output_type": "stream",
     "text": [
      "\n",
      "  0%|          | 0/106 [00:00<?, ?it/s]\u001b[A/opt/anaconda3/lib/python3.7/site-packages/ipykernel_launcher.py:2: SettingWithCopyWarning: \n",
      "A value is trying to be set on a copy of a slice from a DataFrame\n",
      "\n",
      "See the caveats in the documentation: http://pandas.pydata.org/pandas-docs/stable/user_guide/indexing.html#returning-a-view-versus-a-copy\n",
      "  \n",
      "100%|██████████| 106/106 [00:00<00:00, 8492.44it/s]\n"
     ]
    }
   ],
   "source": [
    "for i in tqdm(range(len(address['full_address']))):\n",
    "    address['full_address'][i] = str(address['full_address'][i]).replace(u'  ', u' ')"
   ]
  },
  {
   "cell_type": "code",
   "execution_count": 21,
   "metadata": {},
   "outputs": [
    {
     "name": "stderr",
     "output_type": "stream",
     "text": [
      "\n",
      "  0%|          | 0/106 [00:00<?, ?it/s]\u001b[A/opt/anaconda3/lib/python3.7/site-packages/ipykernel_launcher.py:3: SettingWithCopyWarning: \n",
      "A value is trying to be set on a copy of a slice from a DataFrame\n",
      "\n",
      "See the caveats in the documentation: http://pandas.pydata.org/pandas-docs/stable/user_guide/indexing.html#returning-a-view-versus-a-copy\n",
      "  This is separate from the ipykernel package so we can avoid doing imports until\n",
      "100%|██████████| 106/106 [00:00<00:00, 8020.57it/s]\n"
     ]
    }
   ],
   "source": [
    "address['address'] = ''\n",
    "for i in tqdm(range(len(address['full_address']))):\n",
    "    address['address'][i] = str(address['full_address'][i]).replace(u',', u'')"
   ]
  },
  {
   "cell_type": "code",
   "execution_count": 22,
   "metadata": {},
   "outputs": [
    {
     "data": {
      "text/plain": [
       "0                  19 the crescent dee why nsw 2099\n",
       "1                  51 river road greenwich nsw 2065\n",
       "2               11 tenth avenue oyster bay nsw 2225\n",
       "3      6/141 woniora road south hurstville nsw 2221\n",
       "4             3/7a reginald avenue belmore nsw 2192\n",
       "                           ...                     \n",
       "101    3/14-16 short street wentworthville nsw 2145\n",
       "102           16/2a maxim street west ryde nsw 2114\n",
       "103           32 mahratta avenue wahroonga nsw 2076\n",
       "104          23 yanderra grove cherrybrook nsw 2126\n",
       "105             11/44 bridge street sydney nsw 2000\n",
       "Name: address, Length: 106, dtype: object"
      ]
     },
     "execution_count": 22,
     "metadata": {},
     "output_type": "execute_result"
    }
   ],
   "source": [
    "address['address']"
   ]
  },
  {
   "cell_type": "code",
   "execution_count": 23,
   "metadata": {},
   "outputs": [
    {
     "name": "stderr",
     "output_type": "stream",
     "text": [
      "\n",
      "  0%|          | 0/106 [00:00<?, ?it/s]\u001b[A/opt/anaconda3/lib/python3.7/site-packages/ipykernel_launcher.py:2: SettingWithCopyWarning: \n",
      "A value is trying to be set on a copy of a slice from a DataFrame\n",
      "\n",
      "See the caveats in the documentation: http://pandas.pydata.org/pandas-docs/stable/user_guide/indexing.html#returning-a-view-versus-a-copy\n",
      "  \n",
      "100%|██████████| 106/106 [00:00<00:00, 8618.54it/s]\n"
     ]
    }
   ],
   "source": [
    "for i in tqdm(range(len(address['address']))):\n",
    "    address['address'][i] = address['address'][i].replace(u' ', u'-')"
   ]
  },
  {
   "cell_type": "code",
   "execution_count": 24,
   "metadata": {},
   "outputs": [
    {
     "data": {
      "text/plain": [
       "0                  19-the-crescent-dee-why-nsw-2099\n",
       "1                  51-river-road-greenwich-nsw-2065\n",
       "2               11-tenth-avenue-oyster-bay-nsw-2225\n",
       "3      6/141-woniora-road-south-hurstville-nsw-2221\n",
       "4             3/7a-reginald-avenue-belmore-nsw-2192\n",
       "                           ...                     \n",
       "101    3/14-16-short-street-wentworthville-nsw-2145\n",
       "102           16/2a-maxim-street-west-ryde-nsw-2114\n",
       "103           32-mahratta-avenue-wahroonga-nsw-2076\n",
       "104          23-yanderra-grove-cherrybrook-nsw-2126\n",
       "105             11/44-bridge-street-sydney-nsw-2000\n",
       "Name: address, Length: 106, dtype: object"
      ]
     },
     "execution_count": 24,
     "metadata": {},
     "output_type": "execute_result"
    }
   ],
   "source": [
    "address['address']"
   ]
  },
  {
   "cell_type": "code",
   "execution_count": 25,
   "metadata": {},
   "outputs": [],
   "source": [
    "address_list = address['address']"
   ]
  },
  {
   "cell_type": "code",
   "execution_count": 26,
   "metadata": {},
   "outputs": [],
   "source": [
    "df = pd.DataFrame(columns=['full_address', 'min_price', 'median_price', 'max_price'])\n",
    "address_list_2 = []\n",
    "min_price_list = []\n",
    "median_price_list = []\n",
    "max_price_list = []"
   ]
  },
  {
   "cell_type": "code",
   "execution_count": 27,
   "metadata": {},
   "outputs": [
    {
     "name": "stderr",
     "output_type": "stream",
     "text": [
      "\n",
      "  0%|          | 0/106 [00:00<?, ?it/s]\u001b[A"
     ]
    },
    {
     "name": "stdout",
     "output_type": "stream",
     "text": [
      "1\n"
     ]
    },
    {
     "name": "stderr",
     "output_type": "stream",
     "text": [
      "\n",
      "  1%|          | 1/106 [00:00<01:11,  1.47it/s]\u001b[A"
     ]
    },
    {
     "name": "stdout",
     "output_type": "stream",
     "text": [
      "19-the-crescent-dee-why-nsw-2099 Low$1.99m Mid$2.32m High$2.65m\n",
      "19-the-crescent-dee-why-nsw-2099 Low$1.99m Mid$2.32m High$2.65m\n",
      "2\n"
     ]
    },
    {
     "name": "stderr",
     "output_type": "stream",
     "text": [
      "\n",
      "  2%|▏         | 2/106 [00:01<01:08,  1.51it/s]\u001b[A"
     ]
    },
    {
     "name": "stdout",
     "output_type": "stream",
     "text": [
      "51-river-road-greenwich-nsw-2065 Low$2.44m Mid$2.81m High$3.18m\n",
      "51-river-road-greenwich-nsw-2065 Low$2.44m Mid$2.81m High$3.18m\n",
      "3\n"
     ]
    },
    {
     "name": "stderr",
     "output_type": "stream",
     "text": [
      "\n",
      "  3%|▎         | 3/106 [00:02<01:23,  1.23it/s]\u001b[A"
     ]
    },
    {
     "name": "stdout",
     "output_type": "stream",
     "text": [
      "11-tenth-avenue-oyster-bay-nsw-2225 Low$880k Mid$1.02m High$1.16m\n",
      "11-tenth-avenue-oyster-bay-nsw-2225 Low$880k Mid$1.02m High$1.16m\n",
      "4\n"
     ]
    },
    {
     "name": "stderr",
     "output_type": "stream",
     "text": [
      "\n",
      "  4%|▍         | 4/106 [00:02<01:10,  1.46it/s]\u001b[A"
     ]
    },
    {
     "name": "stdout",
     "output_type": "stream",
     "text": [
      "5\n"
     ]
    },
    {
     "name": "stderr",
     "output_type": "stream",
     "text": [
      "\n",
      "  5%|▍         | 5/106 [00:03<01:01,  1.65it/s]\u001b[A"
     ]
    },
    {
     "name": "stdout",
     "output_type": "stream",
     "text": [
      "6\n"
     ]
    },
    {
     "name": "stderr",
     "output_type": "stream",
     "text": [
      "\n",
      "  6%|▌         | 6/106 [00:04<01:31,  1.10it/s]\u001b[A"
     ]
    },
    {
     "name": "stdout",
     "output_type": "stream",
     "text": [
      "231a-buffalo-road-ryde-nsw-2112 Low$1.19m Mid$1.39m High$1.59m\n",
      "231a-buffalo-road-ryde-nsw-2112 Low$1.19m Mid$1.39m High$1.59m\n",
      "7\n"
     ]
    },
    {
     "name": "stderr",
     "output_type": "stream",
     "text": [
      "\n",
      "  7%|▋         | 7/106 [00:05<01:21,  1.22it/s]\u001b[A"
     ]
    },
    {
     "name": "stdout",
     "output_type": "stream",
     "text": [
      "17-taiyul-road-north-narrabeen-nsw-2101 Low$1.27m Mid$1.48m High$1.69m\n",
      "17-taiyul-road-north-narrabeen-nsw-2101 Low$1.27m Mid$1.48m High$1.69m\n",
      "8\n"
     ]
    },
    {
     "name": "stderr",
     "output_type": "stream",
     "text": [
      "\n",
      "  8%|▊         | 8/106 [00:06<01:16,  1.28it/s]\u001b[A"
     ]
    },
    {
     "name": "stdout",
     "output_type": "stream",
     "text": [
      "53-pennant-parade-epping-nsw-2121 Low$1.13m Mid$1.31m High$1.49m\n",
      "53-pennant-parade-epping-nsw-2121 Low$1.13m Mid$1.31m High$1.49m\n",
      "9\n"
     ]
    },
    {
     "name": "stderr",
     "output_type": "stream",
     "text": [
      "\n",
      "  8%|▊         | 9/106 [00:06<01:13,  1.31it/s]\u001b[A"
     ]
    },
    {
     "name": "stdout",
     "output_type": "stream",
     "text": [
      "8-grayson-road-north-epping-nsw-2121 Low$930k Mid$1.08m High$1.23m\n",
      "8-grayson-road-north-epping-nsw-2121 Low$930k Mid$1.08m High$1.23m\n",
      "10\n"
     ]
    },
    {
     "name": "stderr",
     "output_type": "stream",
     "text": [
      "\n",
      "  9%|▉         | 10/106 [00:07<01:15,  1.26it/s]\u001b[A"
     ]
    },
    {
     "name": "stdout",
     "output_type": "stream",
     "text": [
      "23-vanessa-avenue-baulkham-hills-nsw-2153 Low$1.09m Mid$1.26m High$1.43m\n",
      "23-vanessa-avenue-baulkham-hills-nsw-2153 Low$1.09m Mid$1.26m High$1.43m\n",
      "11\n"
     ]
    },
    {
     "name": "stderr",
     "output_type": "stream",
     "text": [
      "\n",
      " 10%|█         | 11/106 [00:08<01:21,  1.16it/s]\u001b[A"
     ]
    },
    {
     "name": "stdout",
     "output_type": "stream",
     "text": [
      "31-john-miller-street-ryde-nsw-2112 Low$1.2m Mid$1.39m High$1.58m\n",
      "31-john-miller-street-ryde-nsw-2112 Low$1.2m Mid$1.39m High$1.58m\n",
      "12\n"
     ]
    },
    {
     "name": "stderr",
     "output_type": "stream",
     "text": [
      "\n",
      " 11%|█▏        | 12/106 [00:09<01:29,  1.05it/s]\u001b[A"
     ]
    },
    {
     "name": "stdout",
     "output_type": "stream",
     "text": [
      "15-trevone-street-padstow-nsw-2211 Low$770k Mid$890k High$1.01m\n",
      "15-trevone-street-padstow-nsw-2211 Low$770k Mid$890k High$1.01m\n",
      "13\n"
     ]
    },
    {
     "name": "stderr",
     "output_type": "stream",
     "text": [
      "\n",
      " 12%|█▏        | 13/106 [00:10<01:15,  1.23it/s]\u001b[A"
     ]
    },
    {
     "name": "stdout",
     "output_type": "stream",
     "text": [
      "4-orde-place-prospect-nsw-2148 Low$690k Mid$805k High$920k\n",
      "4-orde-place-prospect-nsw-2148 Low$690k Mid$805k High$920k\n",
      "14\n"
     ]
    },
    {
     "name": "stderr",
     "output_type": "stream",
     "text": [
      "\n",
      " 13%|█▎        | 14/106 [00:11<01:14,  1.23it/s]\u001b[A"
     ]
    },
    {
     "name": "stdout",
     "output_type": "stream",
     "text": [
      "15\n"
     ]
    },
    {
     "name": "stderr",
     "output_type": "stream",
     "text": [
      "\n",
      " 14%|█▍        | 15/106 [00:12<01:12,  1.25it/s]\u001b[A"
     ]
    },
    {
     "name": "stdout",
     "output_type": "stream",
     "text": [
      "16\n"
     ]
    },
    {
     "name": "stderr",
     "output_type": "stream",
     "text": [
      "\n",
      " 15%|█▌        | 16/106 [00:13<01:22,  1.09it/s]\u001b[A"
     ]
    },
    {
     "name": "stdout",
     "output_type": "stream",
     "text": [
      "6-rose-avenue-concord-nsw-2137 Low$1.59m Mid$1.84m High$2.09m\n",
      "6-rose-avenue-concord-nsw-2137 Low$1.59m Mid$1.84m High$2.09m\n",
      "17\n"
     ]
    },
    {
     "name": "stderr",
     "output_type": "stream",
     "text": [
      "\n",
      " 16%|█▌        | 17/106 [00:14<01:23,  1.07it/s]\u001b[A"
     ]
    },
    {
     "name": "stdout",
     "output_type": "stream",
     "text": [
      "13-milba-road-caringbah-nsw-2229 Low$1.25m Mid$1.46m High$1.67m\n",
      "13-milba-road-caringbah-nsw-2229 Low$1.25m Mid$1.46m High$1.67m\n",
      "18\n"
     ]
    },
    {
     "name": "stderr",
     "output_type": "stream",
     "text": [
      "\n",
      " 17%|█▋        | 18/106 [00:14<01:10,  1.25it/s]\u001b[A"
     ]
    },
    {
     "name": "stdout",
     "output_type": "stream",
     "text": [
      "19\n"
     ]
    },
    {
     "name": "stderr",
     "output_type": "stream",
     "text": [
      "\n",
      " 18%|█▊        | 19/106 [00:15<01:07,  1.29it/s]\u001b[A"
     ]
    },
    {
     "name": "stdout",
     "output_type": "stream",
     "text": [
      "20\n"
     ]
    },
    {
     "name": "stderr",
     "output_type": "stream",
     "text": [
      "\n",
      " 19%|█▉        | 20/106 [00:16<01:07,  1.28it/s]\u001b[A"
     ]
    },
    {
     "name": "stdout",
     "output_type": "stream",
     "text": [
      "39-centenary-road-merrylands-nsw-2160 Low$780k Mid$910k High$1.04m\n",
      "39-centenary-road-merrylands-nsw-2160 Low$780k Mid$910k High$1.04m\n",
      "21\n"
     ]
    },
    {
     "name": "stderr",
     "output_type": "stream",
     "text": [
      "\n",
      " 20%|█▉        | 21/106 [00:18<01:34,  1.11s/it]\u001b[A"
     ]
    },
    {
     "name": "stdout",
     "output_type": "stream",
     "text": [
      "22\n"
     ]
    },
    {
     "name": "stderr",
     "output_type": "stream",
     "text": [
      "\n",
      " 21%|██        | 22/106 [00:18<01:11,  1.17it/s]\u001b[A"
     ]
    },
    {
     "name": "stdout",
     "output_type": "stream",
     "text": [
      "23\n"
     ]
    },
    {
     "name": "stderr",
     "output_type": "stream",
     "text": [
      "\n",
      " 22%|██▏       | 23/106 [00:18<01:01,  1.36it/s]\u001b[A"
     ]
    },
    {
     "name": "stdout",
     "output_type": "stream",
     "text": [
      "24\n"
     ]
    },
    {
     "name": "stderr",
     "output_type": "stream",
     "text": [
      "\n",
      " 23%|██▎       | 24/106 [00:19<00:59,  1.38it/s]\u001b[A"
     ]
    },
    {
     "name": "stdout",
     "output_type": "stream",
     "text": [
      "30-alliance-avenue-revesby-nsw-2212 Low$740k Mid$870k High$1m\n",
      "30-alliance-avenue-revesby-nsw-2212 Low$740k Mid$870k High$1m\n",
      "25\n"
     ]
    },
    {
     "name": "stderr",
     "output_type": "stream",
     "text": [
      "\n",
      " 24%|██▎       | 25/106 [00:21<01:33,  1.15s/it]\u001b[A"
     ]
    },
    {
     "name": "stdout",
     "output_type": "stream",
     "text": [
      "36-middle-street-mcmahons-point-nsw-2060 Low$3.41m Mid$3.9m High$4.39m\n",
      "36-middle-street-mcmahons-point-nsw-2060 Low$3.41m Mid$3.9m High$4.39m\n",
      "26\n"
     ]
    },
    {
     "name": "stderr",
     "output_type": "stream",
     "text": [
      "\n",
      " 25%|██▍       | 26/106 [00:22<01:19,  1.00it/s]\u001b[A"
     ]
    },
    {
     "name": "stdout",
     "output_type": "stream",
     "text": [
      "364-military-road-vaucluse-nsw-2030 Low$3.39m Mid$3.7m High$4.01m\n",
      "364-military-road-vaucluse-nsw-2030 Low$3.39m Mid$3.7m High$4.01m\n",
      "27\n"
     ]
    },
    {
     "name": "stderr",
     "output_type": "stream",
     "text": [
      "\n",
      " 25%|██▌       | 27/106 [00:22<01:08,  1.15it/s]\u001b[A"
     ]
    },
    {
     "name": "stdout",
     "output_type": "stream",
     "text": [
      "19-durham-street-stanmore-nsw-2048 Low$1.42m Mid$1.65m High$1.88m\n",
      "19-durham-street-stanmore-nsw-2048 Low$1.42m Mid$1.65m High$1.88m\n",
      "28\n"
     ]
    },
    {
     "name": "stderr",
     "output_type": "stream",
     "text": [
      "\n",
      " 26%|██▋       | 28/106 [00:23<00:58,  1.33it/s]\u001b[A"
     ]
    },
    {
     "name": "stdout",
     "output_type": "stream",
     "text": [
      "4-uralba-place-oatlands-nsw-2117 Low$1.14m Mid$1.32m High$1.5m\n",
      "4-uralba-place-oatlands-nsw-2117 Low$1.14m Mid$1.32m High$1.5m\n",
      "29\n"
     ]
    },
    {
     "name": "stderr",
     "output_type": "stream",
     "text": [
      "\n",
      " 27%|██▋       | 29/106 [00:23<00:51,  1.50it/s]\u001b[A"
     ]
    },
    {
     "name": "stdout",
     "output_type": "stream",
     "text": [
      "10-lesley-avenue-carlingford-nsw-2118 Low$1.12m Mid$1.31m High$1.5m\n",
      "10-lesley-avenue-carlingford-nsw-2118 Low$1.12m Mid$1.31m High$1.5m\n",
      "30\n"
     ]
    },
    {
     "name": "stderr",
     "output_type": "stream",
     "text": [
      "\n",
      " 28%|██▊       | 30/106 [00:24<00:49,  1.54it/s]\u001b[A"
     ]
    },
    {
     "name": "stdout",
     "output_type": "stream",
     "text": [
      "6-kilby-avenue-pemulwuy-nsw-2145 Low$920k Mid$1.07m High$1.22m\n",
      "6-kilby-avenue-pemulwuy-nsw-2145 Low$920k Mid$1.07m High$1.22m\n",
      "31\n"
     ]
    },
    {
     "name": "stderr",
     "output_type": "stream",
     "text": [
      "\n",
      " 29%|██▉       | 31/106 [00:24<00:46,  1.60it/s]\u001b[A"
     ]
    },
    {
     "name": "stdout",
     "output_type": "stream",
     "text": [
      "11-browning-close-wetherill-park-nsw-2164 Low$760k Mid$890k High$1.02m\n",
      "11-browning-close-wetherill-park-nsw-2164 Low$760k Mid$890k High$1.02m\n",
      "32\n"
     ]
    },
    {
     "name": "stderr",
     "output_type": "stream",
     "text": [
      "\n",
      " 30%|███       | 32/106 [00:25<00:41,  1.78it/s]\u001b[A"
     ]
    },
    {
     "name": "stdout",
     "output_type": "stream",
     "text": [
      "33\n"
     ]
    },
    {
     "name": "stderr",
     "output_type": "stream",
     "text": [
      "\n",
      " 31%|███       | 33/106 [00:25<00:33,  2.16it/s]\u001b[A"
     ]
    },
    {
     "name": "stdout",
     "output_type": "stream",
     "text": [
      "34\n"
     ]
    },
    {
     "name": "stderr",
     "output_type": "stream",
     "text": [
      "\n",
      " 32%|███▏      | 34/106 [00:25<00:29,  2.42it/s]\u001b[A"
     ]
    },
    {
     "name": "stdout",
     "output_type": "stream",
     "text": [
      "35\n"
     ]
    },
    {
     "name": "stderr",
     "output_type": "stream",
     "text": [
      "\n",
      " 33%|███▎      | 35/106 [00:26<00:31,  2.27it/s]\u001b[A"
     ]
    },
    {
     "name": "stdout",
     "output_type": "stream",
     "text": [
      "36\n"
     ]
    },
    {
     "name": "stderr",
     "output_type": "stream",
     "text": [
      "\n",
      " 34%|███▍      | 36/106 [00:27<00:42,  1.64it/s]\u001b[A"
     ]
    },
    {
     "name": "stdout",
     "output_type": "stream",
     "text": [
      "381-military-road-mosman-nsw-2088 Low$1.57m Mid$1.82m High$2.07m\n",
      "381-military-road-mosman-nsw-2088 Low$1.57m Mid$1.82m High$2.07m\n",
      "37\n"
     ]
    },
    {
     "name": "stderr",
     "output_type": "stream",
     "text": [
      "\n",
      " 35%|███▍      | 37/106 [00:27<00:39,  1.74it/s]\u001b[A"
     ]
    },
    {
     "name": "stdout",
     "output_type": "stream",
     "text": [
      "38\n"
     ]
    },
    {
     "name": "stderr",
     "output_type": "stream",
     "text": [
      "\n",
      " 36%|███▌      | 38/106 [00:28<00:39,  1.71it/s]\u001b[A"
     ]
    },
    {
     "name": "stdout",
     "output_type": "stream",
     "text": [
      "39\n"
     ]
    },
    {
     "name": "stderr",
     "output_type": "stream",
     "text": [
      "\n",
      " 37%|███▋      | 39/106 [00:29<00:42,  1.57it/s]\u001b[A"
     ]
    },
    {
     "name": "stdout",
     "output_type": "stream",
     "text": [
      "40\n"
     ]
    },
    {
     "name": "stderr",
     "output_type": "stream",
     "text": [
      "\n",
      " 38%|███▊      | 40/106 [00:30<00:56,  1.17it/s]\u001b[A"
     ]
    },
    {
     "name": "stdout",
     "output_type": "stream",
     "text": [
      "59-osborne-road-lane-cove-nsw-2066 Low$1.85m Mid$2.15m High$2.45m\n",
      "59-osborne-road-lane-cove-nsw-2066 Low$1.85m Mid$2.15m High$2.45m\n",
      "41\n"
     ]
    },
    {
     "name": "stderr",
     "output_type": "stream",
     "text": [
      "\n",
      " 39%|███▊      | 41/106 [00:31<01:04,  1.00it/s]\u001b[A"
     ]
    },
    {
     "name": "stdout",
     "output_type": "stream",
     "text": [
      "17-volmer-st-oatlands-nsw-2117 Low$1.54m Mid$1.79m High$2.04m\n",
      "17-volmer-st-oatlands-nsw-2117 Low$1.54m Mid$1.79m High$2.04m\n",
      "42\n"
     ]
    },
    {
     "name": "stderr",
     "output_type": "stream",
     "text": [
      "\n",
      " 40%|███▉      | 42/106 [00:33<01:07,  1.06s/it]\u001b[A"
     ]
    },
    {
     "name": "stdout",
     "output_type": "stream",
     "text": [
      "70-edward-street-sylvania-nsw-2224 Low$1.26m Mid$1.47m High$1.68m\n",
      "70-edward-street-sylvania-nsw-2224 Low$1.26m Mid$1.47m High$1.68m\n",
      "43\n"
     ]
    },
    {
     "name": "stderr",
     "output_type": "stream",
     "text": [
      "\n",
      " 41%|████      | 43/106 [00:34<01:12,  1.16s/it]\u001b[A"
     ]
    },
    {
     "name": "stdout",
     "output_type": "stream",
     "text": [
      "7-blackbutt-avenue-lugarno-nsw-2210 Low$910k Mid$1.06m High$1.21m\n",
      "7-blackbutt-avenue-lugarno-nsw-2210 Low$910k Mid$1.06m High$1.21m\n",
      "44\n"
     ]
    },
    {
     "name": "stderr",
     "output_type": "stream",
     "text": [
      "\n",
      " 42%|████▏     | 44/106 [00:35<01:05,  1.06s/it]\u001b[A"
     ]
    },
    {
     "name": "stdout",
     "output_type": "stream",
     "text": [
      "45\n"
     ]
    },
    {
     "name": "stderr",
     "output_type": "stream",
     "text": [
      "\n",
      " 42%|████▏     | 45/106 [00:36<00:59,  1.02it/s]\u001b[A"
     ]
    },
    {
     "name": "stdout",
     "output_type": "stream",
     "text": [
      "46\n"
     ]
    },
    {
     "name": "stderr",
     "output_type": "stream",
     "text": [
      "\n",
      " 43%|████▎     | 46/106 [00:37<00:55,  1.07it/s]\u001b[A"
     ]
    },
    {
     "name": "stdout",
     "output_type": "stream",
     "text": [
      "11-kiola-street-smithfield-nsw-2164 Low$530k Mid$615k High$700k\n",
      "11-kiola-street-smithfield-nsw-2164 Low$530k Mid$615k High$700k\n",
      "47\n"
     ]
    },
    {
     "name": "stderr",
     "output_type": "stream",
     "text": [
      "\n",
      " 44%|████▍     | 47/106 [00:38<00:59,  1.01s/it]\u001b[A"
     ]
    },
    {
     "name": "stdout",
     "output_type": "stream",
     "text": [
      "5-priory-court-baulkham-hills-nsw-2153 Low$930k Mid$1.09m High$1.25m\n",
      "5-priory-court-baulkham-hills-nsw-2153 Low$930k Mid$1.09m High$1.25m\n",
      "48\n"
     ]
    },
    {
     "name": "stderr",
     "output_type": "stream",
     "text": [
      "\n",
      " 45%|████▌     | 48/106 [00:39<00:57,  1.01it/s]\u001b[A"
     ]
    },
    {
     "name": "stdout",
     "output_type": "stream",
     "text": [
      "49\n"
     ]
    },
    {
     "name": "stderr",
     "output_type": "stream",
     "text": [
      "\n",
      " 46%|████▌     | 49/106 [00:40<00:57,  1.01s/it]\u001b[A"
     ]
    },
    {
     "name": "stdout",
     "output_type": "stream",
     "text": [
      "85-montgomery-road-bonnyrigg-nsw-2177 Low$660k Mid$770k High$880k\n",
      "85-montgomery-road-bonnyrigg-nsw-2177 Low$660k Mid$770k High$880k\n",
      "50\n"
     ]
    },
    {
     "name": "stderr",
     "output_type": "stream",
     "text": [
      "\n",
      " 47%|████▋     | 50/106 [00:41<00:55,  1.01it/s]\u001b[A"
     ]
    },
    {
     "name": "stdout",
     "output_type": "stream",
     "text": [
      "45-taronga-street-blacktown-nsw-2148 Low$635k Mid$740k High$845k\n",
      "45-taronga-street-blacktown-nsw-2148 Low$635k Mid$740k High$845k\n",
      "51\n"
     ]
    },
    {
     "name": "stderr",
     "output_type": "stream",
     "text": [
      "\n",
      " 48%|████▊     | 51/106 [00:41<00:49,  1.10it/s]\u001b[A"
     ]
    },
    {
     "name": "stdout",
     "output_type": "stream",
     "text": [
      "25-market-street-moorebank-nsw-2170 Low$710k Mid$825k High$940k\n",
      "25-market-street-moorebank-nsw-2170 Low$710k Mid$825k High$940k\n",
      "52\n"
     ]
    },
    {
     "name": "stderr",
     "output_type": "stream",
     "text": [
      "\n",
      " 49%|████▉     | 52/106 [00:42<00:38,  1.39it/s]\u001b[A"
     ]
    },
    {
     "name": "stdout",
     "output_type": "stream",
     "text": [
      "53\n"
     ]
    },
    {
     "name": "stderr",
     "output_type": "stream",
     "text": [
      "\n",
      " 50%|█████     | 53/106 [00:42<00:31,  1.71it/s]\u001b[A"
     ]
    },
    {
     "name": "stdout",
     "output_type": "stream",
     "text": [
      "54\n"
     ]
    },
    {
     "name": "stderr",
     "output_type": "stream",
     "text": [
      "\n",
      " 51%|█████     | 54/106 [00:42<00:28,  1.80it/s]\u001b[A"
     ]
    },
    {
     "name": "stdout",
     "output_type": "stream",
     "text": [
      "10-inala-place-carlingford-nsw-2118 Low$1.03m Mid$1.2m High$1.37m\n",
      "10-inala-place-carlingford-nsw-2118 Low$1.03m Mid$1.2m High$1.37m\n",
      "55\n"
     ]
    },
    {
     "name": "stderr",
     "output_type": "stream",
     "text": [
      "\n",
      " 52%|█████▏    | 55/106 [00:43<00:28,  1.79it/s]\u001b[A"
     ]
    },
    {
     "name": "stdout",
     "output_type": "stream",
     "text": [
      "241-dora-street-hurstville-nsw-2220 Low$1.13m Mid$1.3m High$1.47m\n",
      "241-dora-street-hurstville-nsw-2220 Low$1.13m Mid$1.3m High$1.47m\n",
      "56\n"
     ]
    },
    {
     "name": "stderr",
     "output_type": "stream",
     "text": [
      "\n",
      " 53%|█████▎    | 56/106 [00:44<00:37,  1.35it/s]\u001b[A"
     ]
    },
    {
     "name": "stdout",
     "output_type": "stream",
     "text": [
      "30-springdale-road-wentworthville-nsw-2145 Low$860k Mid$1m High$1.14m\n",
      "30-springdale-road-wentworthville-nsw-2145 Low$860k Mid$1m High$1.14m\n",
      "57\n"
     ]
    },
    {
     "name": "stderr",
     "output_type": "stream",
     "text": [
      "\n",
      " 54%|█████▍    | 57/106 [00:45<00:33,  1.48it/s]\u001b[A"
     ]
    },
    {
     "name": "stdout",
     "output_type": "stream",
     "text": [
      "17-burns-road-picnic-point-nsw-2213 Low$810k Mid$940k High$1.07m\n",
      "17-burns-road-picnic-point-nsw-2213 Low$810k Mid$940k High$1.07m\n",
      "58\n"
     ]
    },
    {
     "name": "stderr",
     "output_type": "stream",
     "text": [
      "\n",
      " 55%|█████▍    | 58/106 [00:45<00:30,  1.58it/s]\u001b[A"
     ]
    },
    {
     "name": "stdout",
     "output_type": "stream",
     "text": [
      "10-augustus-street-merrylands-nsw-2160 Low$635k Mid$730k High$825k\n",
      "10-augustus-street-merrylands-nsw-2160 Low$635k Mid$730k High$825k\n",
      "59\n"
     ]
    },
    {
     "name": "stderr",
     "output_type": "stream",
     "text": [
      "\n",
      " 56%|█████▌    | 59/106 [00:47<00:44,  1.06it/s]\u001b[A"
     ]
    },
    {
     "name": "stdout",
     "output_type": "stream",
     "text": [
      "12-mckell-close-bonnyrigg-nsw-2177 Low$570k Mid$660k High$750k\n",
      "12-mckell-close-bonnyrigg-nsw-2177 Low$570k Mid$660k High$750k\n",
      "60\n"
     ]
    },
    {
     "name": "stderr",
     "output_type": "stream",
     "text": [
      "\n",
      " 57%|█████▋    | 60/106 [00:47<00:36,  1.27it/s]\u001b[A"
     ]
    },
    {
     "name": "stdout",
     "output_type": "stream",
     "text": [
      "19-carefree-road-north-narrabeen-nsw-2101 Low$1.31m Mid$1.52m High$1.73m\n",
      "19-carefree-road-north-narrabeen-nsw-2101 Low$1.31m Mid$1.52m High$1.73m\n",
      "61\n"
     ]
    },
    {
     "name": "stderr",
     "output_type": "stream",
     "text": [
      "\n",
      " 58%|█████▊    | 61/106 [00:48<00:31,  1.45it/s]\u001b[A"
     ]
    },
    {
     "name": "stdout",
     "output_type": "stream",
     "text": [
      "241-old-northern-road-castle-hill-nsw-2154 Low$960k Mid$1.12m High$1.28m\n",
      "241-old-northern-road-castle-hill-nsw-2154 Low$960k Mid$1.12m High$1.28m\n",
      "62\n"
     ]
    },
    {
     "name": "stderr",
     "output_type": "stream",
     "text": [
      "\n",
      " 58%|█████▊    | 62/106 [00:48<00:27,  1.59it/s]\u001b[A"
     ]
    },
    {
     "name": "stdout",
     "output_type": "stream",
     "text": [
      "16-hugh-street-ashfield-nsw-2131 Low$1.35m Mid$1.57m High$1.79m\n",
      "16-hugh-street-ashfield-nsw-2131 Low$1.35m Mid$1.57m High$1.79m\n",
      "63\n"
     ]
    },
    {
     "name": "stderr",
     "output_type": "stream",
     "text": [
      "\n",
      " 59%|█████▉    | 63/106 [00:49<00:24,  1.78it/s]\u001b[A"
     ]
    },
    {
     "name": "stdout",
     "output_type": "stream",
     "text": [
      "29-hull-road-beecroft-nsw-2119 Low$1.3m Mid$1.51m High$1.72m\n",
      "29-hull-road-beecroft-nsw-2119 Low$1.3m Mid$1.51m High$1.72m\n",
      "64\n"
     ]
    },
    {
     "name": "stderr",
     "output_type": "stream",
     "text": [
      "\n",
      " 60%|██████    | 64/106 [00:49<00:22,  1.89it/s]\u001b[A\n",
      " 61%|██████▏   | 65/106 [00:49<00:17,  2.34it/s]\u001b[A"
     ]
    },
    {
     "name": "stdout",
     "output_type": "stream",
     "text": [
      "288b-edgar-street-condell-park-nsw-2200 Low$710k Mid$830k High$950k\n",
      "288b-edgar-street-condell-park-nsw-2200 Low$710k Mid$830k High$950k\n",
      "65\n",
      "66\n"
     ]
    },
    {
     "name": "stderr",
     "output_type": "stream",
     "text": [
      "\n",
      " 62%|██████▏   | 66/106 [00:50<00:17,  2.31it/s]\u001b[A"
     ]
    },
    {
     "name": "stdout",
     "output_type": "stream",
     "text": [
      "12-albert-street-mount-druitt-nsw-2770 Low$570k Mid$660k High$750k\n",
      "12-albert-street-mount-druitt-nsw-2770 Low$570k Mid$660k High$750k\n",
      "67\n"
     ]
    },
    {
     "name": "stderr",
     "output_type": "stream",
     "text": [
      "\n",
      " 63%|██████▎   | 67/106 [00:50<00:16,  2.42it/s]\u001b[A"
     ]
    },
    {
     "name": "stdout",
     "output_type": "stream",
     "text": [
      "84-lancaster-avenue-punchbowl-nsw-2196 Low$800k Mid$930k High$1.06m\n",
      "84-lancaster-avenue-punchbowl-nsw-2196 Low$800k Mid$930k High$1.06m\n",
      "68\n"
     ]
    },
    {
     "name": "stderr",
     "output_type": "stream",
     "text": [
      "\n",
      " 64%|██████▍   | 68/106 [00:51<00:16,  2.24it/s]\u001b[A"
     ]
    },
    {
     "name": "stdout",
     "output_type": "stream",
     "text": [
      "1-madigan-drive-werrington-county-nsw-2747 Low$590k Mid$690k High$790k\n",
      "1-madigan-drive-werrington-county-nsw-2747 Low$590k Mid$690k High$790k\n",
      "69\n"
     ]
    },
    {
     "name": "stderr",
     "output_type": "stream",
     "text": [
      "\n",
      " 65%|██████▌   | 69/106 [00:51<00:14,  2.64it/s]\u001b[A"
     ]
    },
    {
     "name": "stdout",
     "output_type": "stream",
     "text": [
      "70\n"
     ]
    },
    {
     "name": "stderr",
     "output_type": "stream",
     "text": [
      "\n",
      " 66%|██████▌   | 70/106 [00:51<00:11,  3.04it/s]\u001b[A"
     ]
    },
    {
     "name": "stdout",
     "output_type": "stream",
     "text": [
      "71\n"
     ]
    },
    {
     "name": "stderr",
     "output_type": "stream",
     "text": [
      "\n",
      " 67%|██████▋   | 71/106 [00:52<00:12,  2.74it/s]\u001b[A"
     ]
    },
    {
     "name": "stdout",
     "output_type": "stream",
     "text": [
      "51-goodacre-avenue-fairfield-west-nsw-2165 Low$575k Mid$675k High$775k\n",
      "51-goodacre-avenue-fairfield-west-nsw-2165 Low$575k Mid$675k High$775k\n",
      "72\n"
     ]
    },
    {
     "name": "stderr",
     "output_type": "stream",
     "text": [
      "\n",
      " 68%|██████▊   | 72/106 [00:53<00:23,  1.47it/s]\u001b[A"
     ]
    },
    {
     "name": "stdout",
     "output_type": "stream",
     "text": [
      "193-mowbray-road-willoughby-nsw-2068 Low$1.87m Mid$2.17m High$2.47m\n",
      "193-mowbray-road-willoughby-nsw-2068 Low$1.87m Mid$2.17m High$2.47m\n",
      "73\n"
     ]
    },
    {
     "name": "stderr",
     "output_type": "stream",
     "text": [
      "\n",
      " 69%|██████▉   | 73/106 [00:53<00:18,  1.81it/s]\u001b[A"
     ]
    },
    {
     "name": "stdout",
     "output_type": "stream",
     "text": [
      "74\n"
     ]
    },
    {
     "name": "stderr",
     "output_type": "stream",
     "text": [
      "\n",
      " 70%|██████▉   | 74/106 [00:53<00:15,  2.13it/s]\u001b[A"
     ]
    },
    {
     "name": "stdout",
     "output_type": "stream",
     "text": [
      "75\n"
     ]
    },
    {
     "name": "stderr",
     "output_type": "stream",
     "text": [
      "\n",
      " 71%|███████   | 75/106 [00:54<00:12,  2.47it/s]\u001b[A"
     ]
    },
    {
     "name": "stdout",
     "output_type": "stream",
     "text": [
      "76\n"
     ]
    },
    {
     "name": "stderr",
     "output_type": "stream",
     "text": [
      "\n",
      " 72%|███████▏  | 76/106 [00:54<00:10,  2.76it/s]\u001b[A\n",
      " 73%|███████▎  | 77/106 [00:54<00:09,  3.22it/s]\u001b[A"
     ]
    },
    {
     "name": "stdout",
     "output_type": "stream",
     "text": [
      "77\n",
      "78\n"
     ]
    },
    {
     "name": "stderr",
     "output_type": "stream",
     "text": [
      "\n",
      " 74%|███████▎  | 78/106 [00:54<00:07,  3.63it/s]\u001b[A"
     ]
    },
    {
     "name": "stdout",
     "output_type": "stream",
     "text": [
      "79\n"
     ]
    },
    {
     "name": "stderr",
     "output_type": "stream",
     "text": [
      "\n",
      " 75%|███████▍  | 79/106 [00:55<00:09,  2.89it/s]\u001b[A"
     ]
    },
    {
     "name": "stdout",
     "output_type": "stream",
     "text": [
      "3-massey-street-gladesville-nsw-2111 Low$1.14m Mid$1.32m High$1.5m\n",
      "3-massey-street-gladesville-nsw-2111 Low$1.14m Mid$1.32m High$1.5m\n",
      "80\n"
     ]
    },
    {
     "name": "stderr",
     "output_type": "stream",
     "text": [
      "\n",
      " 75%|███████▌  | 80/106 [00:55<00:10,  2.58it/s]\u001b[A"
     ]
    },
    {
     "name": "stdout",
     "output_type": "stream",
     "text": [
      "38a-lawson-street-balmain-nsw-2041 Low$1.76m Mid$2.04m High$2.32m\n",
      "38a-lawson-street-balmain-nsw-2041 Low$1.76m Mid$2.04m High$2.32m\n",
      "81\n"
     ]
    },
    {
     "name": "stderr",
     "output_type": "stream",
     "text": [
      "\n",
      " 76%|███████▋  | 81/106 [00:56<00:11,  2.15it/s]\u001b[A"
     ]
    },
    {
     "name": "stdout",
     "output_type": "stream",
     "text": [
      "16-winifred-avenue-caringbah-nsw-2229 Low$1.02m Mid$1.18m High$1.34m\n",
      "16-winifred-avenue-caringbah-nsw-2229 Low$1.02m Mid$1.18m High$1.34m\n",
      "82\n"
     ]
    },
    {
     "name": "stderr",
     "output_type": "stream",
     "text": [
      "\n",
      " 77%|███████▋  | 82/106 [00:57<00:13,  1.77it/s]\u001b[A"
     ]
    },
    {
     "name": "stdout",
     "output_type": "stream",
     "text": [
      "7-st-aubins-place-glen-alpine-nsw-2560 Low$830k Mid$960k High$1.09m\n",
      "7-st-aubins-place-glen-alpine-nsw-2560 Low$830k Mid$960k High$1.09m\n",
      "83\n"
     ]
    },
    {
     "name": "stderr",
     "output_type": "stream",
     "text": [
      "\n",
      " 78%|███████▊  | 83/106 [00:58<00:15,  1.47it/s]\u001b[A"
     ]
    },
    {
     "name": "stdout",
     "output_type": "stream",
     "text": [
      "84\n"
     ]
    },
    {
     "name": "stderr",
     "output_type": "stream",
     "text": [
      "\n",
      " 79%|███████▉  | 84/106 [01:02<00:39,  1.78s/it]\u001b[A"
     ]
    },
    {
     "name": "stdout",
     "output_type": "stream",
     "text": [
      "85\n"
     ]
    },
    {
     "name": "stderr",
     "output_type": "stream",
     "text": [
      "\n",
      " 80%|████████  | 85/106 [01:03<00:31,  1.50s/it]\u001b[A"
     ]
    },
    {
     "name": "stdout",
     "output_type": "stream",
     "text": [
      "22-river-road-west-longueville-nsw-2066 Low$1.61m Mid$1.88m High$2.15m\n",
      "22-river-road-west-longueville-nsw-2066 Low$1.61m Mid$1.88m High$2.15m\n",
      "86\n"
     ]
    },
    {
     "name": "stderr",
     "output_type": "stream",
     "text": [
      "\n",
      " 81%|████████  | 86/106 [01:03<00:23,  1.18s/it]\u001b[A"
     ]
    },
    {
     "name": "stdout",
     "output_type": "stream",
     "text": [
      "11-brisbane-place-cromer-nsw-2099 Low$1.56m Mid$1.82m High$2.08m\n",
      "11-brisbane-place-cromer-nsw-2099 Low$1.56m Mid$1.82m High$2.08m\n",
      "87\n"
     ]
    },
    {
     "name": "stderr",
     "output_type": "stream",
     "text": [
      "\n",
      " 82%|████████▏ | 87/106 [01:04<00:21,  1.15s/it]\u001b[A"
     ]
    },
    {
     "name": "stdout",
     "output_type": "stream",
     "text": [
      "66-cambridge-avenue-bankstown-nsw-2200 Low$860k Mid$1m High$1.14m\n",
      "66-cambridge-avenue-bankstown-nsw-2200 Low$860k Mid$1m High$1.14m\n",
      "88\n"
     ]
    },
    {
     "name": "stderr",
     "output_type": "stream",
     "text": [
      "\n",
      " 83%|████████▎ | 88/106 [01:05<00:17,  1.04it/s]\u001b[A"
     ]
    },
    {
     "name": "stdout",
     "output_type": "stream",
     "text": [
      "5-gull-place-lugarno-nsw-2210 Low$1m Mid$1.16m High$1.32m\n",
      "5-gull-place-lugarno-nsw-2210 Low$1m Mid$1.16m High$1.32m\n",
      "89\n"
     ]
    },
    {
     "name": "stderr",
     "output_type": "stream",
     "text": [
      "\n",
      " 84%|████████▍ | 89/106 [01:05<00:13,  1.30it/s]\u001b[A"
     ]
    },
    {
     "name": "stdout",
     "output_type": "stream",
     "text": [
      "50-elmstree-road-kellyville-ridge-nsw-2155 Low$840k Mid$980k High$1.12m\n",
      "50-elmstree-road-kellyville-ridge-nsw-2155 Low$840k Mid$980k High$1.12m\n",
      "90\n"
     ]
    },
    {
     "name": "stderr",
     "output_type": "stream",
     "text": [
      "\n",
      " 85%|████████▍ | 90/106 [01:06<00:09,  1.64it/s]\u001b[A"
     ]
    },
    {
     "name": "stdout",
     "output_type": "stream",
     "text": [
      "91\n"
     ]
    },
    {
     "name": "stderr",
     "output_type": "stream",
     "text": [
      "\n",
      " 86%|████████▌ | 91/106 [01:06<00:08,  1.81it/s]\u001b[A"
     ]
    },
    {
     "name": "stdout",
     "output_type": "stream",
     "text": [
      "173-auburn-road-auburn-nsw-2144 Low$830k Mid$970k High$1.11m\n",
      "173-auburn-road-auburn-nsw-2144 Low$830k Mid$970k High$1.11m\n",
      "92\n"
     ]
    },
    {
     "name": "stderr",
     "output_type": "stream",
     "text": [
      "\n",
      " 87%|████████▋ | 92/106 [01:06<00:06,  2.21it/s]\u001b[A"
     ]
    },
    {
     "name": "stdout",
     "output_type": "stream",
     "text": [
      "93\n"
     ]
    },
    {
     "name": "stderr",
     "output_type": "stream",
     "text": [
      "\n",
      " 88%|████████▊ | 93/106 [01:07<00:05,  2.28it/s]\u001b[A"
     ]
    },
    {
     "name": "stdout",
     "output_type": "stream",
     "text": [
      "18-glebe-street-parramatta-nsw-2150 Low$805k Mid$930k High$1.06m\n",
      "18-glebe-street-parramatta-nsw-2150 Low$805k Mid$930k High$1.06m\n",
      "94\n"
     ]
    },
    {
     "name": "stderr",
     "output_type": "stream",
     "text": [
      "\n",
      " 89%|████████▊ | 94/106 [01:07<00:05,  2.10it/s]\u001b[A"
     ]
    },
    {
     "name": "stdout",
     "output_type": "stream",
     "text": [
      "11-carmel-place-winston-hills-nsw-2153 Low$920k Mid$1.07m High$1.22m\n",
      "11-carmel-place-winston-hills-nsw-2153 Low$920k Mid$1.07m High$1.22m\n",
      "95\n"
     ]
    },
    {
     "name": "stderr",
     "output_type": "stream",
     "text": [
      "\n",
      " 90%|████████▉ | 95/106 [01:08<00:05,  2.05it/s]\u001b[A\n",
      " 91%|█████████ | 96/106 [01:08<00:03,  2.53it/s]\u001b[A"
     ]
    },
    {
     "name": "stdout",
     "output_type": "stream",
     "text": [
      "320-great-north-road-abbotsford-nsw-2046 Low$1.15m Mid$1.34m High$1.53m\n",
      "320-great-north-road-abbotsford-nsw-2046 Low$1.15m Mid$1.34m High$1.53m\n",
      "96\n",
      "97\n"
     ]
    },
    {
     "name": "stderr",
     "output_type": "stream",
     "text": [
      "\n",
      " 92%|█████████▏| 97/106 [01:08<00:03,  2.28it/s]\u001b[A"
     ]
    },
    {
     "name": "stdout",
     "output_type": "stream",
     "text": [
      "7-ash-street-georges-hall-nsw-2198 Low$725k Mid$830k High$935k\n",
      "7-ash-street-georges-hall-nsw-2198 Low$725k Mid$830k High$935k\n",
      "98\n"
     ]
    },
    {
     "name": "stderr",
     "output_type": "stream",
     "text": [
      "\n",
      " 92%|█████████▏| 98/106 [01:10<00:05,  1.48it/s]\u001b[A"
     ]
    },
    {
     "name": "stdout",
     "output_type": "stream",
     "text": [
      "14-salamander-place-mount-lewis-nsw-2190 Low$1.02m Mid$1.19m High$1.36m\n",
      "14-salamander-place-mount-lewis-nsw-2190 Low$1.02m Mid$1.19m High$1.36m\n",
      "99\n"
     ]
    },
    {
     "name": "stderr",
     "output_type": "stream",
     "text": [
      "\n",
      " 93%|█████████▎| 99/106 [01:10<00:03,  1.78it/s]\u001b[A"
     ]
    },
    {
     "name": "stdout",
     "output_type": "stream",
     "text": [
      "100\n"
     ]
    },
    {
     "name": "stderr",
     "output_type": "stream",
     "text": [
      "\n",
      " 94%|█████████▍| 100/106 [01:10<00:03,  1.88it/s]\u001b[A"
     ]
    },
    {
     "name": "stdout",
     "output_type": "stream",
     "text": [
      "47-norman-street-merrylands-nsw-2160 Low$790k Mid$910k High$1.03m\n",
      "47-norman-street-merrylands-nsw-2160 Low$790k Mid$910k High$1.03m\n",
      "101\n"
     ]
    },
    {
     "name": "stderr",
     "output_type": "stream",
     "text": [
      "\n",
      " 95%|█████████▌| 101/106 [01:11<00:02,  2.24it/s]\u001b[A"
     ]
    },
    {
     "name": "stdout",
     "output_type": "stream",
     "text": [
      "102\n"
     ]
    },
    {
     "name": "stderr",
     "output_type": "stream",
     "text": [
      "\n",
      " 96%|█████████▌| 102/106 [01:11<00:01,  2.61it/s]\u001b[A"
     ]
    },
    {
     "name": "stdout",
     "output_type": "stream",
     "text": [
      "103\n"
     ]
    },
    {
     "name": "stderr",
     "output_type": "stream",
     "text": [
      "\n",
      " 97%|█████████▋| 103/106 [01:11<00:01,  2.90it/s]\u001b[A"
     ]
    },
    {
     "name": "stdout",
     "output_type": "stream",
     "text": [
      "104\n"
     ]
    },
    {
     "name": "stderr",
     "output_type": "stream",
     "text": [
      "\n",
      " 98%|█████████▊| 104/106 [01:12<00:00,  2.65it/s]\u001b[A"
     ]
    },
    {
     "name": "stdout",
     "output_type": "stream",
     "text": [
      "32-mahratta-avenue-wahroonga-nsw-2076 Low$1.84m Mid$2.14m High$2.44m\n",
      "32-mahratta-avenue-wahroonga-nsw-2076 Low$1.84m Mid$2.14m High$2.44m\n",
      "105\n"
     ]
    },
    {
     "name": "stderr",
     "output_type": "stream",
     "text": [
      "\n",
      " 99%|█████████▉| 105/106 [01:12<00:00,  2.38it/s]\u001b[A"
     ]
    },
    {
     "name": "stdout",
     "output_type": "stream",
     "text": [
      "23-yanderra-grove-cherrybrook-nsw-2126 Low$1.37m Mid$1.59m High$1.81m\n",
      "23-yanderra-grove-cherrybrook-nsw-2126 Low$1.37m Mid$1.59m High$1.81m\n",
      "106\n"
     ]
    },
    {
     "name": "stderr",
     "output_type": "stream",
     "text": [
      "\n",
      "100%|██████████| 106/106 [01:12<00:00,  1.45it/s]\u001b[A\n"
     ]
    }
   ],
   "source": [
    "n = 0\n",
    "for add in tqdm(address_list):\n",
    "    n=n+1\n",
    "    print(n)\n",
    "    url = f'https://www.domain.com.au/property-profile/{add}'\n",
    "    resp = requests.get(url)\n",
    "    soup = BeautifulSoup(resp.text, 'html.parser')\n",
    "    for price in soup.select('.propertyid-details__estimate-range--indicator'):\n",
    "        try:\n",
    "            min_price = price.select('div')[0].text\n",
    "        except:\n",
    "            min_price = ''\n",
    "            #print(min_price)\n",
    "            \n",
    "        try:\n",
    "            median_price = price.select('div')[4].text\n",
    "        except:\n",
    "            median_price = ''\n",
    "            median_price_list.append(median_price)\n",
    "            #print(median_price)\n",
    "        try:\n",
    "            max_price = price.select('div')[8].text\n",
    "        except:\n",
    "            max_price = ''\n",
    "            max_price_list.append(max_price)\n",
    "        print(add,min_price,median_price,max_price)\n",
    "        address_list_2.append(add)\n",
    "        min_price_list.append(min_price)\n",
    "        median_price_list.append(median_price)\n",
    "        max_price_list.append(max_price)"
   ]
  },
  {
   "cell_type": "code",
   "execution_count": 28,
   "metadata": {},
   "outputs": [],
   "source": [
    "df['full_address'] = address_list_2\n",
    "df['min_price'] = min_price_list\n",
    "df['median_price'] = median_price_list\n",
    "df['max_price'] = max_price_list"
   ]
  },
  {
   "cell_type": "code",
   "execution_count": 29,
   "metadata": {},
   "outputs": [
    {
     "data": {
      "text/html": [
       "<div>\n",
       "<style scoped>\n",
       "    .dataframe tbody tr th:only-of-type {\n",
       "        vertical-align: middle;\n",
       "    }\n",
       "\n",
       "    .dataframe tbody tr th {\n",
       "        vertical-align: top;\n",
       "    }\n",
       "\n",
       "    .dataframe thead th {\n",
       "        text-align: right;\n",
       "    }\n",
       "</style>\n",
       "<table border=\"1\" class=\"dataframe\">\n",
       "  <thead>\n",
       "    <tr style=\"text-align: right;\">\n",
       "      <th></th>\n",
       "      <th>full_address</th>\n",
       "      <th>min_price</th>\n",
       "      <th>median_price</th>\n",
       "      <th>max_price</th>\n",
       "    </tr>\n",
       "  </thead>\n",
       "  <tbody>\n",
       "    <tr>\n",
       "      <td>0</td>\n",
       "      <td>19-the-crescent-dee-why-nsw-2099</td>\n",
       "      <td>Low$1.99m</td>\n",
       "      <td>Mid$2.32m</td>\n",
       "      <td>High$2.65m</td>\n",
       "    </tr>\n",
       "    <tr>\n",
       "      <td>1</td>\n",
       "      <td>19-the-crescent-dee-why-nsw-2099</td>\n",
       "      <td>Low$1.99m</td>\n",
       "      <td>Mid$2.32m</td>\n",
       "      <td>High$2.65m</td>\n",
       "    </tr>\n",
       "    <tr>\n",
       "      <td>2</td>\n",
       "      <td>51-river-road-greenwich-nsw-2065</td>\n",
       "      <td>Low$2.44m</td>\n",
       "      <td>Mid$2.81m</td>\n",
       "      <td>High$3.18m</td>\n",
       "    </tr>\n",
       "    <tr>\n",
       "      <td>3</td>\n",
       "      <td>51-river-road-greenwich-nsw-2065</td>\n",
       "      <td>Low$2.44m</td>\n",
       "      <td>Mid$2.81m</td>\n",
       "      <td>High$3.18m</td>\n",
       "    </tr>\n",
       "    <tr>\n",
       "      <td>4</td>\n",
       "      <td>11-tenth-avenue-oyster-bay-nsw-2225</td>\n",
       "      <td>Low$880k</td>\n",
       "      <td>Mid$1.02m</td>\n",
       "      <td>High$1.16m</td>\n",
       "    </tr>\n",
       "  </tbody>\n",
       "</table>\n",
       "</div>"
      ],
      "text/plain": [
       "                          full_address  min_price median_price   max_price\n",
       "0     19-the-crescent-dee-why-nsw-2099  Low$1.99m    Mid$2.32m  High$2.65m\n",
       "1     19-the-crescent-dee-why-nsw-2099  Low$1.99m    Mid$2.32m  High$2.65m\n",
       "2     51-river-road-greenwich-nsw-2065  Low$2.44m    Mid$2.81m  High$3.18m\n",
       "3     51-river-road-greenwich-nsw-2065  Low$2.44m    Mid$2.81m  High$3.18m\n",
       "4  11-tenth-avenue-oyster-bay-nsw-2225   Low$880k    Mid$1.02m  High$1.16m"
      ]
     },
     "execution_count": 29,
     "metadata": {},
     "output_type": "execute_result"
    }
   ],
   "source": [
    "df.head()"
   ]
  },
  {
   "cell_type": "code",
   "execution_count": 32,
   "metadata": {},
   "outputs": [],
   "source": [
    "df = df.drop_duplicates(subset='full_address', keep='last')"
   ]
  },
  {
   "cell_type": "code",
   "execution_count": 33,
   "metadata": {},
   "outputs": [
    {
     "data": {
      "text/html": [
       "<div>\n",
       "<style scoped>\n",
       "    .dataframe tbody tr th:only-of-type {\n",
       "        vertical-align: middle;\n",
       "    }\n",
       "\n",
       "    .dataframe tbody tr th {\n",
       "        vertical-align: top;\n",
       "    }\n",
       "\n",
       "    .dataframe thead th {\n",
       "        text-align: right;\n",
       "    }\n",
       "</style>\n",
       "<table border=\"1\" class=\"dataframe\">\n",
       "  <thead>\n",
       "    <tr style=\"text-align: right;\">\n",
       "      <th></th>\n",
       "      <th>full_address</th>\n",
       "      <th>min_price</th>\n",
       "      <th>median_price</th>\n",
       "      <th>max_price</th>\n",
       "    </tr>\n",
       "  </thead>\n",
       "  <tbody>\n",
       "    <tr>\n",
       "      <td>1</td>\n",
       "      <td>19-the-crescent-dee-why-nsw-2099</td>\n",
       "      <td>Low$1.99m</td>\n",
       "      <td>Mid$2.32m</td>\n",
       "      <td>High$2.65m</td>\n",
       "    </tr>\n",
       "    <tr>\n",
       "      <td>3</td>\n",
       "      <td>51-river-road-greenwich-nsw-2065</td>\n",
       "      <td>Low$2.44m</td>\n",
       "      <td>Mid$2.81m</td>\n",
       "      <td>High$3.18m</td>\n",
       "    </tr>\n",
       "    <tr>\n",
       "      <td>5</td>\n",
       "      <td>11-tenth-avenue-oyster-bay-nsw-2225</td>\n",
       "      <td>Low$880k</td>\n",
       "      <td>Mid$1.02m</td>\n",
       "      <td>High$1.16m</td>\n",
       "    </tr>\n",
       "    <tr>\n",
       "      <td>7</td>\n",
       "      <td>231a-buffalo-road-ryde-nsw-2112</td>\n",
       "      <td>Low$1.19m</td>\n",
       "      <td>Mid$1.39m</td>\n",
       "      <td>High$1.59m</td>\n",
       "    </tr>\n",
       "    <tr>\n",
       "      <td>9</td>\n",
       "      <td>17-taiyul-road-north-narrabeen-nsw-2101</td>\n",
       "      <td>Low$1.27m</td>\n",
       "      <td>Mid$1.48m</td>\n",
       "      <td>High$1.69m</td>\n",
       "    </tr>\n",
       "  </tbody>\n",
       "</table>\n",
       "</div>"
      ],
      "text/plain": [
       "                              full_address  min_price median_price   max_price\n",
       "1         19-the-crescent-dee-why-nsw-2099  Low$1.99m    Mid$2.32m  High$2.65m\n",
       "3         51-river-road-greenwich-nsw-2065  Low$2.44m    Mid$2.81m  High$3.18m\n",
       "5      11-tenth-avenue-oyster-bay-nsw-2225   Low$880k    Mid$1.02m  High$1.16m\n",
       "7          231a-buffalo-road-ryde-nsw-2112  Low$1.19m    Mid$1.39m  High$1.59m\n",
       "9  17-taiyul-road-north-narrabeen-nsw-2101  Low$1.27m    Mid$1.48m  High$1.69m"
      ]
     },
     "execution_count": 33,
     "metadata": {},
     "output_type": "execute_result"
    }
   ],
   "source": [
    "df.head()"
   ]
  },
  {
   "cell_type": "code",
   "execution_count": 43,
   "metadata": {},
   "outputs": [],
   "source": [
    "df = df.rename(columns={'full_address':'address'})"
   ]
  },
  {
   "cell_type": "code",
   "execution_count": 39,
   "metadata": {},
   "outputs": [
    {
     "data": {
      "text/html": [
       "<div>\n",
       "<style scoped>\n",
       "    .dataframe tbody tr th:only-of-type {\n",
       "        vertical-align: middle;\n",
       "    }\n",
       "\n",
       "    .dataframe tbody tr th {\n",
       "        vertical-align: top;\n",
       "    }\n",
       "\n",
       "    .dataframe thead th {\n",
       "        text-align: right;\n",
       "    }\n",
       "</style>\n",
       "<table border=\"1\" class=\"dataframe\">\n",
       "  <thead>\n",
       "    <tr style=\"text-align: right;\">\n",
       "      <th></th>\n",
       "      <th>Unnamed: 0</th>\n",
       "      <th>full_address</th>\n",
       "      <th>url</th>\n",
       "      <th>prop_type</th>\n",
       "      <th>street</th>\n",
       "      <th>suburb_state_postcode</th>\n",
       "      <th>suburb</th>\n",
       "      <th>state</th>\n",
       "      <th>post_code</th>\n",
       "      <th>beds</th>\n",
       "      <th>...</th>\n",
       "      <th>Well designed outdoor space</th>\n",
       "      <th>Indoor-outdoor connected living</th>\n",
       "      <th>Granny flat</th>\n",
       "      <th>Reasonable floor plan</th>\n",
       "      <th>Indoor space</th>\n",
       "      <th>sec_pri_sold_time</th>\n",
       "      <th>syd_pri_sold_time</th>\n",
       "      <th>syd_pri_lv_time</th>\n",
       "      <th>sec_pri_lv_time</th>\n",
       "      <th>address</th>\n",
       "    </tr>\n",
       "  </thead>\n",
       "  <tbody>\n",
       "    <tr>\n",
       "      <td>0</td>\n",
       "      <td>0</td>\n",
       "      <td>19 the crescent, dee why nsw 2099</td>\n",
       "      <td>https://www.domain.com.au/19-the-crescent-dee-...</td>\n",
       "      <td>House</td>\n",
       "      <td>19 The Crescent,</td>\n",
       "      <td>DEE WHY NSW 2099</td>\n",
       "      <td>DEE WHY</td>\n",
       "      <td>NSW</td>\n",
       "      <td>2099</td>\n",
       "      <td>4</td>\n",
       "      <td>...</td>\n",
       "      <td>NaN</td>\n",
       "      <td>NaN</td>\n",
       "      <td>NaN</td>\n",
       "      <td>NaN</td>\n",
       "      <td>NaN</td>\n",
       "      <td>NaN</td>\n",
       "      <td>NaN</td>\n",
       "      <td>NaN</td>\n",
       "      <td>NaN</td>\n",
       "      <td>19-the-crescent-dee-why-nsw-2099</td>\n",
       "    </tr>\n",
       "    <tr>\n",
       "      <td>1</td>\n",
       "      <td>1</td>\n",
       "      <td>51 river road, greenwich nsw 2065</td>\n",
       "      <td>https://www.domain.com.au/51-river-road-greenw...</td>\n",
       "      <td>House</td>\n",
       "      <td>51 River Road,</td>\n",
       "      <td>GREENWICH NSW 2065</td>\n",
       "      <td>GREENWICH</td>\n",
       "      <td>NSW</td>\n",
       "      <td>2065</td>\n",
       "      <td>3</td>\n",
       "      <td>...</td>\n",
       "      <td>NaN</td>\n",
       "      <td>NaN</td>\n",
       "      <td>NaN</td>\n",
       "      <td>NaN</td>\n",
       "      <td>NaN</td>\n",
       "      <td>NaN</td>\n",
       "      <td>NaN</td>\n",
       "      <td>NaN</td>\n",
       "      <td>NaN</td>\n",
       "      <td>51-river-road-greenwich-nsw-2065</td>\n",
       "    </tr>\n",
       "    <tr>\n",
       "      <td>2</td>\n",
       "      <td>2</td>\n",
       "      <td>11 tenth avenue, oyster bay nsw 2225</td>\n",
       "      <td>https://www.domain.com.au/11-tenth-avenue-oyst...</td>\n",
       "      <td>House</td>\n",
       "      <td>11 Tenth Avenue,</td>\n",
       "      <td>OYSTER BAY NSW 2225</td>\n",
       "      <td>OYSTER BAY</td>\n",
       "      <td>NSW</td>\n",
       "      <td>2225</td>\n",
       "      <td>4</td>\n",
       "      <td>...</td>\n",
       "      <td>NaN</td>\n",
       "      <td>NaN</td>\n",
       "      <td>NaN</td>\n",
       "      <td>NaN</td>\n",
       "      <td>NaN</td>\n",
       "      <td>NaN</td>\n",
       "      <td>NaN</td>\n",
       "      <td>NaN</td>\n",
       "      <td>NaN</td>\n",
       "      <td>11-tenth-avenue-oyster-bay-nsw-2225</td>\n",
       "    </tr>\n",
       "    <tr>\n",
       "      <td>3</td>\n",
       "      <td>3</td>\n",
       "      <td>6/141 woniora road, south hurstville nsw 2221</td>\n",
       "      <td>https://www.domain.com.au/6-141-woniora-road-s...</td>\n",
       "      <td>Apartment / Unit / Flat</td>\n",
       "      <td>6/141 Woniora Road,</td>\n",
       "      <td>SOUTH HURSTVILLE NSW 2221</td>\n",
       "      <td>SOUTH HURSTVILLE</td>\n",
       "      <td>NSW</td>\n",
       "      <td>2221</td>\n",
       "      <td>2</td>\n",
       "      <td>...</td>\n",
       "      <td>NaN</td>\n",
       "      <td>NaN</td>\n",
       "      <td>NaN</td>\n",
       "      <td>NaN</td>\n",
       "      <td>NaN</td>\n",
       "      <td>NaN</td>\n",
       "      <td>NaN</td>\n",
       "      <td>NaN</td>\n",
       "      <td>NaN</td>\n",
       "      <td>6/141-woniora-road-south-hurstville-nsw-2221</td>\n",
       "    </tr>\n",
       "    <tr>\n",
       "      <td>4</td>\n",
       "      <td>4</td>\n",
       "      <td>3/7a reginald avenue, belmore nsw 2192</td>\n",
       "      <td>https://www.domain.com.au/3-7a-reginald-avenue...</td>\n",
       "      <td>Apartment / Unit / Flat</td>\n",
       "      <td>3/7a Reginald Avenue,</td>\n",
       "      <td>BELMORE NSW 2192</td>\n",
       "      <td>BELMORE</td>\n",
       "      <td>NSW</td>\n",
       "      <td>2192</td>\n",
       "      <td>2</td>\n",
       "      <td>...</td>\n",
       "      <td>NaN</td>\n",
       "      <td>NaN</td>\n",
       "      <td>NaN</td>\n",
       "      <td>NaN</td>\n",
       "      <td>NaN</td>\n",
       "      <td>NaN</td>\n",
       "      <td>NaN</td>\n",
       "      <td>NaN</td>\n",
       "      <td>NaN</td>\n",
       "      <td>3/7a-reginald-avenue-belmore-nsw-2192</td>\n",
       "    </tr>\n",
       "    <tr>\n",
       "      <td>...</td>\n",
       "      <td>...</td>\n",
       "      <td>...</td>\n",
       "      <td>...</td>\n",
       "      <td>...</td>\n",
       "      <td>...</td>\n",
       "      <td>...</td>\n",
       "      <td>...</td>\n",
       "      <td>...</td>\n",
       "      <td>...</td>\n",
       "      <td>...</td>\n",
       "      <td>...</td>\n",
       "      <td>...</td>\n",
       "      <td>...</td>\n",
       "      <td>...</td>\n",
       "      <td>...</td>\n",
       "      <td>...</td>\n",
       "      <td>...</td>\n",
       "      <td>...</td>\n",
       "      <td>...</td>\n",
       "      <td>...</td>\n",
       "      <td>...</td>\n",
       "    </tr>\n",
       "    <tr>\n",
       "      <td>101</td>\n",
       "      <td>101</td>\n",
       "      <td>3/14-16 short street, wentworthville nsw 2145</td>\n",
       "      <td>https://www.domain.com.au/3-14-16-short-street...</td>\n",
       "      <td>Townhouse</td>\n",
       "      <td>3/14-16 Short Street,</td>\n",
       "      <td>WENTWORTHVILLE NSW 2145</td>\n",
       "      <td>WENTWORTHVILLE</td>\n",
       "      <td>NSW</td>\n",
       "      <td>2145</td>\n",
       "      <td>3</td>\n",
       "      <td>...</td>\n",
       "      <td>NaN</td>\n",
       "      <td>NaN</td>\n",
       "      <td>NaN</td>\n",
       "      <td>NaN</td>\n",
       "      <td>NaN</td>\n",
       "      <td>NaN</td>\n",
       "      <td>NaN</td>\n",
       "      <td>NaN</td>\n",
       "      <td>NaN</td>\n",
       "      <td>3/14-16-short-street-wentworthville-nsw-2145</td>\n",
       "    </tr>\n",
       "    <tr>\n",
       "      <td>102</td>\n",
       "      <td>102</td>\n",
       "      <td>16/2a maxim street, west ryde nsw 2114</td>\n",
       "      <td>https://www.domain.com.au/16-2a-maxim-street-w...</td>\n",
       "      <td>Apartment / Unit / Flat</td>\n",
       "      <td>16/2a Maxim Street,</td>\n",
       "      <td>WEST RYDE NSW 2114</td>\n",
       "      <td>WEST RYDE</td>\n",
       "      <td>NSW</td>\n",
       "      <td>2114</td>\n",
       "      <td>2</td>\n",
       "      <td>...</td>\n",
       "      <td>NaN</td>\n",
       "      <td>NaN</td>\n",
       "      <td>NaN</td>\n",
       "      <td>NaN</td>\n",
       "      <td>NaN</td>\n",
       "      <td>NaN</td>\n",
       "      <td>NaN</td>\n",
       "      <td>NaN</td>\n",
       "      <td>NaN</td>\n",
       "      <td>16/2a-maxim-street-west-ryde-nsw-2114</td>\n",
       "    </tr>\n",
       "    <tr>\n",
       "      <td>103</td>\n",
       "      <td>103</td>\n",
       "      <td>32 mahratta avenue, wahroonga nsw 2076</td>\n",
       "      <td>https://www.domain.com.au/32-mahratta-avenue-w...</td>\n",
       "      <td>House</td>\n",
       "      <td>32 Mahratta Avenue,</td>\n",
       "      <td>WAHROONGA NSW 2076</td>\n",
       "      <td>WAHROONGA</td>\n",
       "      <td>NSW</td>\n",
       "      <td>2076</td>\n",
       "      <td>4</td>\n",
       "      <td>...</td>\n",
       "      <td>NaN</td>\n",
       "      <td>NaN</td>\n",
       "      <td>NaN</td>\n",
       "      <td>NaN</td>\n",
       "      <td>NaN</td>\n",
       "      <td>NaN</td>\n",
       "      <td>NaN</td>\n",
       "      <td>NaN</td>\n",
       "      <td>NaN</td>\n",
       "      <td>32-mahratta-avenue-wahroonga-nsw-2076</td>\n",
       "    </tr>\n",
       "    <tr>\n",
       "      <td>104</td>\n",
       "      <td>104</td>\n",
       "      <td>23 yanderra grove, cherrybrook nsw 2126</td>\n",
       "      <td>https://www.domain.com.au/23-yanderra-grove-ch...</td>\n",
       "      <td>House</td>\n",
       "      <td>23 Yanderra Grove,</td>\n",
       "      <td>CHERRYBROOK NSW 2126</td>\n",
       "      <td>CHERRYBROOK</td>\n",
       "      <td>NSW</td>\n",
       "      <td>2126</td>\n",
       "      <td>5</td>\n",
       "      <td>...</td>\n",
       "      <td>NaN</td>\n",
       "      <td>NaN</td>\n",
       "      <td>NaN</td>\n",
       "      <td>NaN</td>\n",
       "      <td>NaN</td>\n",
       "      <td>NaN</td>\n",
       "      <td>NaN</td>\n",
       "      <td>NaN</td>\n",
       "      <td>NaN</td>\n",
       "      <td>23-yanderra-grove-cherrybrook-nsw-2126</td>\n",
       "    </tr>\n",
       "    <tr>\n",
       "      <td>105</td>\n",
       "      <td>105</td>\n",
       "      <td>11/44 bridge street, sydney nsw 2000</td>\n",
       "      <td>https://www.domain.com.au/11-44-bridge-street-...</td>\n",
       "      <td>Apartment / Unit / Flat</td>\n",
       "      <td>11/44 Bridge Street,</td>\n",
       "      <td>SYDNEY NSW 2000</td>\n",
       "      <td>SYDNEY</td>\n",
       "      <td>NSW</td>\n",
       "      <td>2000</td>\n",
       "      <td>3</td>\n",
       "      <td>...</td>\n",
       "      <td>NaN</td>\n",
       "      <td>NaN</td>\n",
       "      <td>NaN</td>\n",
       "      <td>NaN</td>\n",
       "      <td>NaN</td>\n",
       "      <td>NaN</td>\n",
       "      <td>NaN</td>\n",
       "      <td>NaN</td>\n",
       "      <td>NaN</td>\n",
       "      <td>11/44-bridge-street-sydney-nsw-2000</td>\n",
       "    </tr>\n",
       "  </tbody>\n",
       "</table>\n",
       "<p>106 rows × 31 columns</p>\n",
       "</div>"
      ],
      "text/plain": [
       "     Unnamed: 0                                   full_address  \\\n",
       "0             0              19 the crescent, dee why nsw 2099   \n",
       "1             1              51 river road, greenwich nsw 2065   \n",
       "2             2           11 tenth avenue, oyster bay nsw 2225   \n",
       "3             3  6/141 woniora road, south hurstville nsw 2221   \n",
       "4             4         3/7a reginald avenue, belmore nsw 2192   \n",
       "..          ...                                            ...   \n",
       "101         101  3/14-16 short street, wentworthville nsw 2145   \n",
       "102         102         16/2a maxim street, west ryde nsw 2114   \n",
       "103         103         32 mahratta avenue, wahroonga nsw 2076   \n",
       "104         104        23 yanderra grove, cherrybrook nsw 2126   \n",
       "105         105           11/44 bridge street, sydney nsw 2000   \n",
       "\n",
       "                                                   url  \\\n",
       "0    https://www.domain.com.au/19-the-crescent-dee-...   \n",
       "1    https://www.domain.com.au/51-river-road-greenw...   \n",
       "2    https://www.domain.com.au/11-tenth-avenue-oyst...   \n",
       "3    https://www.domain.com.au/6-141-woniora-road-s...   \n",
       "4    https://www.domain.com.au/3-7a-reginald-avenue...   \n",
       "..                                                 ...   \n",
       "101  https://www.domain.com.au/3-14-16-short-street...   \n",
       "102  https://www.domain.com.au/16-2a-maxim-street-w...   \n",
       "103  https://www.domain.com.au/32-mahratta-avenue-w...   \n",
       "104  https://www.domain.com.au/23-yanderra-grove-ch...   \n",
       "105  https://www.domain.com.au/11-44-bridge-street-...   \n",
       "\n",
       "                   prop_type                 street  \\\n",
       "0                      House       19 The Crescent,   \n",
       "1                      House         51 River Road,   \n",
       "2                      House       11 Tenth Avenue,   \n",
       "3    Apartment / Unit / Flat    6/141 Woniora Road,   \n",
       "4    Apartment / Unit / Flat  3/7a Reginald Avenue,   \n",
       "..                       ...                    ...   \n",
       "101                Townhouse  3/14-16 Short Street,   \n",
       "102  Apartment / Unit / Flat    16/2a Maxim Street,   \n",
       "103                    House    32 Mahratta Avenue,   \n",
       "104                    House     23 Yanderra Grove,   \n",
       "105  Apartment / Unit / Flat   11/44 Bridge Street,   \n",
       "\n",
       "         suburb_state_postcode            suburb state  post_code  beds  ...  \\\n",
       "0             DEE WHY NSW 2099           DEE WHY   NSW       2099     4  ...   \n",
       "1           GREENWICH NSW 2065         GREENWICH   NSW       2065     3  ...   \n",
       "2          OYSTER BAY NSW 2225        OYSTER BAY   NSW       2225     4  ...   \n",
       "3    SOUTH HURSTVILLE NSW 2221  SOUTH HURSTVILLE   NSW       2221     2  ...   \n",
       "4             BELMORE NSW 2192           BELMORE   NSW       2192     2  ...   \n",
       "..                         ...               ...   ...        ...   ...  ...   \n",
       "101    WENTWORTHVILLE NSW 2145    WENTWORTHVILLE   NSW       2145     3  ...   \n",
       "102         WEST RYDE NSW 2114         WEST RYDE   NSW       2114     2  ...   \n",
       "103         WAHROONGA NSW 2076         WAHROONGA   NSW       2076     4  ...   \n",
       "104       CHERRYBROOK NSW 2126       CHERRYBROOK   NSW       2126     5  ...   \n",
       "105            SYDNEY NSW 2000            SYDNEY   NSW       2000     3  ...   \n",
       "\n",
       "     Well designed outdoor space  Indoor-outdoor connected living Granny flat  \\\n",
       "0                            NaN                              NaN         NaN   \n",
       "1                            NaN                              NaN         NaN   \n",
       "2                            NaN                              NaN         NaN   \n",
       "3                            NaN                              NaN         NaN   \n",
       "4                            NaN                              NaN         NaN   \n",
       "..                           ...                              ...         ...   \n",
       "101                          NaN                              NaN         NaN   \n",
       "102                          NaN                              NaN         NaN   \n",
       "103                          NaN                              NaN         NaN   \n",
       "104                          NaN                              NaN         NaN   \n",
       "105                          NaN                              NaN         NaN   \n",
       "\n",
       "     Reasonable floor plan  Indoor space  sec_pri_sold_time  \\\n",
       "0                      NaN           NaN                NaN   \n",
       "1                      NaN           NaN                NaN   \n",
       "2                      NaN           NaN                NaN   \n",
       "3                      NaN           NaN                NaN   \n",
       "4                      NaN           NaN                NaN   \n",
       "..                     ...           ...                ...   \n",
       "101                    NaN           NaN                NaN   \n",
       "102                    NaN           NaN                NaN   \n",
       "103                    NaN           NaN                NaN   \n",
       "104                    NaN           NaN                NaN   \n",
       "105                    NaN           NaN                NaN   \n",
       "\n",
       "     syd_pri_sold_time  syd_pri_lv_time  sec_pri_lv_time  \\\n",
       "0                  NaN              NaN              NaN   \n",
       "1                  NaN              NaN              NaN   \n",
       "2                  NaN              NaN              NaN   \n",
       "3                  NaN              NaN              NaN   \n",
       "4                  NaN              NaN              NaN   \n",
       "..                 ...              ...              ...   \n",
       "101                NaN              NaN              NaN   \n",
       "102                NaN              NaN              NaN   \n",
       "103                NaN              NaN              NaN   \n",
       "104                NaN              NaN              NaN   \n",
       "105                NaN              NaN              NaN   \n",
       "\n",
       "                                          address  \n",
       "0                19-the-crescent-dee-why-nsw-2099  \n",
       "1                51-river-road-greenwich-nsw-2065  \n",
       "2             11-tenth-avenue-oyster-bay-nsw-2225  \n",
       "3    6/141-woniora-road-south-hurstville-nsw-2221  \n",
       "4           3/7a-reginald-avenue-belmore-nsw-2192  \n",
       "..                                            ...  \n",
       "101  3/14-16-short-street-wentworthville-nsw-2145  \n",
       "102         16/2a-maxim-street-west-ryde-nsw-2114  \n",
       "103         32-mahratta-avenue-wahroonga-nsw-2076  \n",
       "104        23-yanderra-grove-cherrybrook-nsw-2126  \n",
       "105           11/44-bridge-street-sydney-nsw-2000  \n",
       "\n",
       "[106 rows x 31 columns]"
      ]
     },
     "execution_count": 39,
     "metadata": {},
     "output_type": "execute_result"
    }
   ],
   "source": [
    "address"
   ]
  },
  {
   "cell_type": "code",
   "execution_count": 45,
   "metadata": {},
   "outputs": [],
   "source": [
    "result = pd.merge(address, df, how='outer', on=['address'])"
   ]
  },
  {
   "cell_type": "code",
   "execution_count": 46,
   "metadata": {},
   "outputs": [
    {
     "data": {
      "text/html": [
       "<div>\n",
       "<style scoped>\n",
       "    .dataframe tbody tr th:only-of-type {\n",
       "        vertical-align: middle;\n",
       "    }\n",
       "\n",
       "    .dataframe tbody tr th {\n",
       "        vertical-align: top;\n",
       "    }\n",
       "\n",
       "    .dataframe thead th {\n",
       "        text-align: right;\n",
       "    }\n",
       "</style>\n",
       "<table border=\"1\" class=\"dataframe\">\n",
       "  <thead>\n",
       "    <tr style=\"text-align: right;\">\n",
       "      <th></th>\n",
       "      <th>Unnamed: 0</th>\n",
       "      <th>full_address</th>\n",
       "      <th>url</th>\n",
       "      <th>prop_type</th>\n",
       "      <th>street</th>\n",
       "      <th>suburb_state_postcode</th>\n",
       "      <th>suburb</th>\n",
       "      <th>state</th>\n",
       "      <th>post_code</th>\n",
       "      <th>beds</th>\n",
       "      <th>...</th>\n",
       "      <th>Reasonable floor plan</th>\n",
       "      <th>Indoor space</th>\n",
       "      <th>sec_pri_sold_time</th>\n",
       "      <th>syd_pri_sold_time</th>\n",
       "      <th>syd_pri_lv_time</th>\n",
       "      <th>sec_pri_lv_time</th>\n",
       "      <th>address</th>\n",
       "      <th>min_price</th>\n",
       "      <th>median_price</th>\n",
       "      <th>max_price</th>\n",
       "    </tr>\n",
       "  </thead>\n",
       "  <tbody>\n",
       "    <tr>\n",
       "      <td>0</td>\n",
       "      <td>0</td>\n",
       "      <td>19 the crescent, dee why nsw 2099</td>\n",
       "      <td>https://www.domain.com.au/19-the-crescent-dee-...</td>\n",
       "      <td>House</td>\n",
       "      <td>19 The Crescent,</td>\n",
       "      <td>DEE WHY NSW 2099</td>\n",
       "      <td>DEE WHY</td>\n",
       "      <td>NSW</td>\n",
       "      <td>2099</td>\n",
       "      <td>4</td>\n",
       "      <td>...</td>\n",
       "      <td>NaN</td>\n",
       "      <td>NaN</td>\n",
       "      <td>NaN</td>\n",
       "      <td>NaN</td>\n",
       "      <td>NaN</td>\n",
       "      <td>NaN</td>\n",
       "      <td>19-the-crescent-dee-why-nsw-2099</td>\n",
       "      <td>Low$1.99m</td>\n",
       "      <td>Mid$2.32m</td>\n",
       "      <td>High$2.65m</td>\n",
       "    </tr>\n",
       "    <tr>\n",
       "      <td>1</td>\n",
       "      <td>1</td>\n",
       "      <td>51 river road, greenwich nsw 2065</td>\n",
       "      <td>https://www.domain.com.au/51-river-road-greenw...</td>\n",
       "      <td>House</td>\n",
       "      <td>51 River Road,</td>\n",
       "      <td>GREENWICH NSW 2065</td>\n",
       "      <td>GREENWICH</td>\n",
       "      <td>NSW</td>\n",
       "      <td>2065</td>\n",
       "      <td>3</td>\n",
       "      <td>...</td>\n",
       "      <td>NaN</td>\n",
       "      <td>NaN</td>\n",
       "      <td>NaN</td>\n",
       "      <td>NaN</td>\n",
       "      <td>NaN</td>\n",
       "      <td>NaN</td>\n",
       "      <td>51-river-road-greenwich-nsw-2065</td>\n",
       "      <td>Low$2.44m</td>\n",
       "      <td>Mid$2.81m</td>\n",
       "      <td>High$3.18m</td>\n",
       "    </tr>\n",
       "    <tr>\n",
       "      <td>2</td>\n",
       "      <td>2</td>\n",
       "      <td>11 tenth avenue, oyster bay nsw 2225</td>\n",
       "      <td>https://www.domain.com.au/11-tenth-avenue-oyst...</td>\n",
       "      <td>House</td>\n",
       "      <td>11 Tenth Avenue,</td>\n",
       "      <td>OYSTER BAY NSW 2225</td>\n",
       "      <td>OYSTER BAY</td>\n",
       "      <td>NSW</td>\n",
       "      <td>2225</td>\n",
       "      <td>4</td>\n",
       "      <td>...</td>\n",
       "      <td>NaN</td>\n",
       "      <td>NaN</td>\n",
       "      <td>NaN</td>\n",
       "      <td>NaN</td>\n",
       "      <td>NaN</td>\n",
       "      <td>NaN</td>\n",
       "      <td>11-tenth-avenue-oyster-bay-nsw-2225</td>\n",
       "      <td>Low$880k</td>\n",
       "      <td>Mid$1.02m</td>\n",
       "      <td>High$1.16m</td>\n",
       "    </tr>\n",
       "    <tr>\n",
       "      <td>3</td>\n",
       "      <td>3</td>\n",
       "      <td>6/141 woniora road, south hurstville nsw 2221</td>\n",
       "      <td>https://www.domain.com.au/6-141-woniora-road-s...</td>\n",
       "      <td>Apartment / Unit / Flat</td>\n",
       "      <td>6/141 Woniora Road,</td>\n",
       "      <td>SOUTH HURSTVILLE NSW 2221</td>\n",
       "      <td>SOUTH HURSTVILLE</td>\n",
       "      <td>NSW</td>\n",
       "      <td>2221</td>\n",
       "      <td>2</td>\n",
       "      <td>...</td>\n",
       "      <td>NaN</td>\n",
       "      <td>NaN</td>\n",
       "      <td>NaN</td>\n",
       "      <td>NaN</td>\n",
       "      <td>NaN</td>\n",
       "      <td>NaN</td>\n",
       "      <td>6/141-woniora-road-south-hurstville-nsw-2221</td>\n",
       "      <td>NaN</td>\n",
       "      <td>NaN</td>\n",
       "      <td>NaN</td>\n",
       "    </tr>\n",
       "    <tr>\n",
       "      <td>4</td>\n",
       "      <td>4</td>\n",
       "      <td>3/7a reginald avenue, belmore nsw 2192</td>\n",
       "      <td>https://www.domain.com.au/3-7a-reginald-avenue...</td>\n",
       "      <td>Apartment / Unit / Flat</td>\n",
       "      <td>3/7a Reginald Avenue,</td>\n",
       "      <td>BELMORE NSW 2192</td>\n",
       "      <td>BELMORE</td>\n",
       "      <td>NSW</td>\n",
       "      <td>2192</td>\n",
       "      <td>2</td>\n",
       "      <td>...</td>\n",
       "      <td>NaN</td>\n",
       "      <td>NaN</td>\n",
       "      <td>NaN</td>\n",
       "      <td>NaN</td>\n",
       "      <td>NaN</td>\n",
       "      <td>NaN</td>\n",
       "      <td>3/7a-reginald-avenue-belmore-nsw-2192</td>\n",
       "      <td>NaN</td>\n",
       "      <td>NaN</td>\n",
       "      <td>NaN</td>\n",
       "    </tr>\n",
       "    <tr>\n",
       "      <td>...</td>\n",
       "      <td>...</td>\n",
       "      <td>...</td>\n",
       "      <td>...</td>\n",
       "      <td>...</td>\n",
       "      <td>...</td>\n",
       "      <td>...</td>\n",
       "      <td>...</td>\n",
       "      <td>...</td>\n",
       "      <td>...</td>\n",
       "      <td>...</td>\n",
       "      <td>...</td>\n",
       "      <td>...</td>\n",
       "      <td>...</td>\n",
       "      <td>...</td>\n",
       "      <td>...</td>\n",
       "      <td>...</td>\n",
       "      <td>...</td>\n",
       "      <td>...</td>\n",
       "      <td>...</td>\n",
       "      <td>...</td>\n",
       "      <td>...</td>\n",
       "    </tr>\n",
       "    <tr>\n",
       "      <td>101</td>\n",
       "      <td>101</td>\n",
       "      <td>3/14-16 short street, wentworthville nsw 2145</td>\n",
       "      <td>https://www.domain.com.au/3-14-16-short-street...</td>\n",
       "      <td>Townhouse</td>\n",
       "      <td>3/14-16 Short Street,</td>\n",
       "      <td>WENTWORTHVILLE NSW 2145</td>\n",
       "      <td>WENTWORTHVILLE</td>\n",
       "      <td>NSW</td>\n",
       "      <td>2145</td>\n",
       "      <td>3</td>\n",
       "      <td>...</td>\n",
       "      <td>NaN</td>\n",
       "      <td>NaN</td>\n",
       "      <td>NaN</td>\n",
       "      <td>NaN</td>\n",
       "      <td>NaN</td>\n",
       "      <td>NaN</td>\n",
       "      <td>3/14-16-short-street-wentworthville-nsw-2145</td>\n",
       "      <td>NaN</td>\n",
       "      <td>NaN</td>\n",
       "      <td>NaN</td>\n",
       "    </tr>\n",
       "    <tr>\n",
       "      <td>102</td>\n",
       "      <td>102</td>\n",
       "      <td>16/2a maxim street, west ryde nsw 2114</td>\n",
       "      <td>https://www.domain.com.au/16-2a-maxim-street-w...</td>\n",
       "      <td>Apartment / Unit / Flat</td>\n",
       "      <td>16/2a Maxim Street,</td>\n",
       "      <td>WEST RYDE NSW 2114</td>\n",
       "      <td>WEST RYDE</td>\n",
       "      <td>NSW</td>\n",
       "      <td>2114</td>\n",
       "      <td>2</td>\n",
       "      <td>...</td>\n",
       "      <td>NaN</td>\n",
       "      <td>NaN</td>\n",
       "      <td>NaN</td>\n",
       "      <td>NaN</td>\n",
       "      <td>NaN</td>\n",
       "      <td>NaN</td>\n",
       "      <td>16/2a-maxim-street-west-ryde-nsw-2114</td>\n",
       "      <td>NaN</td>\n",
       "      <td>NaN</td>\n",
       "      <td>NaN</td>\n",
       "    </tr>\n",
       "    <tr>\n",
       "      <td>103</td>\n",
       "      <td>103</td>\n",
       "      <td>32 mahratta avenue, wahroonga nsw 2076</td>\n",
       "      <td>https://www.domain.com.au/32-mahratta-avenue-w...</td>\n",
       "      <td>House</td>\n",
       "      <td>32 Mahratta Avenue,</td>\n",
       "      <td>WAHROONGA NSW 2076</td>\n",
       "      <td>WAHROONGA</td>\n",
       "      <td>NSW</td>\n",
       "      <td>2076</td>\n",
       "      <td>4</td>\n",
       "      <td>...</td>\n",
       "      <td>NaN</td>\n",
       "      <td>NaN</td>\n",
       "      <td>NaN</td>\n",
       "      <td>NaN</td>\n",
       "      <td>NaN</td>\n",
       "      <td>NaN</td>\n",
       "      <td>32-mahratta-avenue-wahroonga-nsw-2076</td>\n",
       "      <td>Low$1.84m</td>\n",
       "      <td>Mid$2.14m</td>\n",
       "      <td>High$2.44m</td>\n",
       "    </tr>\n",
       "    <tr>\n",
       "      <td>104</td>\n",
       "      <td>104</td>\n",
       "      <td>23 yanderra grove, cherrybrook nsw 2126</td>\n",
       "      <td>https://www.domain.com.au/23-yanderra-grove-ch...</td>\n",
       "      <td>House</td>\n",
       "      <td>23 Yanderra Grove,</td>\n",
       "      <td>CHERRYBROOK NSW 2126</td>\n",
       "      <td>CHERRYBROOK</td>\n",
       "      <td>NSW</td>\n",
       "      <td>2126</td>\n",
       "      <td>5</td>\n",
       "      <td>...</td>\n",
       "      <td>NaN</td>\n",
       "      <td>NaN</td>\n",
       "      <td>NaN</td>\n",
       "      <td>NaN</td>\n",
       "      <td>NaN</td>\n",
       "      <td>NaN</td>\n",
       "      <td>23-yanderra-grove-cherrybrook-nsw-2126</td>\n",
       "      <td>Low$1.37m</td>\n",
       "      <td>Mid$1.59m</td>\n",
       "      <td>High$1.81m</td>\n",
       "    </tr>\n",
       "    <tr>\n",
       "      <td>105</td>\n",
       "      <td>105</td>\n",
       "      <td>11/44 bridge street, sydney nsw 2000</td>\n",
       "      <td>https://www.domain.com.au/11-44-bridge-street-...</td>\n",
       "      <td>Apartment / Unit / Flat</td>\n",
       "      <td>11/44 Bridge Street,</td>\n",
       "      <td>SYDNEY NSW 2000</td>\n",
       "      <td>SYDNEY</td>\n",
       "      <td>NSW</td>\n",
       "      <td>2000</td>\n",
       "      <td>3</td>\n",
       "      <td>...</td>\n",
       "      <td>NaN</td>\n",
       "      <td>NaN</td>\n",
       "      <td>NaN</td>\n",
       "      <td>NaN</td>\n",
       "      <td>NaN</td>\n",
       "      <td>NaN</td>\n",
       "      <td>11/44-bridge-street-sydney-nsw-2000</td>\n",
       "      <td>NaN</td>\n",
       "      <td>NaN</td>\n",
       "      <td>NaN</td>\n",
       "    </tr>\n",
       "  </tbody>\n",
       "</table>\n",
       "<p>106 rows × 34 columns</p>\n",
       "</div>"
      ],
      "text/plain": [
       "     Unnamed: 0                                   full_address  \\\n",
       "0             0              19 the crescent, dee why nsw 2099   \n",
       "1             1              51 river road, greenwich nsw 2065   \n",
       "2             2           11 tenth avenue, oyster bay nsw 2225   \n",
       "3             3  6/141 woniora road, south hurstville nsw 2221   \n",
       "4             4         3/7a reginald avenue, belmore nsw 2192   \n",
       "..          ...                                            ...   \n",
       "101         101  3/14-16 short street, wentworthville nsw 2145   \n",
       "102         102         16/2a maxim street, west ryde nsw 2114   \n",
       "103         103         32 mahratta avenue, wahroonga nsw 2076   \n",
       "104         104        23 yanderra grove, cherrybrook nsw 2126   \n",
       "105         105           11/44 bridge street, sydney nsw 2000   \n",
       "\n",
       "                                                   url  \\\n",
       "0    https://www.domain.com.au/19-the-crescent-dee-...   \n",
       "1    https://www.domain.com.au/51-river-road-greenw...   \n",
       "2    https://www.domain.com.au/11-tenth-avenue-oyst...   \n",
       "3    https://www.domain.com.au/6-141-woniora-road-s...   \n",
       "4    https://www.domain.com.au/3-7a-reginald-avenue...   \n",
       "..                                                 ...   \n",
       "101  https://www.domain.com.au/3-14-16-short-street...   \n",
       "102  https://www.domain.com.au/16-2a-maxim-street-w...   \n",
       "103  https://www.domain.com.au/32-mahratta-avenue-w...   \n",
       "104  https://www.domain.com.au/23-yanderra-grove-ch...   \n",
       "105  https://www.domain.com.au/11-44-bridge-street-...   \n",
       "\n",
       "                   prop_type                 street  \\\n",
       "0                      House       19 The Crescent,   \n",
       "1                      House         51 River Road,   \n",
       "2                      House       11 Tenth Avenue,   \n",
       "3    Apartment / Unit / Flat    6/141 Woniora Road,   \n",
       "4    Apartment / Unit / Flat  3/7a Reginald Avenue,   \n",
       "..                       ...                    ...   \n",
       "101                Townhouse  3/14-16 Short Street,   \n",
       "102  Apartment / Unit / Flat    16/2a Maxim Street,   \n",
       "103                    House    32 Mahratta Avenue,   \n",
       "104                    House     23 Yanderra Grove,   \n",
       "105  Apartment / Unit / Flat   11/44 Bridge Street,   \n",
       "\n",
       "         suburb_state_postcode            suburb state  post_code  beds  ...  \\\n",
       "0             DEE WHY NSW 2099           DEE WHY   NSW       2099     4  ...   \n",
       "1           GREENWICH NSW 2065         GREENWICH   NSW       2065     3  ...   \n",
       "2          OYSTER BAY NSW 2225        OYSTER BAY   NSW       2225     4  ...   \n",
       "3    SOUTH HURSTVILLE NSW 2221  SOUTH HURSTVILLE   NSW       2221     2  ...   \n",
       "4             BELMORE NSW 2192           BELMORE   NSW       2192     2  ...   \n",
       "..                         ...               ...   ...        ...   ...  ...   \n",
       "101    WENTWORTHVILLE NSW 2145    WENTWORTHVILLE   NSW       2145     3  ...   \n",
       "102         WEST RYDE NSW 2114         WEST RYDE   NSW       2114     2  ...   \n",
       "103         WAHROONGA NSW 2076         WAHROONGA   NSW       2076     4  ...   \n",
       "104       CHERRYBROOK NSW 2126       CHERRYBROOK   NSW       2126     5  ...   \n",
       "105            SYDNEY NSW 2000            SYDNEY   NSW       2000     3  ...   \n",
       "\n",
       "     Reasonable floor plan  Indoor space sec_pri_sold_time  syd_pri_sold_time  \\\n",
       "0                      NaN           NaN               NaN                NaN   \n",
       "1                      NaN           NaN               NaN                NaN   \n",
       "2                      NaN           NaN               NaN                NaN   \n",
       "3                      NaN           NaN               NaN                NaN   \n",
       "4                      NaN           NaN               NaN                NaN   \n",
       "..                     ...           ...               ...                ...   \n",
       "101                    NaN           NaN               NaN                NaN   \n",
       "102                    NaN           NaN               NaN                NaN   \n",
       "103                    NaN           NaN               NaN                NaN   \n",
       "104                    NaN           NaN               NaN                NaN   \n",
       "105                    NaN           NaN               NaN                NaN   \n",
       "\n",
       "     syd_pri_lv_time  sec_pri_lv_time  \\\n",
       "0                NaN              NaN   \n",
       "1                NaN              NaN   \n",
       "2                NaN              NaN   \n",
       "3                NaN              NaN   \n",
       "4                NaN              NaN   \n",
       "..               ...              ...   \n",
       "101              NaN              NaN   \n",
       "102              NaN              NaN   \n",
       "103              NaN              NaN   \n",
       "104              NaN              NaN   \n",
       "105              NaN              NaN   \n",
       "\n",
       "                                          address  min_price  median_price  \\\n",
       "0                19-the-crescent-dee-why-nsw-2099  Low$1.99m     Mid$2.32m   \n",
       "1                51-river-road-greenwich-nsw-2065  Low$2.44m     Mid$2.81m   \n",
       "2             11-tenth-avenue-oyster-bay-nsw-2225   Low$880k     Mid$1.02m   \n",
       "3    6/141-woniora-road-south-hurstville-nsw-2221        NaN           NaN   \n",
       "4           3/7a-reginald-avenue-belmore-nsw-2192        NaN           NaN   \n",
       "..                                            ...        ...           ...   \n",
       "101  3/14-16-short-street-wentworthville-nsw-2145        NaN           NaN   \n",
       "102         16/2a-maxim-street-west-ryde-nsw-2114        NaN           NaN   \n",
       "103         32-mahratta-avenue-wahroonga-nsw-2076  Low$1.84m     Mid$2.14m   \n",
       "104        23-yanderra-grove-cherrybrook-nsw-2126  Low$1.37m     Mid$1.59m   \n",
       "105           11/44-bridge-street-sydney-nsw-2000        NaN           NaN   \n",
       "\n",
       "      max_price  \n",
       "0    High$2.65m  \n",
       "1    High$3.18m  \n",
       "2    High$1.16m  \n",
       "3           NaN  \n",
       "4           NaN  \n",
       "..          ...  \n",
       "101         NaN  \n",
       "102         NaN  \n",
       "103  High$2.44m  \n",
       "104  High$1.81m  \n",
       "105         NaN  \n",
       "\n",
       "[106 rows x 34 columns]"
      ]
     },
     "execution_count": 46,
     "metadata": {},
     "output_type": "execute_result"
    }
   ],
   "source": [
    "result"
   ]
  },
  {
   "cell_type": "code",
   "execution_count": 47,
   "metadata": {},
   "outputs": [],
   "source": [
    "result = result.rename(columns={'area': 'land_size'})\n",
    "result = result.rename(columns={'min_price': 'Domain_min_price'})\n",
    "result = result.rename(columns={'median_price': 'Domain_median_price'})\n",
    "result = result.rename(columns={'max_price': 'Domain_max_price'})"
   ]
  },
  {
   "cell_type": "code",
   "execution_count": 48,
   "metadata": {},
   "outputs": [
    {
     "name": "stderr",
     "output_type": "stream",
     "text": [
      "\n",
      "  0%|          | 0/106 [00:00<?, ?it/s]\u001b[A/opt/anaconda3/lib/python3.7/site-packages/ipykernel_launcher.py:2: SettingWithCopyWarning: \n",
      "A value is trying to be set on a copy of a slice from a DataFrame\n",
      "\n",
      "See the caveats in the documentation: http://pandas.pydata.org/pandas-docs/stable/user_guide/indexing.html#returning-a-view-versus-a-copy\n",
      "  \n",
      "100%|██████████| 106/106 [00:00<00:00, 8727.33it/s]\n"
     ]
    }
   ],
   "source": [
    "for i in tqdm(range(len(result['Domain_min_price']))):\n",
    "    result['Domain_min_price'][i] = str(result['Domain_min_price'][i]).replace(u'Low$', u'')"
   ]
  },
  {
   "cell_type": "code",
   "execution_count": 49,
   "metadata": {},
   "outputs": [
    {
     "name": "stderr",
     "output_type": "stream",
     "text": [
      "\n",
      "  0%|          | 0/106 [00:00<?, ?it/s]\u001b[A/opt/anaconda3/lib/python3.7/site-packages/ipykernel_launcher.py:2: SettingWithCopyWarning: \n",
      "A value is trying to be set on a copy of a slice from a DataFrame\n",
      "\n",
      "See the caveats in the documentation: http://pandas.pydata.org/pandas-docs/stable/user_guide/indexing.html#returning-a-view-versus-a-copy\n",
      "  \n",
      "100%|██████████| 106/106 [00:00<00:00, 10967.39it/s]\n"
     ]
    }
   ],
   "source": [
    "for i in tqdm(range(len(result['Domain_median_price']))):\n",
    "    result['Domain_median_price'][i] = str(result['Domain_median_price'][i]).replace(u'Mid$', u'')"
   ]
  },
  {
   "cell_type": "code",
   "execution_count": 50,
   "metadata": {},
   "outputs": [
    {
     "name": "stderr",
     "output_type": "stream",
     "text": [
      "\n",
      "  0%|          | 0/106 [00:00<?, ?it/s]\u001b[A/opt/anaconda3/lib/python3.7/site-packages/ipykernel_launcher.py:2: SettingWithCopyWarning: \n",
      "A value is trying to be set on a copy of a slice from a DataFrame\n",
      "\n",
      "See the caveats in the documentation: http://pandas.pydata.org/pandas-docs/stable/user_guide/indexing.html#returning-a-view-versus-a-copy\n",
      "  \n",
      "100%|██████████| 106/106 [00:00<00:00, 9074.50it/s]\n"
     ]
    }
   ],
   "source": [
    "for i in tqdm(range(len(result['Domain_max_price']))):\n",
    "    result['Domain_max_price'][i] = str(result['Domain_max_price'][i]).replace(u'High$', u'')"
   ]
  },
  {
   "cell_type": "code",
   "execution_count": 51,
   "metadata": {},
   "outputs": [
    {
     "name": "stderr",
     "output_type": "stream",
     "text": [
      "\n",
      "  0%|          | 0/106 [00:00<?, ?it/s]\u001b[A/opt/anaconda3/lib/python3.7/site-packages/ipykernel_launcher.py:3: SettingWithCopyWarning: \n",
      "A value is trying to be set on a copy of a slice from a DataFrame\n",
      "\n",
      "See the caveats in the documentation: http://pandas.pydata.org/pandas-docs/stable/user_guide/indexing.html#returning-a-view-versus-a-copy\n",
      "  This is separate from the ipykernel package so we can avoid doing imports until\n",
      "/opt/anaconda3/lib/python3.7/site-packages/ipykernel_launcher.py:5: SettingWithCopyWarning: \n",
      "A value is trying to be set on a copy of a slice from a DataFrame\n",
      "\n",
      "See the caveats in the documentation: http://pandas.pydata.org/pandas-docs/stable/user_guide/indexing.html#returning-a-view-versus-a-copy\n",
      "  \"\"\"\n",
      "/opt/anaconda3/lib/python3.7/site-packages/ipykernel_launcher.py:7: SettingWithCopyWarning: \n",
      "A value is trying to be set on a copy of a slice from a DataFrame\n",
      "\n",
      "See the caveats in the documentation: http://pandas.pydata.org/pandas-docs/stable/user_guide/indexing.html#returning-a-view-versus-a-copy\n",
      "  import sys\n",
      "100%|██████████| 106/106 [00:00<00:00, 7578.95it/s]\n"
     ]
    }
   ],
   "source": [
    "for j in tqdm(range(len(result['Domain_min_price']))):\n",
    "    if str(result['Domain_min_price'][j])[-1] == 'm':\n",
    "        result['Domain_min_price'][j]=float(str(result['Domain_min_price'][j])[0:-1])*1000000\n",
    "    elif str(result['Domain_min_price'][j])[-1] == 'k':\n",
    "        result['Domain_min_price'][j]=float(str(result['Domain_min_price'][j])[0:-1])*1000\n",
    "    else:\n",
    "        result['Domain_min_price'][j]=''"
   ]
  },
  {
   "cell_type": "code",
   "execution_count": 52,
   "metadata": {},
   "outputs": [
    {
     "name": "stderr",
     "output_type": "stream",
     "text": [
      "\n",
      "  0%|          | 0/106 [00:00<?, ?it/s]\u001b[A/opt/anaconda3/lib/python3.7/site-packages/ipykernel_launcher.py:3: SettingWithCopyWarning: \n",
      "A value is trying to be set on a copy of a slice from a DataFrame\n",
      "\n",
      "See the caveats in the documentation: http://pandas.pydata.org/pandas-docs/stable/user_guide/indexing.html#returning-a-view-versus-a-copy\n",
      "  This is separate from the ipykernel package so we can avoid doing imports until\n",
      "/opt/anaconda3/lib/python3.7/site-packages/ipykernel_launcher.py:7: SettingWithCopyWarning: \n",
      "A value is trying to be set on a copy of a slice from a DataFrame\n",
      "\n",
      "See the caveats in the documentation: http://pandas.pydata.org/pandas-docs/stable/user_guide/indexing.html#returning-a-view-versus-a-copy\n",
      "  import sys\n",
      "/opt/anaconda3/lib/python3.7/site-packages/ipykernel_launcher.py:5: SettingWithCopyWarning: \n",
      "A value is trying to be set on a copy of a slice from a DataFrame\n",
      "\n",
      "See the caveats in the documentation: http://pandas.pydata.org/pandas-docs/stable/user_guide/indexing.html#returning-a-view-versus-a-copy\n",
      "  \"\"\"\n",
      "100%|██████████| 106/106 [00:00<00:00, 7705.71it/s]\n"
     ]
    }
   ],
   "source": [
    "for j in tqdm(range(len(result['Domain_median_price']))):\n",
    "    if str(result['Domain_median_price'][j])[-1] == 'm':\n",
    "        result['Domain_median_price'][j]=float(str(result['Domain_median_price'][j])[0:-1])*1000000\n",
    "    elif str(result['Domain_median_price'][j])[-1] == 'k':\n",
    "        result['Domain_median_price'][j]=float(str(result['Domain_median_price'][j])[0:-1])*1000\n",
    "    else:\n",
    "        result['Domain_median_price'][j]=''"
   ]
  },
  {
   "cell_type": "code",
   "execution_count": 53,
   "metadata": {},
   "outputs": [
    {
     "name": "stderr",
     "output_type": "stream",
     "text": [
      "\n",
      "  0%|          | 0/106 [00:00<?, ?it/s]\u001b[A/opt/anaconda3/lib/python3.7/site-packages/ipykernel_launcher.py:3: SettingWithCopyWarning: \n",
      "A value is trying to be set on a copy of a slice from a DataFrame\n",
      "\n",
      "See the caveats in the documentation: http://pandas.pydata.org/pandas-docs/stable/user_guide/indexing.html#returning-a-view-versus-a-copy\n",
      "  This is separate from the ipykernel package so we can avoid doing imports until\n",
      "/opt/anaconda3/lib/python3.7/site-packages/ipykernel_launcher.py:7: SettingWithCopyWarning: \n",
      "A value is trying to be set on a copy of a slice from a DataFrame\n",
      "\n",
      "See the caveats in the documentation: http://pandas.pydata.org/pandas-docs/stable/user_guide/indexing.html#returning-a-view-versus-a-copy\n",
      "  import sys\n",
      "/opt/anaconda3/lib/python3.7/site-packages/ipykernel_launcher.py:5: SettingWithCopyWarning: \n",
      "A value is trying to be set on a copy of a slice from a DataFrame\n",
      "\n",
      "See the caveats in the documentation: http://pandas.pydata.org/pandas-docs/stable/user_guide/indexing.html#returning-a-view-versus-a-copy\n",
      "  \"\"\"\n",
      "100%|██████████| 106/106 [00:00<00:00, 7797.61it/s]\n"
     ]
    }
   ],
   "source": [
    "for j in tqdm(range(len(result['Domain_max_price']))):\n",
    "    if str(result['Domain_max_price'][j])[-1] == 'm':\n",
    "        result['Domain_max_price'][j]=float(str(result['Domain_max_price'][j])[0:-1])*1000000\n",
    "    elif str(result['Domain_max_price'][j])[-1] == 'k':\n",
    "        result['Domain_max_price'][j]=float(str(result['Domain_max_price'][j])[0:-1])*1000\n",
    "    else:\n",
    "        result['Domain_max_price'][j]=''"
   ]
  },
  {
   "cell_type": "code",
   "execution_count": 54,
   "metadata": {},
   "outputs": [
    {
     "data": {
      "text/html": [
       "<div>\n",
       "<style scoped>\n",
       "    .dataframe tbody tr th:only-of-type {\n",
       "        vertical-align: middle;\n",
       "    }\n",
       "\n",
       "    .dataframe tbody tr th {\n",
       "        vertical-align: top;\n",
       "    }\n",
       "\n",
       "    .dataframe thead th {\n",
       "        text-align: right;\n",
       "    }\n",
       "</style>\n",
       "<table border=\"1\" class=\"dataframe\">\n",
       "  <thead>\n",
       "    <tr style=\"text-align: right;\">\n",
       "      <th></th>\n",
       "      <th>Unnamed: 0</th>\n",
       "      <th>full_address</th>\n",
       "      <th>url</th>\n",
       "      <th>prop_type</th>\n",
       "      <th>street</th>\n",
       "      <th>suburb_state_postcode</th>\n",
       "      <th>suburb</th>\n",
       "      <th>state</th>\n",
       "      <th>post_code</th>\n",
       "      <th>beds</th>\n",
       "      <th>...</th>\n",
       "      <th>Reasonable floor plan</th>\n",
       "      <th>Indoor space</th>\n",
       "      <th>sec_pri_sold_time</th>\n",
       "      <th>syd_pri_sold_time</th>\n",
       "      <th>syd_pri_lv_time</th>\n",
       "      <th>sec_pri_lv_time</th>\n",
       "      <th>address</th>\n",
       "      <th>Domain_min_price</th>\n",
       "      <th>Domain_median_price</th>\n",
       "      <th>Domain_max_price</th>\n",
       "    </tr>\n",
       "  </thead>\n",
       "  <tbody>\n",
       "    <tr>\n",
       "      <td>0</td>\n",
       "      <td>0</td>\n",
       "      <td>19 the crescent, dee why nsw 2099</td>\n",
       "      <td>https://www.domain.com.au/19-the-crescent-dee-...</td>\n",
       "      <td>House</td>\n",
       "      <td>19 The Crescent,</td>\n",
       "      <td>DEE WHY NSW 2099</td>\n",
       "      <td>DEE WHY</td>\n",
       "      <td>NSW</td>\n",
       "      <td>2099</td>\n",
       "      <td>4</td>\n",
       "      <td>...</td>\n",
       "      <td>NaN</td>\n",
       "      <td>NaN</td>\n",
       "      <td>NaN</td>\n",
       "      <td>NaN</td>\n",
       "      <td>NaN</td>\n",
       "      <td>NaN</td>\n",
       "      <td>19-the-crescent-dee-why-nsw-2099</td>\n",
       "      <td>1.99e+06</td>\n",
       "      <td>2.32e+06</td>\n",
       "      <td>2.65e+06</td>\n",
       "    </tr>\n",
       "    <tr>\n",
       "      <td>1</td>\n",
       "      <td>1</td>\n",
       "      <td>51 river road, greenwich nsw 2065</td>\n",
       "      <td>https://www.domain.com.au/51-river-road-greenw...</td>\n",
       "      <td>House</td>\n",
       "      <td>51 River Road,</td>\n",
       "      <td>GREENWICH NSW 2065</td>\n",
       "      <td>GREENWICH</td>\n",
       "      <td>NSW</td>\n",
       "      <td>2065</td>\n",
       "      <td>3</td>\n",
       "      <td>...</td>\n",
       "      <td>NaN</td>\n",
       "      <td>NaN</td>\n",
       "      <td>NaN</td>\n",
       "      <td>NaN</td>\n",
       "      <td>NaN</td>\n",
       "      <td>NaN</td>\n",
       "      <td>51-river-road-greenwich-nsw-2065</td>\n",
       "      <td>2.44e+06</td>\n",
       "      <td>2.81e+06</td>\n",
       "      <td>3.18e+06</td>\n",
       "    </tr>\n",
       "    <tr>\n",
       "      <td>2</td>\n",
       "      <td>2</td>\n",
       "      <td>11 tenth avenue, oyster bay nsw 2225</td>\n",
       "      <td>https://www.domain.com.au/11-tenth-avenue-oyst...</td>\n",
       "      <td>House</td>\n",
       "      <td>11 Tenth Avenue,</td>\n",
       "      <td>OYSTER BAY NSW 2225</td>\n",
       "      <td>OYSTER BAY</td>\n",
       "      <td>NSW</td>\n",
       "      <td>2225</td>\n",
       "      <td>4</td>\n",
       "      <td>...</td>\n",
       "      <td>NaN</td>\n",
       "      <td>NaN</td>\n",
       "      <td>NaN</td>\n",
       "      <td>NaN</td>\n",
       "      <td>NaN</td>\n",
       "      <td>NaN</td>\n",
       "      <td>11-tenth-avenue-oyster-bay-nsw-2225</td>\n",
       "      <td>880000</td>\n",
       "      <td>1.02e+06</td>\n",
       "      <td>1.16e+06</td>\n",
       "    </tr>\n",
       "    <tr>\n",
       "      <td>3</td>\n",
       "      <td>3</td>\n",
       "      <td>6/141 woniora road, south hurstville nsw 2221</td>\n",
       "      <td>https://www.domain.com.au/6-141-woniora-road-s...</td>\n",
       "      <td>Apartment / Unit / Flat</td>\n",
       "      <td>6/141 Woniora Road,</td>\n",
       "      <td>SOUTH HURSTVILLE NSW 2221</td>\n",
       "      <td>SOUTH HURSTVILLE</td>\n",
       "      <td>NSW</td>\n",
       "      <td>2221</td>\n",
       "      <td>2</td>\n",
       "      <td>...</td>\n",
       "      <td>NaN</td>\n",
       "      <td>NaN</td>\n",
       "      <td>NaN</td>\n",
       "      <td>NaN</td>\n",
       "      <td>NaN</td>\n",
       "      <td>NaN</td>\n",
       "      <td>6/141-woniora-road-south-hurstville-nsw-2221</td>\n",
       "      <td></td>\n",
       "      <td></td>\n",
       "      <td></td>\n",
       "    </tr>\n",
       "    <tr>\n",
       "      <td>4</td>\n",
       "      <td>4</td>\n",
       "      <td>3/7a reginald avenue, belmore nsw 2192</td>\n",
       "      <td>https://www.domain.com.au/3-7a-reginald-avenue...</td>\n",
       "      <td>Apartment / Unit / Flat</td>\n",
       "      <td>3/7a Reginald Avenue,</td>\n",
       "      <td>BELMORE NSW 2192</td>\n",
       "      <td>BELMORE</td>\n",
       "      <td>NSW</td>\n",
       "      <td>2192</td>\n",
       "      <td>2</td>\n",
       "      <td>...</td>\n",
       "      <td>NaN</td>\n",
       "      <td>NaN</td>\n",
       "      <td>NaN</td>\n",
       "      <td>NaN</td>\n",
       "      <td>NaN</td>\n",
       "      <td>NaN</td>\n",
       "      <td>3/7a-reginald-avenue-belmore-nsw-2192</td>\n",
       "      <td></td>\n",
       "      <td></td>\n",
       "      <td></td>\n",
       "    </tr>\n",
       "  </tbody>\n",
       "</table>\n",
       "<p>5 rows × 34 columns</p>\n",
       "</div>"
      ],
      "text/plain": [
       "   Unnamed: 0                                   full_address  \\\n",
       "0           0              19 the crescent, dee why nsw 2099   \n",
       "1           1              51 river road, greenwich nsw 2065   \n",
       "2           2           11 tenth avenue, oyster bay nsw 2225   \n",
       "3           3  6/141 woniora road, south hurstville nsw 2221   \n",
       "4           4         3/7a reginald avenue, belmore nsw 2192   \n",
       "\n",
       "                                                 url                prop_type  \\\n",
       "0  https://www.domain.com.au/19-the-crescent-dee-...                    House   \n",
       "1  https://www.domain.com.au/51-river-road-greenw...                    House   \n",
       "2  https://www.domain.com.au/11-tenth-avenue-oyst...                    House   \n",
       "3  https://www.domain.com.au/6-141-woniora-road-s...  Apartment / Unit / Flat   \n",
       "4  https://www.domain.com.au/3-7a-reginald-avenue...  Apartment / Unit / Flat   \n",
       "\n",
       "                  street      suburb_state_postcode            suburb state  \\\n",
       "0       19 The Crescent,           DEE WHY NSW 2099           DEE WHY   NSW   \n",
       "1         51 River Road,         GREENWICH NSW 2065         GREENWICH   NSW   \n",
       "2       11 Tenth Avenue,        OYSTER BAY NSW 2225        OYSTER BAY   NSW   \n",
       "3    6/141 Woniora Road,  SOUTH HURSTVILLE NSW 2221  SOUTH HURSTVILLE   NSW   \n",
       "4  3/7a Reginald Avenue,           BELMORE NSW 2192           BELMORE   NSW   \n",
       "\n",
       "   post_code  beds  ...  Reasonable floor plan  Indoor space  \\\n",
       "0       2099     4  ...                    NaN           NaN   \n",
       "1       2065     3  ...                    NaN           NaN   \n",
       "2       2225     4  ...                    NaN           NaN   \n",
       "3       2221     2  ...                    NaN           NaN   \n",
       "4       2192     2  ...                    NaN           NaN   \n",
       "\n",
       "  sec_pri_sold_time  syd_pri_sold_time  syd_pri_lv_time  sec_pri_lv_time  \\\n",
       "0               NaN                NaN              NaN              NaN   \n",
       "1               NaN                NaN              NaN              NaN   \n",
       "2               NaN                NaN              NaN              NaN   \n",
       "3               NaN                NaN              NaN              NaN   \n",
       "4               NaN                NaN              NaN              NaN   \n",
       "\n",
       "                                        address  Domain_min_price  \\\n",
       "0              19-the-crescent-dee-why-nsw-2099          1.99e+06   \n",
       "1              51-river-road-greenwich-nsw-2065          2.44e+06   \n",
       "2           11-tenth-avenue-oyster-bay-nsw-2225            880000   \n",
       "3  6/141-woniora-road-south-hurstville-nsw-2221                     \n",
       "4         3/7a-reginald-avenue-belmore-nsw-2192                     \n",
       "\n",
       "   Domain_median_price  Domain_max_price  \n",
       "0             2.32e+06          2.65e+06  \n",
       "1             2.81e+06          3.18e+06  \n",
       "2             1.02e+06          1.16e+06  \n",
       "3                                         \n",
       "4                                         \n",
       "\n",
       "[5 rows x 34 columns]"
      ]
     },
     "execution_count": 54,
     "metadata": {},
     "output_type": "execute_result"
    }
   ],
   "source": [
    "result.head()"
   ]
  },
  {
   "cell_type": "code",
   "execution_count": 28,
   "metadata": {},
   "outputs": [
    {
     "name": "stderr",
     "output_type": "stream",
     "text": [
      "  0%|          | 0/491 [00:00<?, ?it/s]/opt/anaconda3/lib/python3.7/site-packages/ipykernel_launcher.py:2: SettingWithCopyWarning: \n",
      "A value is trying to be set on a copy of a slice from a DataFrame\n",
      "\n",
      "See the caveats in the documentation: http://pandas.pydata.org/pandas-docs/stable/user_guide/indexing.html#returning-a-view-versus-a-copy\n",
      "  \n",
      "100%|██████████| 491/491 [00:00<00:00, 8295.58it/s]\n"
     ]
    }
   ],
   "source": [
    "for i in tqdm(range(len(result['full_address']))):\n",
    "    result['full_address'][i] = str(result['full_address'][i].upper()).replace(u'-', u' ')"
   ]
  },
  {
   "cell_type": "code",
   "execution_count": 30,
   "metadata": {
    "scrolled": true
   },
   "outputs": [
    {
     "name": "stderr",
     "output_type": "stream",
     "text": [
      "  0%|          | 0/491 [00:00<?, ?it/s]/opt/anaconda3/lib/python3.7/site-packages/ipykernel_launcher.py:3: SettingWithCopyWarning: \n",
      "A value is trying to be set on a copy of a slice from a DataFrame\n",
      "\n",
      "See the caveats in the documentation: http://pandas.pydata.org/pandas-docs/stable/user_guide/indexing.html#returning-a-view-versus-a-copy\n",
      "  This is separate from the ipykernel package so we can avoid doing imports until\n",
      "100%|██████████| 491/491 [00:00<00:00, 6512.73it/s]\n"
     ]
    }
   ],
   "source": [
    "result['address_for_api'] =''\n",
    "for i in tqdm(range(len(result['address_for_api']))):\n",
    "    result['address_for_api'][i] = str(result['street'][i])+' '+str(result['suburb'][i])+' NSW '+ str(result['post_code'][i])"
   ]
  },
  {
   "cell_type": "code",
   "execution_count": 31,
   "metadata": {},
   "outputs": [
    {
     "name": "stderr",
     "output_type": "stream",
     "text": [
      "  0%|          | 0/491 [00:00<?, ?it/s]/opt/anaconda3/lib/python3.7/site-packages/ipykernel_launcher.py:2: SettingWithCopyWarning: \n",
      "A value is trying to be set on a copy of a slice from a DataFrame\n",
      "\n",
      "See the caveats in the documentation: http://pandas.pydata.org/pandas-docs/stable/user_guide/indexing.html#returning-a-view-versus-a-copy\n",
      "  \n",
      "100%|██████████| 491/491 [00:00<00:00, 8340.40it/s]\n"
     ]
    }
   ],
   "source": [
    "for i in tqdm(range(len(result['address_for_api']))):\n",
    "    result['address_for_api'][i] = result['address_for_api'][i].replace(' ', '+')"
   ]
  },
  {
   "cell_type": "code",
   "execution_count": 59,
   "metadata": {},
   "outputs": [
    {
     "name": "stderr",
     "output_type": "stream",
     "text": [
      "  0%|          | 0/526 [00:00<?, ?it/s]/opt/anaconda3/lib/python3.7/site-packages/ipykernel_launcher.py:8: SettingWithCopyWarning: \n",
      "A value is trying to be set on a copy of a slice from a DataFrame\n",
      "\n",
      "See the caveats in the documentation: http://pandas.pydata.org/pandas-docs/stable/user_guide/indexing.html#returning-a-view-versus-a-copy\n",
      "  \n",
      "  0%|          | 2/526 [00:00<01:21,  6.43it/s]"
     ]
    },
    {
     "name": "stdout",
     "output_type": "stream",
     "text": [
      "1 15/57 MARKET ST, RANDWICK NSW 2031\n",
      "2 3/15 MARINE PDE, MANLY NSW 2095\n"
     ]
    },
    {
     "name": "stderr",
     "output_type": "stream",
     "text": [
      "  0%|          | 2/526 [00:00<01:54,  4.58it/s]\n"
     ]
    },
    {
     "ename": "JSONDecodeError",
     "evalue": "Expecting value: line 1 column 1 (char 0)",
     "output_type": "error",
     "traceback": [
      "\u001b[0;31m---------------------------------------------------------------------------\u001b[0m",
      "\u001b[0;31mJSONDecodeError\u001b[0m                           Traceback (most recent call last)",
      "\u001b[0;32m<ipython-input-59-b1c905a7bb15>\u001b[0m in \u001b[0;36m<module>\u001b[0;34m\u001b[0m\n\u001b[1;32m      5\u001b[0m     \u001b[0murl\u001b[0m \u001b[0;34m=\u001b[0m \u001b[0;34mf\"https://ab.api.aihouse.io/ParseAddress?addr={result['address_for_api'][i]}\"\u001b[0m\u001b[0;34m\u001b[0m\u001b[0;34m\u001b[0m\u001b[0m\n\u001b[1;32m      6\u001b[0m     \u001b[0mresp\u001b[0m \u001b[0;34m=\u001b[0m \u001b[0mrequests\u001b[0m\u001b[0;34m.\u001b[0m\u001b[0mget\u001b[0m\u001b[0;34m(\u001b[0m\u001b[0murl\u001b[0m\u001b[0;34m)\u001b[0m\u001b[0;34m\u001b[0m\u001b[0;34m\u001b[0m\u001b[0m\n\u001b[0;32m----> 7\u001b[0;31m     \u001b[0mresponse_dict\u001b[0m \u001b[0;34m=\u001b[0m \u001b[0mresp\u001b[0m\u001b[0;34m.\u001b[0m\u001b[0mjson\u001b[0m\u001b[0;34m(\u001b[0m\u001b[0;34m)\u001b[0m\u001b[0;34m\u001b[0m\u001b[0;34m\u001b[0m\u001b[0m\n\u001b[0m\u001b[1;32m      8\u001b[0m     \u001b[0mresult\u001b[0m\u001b[0;34m[\u001b[0m\u001b[0;34m'address_from_api'\u001b[0m\u001b[0;34m]\u001b[0m\u001b[0;34m[\u001b[0m\u001b[0mi\u001b[0m\u001b[0;34m]\u001b[0m \u001b[0;34m=\u001b[0m \u001b[0mresponse_dict\u001b[0m\u001b[0;34m[\u001b[0m\u001b[0;34m'std_address'\u001b[0m\u001b[0;34m]\u001b[0m\u001b[0;34m\u001b[0m\u001b[0;34m\u001b[0m\u001b[0m\n\u001b[1;32m      9\u001b[0m     \u001b[0mprint\u001b[0m\u001b[0;34m(\u001b[0m\u001b[0mn\u001b[0m\u001b[0;34m,\u001b[0m\u001b[0mresponse_dict\u001b[0m\u001b[0;34m[\u001b[0m\u001b[0;34m'std_address'\u001b[0m\u001b[0;34m]\u001b[0m\u001b[0;34m)\u001b[0m\u001b[0;34m\u001b[0m\u001b[0;34m\u001b[0m\u001b[0m\n",
      "\u001b[0;32m/opt/anaconda3/lib/python3.7/site-packages/requests/models.py\u001b[0m in \u001b[0;36mjson\u001b[0;34m(self, **kwargs)\u001b[0m\n\u001b[1;32m    887\u001b[0m                 \u001b[0;32mtry\u001b[0m\u001b[0;34m:\u001b[0m\u001b[0;34m\u001b[0m\u001b[0;34m\u001b[0m\u001b[0m\n\u001b[1;32m    888\u001b[0m                     return complexjson.loads(\n\u001b[0;32m--> 889\u001b[0;31m                         \u001b[0mself\u001b[0m\u001b[0;34m.\u001b[0m\u001b[0mcontent\u001b[0m\u001b[0;34m.\u001b[0m\u001b[0mdecode\u001b[0m\u001b[0;34m(\u001b[0m\u001b[0mencoding\u001b[0m\u001b[0;34m)\u001b[0m\u001b[0;34m,\u001b[0m \u001b[0;34m**\u001b[0m\u001b[0mkwargs\u001b[0m\u001b[0;34m\u001b[0m\u001b[0;34m\u001b[0m\u001b[0m\n\u001b[0m\u001b[1;32m    890\u001b[0m                     )\n\u001b[1;32m    891\u001b[0m                 \u001b[0;32mexcept\u001b[0m \u001b[0mUnicodeDecodeError\u001b[0m\u001b[0;34m:\u001b[0m\u001b[0;34m\u001b[0m\u001b[0;34m\u001b[0m\u001b[0m\n",
      "\u001b[0;32m/opt/anaconda3/lib/python3.7/json/__init__.py\u001b[0m in \u001b[0;36mloads\u001b[0;34m(s, encoding, cls, object_hook, parse_float, parse_int, parse_constant, object_pairs_hook, **kw)\u001b[0m\n\u001b[1;32m    346\u001b[0m             \u001b[0mparse_int\u001b[0m \u001b[0;32mis\u001b[0m \u001b[0;32mNone\u001b[0m \u001b[0;32mand\u001b[0m \u001b[0mparse_float\u001b[0m \u001b[0;32mis\u001b[0m \u001b[0;32mNone\u001b[0m \u001b[0;32mand\u001b[0m\u001b[0;34m\u001b[0m\u001b[0;34m\u001b[0m\u001b[0m\n\u001b[1;32m    347\u001b[0m             parse_constant is None and object_pairs_hook is None and not kw):\n\u001b[0;32m--> 348\u001b[0;31m         \u001b[0;32mreturn\u001b[0m \u001b[0m_default_decoder\u001b[0m\u001b[0;34m.\u001b[0m\u001b[0mdecode\u001b[0m\u001b[0;34m(\u001b[0m\u001b[0ms\u001b[0m\u001b[0;34m)\u001b[0m\u001b[0;34m\u001b[0m\u001b[0;34m\u001b[0m\u001b[0m\n\u001b[0m\u001b[1;32m    349\u001b[0m     \u001b[0;32mif\u001b[0m \u001b[0mcls\u001b[0m \u001b[0;32mis\u001b[0m \u001b[0;32mNone\u001b[0m\u001b[0;34m:\u001b[0m\u001b[0;34m\u001b[0m\u001b[0;34m\u001b[0m\u001b[0m\n\u001b[1;32m    350\u001b[0m         \u001b[0mcls\u001b[0m \u001b[0;34m=\u001b[0m \u001b[0mJSONDecoder\u001b[0m\u001b[0;34m\u001b[0m\u001b[0;34m\u001b[0m\u001b[0m\n",
      "\u001b[0;32m/opt/anaconda3/lib/python3.7/json/decoder.py\u001b[0m in \u001b[0;36mdecode\u001b[0;34m(self, s, _w)\u001b[0m\n\u001b[1;32m    335\u001b[0m \u001b[0;34m\u001b[0m\u001b[0m\n\u001b[1;32m    336\u001b[0m         \"\"\"\n\u001b[0;32m--> 337\u001b[0;31m         \u001b[0mobj\u001b[0m\u001b[0;34m,\u001b[0m \u001b[0mend\u001b[0m \u001b[0;34m=\u001b[0m \u001b[0mself\u001b[0m\u001b[0;34m.\u001b[0m\u001b[0mraw_decode\u001b[0m\u001b[0;34m(\u001b[0m\u001b[0ms\u001b[0m\u001b[0;34m,\u001b[0m \u001b[0midx\u001b[0m\u001b[0;34m=\u001b[0m\u001b[0m_w\u001b[0m\u001b[0;34m(\u001b[0m\u001b[0ms\u001b[0m\u001b[0;34m,\u001b[0m \u001b[0;36m0\u001b[0m\u001b[0;34m)\u001b[0m\u001b[0;34m.\u001b[0m\u001b[0mend\u001b[0m\u001b[0;34m(\u001b[0m\u001b[0;34m)\u001b[0m\u001b[0;34m)\u001b[0m\u001b[0;34m\u001b[0m\u001b[0;34m\u001b[0m\u001b[0m\n\u001b[0m\u001b[1;32m    338\u001b[0m         \u001b[0mend\u001b[0m \u001b[0;34m=\u001b[0m \u001b[0m_w\u001b[0m\u001b[0;34m(\u001b[0m\u001b[0ms\u001b[0m\u001b[0;34m,\u001b[0m \u001b[0mend\u001b[0m\u001b[0;34m)\u001b[0m\u001b[0;34m.\u001b[0m\u001b[0mend\u001b[0m\u001b[0;34m(\u001b[0m\u001b[0;34m)\u001b[0m\u001b[0;34m\u001b[0m\u001b[0;34m\u001b[0m\u001b[0m\n\u001b[1;32m    339\u001b[0m         \u001b[0;32mif\u001b[0m \u001b[0mend\u001b[0m \u001b[0;34m!=\u001b[0m \u001b[0mlen\u001b[0m\u001b[0;34m(\u001b[0m\u001b[0ms\u001b[0m\u001b[0;34m)\u001b[0m\u001b[0;34m:\u001b[0m\u001b[0;34m\u001b[0m\u001b[0;34m\u001b[0m\u001b[0m\n",
      "\u001b[0;32m/opt/anaconda3/lib/python3.7/json/decoder.py\u001b[0m in \u001b[0;36mraw_decode\u001b[0;34m(self, s, idx)\u001b[0m\n\u001b[1;32m    353\u001b[0m             \u001b[0mobj\u001b[0m\u001b[0;34m,\u001b[0m \u001b[0mend\u001b[0m \u001b[0;34m=\u001b[0m \u001b[0mself\u001b[0m\u001b[0;34m.\u001b[0m\u001b[0mscan_once\u001b[0m\u001b[0;34m(\u001b[0m\u001b[0ms\u001b[0m\u001b[0;34m,\u001b[0m \u001b[0midx\u001b[0m\u001b[0;34m)\u001b[0m\u001b[0;34m\u001b[0m\u001b[0;34m\u001b[0m\u001b[0m\n\u001b[1;32m    354\u001b[0m         \u001b[0;32mexcept\u001b[0m \u001b[0mStopIteration\u001b[0m \u001b[0;32mas\u001b[0m \u001b[0merr\u001b[0m\u001b[0;34m:\u001b[0m\u001b[0;34m\u001b[0m\u001b[0;34m\u001b[0m\u001b[0m\n\u001b[0;32m--> 355\u001b[0;31m             \u001b[0;32mraise\u001b[0m \u001b[0mJSONDecodeError\u001b[0m\u001b[0;34m(\u001b[0m\u001b[0;34m\"Expecting value\"\u001b[0m\u001b[0;34m,\u001b[0m \u001b[0ms\u001b[0m\u001b[0;34m,\u001b[0m \u001b[0merr\u001b[0m\u001b[0;34m.\u001b[0m\u001b[0mvalue\u001b[0m\u001b[0;34m)\u001b[0m \u001b[0;32mfrom\u001b[0m \u001b[0;32mNone\u001b[0m\u001b[0;34m\u001b[0m\u001b[0;34m\u001b[0m\u001b[0m\n\u001b[0m\u001b[1;32m    356\u001b[0m         \u001b[0;32mreturn\u001b[0m \u001b[0mobj\u001b[0m\u001b[0;34m,\u001b[0m \u001b[0mend\u001b[0m\u001b[0;34m\u001b[0m\u001b[0;34m\u001b[0m\u001b[0m\n",
      "\u001b[0;31mJSONDecodeError\u001b[0m: Expecting value: line 1 column 1 (char 0)"
     ]
    }
   ],
   "source": [
    "n = 0\n",
    "result['address_from_api'] = ''\n",
    "for i in tqdm(range(len(result['address_for_api']))):\n",
    "    n = n+1\n",
    "    url = f\"https://ab.api.aihouse.io/ParseAddress?addr={result['address_for_api'][i]}\"\n",
    "    resp = requests.get(url)\n",
    "    response_dict = resp.json()\n",
    "    result['address_from_api'][i] = response_dict['std_address']\n",
    "    print(n,response_dict['std_address'])"
   ]
  },
  {
   "cell_type": "code",
   "execution_count": 56,
   "metadata": {},
   "outputs": [
    {
     "name": "stderr",
     "output_type": "stream",
     "text": [
      "\n",
      "  0%|          | 0/106 [00:00<?, ?it/s]\u001b[A/opt/anaconda3/lib/python3.7/site-packages/ipykernel_launcher.py:2: SettingWithCopyWarning: \n",
      "A value is trying to be set on a copy of a slice from a DataFrame\n",
      "\n",
      "See the caveats in the documentation: http://pandas.pydata.org/pandas-docs/stable/user_guide/indexing.html#returning-a-view-versus-a-copy\n",
      "  \n",
      "100%|██████████| 106/106 [00:00<00:00, 7115.02it/s]\n"
     ]
    }
   ],
   "source": [
    "for i in tqdm(range(len(result['full_address']))):\n",
    "    result['full_address'][i] = result['full_address'][i].upper()"
   ]
  },
  {
   "cell_type": "code",
   "execution_count": 57,
   "metadata": {},
   "outputs": [],
   "source": [
    "result.to_csv('Auction_list_21_12_2019_Domain_estimation.csv', index = False)"
   ]
  },
  {
   "cell_type": "code",
   "execution_count": null,
   "metadata": {},
   "outputs": [],
   "source": []
  }
 ],
 "metadata": {
  "kernelspec": {
   "display_name": "Python 3",
   "language": "python",
   "name": "python3"
  },
  "language_info": {
   "codemirror_mode": {
    "name": "ipython",
    "version": 3
   },
   "file_extension": ".py",
   "mimetype": "text/x-python",
   "name": "python",
   "nbconvert_exporter": "python",
   "pygments_lexer": "ipython3",
   "version": "3.7.4"
  }
 },
 "nbformat": 4,
 "nbformat_minor": 2
}
