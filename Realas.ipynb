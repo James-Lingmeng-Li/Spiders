{
 "cells": [
  {
   "cell_type": "code",
   "execution_count": 1,
   "metadata": {},
   "outputs": [],
   "source": [
    "import urllib.request\n",
    "import re\n",
    "import requests, time\n",
    "from bs4 import BeautifulSoup\n",
    "import pandas as pd\n",
    "from selenium import webdriver\n",
    "from selenium.webdriver.common.keys import Keys\n",
    "from selenium.common.exceptions import NoSuchElementException\n",
    "from lxml import etree\n",
    "import pandas\n",
    "from tqdm import tqdm"
   ]
  },
  {
   "cell_type": "code",
   "execution_count": 2,
   "metadata": {},
   "outputs": [
    {
     "data": {
      "text/plain": [
       "0                  19 THE CRESCENT, DEE WHY NSW 2099\n",
       "1                  51 RIVER ROAD, GREENWICH NSW 2065\n",
       "2               11 TENTH AVENUE, OYSTER BAY NSW 2225\n",
       "3      6/141 WONIORA ROAD, SOUTH HURSTVILLE NSW 2221\n",
       "4             3/7A REGINALD AVENUE, BELMORE NSW 2192\n",
       "                           ...                      \n",
       "101    3/14-16 SHORT STREET, WENTWORTHVILLE NSW 2145\n",
       "102           16/2A MAXIM STREET, WEST RYDE NSW 2114\n",
       "103           32 MAHRATTA AVENUE, WAHROONGA NSW 2076\n",
       "104          23 YANDERRA GROVE, CHERRYBROOK NSW 2126\n",
       "105             11/44 BRIDGE STREET, SYDNEY NSW 2000\n",
       "Name: full_address, Length: 106, dtype: object"
      ]
     },
     "execution_count": 2,
     "metadata": {},
     "output_type": "execute_result"
    }
   ],
   "source": [
    "address = pd.read_csv('Auction_list_21_12_2019_Domain_estimation.csv')\n",
    "address['full_address']"
   ]
  },
  {
   "cell_type": "code",
   "execution_count": 33,
   "metadata": {},
   "outputs": [
    {
     "name": "stderr",
     "output_type": "stream",
     "text": [
      "\n",
      "\n",
      "\n",
      "\n",
      "  0%|          | 0/491 [00:00<?, ?it/s]\u001b[A\u001b[A\u001b[A\u001b[A/opt/anaconda3/lib/python3.7/site-packages/ipykernel_launcher.py:2: SettingWithCopyWarning: \n",
      "A value is trying to be set on a copy of a slice from a DataFrame\n",
      "\n",
      "See the caveats in the documentation: http://pandas.pydata.org/pandas-docs/stable/user_guide/indexing.html#returning-a-view-versus-a-copy\n",
      "  \n",
      "100%|██████████| 491/491 [00:00<00:00, 8120.13it/s]\n"
     ]
    }
   ],
   "source": [
    "for i in tqdm(range(len(address['full_address']))):\n",
    "    address['full_address'][i] = address['full_address'][i].replace(u'-', u' ')"
   ]
  },
  {
   "cell_type": "code",
   "execution_count": 34,
   "metadata": {},
   "outputs": [
    {
     "data": {
      "text/plain": [
       "0        52 MOONDARRA DRIVE WEST HOXTON NSW 2171\n",
       "1       17 CHAMBERLAIN AVENUE CARINGBAH NSW 2229\n",
       "2      8 VICTORIA STREET MCMAHONS POINT NSW 2060\n",
       "3            27/178 BEACH STREET COOGEE NSW 2034\n",
       "4             39 GLOUCESTER ROAD EPPING NSW 2121\n",
       "                         ...                    \n",
       "486          19 BORONIA AVENUE BEECROFT NSW 2119\n",
       "487          6/18 20 CLIFF STREET MANLY NSW 2095\n",
       "488      34A BERESFORD ROAD STRATHFIELD NSW 2135\n",
       "489         52 WOODLAND RD CHESTER HILL NSW 2162\n",
       "490          3 BLACKWOOD CLOSE BEECROFT NSW 2119\n",
       "Name: full_address, Length: 491, dtype: object"
      ]
     },
     "execution_count": 34,
     "metadata": {},
     "output_type": "execute_result"
    }
   ],
   "source": [
    "address['full_address']"
   ]
  },
  {
   "cell_type": "code",
   "execution_count": 3,
   "metadata": {},
   "outputs": [],
   "source": [
    "address['realas_street'] = ''\n",
    "address['realas_suburb'] = ''\n",
    "address['realas_state'] = ''\n",
    "address['realas_post_code'] = ''\n",
    "address['realas_prediction'] = ''\n",
    "address['realas_url'] = ''"
   ]
  },
  {
   "cell_type": "code",
   "execution_count": 4,
   "metadata": {
    "scrolled": true
   },
   "outputs": [
    {
     "name": "stderr",
     "output_type": "stream",
     "text": [
      "\r",
      "  0%|          | 0/106 [00:00<?, ?it/s]"
     ]
    },
    {
     "name": "stdout",
     "output_type": "stream",
     "text": [
      "1\n"
     ]
    },
    {
     "name": "stderr",
     "output_type": "stream",
     "text": [
      "/opt/anaconda3/lib/python3.7/site-packages/ipykernel_launcher.py:16: SettingWithCopyWarning: \n",
      "A value is trying to be set on a copy of a slice from a DataFrame\n",
      "\n",
      "See the caveats in the documentation: http://pandas.pydata.org/pandas-docs/stable/user_guide/indexing.html#returning-a-view-versus-a-copy\n",
      "  app.launch_new_instance()\n"
     ]
    },
    {
     "name": "stdout",
     "output_type": "stream",
     "text": [
      "https://realas.com/property/19-THE-CRESCENT-DEE-WHY-NSW-2099-44175526\n"
     ]
    },
    {
     "name": "stderr",
     "output_type": "stream",
     "text": [
      "/opt/anaconda3/lib/python3.7/site-packages/ipykernel_launcher.py:24: SettingWithCopyWarning: \n",
      "A value is trying to be set on a copy of a slice from a DataFrame\n",
      "\n",
      "See the caveats in the documentation: http://pandas.pydata.org/pandas-docs/stable/user_guide/indexing.html#returning-a-view-versus-a-copy\n",
      "/opt/anaconda3/lib/python3.7/site-packages/ipykernel_launcher.py:30: SettingWithCopyWarning: \n",
      "A value is trying to be set on a copy of a slice from a DataFrame\n",
      "\n",
      "See the caveats in the documentation: http://pandas.pydata.org/pandas-docs/stable/user_guide/indexing.html#returning-a-view-versus-a-copy\n",
      "/opt/anaconda3/lib/python3.7/site-packages/ipykernel_launcher.py:36: SettingWithCopyWarning: \n",
      "A value is trying to be set on a copy of a slice from a DataFrame\n",
      "\n",
      "See the caveats in the documentation: http://pandas.pydata.org/pandas-docs/stable/user_guide/indexing.html#returning-a-view-versus-a-copy\n",
      "  1%|          | 1/106 [00:13<24:10, 13.82s/it]"
     ]
    },
    {
     "name": "stdout",
     "output_type": "stream",
     "text": [
      "2\n",
      "https://realas.com/property/51-RIVER-ROAD-GREENWICH-NSW-2065-2636250\n"
     ]
    },
    {
     "name": "stderr",
     "output_type": "stream",
     "text": [
      "\r",
      "  2%|▏         | 2/106 [00:27<24:07, 13.91s/it]"
     ]
    },
    {
     "name": "stdout",
     "output_type": "stream",
     "text": [
      "3\n",
      "https://realas.com/property/11-TENTH-AVENUE-OYSTER-BAY-NSW-2225-5260900\n"
     ]
    },
    {
     "name": "stderr",
     "output_type": "stream",
     "text": [
      "\r",
      "  3%|▎         | 3/106 [00:42<23:58, 13.97s/it]"
     ]
    },
    {
     "name": "stdout",
     "output_type": "stream",
     "text": [
      "4\n",
      "https://realas.com/property/6-141-WONIORA-ROAD-SOUTH-HURSTVILLE-NSW-2221-6280062\n"
     ]
    },
    {
     "name": "stderr",
     "output_type": "stream",
     "text": [
      "\r",
      "  4%|▍         | 4/106 [00:58<24:52, 14.63s/it]"
     ]
    },
    {
     "name": "stdout",
     "output_type": "stream",
     "text": [
      "5\n",
      "https://realas.com/property/3-7A-REGINALD-AVENUE-BELMORE-NSW-2192-1382550\n"
     ]
    },
    {
     "name": "stderr",
     "output_type": "stream",
     "text": [
      "\r",
      "  5%|▍         | 5/106 [01:14<25:36, 15.21s/it]"
     ]
    },
    {
     "name": "stdout",
     "output_type": "stream",
     "text": [
      "6\n",
      "https://realas.com/property/231A-BUFFALO-ROAD-RYDE-NSW-2112-43779694\n"
     ]
    },
    {
     "name": "stderr",
     "output_type": "stream",
     "text": [
      "\r",
      "  6%|▌         | 6/106 [01:28<24:36, 14.76s/it]"
     ]
    },
    {
     "name": "stdout",
     "output_type": "stream",
     "text": [
      "7\n",
      "https://realas.com/property/17-TAIYUL-ROAD-NORTH-NARRABEEN-NSW-2101-4991047\n"
     ]
    },
    {
     "name": "stderr",
     "output_type": "stream",
     "text": [
      "\r",
      "  7%|▋         | 7/106 [01:41<23:30, 14.25s/it]"
     ]
    },
    {
     "name": "stdout",
     "output_type": "stream",
     "text": [
      "8\n",
      "https://realas.com/property/53-PENNANT-PARADE-EPPING-NSW-2121-2264158\n"
     ]
    },
    {
     "name": "stderr",
     "output_type": "stream",
     "text": [
      "\r",
      "  8%|▊         | 8/106 [01:56<23:22, 14.31s/it]"
     ]
    },
    {
     "name": "stdout",
     "output_type": "stream",
     "text": [
      "9\n",
      "https://realas.com/property/8-GRAYSON-ROAD-NORTH-EPPING-NSW-2121-4968741\n"
     ]
    },
    {
     "name": "stderr",
     "output_type": "stream",
     "text": [
      "\r",
      "  8%|▊         | 9/106 [02:08<22:25, 13.87s/it]"
     ]
    },
    {
     "name": "stdout",
     "output_type": "stream",
     "text": [
      "10\n",
      "https://realas.com/property/23-VANESSA-AVENUE-BAULKHAM-HILLS-NSW-2153-1338599\n"
     ]
    },
    {
     "name": "stderr",
     "output_type": "stream",
     "text": [
      "\r",
      "  9%|▉         | 10/106 [02:22<22:04, 13.80s/it]"
     ]
    },
    {
     "name": "stdout",
     "output_type": "stream",
     "text": [
      "11\n",
      "https://realas.com/property/31-JOHN-MILLER-STREET-RYDE-NSW-2112-6040537\n"
     ]
    },
    {
     "name": "stderr",
     "output_type": "stream",
     "text": [
      "\r",
      " 10%|█         | 11/106 [02:35<21:39, 13.68s/it]"
     ]
    },
    {
     "name": "stdout",
     "output_type": "stream",
     "text": [
      "12\n",
      "https://realas.com/property/15-TREVONE-STREET-PADSTOW-NSW-2211-5290290\n"
     ]
    },
    {
     "name": "stderr",
     "output_type": "stream",
     "text": [
      "\r",
      " 11%|█▏        | 12/106 [02:49<21:30, 13.73s/it]"
     ]
    },
    {
     "name": "stdout",
     "output_type": "stream",
     "text": [
      "13\n",
      "https://realas.com/property/4-ORDE-PLACE-PROSPECT-NSW-2148-5613605\n"
     ]
    },
    {
     "name": "stderr",
     "output_type": "stream",
     "text": [
      "\r",
      " 12%|█▏        | 13/106 [03:03<21:19, 13.76s/it]"
     ]
    },
    {
     "name": "stdout",
     "output_type": "stream",
     "text": [
      "14\n",
      "https://realas.com/property/12-44-46-JUDD-STREET-CRONULLA-NSW-2230-2015168\n"
     ]
    },
    {
     "name": "stderr",
     "output_type": "stream",
     "text": [
      "\r",
      " 13%|█▎        | 14/106 [03:17<21:00, 13.70s/it]"
     ]
    },
    {
     "name": "stdout",
     "output_type": "stream",
     "text": [
      "15\n",
      "https://realas.com/property/26-ROSSITER-STREET-SMITHFIELD-NSW-2164-6232789\n"
     ]
    },
    {
     "name": "stderr",
     "output_type": "stream",
     "text": [
      "\r",
      " 14%|█▍        | 15/106 [03:31<21:13, 13.99s/it]"
     ]
    },
    {
     "name": "stdout",
     "output_type": "stream",
     "text": [
      "16\n",
      "https://realas.com/property/6-ROSE-AVENUE-CONCORD-NSW-2137-1909357\n"
     ]
    },
    {
     "name": "stderr",
     "output_type": "stream",
     "text": [
      "\r",
      " 15%|█▌        | 16/106 [03:48<21:59, 14.66s/it]"
     ]
    },
    {
     "name": "stdout",
     "output_type": "stream",
     "text": [
      "17\n",
      "https://realas.com/property/13-MILBA-ROAD-CARINGBAH-NSW-2229-1742649\n"
     ]
    },
    {
     "name": "stderr",
     "output_type": "stream",
     "text": [
      "\r",
      " 16%|█▌        | 17/106 [04:01<21:26, 14.45s/it]"
     ]
    },
    {
     "name": "stdout",
     "output_type": "stream",
     "text": [
      "18\n"
     ]
    },
    {
     "name": "stderr",
     "output_type": "stream",
     "text": [
      "\r",
      " 17%|█▋        | 18/106 [04:11<19:05, 13.01s/it]"
     ]
    },
    {
     "name": "stdout",
     "output_type": "stream",
     "text": [
      "19\n",
      "https://realas.com/property/2-40-42-GLOUCESTER-ROAD-EPPING-NSW-2121-2261891\n"
     ]
    },
    {
     "name": "stderr",
     "output_type": "stream",
     "text": [
      "\r",
      " 18%|█▊        | 19/106 [04:25<19:05, 13.17s/it]"
     ]
    },
    {
     "name": "stdout",
     "output_type": "stream",
     "text": [
      "20\n"
     ]
    },
    {
     "name": "stderr",
     "output_type": "stream",
     "text": [
      "\r",
      " 19%|█▉        | 20/106 [04:35<17:38, 12.31s/it]"
     ]
    },
    {
     "name": "stdout",
     "output_type": "stream",
     "text": [
      "21\n",
      "https://realas.com/property/2-27-29-BIGGE-STREET-LIVERPOOL-NSW-2170-3818003\n"
     ]
    },
    {
     "name": "stderr",
     "output_type": "stream",
     "text": [
      "\r",
      " 20%|█▉        | 21/106 [04:48<17:36, 12.43s/it]"
     ]
    },
    {
     "name": "stdout",
     "output_type": "stream",
     "text": [
      "22\n",
      "https://realas.com/property/-APEX-POINT-ROAD-WHITE-BEACH-TAS-7184-15526492\n"
     ]
    },
    {
     "name": "stderr",
     "output_type": "stream",
     "text": [
      "\r",
      " 21%|██        | 22/106 [05:01<17:53, 12.78s/it]"
     ]
    },
    {
     "name": "stdout",
     "output_type": "stream",
     "text": [
      "23\n"
     ]
    },
    {
     "name": "stderr",
     "output_type": "stream",
     "text": [
      "\r",
      " 22%|██▏       | 23/106 [05:10<15:54, 11.49s/it]"
     ]
    },
    {
     "name": "stdout",
     "output_type": "stream",
     "text": [
      "24\n",
      "https://realas.com/property/30-ALLIANCE-AVENUE-REVESBY-NSW-2212-5821423\n"
     ]
    },
    {
     "name": "stderr",
     "output_type": "stream",
     "text": [
      "\r",
      " 23%|██▎       | 24/106 [05:24<16:58, 12.42s/it]"
     ]
    },
    {
     "name": "stdout",
     "output_type": "stream",
     "text": [
      "25\n"
     ]
    },
    {
     "name": "stderr",
     "output_type": "stream",
     "text": [
      "\r",
      " 24%|██▎       | 25/106 [05:34<15:35, 11.55s/it]"
     ]
    },
    {
     "name": "stdout",
     "output_type": "stream",
     "text": [
      "26\n",
      "https://realas.com/property/364-MILITARY-ROAD-VAUCLUSE-NSW-2030-7142850\n"
     ]
    },
    {
     "name": "stderr",
     "output_type": "stream",
     "text": [
      "\r",
      " 25%|██▍       | 26/106 [05:48<16:31, 12.39s/it]"
     ]
    },
    {
     "name": "stdout",
     "output_type": "stream",
     "text": [
      "27\n",
      "https://realas.com/property/19-DURHAM-STREET-STANMORE-NSW-2048-6456705\n"
     ]
    },
    {
     "name": "stderr",
     "output_type": "stream",
     "text": [
      "\r",
      " 25%|██▌       | 27/106 [06:02<16:53, 12.83s/it]"
     ]
    },
    {
     "name": "stdout",
     "output_type": "stream",
     "text": [
      "28\n",
      "https://realas.com/property/4-URALBA-PLACE-OATLANDS-NSW-2117-5146815\n"
     ]
    },
    {
     "name": "stderr",
     "output_type": "stream",
     "text": [
      "\r",
      " 26%|██▋       | 28/106 [06:16<17:11, 13.23s/it]"
     ]
    },
    {
     "name": "stdout",
     "output_type": "stream",
     "text": [
      "29\n",
      "https://realas.com/property/10-LESLEY-AVENUE-CARLINGFORD-NSW-2118-1751635\n"
     ]
    },
    {
     "name": "stderr",
     "output_type": "stream",
     "text": [
      "\r",
      " 27%|██▋       | 29/106 [06:31<17:28, 13.61s/it]"
     ]
    },
    {
     "name": "stdout",
     "output_type": "stream",
     "text": [
      "30\n",
      "https://realas.com/property/6-KILBY-AVENUE-PEMULWUY-NSW-2145-15570947\n"
     ]
    },
    {
     "name": "stderr",
     "output_type": "stream",
     "text": [
      "\r",
      " 28%|██▊       | 30/106 [06:44<17:09, 13.55s/it]"
     ]
    },
    {
     "name": "stdout",
     "output_type": "stream",
     "text": [
      "31\n",
      "https://realas.com/property/11-BROWNING-CLOSE-WETHERILL-PARK-NSW-2164-7546302\n"
     ]
    },
    {
     "name": "stderr",
     "output_type": "stream",
     "text": [
      "\r",
      " 29%|██▉       | 31/106 [06:57<16:47, 13.43s/it]"
     ]
    },
    {
     "name": "stdout",
     "output_type": "stream",
     "text": [
      "32\n",
      "https://realas.com/property/2-MICHELLE-COURT-REGENTS-PARK-NSW-2143-5815917\n"
     ]
    },
    {
     "name": "stderr",
     "output_type": "stream",
     "text": [
      "\r",
      " 30%|███       | 32/106 [07:12<17:00, 13.79s/it]"
     ]
    },
    {
     "name": "stdout",
     "output_type": "stream",
     "text": [
      "33\n",
      "https://realas.com/property/2-77-79-CHANDOS-STREET-ASHFIELD-NSW-2131-8145675\n"
     ]
    },
    {
     "name": "stderr",
     "output_type": "stream",
     "text": [
      "\r",
      " 31%|███       | 33/106 [07:28<17:40, 14.53s/it]"
     ]
    },
    {
     "name": "stdout",
     "output_type": "stream",
     "text": [
      "34\n",
      "https://realas.com/property/7-20-22-BRIDGE-ROAD-WESTMEAD-NSW-2145-14302374\n"
     ]
    },
    {
     "name": "stderr",
     "output_type": "stream",
     "text": [
      "\r",
      " 32%|███▏      | 34/106 [07:42<17:19, 14.44s/it]"
     ]
    },
    {
     "name": "stdout",
     "output_type": "stream",
     "text": [
      "35\n",
      "https://realas.com/property/14A-JINDABYNE-CIRCUIT-WOODCROFT-NSW-2767-7710029\n"
     ]
    },
    {
     "name": "stderr",
     "output_type": "stream",
     "text": [
      "\r",
      " 33%|███▎      | 35/106 [07:57<17:05, 14.44s/it]"
     ]
    },
    {
     "name": "stdout",
     "output_type": "stream",
     "text": [
      "36\n",
      "https://realas.com/property/381-MILITARY-ROAD-MOSMAN-NSW-2088-4490068\n"
     ]
    },
    {
     "name": "stderr",
     "output_type": "stream",
     "text": [
      "\r",
      " 34%|███▍      | 36/106 [08:09<16:06, 13.80s/it]"
     ]
    },
    {
     "name": "stdout",
     "output_type": "stream",
     "text": [
      "37\n"
     ]
    },
    {
     "name": "stderr",
     "output_type": "stream",
     "text": [
      "\r",
      " 35%|███▍      | 37/106 [08:18<14:09, 12.31s/it]"
     ]
    },
    {
     "name": "stdout",
     "output_type": "stream",
     "text": [
      "38\n"
     ]
    },
    {
     "name": "stderr",
     "output_type": "stream",
     "text": [
      "\r",
      " 36%|███▌      | 38/106 [08:27<12:41, 11.20s/it]"
     ]
    },
    {
     "name": "stdout",
     "output_type": "stream",
     "text": [
      "39\n",
      "https://realas.com/property/13-77-CRANE-ROAD-CASTLE-HILL-NSW-2154-1778986\n"
     ]
    },
    {
     "name": "stderr",
     "output_type": "stream",
     "text": [
      "\r",
      " 37%|███▋      | 39/106 [08:41<13:40, 12.25s/it]"
     ]
    },
    {
     "name": "stdout",
     "output_type": "stream",
     "text": [
      "40\n",
      "https://realas.com/property/59-OSBORNE-ROAD-LANE-COVE-NSW-2066-3593471\n"
     ]
    },
    {
     "name": "stderr",
     "output_type": "stream",
     "text": [
      "\r",
      " 38%|███▊      | 40/106 [08:54<13:35, 12.36s/it]"
     ]
    },
    {
     "name": "stdout",
     "output_type": "stream",
     "text": [
      "41\n",
      "https://realas.com/property/17-VOLMER-STREET-OATLANDS-NSW-2117-5146926\n"
     ]
    },
    {
     "name": "stderr",
     "output_type": "stream",
     "text": [
      "\r",
      " 39%|███▊      | 41/106 [09:08<14:04, 12.99s/it]"
     ]
    },
    {
     "name": "stdout",
     "output_type": "stream",
     "text": [
      "42\n",
      "https://realas.com/property/70-EDWARD-STREET-SYLVANIA-NSW-2224-6635494\n"
     ]
    },
    {
     "name": "stderr",
     "output_type": "stream",
     "text": [
      "\r",
      " 40%|███▉      | 42/106 [09:21<13:52, 13.01s/it]"
     ]
    },
    {
     "name": "stdout",
     "output_type": "stream",
     "text": [
      "43\n",
      "https://realas.com/property/7-BLACKBUTT-AVENUE-LUGARNO-NSW-2210-3883683\n"
     ]
    },
    {
     "name": "stderr",
     "output_type": "stream",
     "text": [
      "\r",
      " 41%|████      | 43/106 [09:35<13:51, 13.19s/it]"
     ]
    },
    {
     "name": "stdout",
     "output_type": "stream",
     "text": [
      "44\n",
      "https://realas.com/property/18-CALEDONIA-CRESCENT-GLEDSWOOD-HILLS-NSW-2557-16558332\n"
     ]
    },
    {
     "name": "stderr",
     "output_type": "stream",
     "text": [
      "\r",
      " 42%|████▏     | 44/106 [09:48<13:38, 13.21s/it]"
     ]
    },
    {
     "name": "stdout",
     "output_type": "stream",
     "text": [
      "45\n",
      "https://realas.com/property/70-AMAROO-AVENUE-GEORGES-HALL-NSW-2198-2377047\n"
     ]
    },
    {
     "name": "stderr",
     "output_type": "stream",
     "text": [
      "\r",
      " 42%|████▏     | 45/106 [10:02<13:35, 13.37s/it]"
     ]
    },
    {
     "name": "stdout",
     "output_type": "stream",
     "text": [
      "46\n",
      "https://realas.com/property/11-KIOLA-STREET-SMITHFIELD-NSW-2164-6229410\n"
     ]
    },
    {
     "name": "stderr",
     "output_type": "stream",
     "text": [
      "\r",
      " 43%|████▎     | 46/106 [10:16<13:36, 13.60s/it]"
     ]
    },
    {
     "name": "stdout",
     "output_type": "stream",
     "text": [
      "47\n",
      "https://realas.com/property/5-PRIORY-COURT-BAULKHAM-HILLS-NSW-2153-1336593\n"
     ]
    },
    {
     "name": "stderr",
     "output_type": "stream",
     "text": [
      "\r",
      " 44%|████▍     | 47/106 [10:30<13:29, 13.73s/it]"
     ]
    },
    {
     "name": "stdout",
     "output_type": "stream",
     "text": [
      "48\n",
      "https://realas.com/property/9-ARNOLD-AVENUE-YAGOONA-NSW-2199-7834470\n"
     ]
    },
    {
     "name": "stderr",
     "output_type": "stream",
     "text": [
      "\r",
      " 45%|████▌     | 48/106 [10:45<13:34, 14.04s/it]"
     ]
    },
    {
     "name": "stdout",
     "output_type": "stream",
     "text": [
      "49\n"
     ]
    },
    {
     "name": "stderr",
     "output_type": "stream",
     "text": [
      "\r",
      " 46%|████▌     | 49/106 [10:55<12:03, 12.69s/it]"
     ]
    },
    {
     "name": "stdout",
     "output_type": "stream",
     "text": [
      "50\n",
      "https://realas.com/property/45-TARONGA-STREET-BLACKTOWN-NSW-2148-1473428\n"
     ]
    },
    {
     "name": "stderr",
     "output_type": "stream",
     "text": [
      "\r",
      " 47%|████▋     | 50/106 [11:09<12:24, 13.29s/it]"
     ]
    },
    {
     "name": "stdout",
     "output_type": "stream",
     "text": [
      "51\n",
      "https://realas.com/property/25-MARKET-STREET-MOOREBANK-NSW-2170-4417340\n"
     ]
    },
    {
     "name": "stderr",
     "output_type": "stream",
     "text": [
      "\r",
      " 48%|████▊     | 51/106 [11:24<12:27, 13.59s/it]"
     ]
    },
    {
     "name": "stdout",
     "output_type": "stream",
     "text": [
      "52\n",
      "https://realas.com/property/3-166-168-BRIDGE-ROAD-WESTMEAD-NSW-2145-14959647\n"
     ]
    },
    {
     "name": "stderr",
     "output_type": "stream",
     "text": [
      "\r",
      " 49%|████▉     | 52/106 [11:38<12:24, 13.79s/it]"
     ]
    },
    {
     "name": "stdout",
     "output_type": "stream",
     "text": [
      "53\n",
      "https://realas.com/property/3-8-YANGOORA-ROAD-BELMORE-NSW-2192-1383286\n"
     ]
    },
    {
     "name": "stderr",
     "output_type": "stream",
     "text": [
      "\r",
      " 50%|█████     | 53/106 [11:51<11:58, 13.56s/it]"
     ]
    },
    {
     "name": "stdout",
     "output_type": "stream",
     "text": [
      "54\n",
      "https://realas.com/property/10-INALA-PLACE-CARLINGFORD-NSW-2118-17648597\n"
     ]
    },
    {
     "name": "stderr",
     "output_type": "stream",
     "text": [
      "\r",
      " 51%|█████     | 54/106 [12:05<11:50, 13.67s/it]"
     ]
    },
    {
     "name": "stdout",
     "output_type": "stream",
     "text": [
      "55\n",
      "https://realas.com/property/241-DORA-STREET-HURSTVILLE-NSW-2220-3025342\n"
     ]
    },
    {
     "name": "stderr",
     "output_type": "stream",
     "text": [
      "\r",
      " 52%|█████▏    | 55/106 [12:19<11:43, 13.80s/it]"
     ]
    },
    {
     "name": "stdout",
     "output_type": "stream",
     "text": [
      "56\n",
      "https://realas.com/property/30-SPRINGDALE-ROAD-WENTWORTHVILLE-NSW-2145-7424610\n"
     ]
    },
    {
     "name": "stderr",
     "output_type": "stream",
     "text": [
      "\r",
      " 53%|█████▎    | 56/106 [12:33<11:40, 14.00s/it]"
     ]
    },
    {
     "name": "stdout",
     "output_type": "stream",
     "text": [
      "57\n",
      "https://realas.com/property/17-BURNS-ROAD-PICNIC-POINT-NSW-2213-5464321\n"
     ]
    },
    {
     "name": "stderr",
     "output_type": "stream",
     "text": [
      "\r",
      " 54%|█████▍    | 57/106 [12:47<11:17, 13.83s/it]"
     ]
    },
    {
     "name": "stdout",
     "output_type": "stream",
     "text": [
      "58\n",
      "https://realas.com/property/10-AUGUSTUS-STREET-MERRYLANDS-NSW-2160-17744829\n"
     ]
    },
    {
     "name": "stderr",
     "output_type": "stream",
     "text": [
      "\r",
      " 55%|█████▍    | 58/106 [13:01<11:07, 13.92s/it]"
     ]
    },
    {
     "name": "stdout",
     "output_type": "stream",
     "text": [
      "59\n",
      "https://realas.com/property/12-MCKELL-CLOSE-BONNYRIGG-NSW-2177-1536522\n"
     ]
    },
    {
     "name": "stderr",
     "output_type": "stream",
     "text": [
      "\r",
      " 56%|█████▌    | 59/106 [13:14<10:44, 13.72s/it]"
     ]
    },
    {
     "name": "stdout",
     "output_type": "stream",
     "text": [
      "60\n",
      "https://realas.com/property/19-CAREFREE-ROAD-NORTH-NARRABEEN-NSW-2101-4988114\n"
     ]
    },
    {
     "name": "stderr",
     "output_type": "stream",
     "text": [
      "\r",
      " 57%|█████▋    | 60/106 [13:26<10:09, 13.26s/it]"
     ]
    },
    {
     "name": "stdout",
     "output_type": "stream",
     "text": [
      "61\n",
      "https://realas.com/property/241-OLD-NORTHERN-ROAD-CASTLE-HILL-NSW-2154-1784639\n"
     ]
    },
    {
     "name": "stderr",
     "output_type": "stream",
     "text": [
      "\r",
      " 58%|█████▊    | 61/106 [13:40<10:05, 13.46s/it]"
     ]
    },
    {
     "name": "stdout",
     "output_type": "stream",
     "text": [
      "62\n",
      "https://realas.com/property/16-HUGH-STREET-ASHFIELD-NSW-2131-8150276\n"
     ]
    },
    {
     "name": "stderr",
     "output_type": "stream",
     "text": [
      "\r",
      " 58%|█████▊    | 62/106 [13:54<09:52, 13.47s/it]"
     ]
    },
    {
     "name": "stdout",
     "output_type": "stream",
     "text": [
      "63\n",
      "https://realas.com/property/29-HULL-ROAD-BEECROFT-NSW-2119-1351597\n"
     ]
    },
    {
     "name": "stderr",
     "output_type": "stream",
     "text": [
      "\r",
      " 59%|█████▉    | 63/106 [14:08<09:49, 13.71s/it]"
     ]
    },
    {
     "name": "stdout",
     "output_type": "stream",
     "text": [
      "64\n",
      "https://realas.com/property/288B-EDGAR-STREET-CONDELL-PARK-NSW-2200-41220044\n"
     ]
    },
    {
     "name": "stderr",
     "output_type": "stream",
     "text": [
      "\r",
      " 60%|██████    | 64/106 [14:22<09:34, 13.67s/it]"
     ]
    },
    {
     "name": "stdout",
     "output_type": "stream",
     "text": [
      "65\n",
      "https://realas.com/property/22-96-OURIMBAH-ROAD-MOSMAN-NSW-2088-4497365\n"
     ]
    },
    {
     "name": "stderr",
     "output_type": "stream",
     "text": [
      "\r",
      " 61%|██████▏   | 65/106 [14:35<09:20, 13.68s/it]"
     ]
    },
    {
     "name": "stdout",
     "output_type": "stream",
     "text": [
      "66\n"
     ]
    },
    {
     "name": "stderr",
     "output_type": "stream",
     "text": [
      "\r",
      " 62%|██████▏   | 66/106 [14:46<08:27, 12.69s/it]"
     ]
    },
    {
     "name": "stdout",
     "output_type": "stream",
     "text": [
      "67\n",
      "https://realas.com/property/84-LANCASTER-AVENUE-PUNCHBOWL-NSW-2196-5623469\n"
     ]
    },
    {
     "name": "stderr",
     "output_type": "stream",
     "text": [
      "\r",
      " 63%|██████▎   | 67/106 [15:00<08:29, 13.05s/it]"
     ]
    },
    {
     "name": "stdout",
     "output_type": "stream",
     "text": [
      "68\n",
      "https://realas.com/property/1-MADIGAN-DRIVE-WERRINGTON-COUNTY-NSW-2747-7436167\n"
     ]
    },
    {
     "name": "stderr",
     "output_type": "stream",
     "text": [
      "\r",
      " 64%|██████▍   | 68/106 [15:14<08:35, 13.57s/it]"
     ]
    },
    {
     "name": "stdout",
     "output_type": "stream",
     "text": [
      "69\n",
      "https://realas.com/property/9-50-MARSDEN-ROAD-ERMINGTON-NSW-2115-2270546\n"
     ]
    },
    {
     "name": "stderr",
     "output_type": "stream",
     "text": [
      "\r",
      " 65%|██████▌   | 69/106 [15:28<08:24, 13.63s/it]"
     ]
    },
    {
     "name": "stdout",
     "output_type": "stream",
     "text": [
      "70\n"
     ]
    },
    {
     "name": "stderr",
     "output_type": "stream",
     "text": [
      "\r",
      " 66%|██████▌   | 70/106 [15:37<07:23, 12.33s/it]"
     ]
    },
    {
     "name": "stdout",
     "output_type": "stream",
     "text": [
      "71\n",
      "https://realas.com/property/51-GOODACRE-AVENUE-FAIRFIELD-WEST-NSW-2165-2302373\n"
     ]
    },
    {
     "name": "stderr",
     "output_type": "stream",
     "text": [
      "\r",
      " 67%|██████▋   | 71/106 [15:52<07:38, 13.09s/it]"
     ]
    },
    {
     "name": "stdout",
     "output_type": "stream",
     "text": [
      "72\n",
      "https://realas.com/property/193-MOWBRAY-ROAD-WILLOUGHBY-NSW-2068-7595271\n"
     ]
    },
    {
     "name": "stderr",
     "output_type": "stream",
     "text": [
      "\r",
      " 68%|██████▊   | 72/106 [16:06<07:34, 13.36s/it]"
     ]
    },
    {
     "name": "stdout",
     "output_type": "stream",
     "text": [
      "73\n",
      "https://realas.com/property/138-WARDELL-ROAD-MARRICKVILLE-NSW-2204-4082265\n"
     ]
    },
    {
     "name": "stderr",
     "output_type": "stream",
     "text": [
      "\r",
      " 69%|██████▉   | 73/106 [16:20<07:24, 13.47s/it]"
     ]
    },
    {
     "name": "stdout",
     "output_type": "stream",
     "text": [
      "74\n",
      "https://realas.com/property/8-WINDSOR-PLACE-ST-IVES-CHASE-NSW-2075-6415662\n"
     ]
    },
    {
     "name": "stderr",
     "output_type": "stream",
     "text": [
      "\r",
      " 70%|██████▉   | 74/106 [16:33<07:11, 13.49s/it]"
     ]
    },
    {
     "name": "stdout",
     "output_type": "stream",
     "text": [
      "75\n",
      "https://realas.com/property/404-2-SHORELINE-DRIVE-RHODES-NSW-2138-5838136\n"
     ]
    },
    {
     "name": "stderr",
     "output_type": "stream",
     "text": [
      "\r",
      " 71%|███████   | 75/106 [16:47<07:02, 13.62s/it]"
     ]
    },
    {
     "name": "stdout",
     "output_type": "stream",
     "text": [
      "76\n",
      "https://realas.com/property/-57-URILA-RD-ROAD-BURRA-NSW-2620-47513957\n"
     ]
    },
    {
     "name": "stderr",
     "output_type": "stream",
     "text": [
      "\r",
      " 72%|███████▏  | 76/106 [17:01<06:45, 13.51s/it]"
     ]
    },
    {
     "name": "stdout",
     "output_type": "stream",
     "text": [
      "77\n"
     ]
    },
    {
     "name": "stderr",
     "output_type": "stream",
     "text": [
      "\r",
      " 73%|███████▎  | 77/106 [17:16<06:51, 14.19s/it]"
     ]
    },
    {
     "name": "stdout",
     "output_type": "stream",
     "text": [
      "78\n"
     ]
    },
    {
     "name": "stderr",
     "output_type": "stream",
     "text": [
      "\r",
      " 74%|███████▎  | 78/106 [17:45<08:41, 18.64s/it]"
     ]
    },
    {
     "name": "stdout",
     "output_type": "stream",
     "text": [
      "79\n",
      "https://realas.com/property/3-MASSEY-STREET-GLADESVILLE-NSW-2111-2400679\n"
     ]
    },
    {
     "name": "stderr",
     "output_type": "stream",
     "text": [
      "\r",
      " 75%|███████▍  | 79/106 [18:00<07:51, 17.45s/it]"
     ]
    },
    {
     "name": "stdout",
     "output_type": "stream",
     "text": [
      "80\n",
      "https://realas.com/property/38A-LAWSON-STREET-BALMAIN-NSW-2041-1257384\n"
     ]
    },
    {
     "name": "stderr",
     "output_type": "stream",
     "text": [
      "\r",
      " 75%|███████▌  | 80/106 [18:18<07:33, 17.44s/it]"
     ]
    },
    {
     "name": "stdout",
     "output_type": "stream",
     "text": [
      "81\n"
     ]
    },
    {
     "name": "stderr",
     "output_type": "stream",
     "text": [
      "\r",
      " 76%|███████▋  | 81/106 [18:28<06:26, 15.45s/it]"
     ]
    },
    {
     "name": "stdout",
     "output_type": "stream",
     "text": [
      "82\n",
      "https://realas.com/property/7-ST-AUBINS-PLACE-GLEN-ALPINE-NSW-2560-2416480\n"
     ]
    },
    {
     "name": "stderr",
     "output_type": "stream",
     "text": [
      "\r",
      " 77%|███████▋  | 82/106 [18:43<06:08, 15.33s/it]"
     ]
    },
    {
     "name": "stdout",
     "output_type": "stream",
     "text": [
      "83\n",
      "https://realas.com/property/12-20-22-PEGGY-STREET-MAYS-HILL-NSW-2145-4161346\n"
     ]
    },
    {
     "name": "stderr",
     "output_type": "stream",
     "text": [
      "\r",
      " 78%|███████▊  | 83/106 [18:59<05:56, 15.48s/it]"
     ]
    },
    {
     "name": "stdout",
     "output_type": "stream",
     "text": [
      "84\n",
      "https://realas.com/property/10-584-BLAXLAND-ROAD-EASTWOOD-NSW-2122-2205891\n"
     ]
    },
    {
     "name": "stderr",
     "output_type": "stream",
     "text": [
      "\r",
      " 79%|███████▉  | 84/106 [19:13<05:29, 15.00s/it]"
     ]
    },
    {
     "name": "stdout",
     "output_type": "stream",
     "text": [
      "85\n",
      "https://realas.com/property/22-RIVER-ROAD-WEST-LONGUEVILLE-NSW-2066-3869165\n"
     ]
    },
    {
     "name": "stderr",
     "output_type": "stream",
     "text": [
      "\r",
      " 80%|████████  | 85/106 [19:27<05:09, 14.76s/it]"
     ]
    },
    {
     "name": "stdout",
     "output_type": "stream",
     "text": [
      "86\n",
      "https://realas.com/property/11-BRISBANE-PLACE-CROMER-NSW-2099-2007183\n"
     ]
    },
    {
     "name": "stderr",
     "output_type": "stream",
     "text": [
      "\r",
      " 81%|████████  | 86/106 [19:42<04:53, 14.65s/it]"
     ]
    },
    {
     "name": "stdout",
     "output_type": "stream",
     "text": [
      "87\n",
      "https://realas.com/property/66-CAMBRIDGE-AVENUE-BANKSTOWN-NSW-2200-1271141\n"
     ]
    },
    {
     "name": "stderr",
     "output_type": "stream",
     "text": [
      "\r",
      " 82%|████████▏ | 87/106 [19:57<04:41, 14.82s/it]"
     ]
    },
    {
     "name": "stdout",
     "output_type": "stream",
     "text": [
      "88\n",
      "https://realas.com/property/5-GULL-PLACE-LUGARNO-NSW-2210-3885499\n"
     ]
    },
    {
     "name": "stderr",
     "output_type": "stream",
     "text": [
      "\r",
      " 83%|████████▎ | 88/106 [20:11<04:23, 14.61s/it]"
     ]
    },
    {
     "name": "stdout",
     "output_type": "stream",
     "text": [
      "89\n",
      "https://realas.com/property/50-ELMSTREE-ROAD-KELLYVILLE-RIDGE-NSW-2155-3258069\n"
     ]
    },
    {
     "name": "stderr",
     "output_type": "stream",
     "text": [
      "\r",
      " 84%|████████▍ | 89/106 [20:26<04:10, 14.72s/it]"
     ]
    },
    {
     "name": "stdout",
     "output_type": "stream",
     "text": [
      "90\n"
     ]
    },
    {
     "name": "stderr",
     "output_type": "stream",
     "text": [
      "\r",
      " 85%|████████▍ | 90/106 [20:35<03:30, 13.14s/it]"
     ]
    },
    {
     "name": "stdout",
     "output_type": "stream",
     "text": [
      "91\n",
      "https://realas.com/property/173-AUBURN-ROAD-AUBURN-NSW-2144-1161535\n"
     ]
    },
    {
     "name": "stderr",
     "output_type": "stream",
     "text": [
      "\r",
      " 86%|████████▌ | 91/106 [20:52<03:31, 14.10s/it]"
     ]
    },
    {
     "name": "stdout",
     "output_type": "stream",
     "text": [
      "92\n",
      "https://realas.com/property/2103-177-MONA-VALE-ROAD-ST-IVES-NSW-2075-44525103\n"
     ]
    },
    {
     "name": "stderr",
     "output_type": "stream",
     "text": [
      "\r",
      " 87%|████████▋ | 92/106 [21:06<03:17, 14.14s/it]"
     ]
    },
    {
     "name": "stdout",
     "output_type": "stream",
     "text": [
      "93\n",
      "https://realas.com/property/18-GLEBE-STREET-PARRAMATTA-NSW-2150-5353623\n"
     ]
    },
    {
     "name": "stderr",
     "output_type": "stream",
     "text": [
      "\r",
      " 88%|████████▊ | 93/106 [21:21<03:07, 14.43s/it]"
     ]
    },
    {
     "name": "stdout",
     "output_type": "stream",
     "text": [
      "94\n",
      "https://realas.com/property/11-CARMEL-PLACE-WINSTON-HILLS-NSW-2153-7639118\n"
     ]
    },
    {
     "name": "stderr",
     "output_type": "stream",
     "text": [
      "\r",
      " 89%|████████▊ | 94/106 [21:35<02:51, 14.27s/it]"
     ]
    },
    {
     "name": "stdout",
     "output_type": "stream",
     "text": [
      "95\n",
      "https://realas.com/property/320-GREAT-NORTH-ROAD-ABBOTSFORD-NSW-2046-7925469\n"
     ]
    },
    {
     "name": "stderr",
     "output_type": "stream",
     "text": [
      "\r",
      " 90%|████████▉ | 95/106 [21:48<02:33, 13.95s/it]"
     ]
    },
    {
     "name": "stdout",
     "output_type": "stream",
     "text": [
      "96\n",
      "https://realas.com/property/20-771-773-PITTWATER-ROAD-DEE-WHY-NSW-2099-15579085\n"
     ]
    },
    {
     "name": "stderr",
     "output_type": "stream",
     "text": [
      "\r",
      " 91%|█████████ | 96/106 [22:01<02:16, 13.68s/it]"
     ]
    },
    {
     "name": "stdout",
     "output_type": "stream",
     "text": [
      "97\n",
      "https://realas.com/property/7-ASH-STREET-GEORGES-HALL-NSW-2198-2377126\n"
     ]
    },
    {
     "name": "stderr",
     "output_type": "stream",
     "text": [
      "\r",
      " 92%|█████████▏| 97/106 [22:15<02:03, 13.70s/it]"
     ]
    },
    {
     "name": "stdout",
     "output_type": "stream",
     "text": [
      "98\n",
      "https://realas.com/property/14-SALAMANDER-PLACE-MOUNT-LEWIS-NSW-2190-4575331\n"
     ]
    },
    {
     "name": "stderr",
     "output_type": "stream",
     "text": [
      "\r",
      " 92%|█████████▏| 98/106 [22:30<01:51, 13.98s/it]"
     ]
    },
    {
     "name": "stdout",
     "output_type": "stream",
     "text": [
      "99\n"
     ]
    },
    {
     "name": "stderr",
     "output_type": "stream",
     "text": [
      "\r",
      " 93%|█████████▎| 99/106 [22:39<01:26, 12.43s/it]"
     ]
    },
    {
     "name": "stdout",
     "output_type": "stream",
     "text": [
      "100\n",
      "https://realas.com/property/47-NORMAN-STREET-MERRYLANDS-NSW-2160-4254508\n"
     ]
    },
    {
     "name": "stderr",
     "output_type": "stream",
     "text": [
      "\r",
      " 94%|█████████▍| 100/106 [22:52<01:16, 12.81s/it]"
     ]
    },
    {
     "name": "stdout",
     "output_type": "stream",
     "text": [
      "101\n",
      "https://realas.com/property/8-172-PRINCES-HIGHWAY-BEVERLEY-PARK-NSW-2217-16680297\n"
     ]
    },
    {
     "name": "stderr",
     "output_type": "stream",
     "text": [
      "\r",
      " 95%|█████████▌| 101/106 [23:05<01:04, 12.94s/it]"
     ]
    },
    {
     "name": "stdout",
     "output_type": "stream",
     "text": [
      "102\n",
      "https://realas.com/property/3-14-16-SHORT-STREET-WENTWORTHVILLE-NSW-2145-7424193\n"
     ]
    },
    {
     "name": "stderr",
     "output_type": "stream",
     "text": [
      "\r",
      " 96%|█████████▌| 102/106 [23:19<00:53, 13.26s/it]"
     ]
    },
    {
     "name": "stdout",
     "output_type": "stream",
     "text": [
      "103\n",
      "https://realas.com/property/16-2A-MAXIM-STREET-WEST-RYDE-NSW-2114-43230081\n"
     ]
    },
    {
     "name": "stderr",
     "output_type": "stream",
     "text": [
      "\r",
      " 97%|█████████▋| 103/106 [23:34<00:40, 13.62s/it]"
     ]
    },
    {
     "name": "stdout",
     "output_type": "stream",
     "text": [
      "104\n",
      "https://realas.com/property/32-MAHRATTA-AVENUE-WAHROONGA-NSW-2076-7194904\n"
     ]
    },
    {
     "name": "stderr",
     "output_type": "stream",
     "text": [
      "\r",
      " 98%|█████████▊| 104/106 [23:47<00:27, 13.52s/it]"
     ]
    },
    {
     "name": "stdout",
     "output_type": "stream",
     "text": [
      "105\n",
      "https://realas.com/property/23-YANDERRA-GROVE-CHERRYBROOK-NSW-2126-1842080\n"
     ]
    },
    {
     "name": "stderr",
     "output_type": "stream",
     "text": [
      "\r",
      " 99%|█████████▉| 105/106 [24:01<00:13, 13.75s/it]"
     ]
    },
    {
     "name": "stdout",
     "output_type": "stream",
     "text": [
      "106\n",
      "https://realas.com/property/11-44-BRIDGE-STREET-SYDNEY-NSW-2000-6591342\n"
     ]
    },
    {
     "name": "stderr",
     "output_type": "stream",
     "text": [
      "100%|██████████| 106/106 [24:17<00:00, 13.75s/it]\n"
     ]
    }
   ],
   "source": [
    "n = 1\n",
    "for i in tqdm(range(len(address['full_address']))):\n",
    "    print(n)\n",
    "    n = n+1\n",
    "    driver = webdriver.Chrome('/Users/lingmengli/desktop/chromedriver')\n",
    "    driver.get('https://realas.com')\n",
    "    input_area = driver.find_element_by_class_name('react-autosuggest__input')\n",
    "    input_area.send_keys(address['full_address'][i])\n",
    "    time.sleep(3)\n",
    "    try:\n",
    "        search = driver.find_element_by_class_name('react-autosuggest__suggestion-button')\n",
    "        search.click()\n",
    "        time.sleep(1)\n",
    "        search = driver.find_element_by_class_name('property-summary-btn')\n",
    "        search.click()\n",
    "        address['realas_url'][i] = driver.current_url\n",
    "        print(address['realas_url'][i])\n",
    "        resp = driver.get(address['realas_url'][i])\n",
    "        html = driver.execute_script('return document.documentElement.outerHTML')\n",
    "        sel_soup = BeautifulSoup(html, 'html.parser')\n",
    "        time.sleep(1)\n",
    "        for predic in sel_soup.select('.property-summary--primary-left'):\n",
    "            try:\n",
    "                address['realas_prediction'][i] = predic.select('div')[1].text\n",
    "            except:\n",
    "                address['realas_prediction'][i] = ''\n",
    "##################################################################        \n",
    "        for st in sel_soup.select('.property-detail_summary'):\n",
    "            try:\n",
    "                address['realas_street'][i] = st.select('span')[1].text\n",
    "            except:\n",
    "                address['realas_street'][i] = ''\n",
    "##################################################################\n",
    "        for sub in sel_soup.select('.property-detail_summary'):\n",
    "            try:\n",
    "                address['realas_suburb'][i] = sub.select('a')[0].text\n",
    "            except:\n",
    "                address['realas_suburb'][i] = ''\n",
    "            suburb_list.append(suburb)\n",
    "##################################################################\n",
    "        for sta in sel_soup.select('.property-detail_summary'):\n",
    "            try:\n",
    "                address['realas_state'][i] = sta.select('span')[2].text\n",
    "            except:\n",
    "                address['realas_state'][i] = ''\n",
    "            state_list.append(state)\n",
    "##################################################################\n",
    "        for post in sel_soup.select('.property-detail_summary'):\n",
    "            try:\n",
    "                address['realas_post_code'][i] = post.select('span')[3].text\n",
    "            except:\n",
    "                address['realas_post_code'][i] = ''\n",
    "            print(address['realas_prediction'][i],\n",
    "                  address['realas_street'][i],\n",
    "                  address['realas_suburb'][i],\n",
    "                  address['realas_state'][i],\n",
    "                  address['realas_post_code'][i])\n",
    "        driver.close()\n",
    "    except:\n",
    "        driver.close()\n",
    "        continue"
   ]
  },
  {
   "cell_type": "code",
   "execution_count": 5,
   "metadata": {},
   "outputs": [
    {
     "data": {
      "text/html": [
       "<div>\n",
       "<style scoped>\n",
       "    .dataframe tbody tr th:only-of-type {\n",
       "        vertical-align: middle;\n",
       "    }\n",
       "\n",
       "    .dataframe tbody tr th {\n",
       "        vertical-align: top;\n",
       "    }\n",
       "\n",
       "    .dataframe thead th {\n",
       "        text-align: right;\n",
       "    }\n",
       "</style>\n",
       "<table border=\"1\" class=\"dataframe\">\n",
       "  <thead>\n",
       "    <tr style=\"text-align: right;\">\n",
       "      <th></th>\n",
       "      <th>No</th>\n",
       "      <th>full_address</th>\n",
       "      <th>url</th>\n",
       "      <th>prop_type</th>\n",
       "      <th>street</th>\n",
       "      <th>suburb_state_postcode</th>\n",
       "      <th>suburb</th>\n",
       "      <th>state</th>\n",
       "      <th>post_code</th>\n",
       "      <th>beds</th>\n",
       "      <th>...</th>\n",
       "      <th>address</th>\n",
       "      <th>Domain_min_price</th>\n",
       "      <th>Domain_median_price</th>\n",
       "      <th>Domain_max_price</th>\n",
       "      <th>realas_street</th>\n",
       "      <th>realas_suburb</th>\n",
       "      <th>realas_state</th>\n",
       "      <th>realas_post_code</th>\n",
       "      <th>realas_prediction</th>\n",
       "      <th>realas_url</th>\n",
       "    </tr>\n",
       "  </thead>\n",
       "  <tbody>\n",
       "    <tr>\n",
       "      <td>0</td>\n",
       "      <td>1</td>\n",
       "      <td>19 THE CRESCENT, DEE WHY NSW 2099</td>\n",
       "      <td>https://www.domain.com.au/19-the-crescent-dee-...</td>\n",
       "      <td>House</td>\n",
       "      <td>19 The Crescent,</td>\n",
       "      <td>DEE WHY NSW 2099</td>\n",
       "      <td>DEE WHY</td>\n",
       "      <td>NSW</td>\n",
       "      <td>2099</td>\n",
       "      <td>4</td>\n",
       "      <td>...</td>\n",
       "      <td>19-the-crescent-dee-why-nsw-2099</td>\n",
       "      <td>1990000.0</td>\n",
       "      <td>2320000.0</td>\n",
       "      <td>2650000.0</td>\n",
       "      <td>19 THE CRESCENT</td>\n",
       "      <td>DEE WHY</td>\n",
       "      <td></td>\n",
       "      <td></td>\n",
       "      <td>$1,973,000Close modalHigh ConfidenceHigh confi...</td>\n",
       "      <td>https://realas.com/property/19-THE-CRESCENT-DE...</td>\n",
       "    </tr>\n",
       "    <tr>\n",
       "      <td>1</td>\n",
       "      <td>2</td>\n",
       "      <td>51 RIVER ROAD, GREENWICH NSW 2065</td>\n",
       "      <td>https://www.domain.com.au/51-river-road-greenw...</td>\n",
       "      <td>House</td>\n",
       "      <td>51 River Road,</td>\n",
       "      <td>GREENWICH NSW 2065</td>\n",
       "      <td>GREENWICH</td>\n",
       "      <td>NSW</td>\n",
       "      <td>2065</td>\n",
       "      <td>3</td>\n",
       "      <td>...</td>\n",
       "      <td>51-river-road-greenwich-nsw-2065</td>\n",
       "      <td>2440000.0</td>\n",
       "      <td>2810000.0</td>\n",
       "      <td>3180000.0</td>\n",
       "      <td>51 RIVER ROAD</td>\n",
       "      <td>GREENWICH</td>\n",
       "      <td></td>\n",
       "      <td></td>\n",
       "      <td>$1,824,000Close modalHigh ConfidenceHigh confi...</td>\n",
       "      <td>https://realas.com/property/51-RIVER-ROAD-GREE...</td>\n",
       "    </tr>\n",
       "    <tr>\n",
       "      <td>2</td>\n",
       "      <td>3</td>\n",
       "      <td>11 TENTH AVENUE, OYSTER BAY NSW 2225</td>\n",
       "      <td>https://www.domain.com.au/11-tenth-avenue-oyst...</td>\n",
       "      <td>House</td>\n",
       "      <td>11 Tenth Avenue,</td>\n",
       "      <td>OYSTER BAY NSW 2225</td>\n",
       "      <td>OYSTER BAY</td>\n",
       "      <td>NSW</td>\n",
       "      <td>2225</td>\n",
       "      <td>4</td>\n",
       "      <td>...</td>\n",
       "      <td>11-tenth-avenue-oyster-bay-nsw-2225</td>\n",
       "      <td>880000.0</td>\n",
       "      <td>1020000.0</td>\n",
       "      <td>1160000.0</td>\n",
       "      <td>11 TENTH AVENUE</td>\n",
       "      <td>OYSTER BAY</td>\n",
       "      <td></td>\n",
       "      <td></td>\n",
       "      <td>$1,196,000REALas prediction</td>\n",
       "      <td>https://realas.com/property/11-TENTH-AVENUE-OY...</td>\n",
       "    </tr>\n",
       "    <tr>\n",
       "      <td>3</td>\n",
       "      <td>4</td>\n",
       "      <td>6/141 WONIORA ROAD, SOUTH HURSTVILLE NSW 2221</td>\n",
       "      <td>https://www.domain.com.au/6-141-woniora-road-s...</td>\n",
       "      <td>Apartment / Unit / Flat</td>\n",
       "      <td>6/141 Woniora Road,</td>\n",
       "      <td>SOUTH HURSTVILLE NSW 2221</td>\n",
       "      <td>SOUTH HURSTVILLE</td>\n",
       "      <td>NSW</td>\n",
       "      <td>2221</td>\n",
       "      <td>2</td>\n",
       "      <td>...</td>\n",
       "      <td>6/141-woniora-road-south-hurstville-nsw-2221</td>\n",
       "      <td>NaN</td>\n",
       "      <td>NaN</td>\n",
       "      <td>NaN</td>\n",
       "      <td>6/141 WONIORA ROAD</td>\n",
       "      <td>SOUTH HURSTVILLE</td>\n",
       "      <td></td>\n",
       "      <td></td>\n",
       "      <td>$570,000Close modalHigh ConfidenceHigh confide...</td>\n",
       "      <td>https://realas.com/property/6-141-WONIORA-ROAD...</td>\n",
       "    </tr>\n",
       "    <tr>\n",
       "      <td>4</td>\n",
       "      <td>5</td>\n",
       "      <td>3/7A REGINALD AVENUE, BELMORE NSW 2192</td>\n",
       "      <td>https://www.domain.com.au/3-7a-reginald-avenue...</td>\n",
       "      <td>Apartment / Unit / Flat</td>\n",
       "      <td>3/7a Reginald Avenue,</td>\n",
       "      <td>BELMORE NSW 2192</td>\n",
       "      <td>BELMORE</td>\n",
       "      <td>NSW</td>\n",
       "      <td>2192</td>\n",
       "      <td>2</td>\n",
       "      <td>...</td>\n",
       "      <td>3/7a-reginald-avenue-belmore-nsw-2192</td>\n",
       "      <td>NaN</td>\n",
       "      <td>NaN</td>\n",
       "      <td>NaN</td>\n",
       "      <td>3/7A REGINALD AVENUE</td>\n",
       "      <td>BELMORE</td>\n",
       "      <td></td>\n",
       "      <td></td>\n",
       "      <td>$434,000REALas prediction</td>\n",
       "      <td>https://realas.com/property/3-7A-REGINALD-AVEN...</td>\n",
       "    </tr>\n",
       "    <tr>\n",
       "      <td>...</td>\n",
       "      <td>...</td>\n",
       "      <td>...</td>\n",
       "      <td>...</td>\n",
       "      <td>...</td>\n",
       "      <td>...</td>\n",
       "      <td>...</td>\n",
       "      <td>...</td>\n",
       "      <td>...</td>\n",
       "      <td>...</td>\n",
       "      <td>...</td>\n",
       "      <td>...</td>\n",
       "      <td>...</td>\n",
       "      <td>...</td>\n",
       "      <td>...</td>\n",
       "      <td>...</td>\n",
       "      <td>...</td>\n",
       "      <td>...</td>\n",
       "      <td>...</td>\n",
       "      <td>...</td>\n",
       "      <td>...</td>\n",
       "      <td>...</td>\n",
       "    </tr>\n",
       "    <tr>\n",
       "      <td>101</td>\n",
       "      <td>102</td>\n",
       "      <td>3/14-16 SHORT STREET, WENTWORTHVILLE NSW 2145</td>\n",
       "      <td>https://www.domain.com.au/3-14-16-short-street...</td>\n",
       "      <td>Townhouse</td>\n",
       "      <td>3/14-16 Short Street,</td>\n",
       "      <td>WENTWORTHVILLE NSW 2145</td>\n",
       "      <td>WENTWORTHVILLE</td>\n",
       "      <td>NSW</td>\n",
       "      <td>2145</td>\n",
       "      <td>3</td>\n",
       "      <td>...</td>\n",
       "      <td>3/14-16-short-street-wentworthville-nsw-2145</td>\n",
       "      <td>NaN</td>\n",
       "      <td>NaN</td>\n",
       "      <td>NaN</td>\n",
       "      <td>3/14-16 SHORT STREET</td>\n",
       "      <td>WENTWORTHVILLE</td>\n",
       "      <td></td>\n",
       "      <td></td>\n",
       "      <td>$649,000REALas prediction</td>\n",
       "      <td>https://realas.com/property/3-14-16-SHORT-STRE...</td>\n",
       "    </tr>\n",
       "    <tr>\n",
       "      <td>102</td>\n",
       "      <td>103</td>\n",
       "      <td>16/2A MAXIM STREET, WEST RYDE NSW 2114</td>\n",
       "      <td>https://www.domain.com.au/16-2a-maxim-street-w...</td>\n",
       "      <td>Apartment / Unit / Flat</td>\n",
       "      <td>16/2a Maxim Street,</td>\n",
       "      <td>WEST RYDE NSW 2114</td>\n",
       "      <td>WEST RYDE</td>\n",
       "      <td>NSW</td>\n",
       "      <td>2114</td>\n",
       "      <td>2</td>\n",
       "      <td>...</td>\n",
       "      <td>16/2a-maxim-street-west-ryde-nsw-2114</td>\n",
       "      <td>NaN</td>\n",
       "      <td>NaN</td>\n",
       "      <td>NaN</td>\n",
       "      <td>16/2A MAXIM STREET</td>\n",
       "      <td>WEST RYDE</td>\n",
       "      <td></td>\n",
       "      <td></td>\n",
       "      <td>$539,000Close modalHigh ConfidenceHigh confide...</td>\n",
       "      <td>https://realas.com/property/16-2A-MAXIM-STREET...</td>\n",
       "    </tr>\n",
       "    <tr>\n",
       "      <td>103</td>\n",
       "      <td>104</td>\n",
       "      <td>32 MAHRATTA AVENUE, WAHROONGA NSW 2076</td>\n",
       "      <td>https://www.domain.com.au/32-mahratta-avenue-w...</td>\n",
       "      <td>House</td>\n",
       "      <td>32 Mahratta Avenue,</td>\n",
       "      <td>WAHROONGA NSW 2076</td>\n",
       "      <td>WAHROONGA</td>\n",
       "      <td>NSW</td>\n",
       "      <td>2076</td>\n",
       "      <td>4</td>\n",
       "      <td>...</td>\n",
       "      <td>32-mahratta-avenue-wahroonga-nsw-2076</td>\n",
       "      <td>1840000.0</td>\n",
       "      <td>2140000.0</td>\n",
       "      <td>2440000.0</td>\n",
       "      <td>32 MAHRATTA AVENUE</td>\n",
       "      <td>WAHROONGA</td>\n",
       "      <td></td>\n",
       "      <td></td>\n",
       "      <td>Request prediction</td>\n",
       "      <td>https://realas.com/property/32-MAHRATTA-AVENUE...</td>\n",
       "    </tr>\n",
       "    <tr>\n",
       "      <td>104</td>\n",
       "      <td>105</td>\n",
       "      <td>23 YANDERRA GROVE, CHERRYBROOK NSW 2126</td>\n",
       "      <td>https://www.domain.com.au/23-yanderra-grove-ch...</td>\n",
       "      <td>House</td>\n",
       "      <td>23 Yanderra Grove,</td>\n",
       "      <td>CHERRYBROOK NSW 2126</td>\n",
       "      <td>CHERRYBROOK</td>\n",
       "      <td>NSW</td>\n",
       "      <td>2126</td>\n",
       "      <td>5</td>\n",
       "      <td>...</td>\n",
       "      <td>23-yanderra-grove-cherrybrook-nsw-2126</td>\n",
       "      <td>1370000.0</td>\n",
       "      <td>1590000.0</td>\n",
       "      <td>1810000.0</td>\n",
       "      <td>23 YANDERRA GROVE</td>\n",
       "      <td>CHERRYBROOK</td>\n",
       "      <td></td>\n",
       "      <td></td>\n",
       "      <td>$1,585,000Close modalHigh ConfidenceHigh confi...</td>\n",
       "      <td>https://realas.com/property/23-YANDERRA-GROVE-...</td>\n",
       "    </tr>\n",
       "    <tr>\n",
       "      <td>105</td>\n",
       "      <td>106</td>\n",
       "      <td>11/44 BRIDGE STREET, SYDNEY NSW 2000</td>\n",
       "      <td>https://www.domain.com.au/11-44-bridge-street-...</td>\n",
       "      <td>Apartment / Unit / Flat</td>\n",
       "      <td>11/44 Bridge Street,</td>\n",
       "      <td>SYDNEY NSW 2000</td>\n",
       "      <td>SYDNEY</td>\n",
       "      <td>NSW</td>\n",
       "      <td>2000</td>\n",
       "      <td>3</td>\n",
       "      <td>...</td>\n",
       "      <td>11/44-bridge-street-sydney-nsw-2000</td>\n",
       "      <td>NaN</td>\n",
       "      <td>NaN</td>\n",
       "      <td>NaN</td>\n",
       "      <td>11/44 BRIDGE STREET</td>\n",
       "      <td>SYDNEY</td>\n",
       "      <td></td>\n",
       "      <td></td>\n",
       "      <td>$1,480,000REALas prediction</td>\n",
       "      <td>https://realas.com/property/11-44-BRIDGE-STREE...</td>\n",
       "    </tr>\n",
       "  </tbody>\n",
       "</table>\n",
       "<p>106 rows × 40 columns</p>\n",
       "</div>"
      ],
      "text/plain": [
       "      No                                   full_address  \\\n",
       "0      1              19 THE CRESCENT, DEE WHY NSW 2099   \n",
       "1      2              51 RIVER ROAD, GREENWICH NSW 2065   \n",
       "2      3           11 TENTH AVENUE, OYSTER BAY NSW 2225   \n",
       "3      4  6/141 WONIORA ROAD, SOUTH HURSTVILLE NSW 2221   \n",
       "4      5         3/7A REGINALD AVENUE, BELMORE NSW 2192   \n",
       "..   ...                                            ...   \n",
       "101  102  3/14-16 SHORT STREET, WENTWORTHVILLE NSW 2145   \n",
       "102  103         16/2A MAXIM STREET, WEST RYDE NSW 2114   \n",
       "103  104         32 MAHRATTA AVENUE, WAHROONGA NSW 2076   \n",
       "104  105        23 YANDERRA GROVE, CHERRYBROOK NSW 2126   \n",
       "105  106           11/44 BRIDGE STREET, SYDNEY NSW 2000   \n",
       "\n",
       "                                                   url  \\\n",
       "0    https://www.domain.com.au/19-the-crescent-dee-...   \n",
       "1    https://www.domain.com.au/51-river-road-greenw...   \n",
       "2    https://www.domain.com.au/11-tenth-avenue-oyst...   \n",
       "3    https://www.domain.com.au/6-141-woniora-road-s...   \n",
       "4    https://www.domain.com.au/3-7a-reginald-avenue...   \n",
       "..                                                 ...   \n",
       "101  https://www.domain.com.au/3-14-16-short-street...   \n",
       "102  https://www.domain.com.au/16-2a-maxim-street-w...   \n",
       "103  https://www.domain.com.au/32-mahratta-avenue-w...   \n",
       "104  https://www.domain.com.au/23-yanderra-grove-ch...   \n",
       "105  https://www.domain.com.au/11-44-bridge-street-...   \n",
       "\n",
       "                   prop_type                 street  \\\n",
       "0                      House       19 The Crescent,   \n",
       "1                      House         51 River Road,   \n",
       "2                      House       11 Tenth Avenue,   \n",
       "3    Apartment / Unit / Flat    6/141 Woniora Road,   \n",
       "4    Apartment / Unit / Flat  3/7a Reginald Avenue,   \n",
       "..                       ...                    ...   \n",
       "101                Townhouse  3/14-16 Short Street,   \n",
       "102  Apartment / Unit / Flat    16/2a Maxim Street,   \n",
       "103                    House    32 Mahratta Avenue,   \n",
       "104                    House     23 Yanderra Grove,   \n",
       "105  Apartment / Unit / Flat   11/44 Bridge Street,   \n",
       "\n",
       "         suburb_state_postcode            suburb state  post_code  beds  ...  \\\n",
       "0             DEE WHY NSW 2099           DEE WHY   NSW       2099     4  ...   \n",
       "1           GREENWICH NSW 2065         GREENWICH   NSW       2065     3  ...   \n",
       "2          OYSTER BAY NSW 2225        OYSTER BAY   NSW       2225     4  ...   \n",
       "3    SOUTH HURSTVILLE NSW 2221  SOUTH HURSTVILLE   NSW       2221     2  ...   \n",
       "4             BELMORE NSW 2192           BELMORE   NSW       2192     2  ...   \n",
       "..                         ...               ...   ...        ...   ...  ...   \n",
       "101    WENTWORTHVILLE NSW 2145    WENTWORTHVILLE   NSW       2145     3  ...   \n",
       "102         WEST RYDE NSW 2114         WEST RYDE   NSW       2114     2  ...   \n",
       "103         WAHROONGA NSW 2076         WAHROONGA   NSW       2076     4  ...   \n",
       "104       CHERRYBROOK NSW 2126       CHERRYBROOK   NSW       2126     5  ...   \n",
       "105            SYDNEY NSW 2000            SYDNEY   NSW       2000     3  ...   \n",
       "\n",
       "                                          address  Domain_min_price  \\\n",
       "0                19-the-crescent-dee-why-nsw-2099         1990000.0   \n",
       "1                51-river-road-greenwich-nsw-2065         2440000.0   \n",
       "2             11-tenth-avenue-oyster-bay-nsw-2225          880000.0   \n",
       "3    6/141-woniora-road-south-hurstville-nsw-2221               NaN   \n",
       "4           3/7a-reginald-avenue-belmore-nsw-2192               NaN   \n",
       "..                                            ...               ...   \n",
       "101  3/14-16-short-street-wentworthville-nsw-2145               NaN   \n",
       "102         16/2a-maxim-street-west-ryde-nsw-2114               NaN   \n",
       "103         32-mahratta-avenue-wahroonga-nsw-2076         1840000.0   \n",
       "104        23-yanderra-grove-cherrybrook-nsw-2126         1370000.0   \n",
       "105           11/44-bridge-street-sydney-nsw-2000               NaN   \n",
       "\n",
       "    Domain_median_price  Domain_max_price          realas_street  \\\n",
       "0             2320000.0         2650000.0       19 THE CRESCENT    \n",
       "1             2810000.0         3180000.0         51 RIVER ROAD    \n",
       "2             1020000.0         1160000.0       11 TENTH AVENUE    \n",
       "3                   NaN               NaN    6/141 WONIORA ROAD    \n",
       "4                   NaN               NaN  3/7A REGINALD AVENUE    \n",
       "..                  ...               ...                    ...   \n",
       "101                 NaN               NaN  3/14-16 SHORT STREET    \n",
       "102                 NaN               NaN    16/2A MAXIM STREET    \n",
       "103           2140000.0         2440000.0    32 MAHRATTA AVENUE    \n",
       "104           1590000.0         1810000.0     23 YANDERRA GROVE    \n",
       "105                 NaN               NaN   11/44 BRIDGE STREET    \n",
       "\n",
       "        realas_suburb  realas_state  realas_post_code  \\\n",
       "0             DEE WHY                                   \n",
       "1           GREENWICH                                   \n",
       "2          OYSTER BAY                                   \n",
       "3    SOUTH HURSTVILLE                                   \n",
       "4             BELMORE                                   \n",
       "..                ...           ...               ...   \n",
       "101    WENTWORTHVILLE                                   \n",
       "102         WEST RYDE                                   \n",
       "103         WAHROONGA                                   \n",
       "104       CHERRYBROOK                                   \n",
       "105            SYDNEY                                   \n",
       "\n",
       "                                     realas_prediction  \\\n",
       "0    $1,973,000Close modalHigh ConfidenceHigh confi...   \n",
       "1    $1,824,000Close modalHigh ConfidenceHigh confi...   \n",
       "2                          $1,196,000REALas prediction   \n",
       "3    $570,000Close modalHigh ConfidenceHigh confide...   \n",
       "4                            $434,000REALas prediction   \n",
       "..                                                 ...   \n",
       "101                          $649,000REALas prediction   \n",
       "102  $539,000Close modalHigh ConfidenceHigh confide...   \n",
       "103                                 Request prediction   \n",
       "104  $1,585,000Close modalHigh ConfidenceHigh confi...   \n",
       "105                        $1,480,000REALas prediction   \n",
       "\n",
       "                                            realas_url  \n",
       "0    https://realas.com/property/19-THE-CRESCENT-DE...  \n",
       "1    https://realas.com/property/51-RIVER-ROAD-GREE...  \n",
       "2    https://realas.com/property/11-TENTH-AVENUE-OY...  \n",
       "3    https://realas.com/property/6-141-WONIORA-ROAD...  \n",
       "4    https://realas.com/property/3-7A-REGINALD-AVEN...  \n",
       "..                                                 ...  \n",
       "101  https://realas.com/property/3-14-16-SHORT-STRE...  \n",
       "102  https://realas.com/property/16-2A-MAXIM-STREET...  \n",
       "103  https://realas.com/property/32-MAHRATTA-AVENUE...  \n",
       "104  https://realas.com/property/23-YANDERRA-GROVE-...  \n",
       "105  https://realas.com/property/11-44-BRIDGE-STREE...  \n",
       "\n",
       "[106 rows x 40 columns]"
      ]
     },
     "execution_count": 5,
     "metadata": {},
     "output_type": "execute_result"
    }
   ],
   "source": [
    "address"
   ]
  },
  {
   "cell_type": "code",
   "execution_count": 6,
   "metadata": {},
   "outputs": [],
   "source": [
    "address.to_csv('Prediction_21_12_2019.csv')"
   ]
  },
  {
   "cell_type": "code",
   "execution_count": null,
   "metadata": {},
   "outputs": [],
   "source": []
  }
 ],
 "metadata": {
  "kernelspec": {
   "display_name": "Python 3",
   "language": "python",
   "name": "python3"
  },
  "language_info": {
   "codemirror_mode": {
    "name": "ipython",
    "version": 3
   },
   "file_extension": ".py",
   "mimetype": "text/x-python",
   "name": "python",
   "nbconvert_exporter": "python",
   "pygments_lexer": "ipython3",
   "version": "3.7.4"
  }
 },
 "nbformat": 4,
 "nbformat_minor": 2
}
