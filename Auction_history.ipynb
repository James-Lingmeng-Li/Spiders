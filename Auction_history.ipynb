{
 "cells": [
  {
   "cell_type": "code",
   "execution_count": 1,
   "metadata": {},
   "outputs": [],
   "source": [
    "#import libs\n",
    "import requests\n",
    "from bs4 import BeautifulSoup\n",
    "import pandas as pd\n",
    "import shutil\n",
    "import os\n",
    "import numpy\n",
    "import re\n",
    "from tqdm import tqdm"
   ]
  },
  {
   "cell_type": "code",
   "execution_count": 2,
   "metadata": {},
   "outputs": [],
   "source": [
    "#import csv\n",
    "auction_date_list = pd.read_csv('auction_date.csv')\n",
    "auction_hist = pd.read_csv('auction_hist.csv')"
   ]
  },
  {
   "cell_type": "code",
   "execution_count": 3,
   "metadata": {},
   "outputs": [
    {
     "data": {
      "text/plain": [
       "0    2019-12-14\n",
       "Name: date, dtype: object"
      ]
     },
     "execution_count": 3,
     "metadata": {},
     "output_type": "execute_result"
    }
   ],
   "source": [
    "date = auction_date_list['date']\n",
    "date"
   ]
  },
  {
   "cell_type": "code",
   "execution_count": 4,
   "metadata": {},
   "outputs": [
    {
     "data": {
      "text/plain": [
       "Index(['date', 'address', 'suburb', 'prop_type', 'status', 'sold_price'], dtype='object')"
      ]
     },
     "execution_count": 4,
     "metadata": {},
     "output_type": "execute_result"
    }
   ],
   "source": [
    "auction_hist.columns"
   ]
  },
  {
   "cell_type": "code",
   "execution_count": 5,
   "metadata": {},
   "outputs": [],
   "source": [
    "sold_date_list = []\n",
    "address_list = []\n",
    "suburb_list = []\n",
    "prop_type_list = []\n",
    "status_list = []\n",
    "sold_price_list = []\n",
    "url_list = []"
   ]
  },
  {
   "cell_type": "code",
   "execution_count": 6,
   "metadata": {},
   "outputs": [
    {
     "name": "stdout",
     "output_type": "stream",
     "text": [
      "https://www.domain.com.au/auction-results/sydney/\n",
      "6 Watting St https://www.domain.com.au/6-watting-st-abbotsbury-nsw-2176-2015871534 House Sold $950k\n",
      "56 Abbotsford Pde https://www.domain.com.au/56-abbotsford-parade-abbotsford-nsw-2046-2015888508 Semi Sold $1.69m\n",
      "41/25 Birmingham St https://www.domain.com.au/41-25-birmingham-street-alexandria-nsw-2015-2015888188 Unit Sold $882k\n",
      "C426/2-6 Mandible St https://www.domain.com.au/c426-2-6-mandible-street-alexandria-nsw-2015-2015825012 Unit Sold $482k\n",
      "M207/68 McEvoy St https://www.domain.com.au/m207-68-mcevoy-street-alexandria-nsw-2015-2015892857 Unit Sold prior to auction $820k\n",
      "10 Hibiscus Cl https://www.domain.com.au/10-hibiscus-close-alfords-point-nsw-2234-2015873087 House Sold prior to auction $1.205m\n",
      "4 Maroa Cr https://www.domain.com.au/4-maroa-crescent-allambie-heights-nsw-2100-2015932727 House Sold prior to auction $2.775m\n",
      "17 View St https://www.domain.com.au/17-view-street-annandale-nsw-2038-2015897044 House Sold Price withheld\n",
      "1 Avenal St https://www.domain.com.au/1-avenal-street-arncliffe-nsw-2205-2015885901 House Sold $1.448888m\n",
      "21 Duncan St https://www.domain.com.au/21-duncan-street-arncliffe-nsw-2205-2015863814 House Sold $1.13m\n",
      "48 Hanks St https://www.domain.com.au/48-hanks-street-ashbury-nsw-2193-2015885959 House Sold $1.51m\n",
      "284 Chisholm Rd https://www.domain.com.au/284-chisholm-road-auburn-nsw-2144-2015903643 House Sold $771k\n",
      "25 Ettalong St https://www.domain.com.au/25-ettalong-street-auburn-nsw-2144-2015899262 House Sold Price withheld\n",
      "13 Wellington Rd https://www.domain.com.au/13-wellington-road-auburn-nsw-2144-2015902652 House Passed in $1.1m max bid\n",
      "6 Riviera Av https://domain.com.au/property-profile/6-riviera-avenue-avalon-beach-nsw-2107 House Sold prior to auction Price withheld\n",
      "74 Hillside Rd https://www.domain.com.au/74-hillside-road-avoca-beach-nsw-2251-2015902519 House Sold $1.131m\n",
      "8/52 Menai Rd https://www.domain.com.au/8-52-menai-road-bangor-nsw-2234-2015895842 House Sold prior to auction $1.02m\n",
      "9 Coolock Cr https://www.domain.com.au/9-coolock-crescent-baulkham-hills-nsw-2153-2015902106 House Sold prior to auction $1.65m\n",
      "9 Coolock Cr https://domain.com.au/property-profile/9-coolock-crescent-baulkham-hills-nsw-2153 House Sold prior to auction Price withheld\n",
      "36 Gregory Av https://domain.com.au/property-profile/36-gregory-avenue-baulkham-hills-nsw-2153 House Withdrawn \n",
      "9 Marcel Pl https://www.domain.com.au/9-marcel-place-baulkham-hills-nsw-2153-2015901934 House Sold $1.223m\n",
      "11 Roxborough Park Rd https://www.domain.com.au/11-roxborough-park-road-baulkham-hills-nsw-2153-2015887726 House Sold Price withheld\n",
      "4 Templeton Cr https://www.domain.com.au/4-templeton-crescent-baulkham-hills-nsw-2153-2015896113 House Sold prior to auction $1.415m\n",
      "6 Witonga Cr https://www.domain.com.au/6-witonga-crescent-baulkham-hills-nsw-2153-2015888270 House Sold prior to auction $1.275m\n",
      "35 Kokoda Cr https://www.domain.com.au/35-kokoda-crescent-beacon-hill-nsw-2100-2015920277 House Sold $1.675m\n",
      "151 Victoria St https://www.domain.com.au/151-victoria-street-beaconsfield-nsw-2015-2015892342 House Sold prior to auction $1.06m\n",
      "3 Blackwood Cl https://www.domain.com.au/3-blackwood-close-beecroft-nsw-2119-2015903414 House Sold $1.862m\n",
      "19 Boronia Av https://www.domain.com.au/19-boronia-avenue-beecroft-nsw-2119-2015903412 House Withdrawn \n",
      "4/33 Balfour Rd https://www.domain.com.au/4-33-balfour-road-bellevue-hill-nsw-2023-2015893365 Unit Sold prior to auction $1.2m\n",
      "49 Belmore Rd https://domain.com.au/property-profile/49-belmore-avenue-belmore-nsw-2192 House Sold prior to auction Price withheld\n",
      "7 Stirling Pl https://www.domain.com.au/7-stirling-place-belrose-nsw-2085-2015895804 House Sold $2.005m\n",
      "76 Fourth Av https://www.domain.com.au/76-fourth-avenue-berala-nsw-2141-2015921567 House Passed in $930k max bid\n",
      "34 Hillcrest Rd https://www.domain.com.au/34-hillcrest-road-berowra-nsw-2081-2015894165 House Sold $1.006m\n",
      "25 Mercury St https://www.domain.com.au/25-mercury-street-beverly-hills-nsw-2209-2015895955 House Sold prior to auction $920k\n",
      "61 Tallawalla St https://www.domain.com.au/61-tallawalla-street-beverly-hills-nsw-2209-2015900677 House Sold Price withheld\n",
      "23 Abercorn St https://www.domain.com.au/23-abercorn-street-bexley-nsw-2207-2015879805 House Passed in $1.53m max bid\n",
      "3/71 Queen Victoria St https://www.domain.com.au/3-71-queen-victoria-street-bexley-nsw-2207-2015902200 Unit Sold $540k\n",
      "40 St Georges Rd https://www.domain.com.au/40-st-georges-road-bexley-nsw-2207-2015884525 House Sold $1.441m\n",
      "44 Stoney Creek Rd https://www.domain.com.au/44-stoney-creek-road-bexley-nsw-2207-2015883646 House Sold $795k\n",
      "4 Vivian St https://www.domain.com.au/4-vivian-street-bexley-nsw-2207-2015867874 House Sold $1.525m\n",
      "1 Challenger Pl https://www.domain.com.au/1-challenger-place-birchgrove-nsw-2041-2015899271 House Sold prior to auction $1.92m\n",
      "18 Aliberti Dr https://www.domain.com.au/18-aliberti-drive-blacktown-nsw-2148-2015905994 House Sold prior to auction $648.5k\n",
      "14 Siebel St https://www.domain.com.au/14-siebel-street-blacktown-nsw-2148-2015896311 House Sold $581k\n",
      "7 Cedar Cr https://www.domain.com.au/7-cedar-crescent-blackwall-nsw-2256-2015894558 House Sold prior to auction Price withheld\n",
      "12 Orana Cr https://www.domain.com.au/12-orana-crescent-blakehurst-nsw-2221-2015899678 House Sold $1.39m\n",
      "255 Woniora Rd https://www.domain.com.au/255-woniora-road-blakehurst-nsw-2221-2015898921 House Passed in \n",
      "5 Jefferson Cr https://www.domain.com.au/5-jefferson-crescent-bonnet-bay-nsw-2226-2015897087 House Sold $1.45m\n",
      "29 Holbrook St https://www.domain.com.au/29-holbrook-street-bossley-park-nsw-2176-2015896998 House Sold prior to auction $935k\n",
      "13 Tuncurry St https://www.domain.com.au/13-tuncurry-street-bossley-park-nsw-2176-2015891629 House Sold $785k\n",
      "1412 Botany Rd https://www.domain.com.au/1412-botany-road-botany-nsw-2019-2015878722 House Sold $1.27m\n",
      "45/4-10 The Boulevarde  https://www.domain.com.au/45-4-10-the-boulevarde-brighton-le-sands-nsw-2216-2015896811 Unit Sold $781k\n",
      "21 Belgrave St https://www.domain.com.au/21-belgrave-street-bronte-nsw-2024-2015887419 House Sold $3.5m\n",
      "5/14-16 Park Av https://www.domain.com.au/5-14-16-park-avenue-burwood-nsw-2134-2014135339 Unit Sold prior to auction $740k\n",
      "10 Galloway St https://www.domain.com.au/10-galloway-street-busby-nsw-2168-2015873314 House Sold $576k\n",
      "73 Water St https://www.domain.com.au/73-water-street-cabramatta-west-nsw-2166-2015899854 House Sold $965k\n",
      "20/1-11 Brodrick St https://www.domain.com.au/20-1-11-brodrick-street-camperdown-nsw-2050-2015890701 Unit Sold prior to auction $875k\n",
      "13/42-44 Gibbens St https://www.domain.com.au/13-42-44-gibbens-street-camperdown-nsw-2050-2015899920 Unit Sold prior to auction Price withheld\n",
      "710/7 Sterling Cct https://www.domain.com.au/710-7-sterling-circuit-camperdown-nsw-2050-2015898875 Unit Sold $1.41m\n",
      "85 Eighth Av https://www.domain.com.au/85-eighth-avenue-campsie-nsw-2194-2015860576 House Sold $2.1005m\n",
      "65A Delamere St https://domain.com.au/property-profile/65a-delamere-street-canley-vale-nsw-2166 Duplex Passed in $750k max bid\n",
      "8/3-7 Fore St https://www.domain.com.au/8-3-fore-street-canterbury-nsw-2193-2015899594 Townhouse Sold prior to auction $910k\n",
      "40 Captain Cook Dr https://www.domain.com.au/40-captain-cook-drive-caringbah-nsw-2229-2015913110 House Withdrawn \n",
      "17 Chamberlain Av https://www.domain.com.au/17-chamberlain-avenue-caringbah-nsw-2229-2015920501 House Sold $995k\n",
      "1 Wallami St https://www.domain.com.au/1-wallami-street-caringbah-south-nsw-2229-2015899472 House Sold Price withheld\n",
      "203 Carlingford Rd https://www.domain.com.au/203-carlingford-road-carlingford-nsw-2118-2015870869 House Sold $1.81m\n",
      "18 Hibiscus Av https://www.domain.com.au/18-hibiscus-avenue-carlingford-nsw-2118-2015898979 House Sold $1.84m\n",
      "3/62 Honiton Av W https://www.domain.com.au/3-62-honiton-avenue-carlingford-nsw-2118-2015891463 Villa Sold prior to auction $940k\n",
      "9/11-17 Bembridge St https://www.domain.com.au/9-11-17-bembridge-street-carlton-nsw-2218-2015889264 Unit Sold prior to auction $694k\n",
      "1/53 Cronulla St https://www.domain.com.au/1-53-cronulla-street-carlton-nsw-2218-2015895231 Unit Sold prior to auction $482k\n",
      "16 Planthurst Rd https://www.domain.com.au/16-planthurst-road-carlton-nsw-2218-2015883680 House Sold $1.18m\n",
      "14/26-32 Shaftesbury St https://www.domain.com.au/14-26-32-shaftesbury-street-carlton-nsw-2218-2015887474 Unit Sold $715k\n",
      "12/9 Wilde St https://www.domain.com.au/12-9-wilde-street-carramar-nsw-2163-2015892827 Unit Sold prior to auction $400k\n",
      "4/3 Banks Rd https://www.domain.com.au/4-3-banks-road-castle-hill-nsw-2154-2015899724 House Sold $1.1832m\n",
      "57 Excelsior Av https://www.domain.com.au/57-excelsior-avenue-castle-hill-nsw-2154-2015902048 House Passed in \n",
      "38 George Mobbs Dr https://www.domain.com.au/38-george-mobbs-drive-castle-hill-nsw-2154-2015893061 House Withdrawn \n",
      "1 Talofa Pl https://www.domain.com.au/1-talofa-place-castle-hill-nsw-2154-2015884289 House Sold $2.175m\n",
      "21 Winchcombe Pl https://www.domain.com.au/21-winchcombe-place-castle-hill-nsw-2154-2015913343 House Sold $1.89m\n",
      "9 Incense Pl https://www.domain.com.au/9-incense-place-casula-nsw-2170-2015895628 House Sold Price withheld\n",
      "16 Aragon St https://www.domain.com.au/16-aragon-street-cecil-hills-nsw-2171-2015887636 House Sold $1.37m\n",
      "130-133 Goodrich Rd https://www.domain.com.au/130-goodrich-road-cecil-park-nsw-2178-2015903847 House Sold $2.85m\n",
      "33-35 Trevally Av https://www.domain.com.au/35-trevally-avenue-chain-valley-bay-nsw-2259-2014781474 House Sold prior to auction $490k\n",
      "8/236 Victoria Av https://domain.com.au/property-profile/8-236-victoria-avenue-chatswood-nsw-2067 Unit Sold prior to auction Price withheld\n",
      "12 Boldrewood Pl https://www.domain.com.au/12-boldrewood-place-cherrybrook-nsw-2126-2015877810 House Withdrawn \n",
      "2 Foxwood Wy https://www.domain.com.au/2-foxwood-way-cherrybrook-nsw-2126-2015910702 House Sold $1.631m\n",
      "10 Parkhill Cr https://www.domain.com.au/10-parkhill-crescent-cherrybrook-nsw-2126-2015891145 House Sold $1.503m\n",
      "30 Robertson Rd https://www.domain.com.au/30-robertson-rd-chester-hill-nsw-2162-2015884687 House Withdrawn \n",
      "65 Ascot Dr https://www.domain.com.au/65-ascot-drive-chipping-norton-nsw-2170-2015875352 House Passed in \n",
      "31 Lawn Av https://www.domain.com.au/31-lawn-avenue-clemton-park-nsw-2206-2015868885 House Sold $1.425m\n",
      "10/26-28 Melrose Pde https://www.domain.com.au/10-26-28-melrose-pde-clovelly-nsw-2031-2015898946 Unit Sold $1.45m\n",
      "78 Fuller St https://domain.com.au/property-profile/78-fuller-street-collaroy-plateau-nsw-2097 House Sold prior to auction Price withheld\n",
      "35 Kangaroo Rd https://www.domain.com.au/35-kangaroo-road-collaroy-plateau-nsw-2097-2015899667 House Sold prior to auction $2.32m\n",
      "28 Stella St https://www.domain.com.au/28-stella-street-collaroy-plateau-nsw-2097-2015896646 House Sold $1.9005m\n",
      "49 Woronora Cr https://www.domain.com.au/49-woronora-crescent-como-nsw-2226-2015912388 House Sold $1.675m\n",
      "19 Jones St https://www.domain.com.au/19-jones-street-concord-nsw-2137-2015887262 House Sold $2.181m\n",
      "4 Kingston Av https://www.domain.com.au/4-kingston-avenue-concord-nsw-2137-2015873740 House Sold Price withheld\n",
      "1 Watkin St https://www.domain.com.au/1-watkin-street-concord-nsw-2137-2015878704 House Sold prior to auction $1.65m\n",
      "6/64 Gleeson Av https://www.domain.com.au/6-64-gleeson-avenue-condell-park-nsw-2200-2015892903 Villa Sold prior to auction $750k\n",
      "5/16 Leemon St https://www.domain.com.au/5-16-leemon-street-condell-park-nsw-2200-2015885355 Villa Sold $620k\n",
      "18 Mitchell St https://www.domain.com.au/18-mitchell-street-condell-park-nsw-2200-2015885563 House Sold $1m\n",
      "8/24 Mitchell St https://www.domain.com.au/8-24-mitchell-street-condell-park-nsw-2200-2015889553 Townhouse Passed in \n",
      "3/329-331 Arden St https://www.domain.com.au/3-329-331-arden-street-coogee-nsw-2034-2015894751 Unit Sold $1.37m\n",
      "27/178-182 Beach St https://www.domain.com.au/27-178-beach-street-coogee-nsw-2034-2015824967 Unit Withdrawn \n",
      "5/101 Carrington Rd https://www.domain.com.au/5-101-carrington-road-coogee-nsw-2034-2015897543 Unit Sold $1.35m\n",
      "8/50-52 Albany St https://www.domain.com.au/8-50-52-albany-street-crows-nest-nsw-2065-2015877708 Townhouse Sold $1.52m\n",
      "5/144 Edwin St https://www.domain.com.au/5-144-edwin-street-north-croydon-nsw-2132-2015888904 Unit Sold $811k\n",
      "12A Dunmore St https://www.domain.com.au/12a-dunmore-street-croydon-park-nsw-2133-2015898817 Semi Sold $1.185m\n",
      "45 Gardere Av https://www.domain.com.au/curl-curl-nsw-2096-2015851670 House Withdrawn \n",
      "44/15-19 Boundary St https://www.domain.com.au/44-15-19-boundary-street-rushcutters-bay-nsw-2011-2015897625 Unit Sold prior to auction $1.82m\n",
      "7/93-95 Howard Av https://www.domain.com.au/7-93-howard-avenue-dee-why-nsw-2099-2015875148 Unit Sold prior to auction $890k\n",
      "7/106 Oaks Av https://www.domain.com.au/7-106-oaks-avenue-dee-why-nsw-2099-2015895643 Unit Sold $1.175m\n",
      "17/19-23 Sturdee Pde https://www.domain.com.au/17-19-23-sturdee-parade-dee-why-nsw-2099-2015898637 Unit Sold $1.005m\n",
      "5/44 The Crescent  https://www.domain.com.au/5-44-the-crescent-dee-why-nsw-2099-2015872789 Unit Sold prior to auction $1.9m\n",
      "55 Sawsedge Av https://domain.com.au/property-profile/55-sawsedge-avenue-denham-court-nsw-2565 House Withdrawn \n",
      "178 Willowdale Dr https://www.domain.com.au/178-willowdale-drive-denham-court-nsw-2565-2015888407 House Sold prior to auction $930k\n",
      "14 Lund St https://www.domain.com.au/14-lund-street-denistone-nsw-2114-2014319363 House Sold prior to auction $1.36m\n",
      "10/106 Lower St Georges Cr https://www.domain.com.au/10-106-lower-st-georges-crescent-drummoyne-nsw-2047-2015880677 Unit Sold Price withheld\n",
      "20 The Esplanade  https://www.domain.com.au/20-the-esplanade-drummoyne-nsw-2047-2015882160 House Sold Price withheld\n",
      "3/30 Wrights Rd https://www.domain.com.au/3-30-wrights-road-drummoyne-nsw-2047-2015879177 Townhouse Sold $1.335m\n",
      "15/57-69 Cobar St https://www.domain.com.au/15-57-69-cobar-street-dulwich-hill-nsw-2203-2015895533 Unit Sold prior to auction $740k\n",
      "46 King St https://www.domain.com.au/46-king-street-dundas-valley-nsw-2117-2015898596 House Sold $1.205m\n",
      "7 Wyoming Rd https://www.domain.com.au/7-wyoming-road-dural-nsw-2158-2015901861 House Sold $5.08m\n",
      "4 Keith St https://www.domain.com.au/4-keith-street-earlwood-nsw-2206-2015887851 House Sold $1.73m\n",
      "18 Ronald Av https://www.domain.com.au/18-ronald-avenue-earlwood-nsw-2206-2015897968 House Sold $1.285m\n",
      "124 Middle Harbour Rd https://www.domain.com.au/124-middle-harbour-road-east-lindfield-nsw-2070-2015884937 House Withdrawn \n",
      "160 Abuklea Rd https://www.domain.com.au/160-abuklea-road-eastwood-nsw-2122-2015898164 House Sold $1.662m\n",
      "35 Avondale Wy https://www.domain.com.au/35-avondale-way-eastwood-nsw-2122-2015900381 House Sold $1.45m\n",
      "4 Lovell Rd https://domain.com.au/property-profile/4-lovell-road-eastwood-nsw-2122 House Passed in \n",
      "7/21 May St https://www.domain.com.au/7-21-may-street-eastwood-nsw-2122-2015917943 Unit Sold $668k\n",
      "14 Orlando Pl https://www.domain.com.au/14-orlando-place-edensor-park-nsw-2176-2015888171 House Sold $860k\n",
      "5 Great Thorne St https://www.domain.com.au/5-great-thorne-street-edgecliff-nsw-2027-2015903791 House Sold prior to auction $1.425m\n",
      "5/10 Onslow Av https://www.domain.com.au/5-10-onslow-avenue-elizabeth-bay-nsw-2011-2015896873 Unit Sold $1.975m\n",
      "4 Sharon Pl https://www.domain.com.au/4-sharon-place-engadine-nsw-2233-2015897120 House Sold prior to auction $1.06m\n",
      "31 Fotheringham St https://www.domain.com.au/31-fotheringham-street-enmore-nsw-2042-2015900269 House Sold $1.15m\n",
      "42 Boronia Av https://www.domain.com.au/42-boronia-avenue-epping-nsw-2121-2015888394 House Sold $3.5025m\n",
      "2C Chesterfield Rd https://www.domain.com.au/2c-chesterfield-road-epping-nsw-2121-2015892691 House Passed in \n",
      "12a Cumberland St https://www.domain.com.au/12a-cumberland-street-epping-nsw-2121-2015879206 Semi Sold prior to auction $1.638m\n",
      "7/42 Dorset St https://www.domain.com.au/7-42-dorset-street-epping-nsw-2121-2015898855 House Sold prior to auction $2.499m\n",
      "24 Dunmore Rd https://www.domain.com.au/24-dunmore-road-epping-nsw-2121-2015900458 House Sold $2.55m\n",
      "17 First Av https://www.domain.com.au/17-first-avenue-epping-nsw-2121-2015879059 House Sold prior to auction $1.922m\n",
      "39 Gloucester Rd https://www.domain.com.au/39-gloucester-road-epping-nsw-2121-2015898778 House Sold prior to auction $2.15m\n",
      "9 Hillside Cr https://www.domain.com.au/9-hillside-crescent-epping-nsw-2121-2015888894 House Sold $2.99m\n",
      "21 Allura Cr https://www.domain.com.au/21-allura-crescent-ermington-nsw-2115-2015912321 House Sold prior to auction $1.23m\n",
      "6 Dennis St https://www.domain.com.au/6-dennis-street-ermington-nsw-2115-2015912036 House Sold after auction $1.7625m\n",
      "8 Vignes St https://www.domain.com.au/8-vignes-street-ermington-nsw-2115-2015892840 House Sold $910k\n",
      "2 Parkers La https://www.domain.com.au/2-parkers-lane-erskineville-nsw-2043-2015903062 House Sold $1.64m\n",
      "7 Turtle La https://www.domain.com.au/7-turtle-lane-erskineville-nsw-2043-2015895791 Terrace Sold prior to auction $1.575m\n",
      "35 Cathcart St https://www.domain.com.au/35-cathcart-street-fairfield-nsw-2165-2015882732 House Sold $875k\n",
      "69 Hercules St https://domain.com.au/property-profile/69-hercules-street-fairfield-east-nsw-2165 House Sold $721k\n",
      "31 Mitchell St https://domain.com.au/property-profile/31-mitchell-street-fairfield-east-nsw-2165 House Passed in \n",
      "135 Nelson St https://www.domain.com.au/135-nelson-st-fairfield-nsw-2165-2015905906 House Sold $830k\n",
      "21 Ainslie St https://www.domain.com.au/21-ainslie-street-fairfield-west-nsw-2165-2015890745 House Sold $810k\n",
      "75 Margaret St https://www.domain.com.au/75-margaret-street-fairfield-west-nsw-2165-2015899595 House Sold $820k\n",
      "59 Fairlight St https://www.domain.com.au/59-fairlight-street-fairlight-nsw-2094-2015900773 House Withdrawn \n",
      "15 Dundilla Rd https://www.domain.com.au/15-dundilla-road-frenchs-forest-nsw-2086-2015900228 House Sold prior to auction $1.605m\n",
      "20 Parni Pl https://www.domain.com.au/20-parni-place-frenchs-forest-nsw-2086-2015903661 House Sold $1.82m\n",
      "84 Prince Charles Rd https://www.domain.com.au/84-prince-charles-road-frenchs-forest-nsw-2086-2015875633 House Withdrawn \n",
      "3 The Esplanade  https://domain.com.au/property-profile/3-the-esplanade-frenchs-forest-nsw-2086 House Price withheld \n",
      "139 Harbord Rd https://www.domain.com.au/139-harbord-road-freshwater-nsw-2096-2015874593 House Sold $2.63m\n",
      "119 Soldiers Av https://www.domain.com.au/119-soldiers-avenue-freshwater-nsw-2096-2015904478 House Sold prior to auction Price withheld\n",
      "4/29-33 Waine St https://www.domain.com.au/4-29-waine-street-freshwater-nsw-2096-2015891059 Unit Sold $1.5m\n",
      "23 Ayres Cr https://www.domain.com.au/23-ayres-cres-georges-hall-nsw-2198-2015892372 House Passed in $950k max bid\n",
      "106/203 Birdwood Rd https://www.domain.com.au/106-203-birdwood-road-georges-hall-nsw-2198-2015889586 Unit Sold prior to auction $550k\n",
      "18 Marden St https://www.domain.com.au/18-marden-street-georges-hall-nsw-2198-2015894166 House Sold $830k\n",
      "11 Eltham St https://www.domain.com.au/11-eltham-street-gladesville-nsw-2111-2015871216 House Sold $2.272m\n",
      "203/408 Victoria Rd https://www.domain.com.au/203-408-victoria-road-gladesville-nsw-2111-2015896677 Unit Sold prior to auction Price withheld\n",
      "14 Ferry Rd https://www.domain.com.au/14-ferry-road-glebe-nsw-2037-2015887956 Terrace Sold $1.47m\n",
      "90 Greenbank Dr https://www.domain.com.au/90-greenbank-drive-glenhaven-nsw-2156-2015852250 House Passed in \n",
      "1/16-22 Dumaresq St https://domain.com.au/property-profile/1-16-22-dumaresq-street-gordon-nsw-2072 Unit Sold prior to auction Price withheld\n",
      "43 Waugoola St https://www.domain.com.au/43-waugoola-street-gordon-nsw-2072-2015857274 House Sold prior to auction $1.9m\n",
      "16 Thursday Pl https://www.domain.com.au/16-thursday-place-green-valley-nsw-2168-2015887402 House Sold $925k\n",
      "36 Chiswick Rd https://www.domain.com.au/36-chiswick-road-greenacre-nsw-2190-2015887353 House Sold $865k\n",
      "51 Highview Av https://www.domain.com.au/51-highview-avenue-greenacre-nsw-2190-2015892196 House Sold Price withheld\n",
      "281 Noble Av https://www.domain.com.au/281-noble-avenue-greenacre-nsw-2190-2015889002 House Sold $970k\n",
      "3 Carter St https://www.domain.com.au/3-carter-street-greystanes-nsw-2145-2015877841 House Passed in $750k max bid\n",
      "111 Gipps Rd https://www.domain.com.au/111-gipps-road-greystanes-nsw-2145-2015906894 House Sold $828k\n",
      "6 Taylor St https://www.domain.com.au/6-taylor-street-greystanes-nsw-2145-2015892941 House Sold $905k\n",
      "30 Princes St https://domain.com.au/property-profile/30-princes-street-guildford-west-nsw-2161 House Passed in $860k max bid\n",
      "59 Woodstock St https://www.domain.com.au/59-woodstock-street-guildford-nsw-2161-2015894770 House Sold $707k\n",
      "3 Kenna Pl https://www.domain.com.au/3-kenna-place-gymea-nsw-2227-2015920231 House Sold prior to auction $1.31m\n",
      "6 Redfern Pl https://www.domain.com.au/6-redfern-place-gymea-nsw-2227-2015899963 House Sold $1.162m\n",
      "28 Lonigan Pde https://www.domain.com.au/28-lonigan-parade-harrington-park-nsw-2567-2015897685 House Passed in \n",
      "54 Tumbarumba Cr https://www.domain.com.au/54-tumbarumba-cres-heckenberg-nsw-2168-2015906647 House Passed in $670k max bid\n",
      "1 Sabre Cr https://www.domain.com.au/1-sabre-crescent-holsworthy-nsw-2173-2015889630 House Sold $930k\n",
      "14/32-36 Short St https://www.domain.com.au/14-32-36-short-street-homebush-nsw-2140-2015774474 Unit Withdrawn \n",
      "2C Kookaburra Rd https://www.domain.com.au/2c-kookaburra-road-hornsby-heights-nsw-2077-2015879572 House Sold prior to auction $1.285m\n",
      "6 Mullumbimby Av https://www.domain.com.au/6-mullumbimby-avenue-hoxton-park-nsw-2171-2015886917 House Sold $821k\n",
      "3 Euthella Av https://www.domain.com.au/3-euthella-avenue-hunters-hill-nsw-2110-2015872870 House Passed in \n",
      "56A High St https://www.domain.com.au/56a-high-street-hunters-hill-nsw-2110-2015876613 House Sold prior to auction $1.71m\n",
      "9/10 Ryde Rd https://www.domain.com.au/9-10-ryde-road-hunters-hill-nsw-2110-2015893812 Townhouse Sold prior to auction $1.58m\n",
      "3 Barton Av https://www.domain.com.au/3-barton-avenue-hurlstone-park-nsw-2193-2015901015 House Sold $2.105m\n",
      "11/34-40 Carrington Av https://www.domain.com.au/11-34-carrington-avenue-hurstville-nsw-2220-2015868255 Unit Sold $687k\n",
      "29 Jannali Av https://domain.com.au/property-profile/29-jannali-avenue-jannali-nsw-2226 House Sold prior to auction $1.073m\n",
      "35 Second Av https://www.domain.com.au/35-second-avenue-jannali-nsw-2226-2015912806 House Sold prior to auction $985k\n",
      "9-11 Pearce Rd https://www.domain.com.au/9-11-pearce-road-kanwal-nsw-2259-2015888423 House Sold prior to auction $605k\n",
      "20 James Mileham Dr https://www.domain.com.au/20-james-mileham-drive-kellyville-nsw-2155-2015877344 House Withdrawn \n",
      "23 Sandpiper Pl https://www.domain.com.au/23-sandpiper-place-kenthurst-nsw-2156-2015918550 House Passed in \n",
      "6 Sedger Rd https://domain.com.au/property-profile/6-sedger-road-kenthurst-nsw-2156 House Sold prior to auction Price withheld\n",
      "4 Essex St https://www.domain.com.au/4-essex-street-killara-nsw-2071-2015533437 House Sold Price withheld\n",
      "24/29 Lorne Av https://domain.com.au/property-profile/24-29-lorne-avenue-killara-nsw-2071 Unit Withdrawn \n",
      "34 Berith St https://www.domain.com.au/34-berith-street-kingsgrove-nsw-2208-2015887595 House Sold $1.921m\n"
     ]
    },
    {
     "name": "stdout",
     "output_type": "stream",
     "text": [
      "281 Stoney Creek Rd https://www.domain.com.au/281-stoney-creek-road-kingsgrove-nsw-2208-2015905152 House Sold $870k\n",
      "201/27 Waruda St https://www.domain.com.au/201-27-waruda-street-kirribilli-nsw-2061-2015903424 Unit Sold prior to auction $855k\n",
      "34 Hart St https://domain.com.au/property-profile/34-hart-street-lane-cove-north-nsw-2066 House Sold prior to auction Price withheld\n",
      "16/438 Mowbray Rd https://domain.com.au/property-profile/16-438-444-mowbray-road-west-lane-cove-north-nsw-2066 Unit Sold prior to auction Price withheld\n",
      "607/8-13 Waterview Dr https://www.domain.com.au/607-8-waterview-drive-lane-cove-nsw-2066-2015897608 Unit Sold $863k\n",
      "2/10 Emma St https://www.domain.com.au/2-10-emma-street-leichhardt-nsw-2040-2015896542 Townhouse Sold $985k\n",
      "12 Leichhardt St https://www.domain.com.au/12-leichhardt-street-leichhardt-nsw-2040-2015892459 House Sold prior to auction Price withheld\n",
      "56 Marion St https://www.domain.com.au/56-marion-street-leichhardt-nsw-2040-2015870791 House Sold prior to auction $1.76m\n",
      "107/20 McGill St https://www.domain.com.au/107-20-mcgill-street-lewisham-nsw-2049-2015901057 Unit Sold prior to auction $680k\n",
      "307/4 Wentworth Dr https://www.domain.com.au/307-4-wentworth-drive-liberty-grove-nsw-2138-2015901393 Unit Sold $670k\n",
      "50 Mary St https://www.domain.com.au/50-mary-street-lilyfield-nsw-2040-2015919833 House Sold $1.87m\n",
      "53 The Boulevarde  https://www.domain.com.au/53-the-boulevarde-lilyfield-nsw-2040-2015901168 House Sold $1.828m\n",
      "32 Congressional Dr https://www.domain.com.au/32-congressional-drive-liverpool-nsw-2170-2015907374 House Sold $770k\n",
      "8 Park Rd https://www.domain.com.au/8-park-road-liverpool-nsw-2170-2015896900 House Sold $967k\n",
      "7 Valentia Av https://www.domain.com.au/7-valentia-avenue-lugarno-nsw-2210-2015890909 House Passed in \n",
      "12/4 Tuckwell Pl https://www.domain.com.au/12-4-tuckwell-place-macquarie-park-nsw-2113-2015900272 Unit Sold prior to auction $980k\n",
      "6/18-20 Cliff St https://www.domain.com.au/6-18-20-cliff-street-manly-nsw-2095-2015893763 House Sold $2.84m\n",
      "25-27 Kenneth Rd https://www.domain.com.au/27-kenneth-road-manly-vale-nsw-2093-2015900959 House Passed in \n",
      "41 Crudge Rd https://www.domain.com.au/41-crudge-road-marayong-nsw-2148-2015885032 House Sold $545k\n",
      "395a Bunnerong Rd https://www.domain.com.au/395a-bunnerong-road-maroubra-nsw-2035-2015767845 House Withdrawn \n",
      "8/59-65 Chester Av https://www.domain.com.au/8-59-65-chester-avenue-maroubra-nsw-2035-2015892438 Unit Sold prior to auction Price withheld\n",
      "1/14 Ewart St https://www.domain.com.au/1-14-ewart-street-marrickville-nsw-2204-2015903645 Unit Sold $900k\n",
      "19/11 Hill St https://www.domain.com.au/19-11-hill-street-marrickville-nsw-2204-2015896874 Unit Sold $770k\n",
      "67/147-151 Talavera Rd https://www.domain.com.au/67-147-151-talavera-road-marsfield-nsw-2122-2015891551 Townhouse Sold $825k\n",
      "44 Combles Pde https://www.domain.com.au/44-combles-parade-matraville-nsw-2036-2015878902 House Sold prior to auction $1.58m\n",
      "1 Stolle Cl https://domain.com.au/property-profile/1-stolle-close-menai-nsw-2234 House Sold $1.07m\n",
      "5 Campbell Pl https://www.domain.com.au/5-campbell-place-merrylands-nsw-2160-2015889363 House Sold $831k\n",
      "56 Robertson St https://www.domain.com.au/56-robertson-street-merrylands-nsw-2160-2015888461 House Sold prior to auction $715k\n",
      "5A Willara Av https://www.domain.com.au/5a-willara-avenue-merrylands-nsw-2160-2015889888 House Sold $1.18m\n",
      "29 Bruce St https://www.domain.com.au/29-bruce-street-merrylands-nsw-2160-2015889148 House Sold $1.125m\n",
      "19 Proyart Av https://www.domain.com.au/19-proyart-avenue-milperra-nsw-2214-2015906841 House Sold prior to auction Price withheld\n",
      "17 Derby St https://www.domain.com.au/17-derby-street-minto-nsw-2566-2015869713 House Sold $545k\n",
      "2 Bimbadeen Av https://www.domain.com.au/2-bimbadeen-avenue-miranda-nsw-2228-2015884277 House Sold $1.1215m\n",
      "11 Briony Pl https://www.domain.com.au/11-briony-place-mona-vale-nsw-2103-2015921121 House Sold prior to auction $1.71m\n",
      "19 Corben Av https://www.domain.com.au/19-corben-avenue-moorebank-nsw-2170-2015891621 House Sold $870k\n",
      "1 Marble Rd https://www.domain.com.au/1-marble-road-moorebank-nsw-2170-2015910016 House Sold $1.275m\n",
      "66 Renton Av https://www.domain.com.au/66-renton-avenue-moorebank-nsw-2170-2015910848 House Sold $830k\n",
      "28 Thompson Av https://www.domain.com.au/28-thompson-avenue-moorebank-nsw-2170-2015888230 House Sold $1.18m\n",
      "20 Balmoral Rd https://www.domain.com.au/20-balmoral-road-mortdale-nsw-2223-2015892693 House Sold prior to auction $925k\n",
      "99a Morts Rd https://www.domain.com.au/99a-morts-road-mortdale-nsw-2223-2015897992 House Sold prior to auction $1.27m\n",
      "62 Villiers Av https://www.domain.com.au/62-villiers-avenue-mortdale-nsw-2223-2015900095 House Sold $980k\n",
      "95 Belmont Rd https://www.domain.com.au/95-belmont-road-mosman-nsw-2088-2015904223 Semi Sold prior to auction Price withheld\n",
      "1/183 Ourimbah Rd https://www.domain.com.au/1-183-ourimbah-road-mosman-nsw-2088-2015510021 Unit Withdrawn \n",
      "510/68-70 Vista St https://domain.com.au/property-profile/510-68-70-vista-street-mosman-nsw-2088 Unit Sold prior to auction Price withheld\n",
      "5 Danthonia St https://www.domain.com.au/5-danthonia-street-mount-annan-nsw-2567-2015901322 House Sold $772k\n",
      "14a Janet St https://domain.com.au/property-profile/14a-janet-street-mount-druitt-nsw-2770 House Withdrawn \n",
      "136a Old Kent Rd https://www.domain.com.au/136a-old-kent-rd-greenacre-nsw-2190-2015898757 House Sold $1.398m\n",
      "13 South Pacific Av https://www.domain.com.au/13-south-pacific-avenue-mount-pritchard-nsw-2170-2015886087 House Sold $785k\n",
      "42 Northcote St https://www.domain.com.au/42-northcote-street-naremburn-nsw-2065-2015897440 Semi Passed in \n",
      "6/252 Willoughby Rd https://domain.com.au/property-profile/6-252-willoughby-road-naremburn-nsw-2065 Unit Price withheld \n",
      "88 Parr Pde https://www.domain.com.au/88-parr-parade-narraweena-nsw-2099-2015894720 House Sold $1.635m\n",
      "4/19 Harriette St https://www.domain.com.au/4-19-harriette-street-neutral-bay-nsw-2089-2015889097 Unit Sold prior to auction $1.167m\n",
      "4/82 Undercliff St https://domain.com.au/property-profile/4-82-86-undercliff-street-neutral-bay-nsw-2089 Unit $942k \n",
      "7/17 Wyagdon St https://www.domain.com.au/7-17-wyagdon-street-neutral-bay-nsw-2089-2015850430 Unit Sold prior to auction Price withheld\n",
      "1/9 Wyagdon St https://www.domain.com.au/1-9-wyagdon-street-neutral-bay-nsw-2089-2015901746 Unit Sold prior to auction $990k\n",
      "86 Bungan Head Rd https://www.domain.com.au/86-bungan-head-road-newport-nsw-2106-2014786687 House Withdrawn \n",
      "223/1 Georgina St https://www.domain.com.au/223-1-georgina-street-newtown-nsw-2042-2015897806 Unit Sold prior to auction $865k\n",
      "6/502-506 King St https://www.domain.com.au/6-502-506-king-street-newtown-nsw-2042-2015888761 Unit Sold prior to auction $865k\n",
      "100A Lord St https://www.domain.com.au/100a-lord-street-newtown-nsw-2042-2015781850 Terrace Sold prior to auction Price withheld\n",
      "80 Watkin St https://www.domain.com.au/80-watkin-street-newtown-nsw-2042-2015892705 House Sold $1.28m\n",
      "208 Wilson St https://www.domain.com.au/208-wilson-street-newtown-nsw-2042-2015902773 House Sold $2.2m\n",
      "5A Pinner Cl https://www.domain.com.au/5a-pinner-close-north-epping-nsw-2121-2015899111 House Sold $1.83m\n",
      "5 Welch St https://www.domain.com.au/5-welch-street-north-manly-nsw-2100-2015895754 House Sold prior to auction $2.2m\n",
      "308 North Rocks Rd https://www.domain.com.au/308-north-rocks-road-north-rocks-nsw-2151-2015897166 House Passed in $1.3m max bid\n",
      "3 Speers Rd https://www.domain.com.au/3-speers-road-north-rocks-nsw-2151-2015889534 House Sold prior to auction $1.15m\n",
      "27 Williams Rd https://www.domain.com.au/27-williams-road-north-rocks-nsw-2151-2015887757 House Sold $1.2365m\n",
      "11/263 Alfred St N https://domain.com.au/property-profile/11-263-269-alfred-street-north-north-sydney-nsw-2060 Townhouse Sold prior to auction Price withheld\n",
      "402/245 Pacific Hwy https://www.domain.com.au/402-245-pacific-highway-north-sydney-nsw-2060-2015854360 Unit Sold Price withheld\n",
      "6/223 Penshurst St https://www.domain.com.au/6-223-penshurst-street-willoughby-nsw-2068-2015901563 Unit Sold $695k\n",
      "2/29-35 Balmoral Rd https://www.domain.com.au/2-29-35-balmoral-road-northmead-nsw-2152-2015898433 Townhouse Sold $797.5k\n",
      "17 Harrison St https://www.domain.com.au/17-harrison-street-northmead-nsw-2152-2015893380 House Sold prior to auction $930k\n",
      "28 Moxhams Rd https://www.domain.com.au/28-moxhams-road-northmead-nsw-2152-2015890783 House Sold prior to auction Price withheld\n",
      "56 Windermere Av https://www.domain.com.au/56-windermere-avenue-northmead-nsw-2152-2015868379 House Sold prior to auction $1.1m\n",
      "126 Hurstville Rd https://www.domain.com.au/126-hurstville-road-oatley-nsw-2223-2015892259 House Sold $1.2825m\n",
      "1/34 Letitia St https://www.domain.com.au/1-34-letitia-street-oatley-nsw-2223-2015892671 Unit Sold prior to auction $745k\n",
      "51 Wyong St https://www.domain.com.au/51-wyong-street-oatley-nsw-2223-2015899602 House Passed in \n",
      "67 Liverpool St https://www.domain.com.au/67-liverpool-street-paddington-nsw-2021-2015898617 House Sold $2.4m\n",
      "34 Prospect St https://www.domain.com.au/34-prospect-street-paddington-nsw-2021-2015774317 House Sold $2.39m\n",
      "53 Alma Rd https://www.domain.com.au/53-alma-road-padstow-nsw-2211-2015898999 House Sold $1.4m\n",
      "21 Dravet St https://www.domain.com.au/21-dravet-street-padstow-nsw-2211-2015895146 House Sold prior to auction $880k\n",
      "6b Opal Pl https://www.domain.com.au/6b-opal-place-padstow-heights-nsw-2211-2015889673 House Sold $762k\n",
      "37 Hinemoa St https://www.domain.com.au/37-hinemoa-street-panania-nsw-2213-2015920345 House Sold $1m\n",
      "713/45 Macquarie St https://www.domain.com.au/713-45-macquarie-street-parramatta-nsw-2150-2015901622 Unit Sold prior to auction $616k\n",
      "31 Patonga Dr https://www.domain.com.au/31-patonga-drive-patonga-nsw-2256-2015849553 House Passed in \n",
      "6/107A Belmore Rd https://domain.com.au/property-profile/6-107a-109-belmore-road-peakhurst-nsw-2210 Villa Sold $931k\n",
      "3/916 Forest Rd https://www.domain.com.au/3-916-forest-road-peakhurst-nsw-2210-2015900077 Villa Passed in \n",
      "45 Blackbutt Av https://www.domain.com.au/45-blackbutt-avenue-pennant-hills-nsw-2120-2015806093 House Sold prior to auction $1.68m\n",
      "25 Arakoon Av https://www.domain.com.au/25-arakoon-avenue-penrith-nsw-2750-2015927239 House Passed in \n",
      "471 Forest Rd https://www.domain.com.au/471-forest-road-penshurst-nsw-2222-2015897532 House Sold prior to auction $950k\n",
      "44 Godfrey St https://www.domain.com.au/44-godfrey-street-penshurst-nsw-2222-2015887528 House Sold $1.319m\n",
      "5 Brighton St https://www.domain.com.au/5-brighton-street-petersham-nsw-2049-2015875280 House Sold $2.095m\n",
      "20/5 Croydon St https://www.domain.com.au/20-5-croydon-street-petersham-nsw-2049-2015894605 Unit Sold prior to auction $900k\n",
      "10/121-123 New Canterbury Rd https://www.domain.com.au/10-121-123-new-canterbury-road-petersham-nsw-2049-2015900213 Unit Withdrawn \n",
      "100A Kennedy St https://www.domain.com.au/100a-kennedy-street-picnic-point-nsw-2213-2015882229 Semi Sold prior to auction $980k\n",
      "7 Mookara Pl https://www.domain.com.au/7-mookara-place-port-hacking-nsw-2229-2015892956 House Sold $1.516m\n",
      "503/37-41 Bayswater Rd https://www.domain.com.au/503-37-41-bayswater-road-potts-point-nsw-2011-2015884872 Unit Sold prior to auction $1.9m\n",
      "3/38-40 Kings Cross Rd https://www.domain.com.au/3-38-40-kings-cross-road-potts-point-nsw-2011-2015880865 Unit Sold prior to auction $760k\n",
      "86 Norman St https://www.domain.com.au/86-norman-street-prospect-nsw-2148-2015898898 House Sold $817k\n",
      "41 Arthur St https://www.domain.com.au/41-arthur-street-punchbowl-nsw-2196-2015891330 House Sold $875k\n",
      "31 Gowrie Av https://www.domain.com.au/31-gowrie-avenue-punchbowl-nsw-2196-2015892777 House Sold $830k\n",
      "5/37 Gowrie Av https://www.domain.com.au/5-37-gowrie-avenue-punchbowl-nsw-2196-2015888645 Villa Sold $735k\n",
      "12 Lyon Av https://www.domain.com.au/12-lyon-avenue-punchbowl-nsw-2196-2015793743 House Sold $927k\n",
      "128 Rosemont St S https://www.domain.com.au/128-rosemont-st-south-punchbowl-nsw-2196-2015889352 House Sold $1.133m\n",
      "18 Beechworth Rd https://www.domain.com.au/18-beechworth-road-pymble-nsw-2073-2015896125 House Sold prior to auction $3.6m\n",
      "54/152-164 Bulwara Rd https://www.domain.com.au/54-152-bulwara-rd-pyrmont-nsw-2009-2015897762 Unit Sold $995k\n",
      "10/16-30 Bunn St https://www.domain.com.au/10-16-30-bunn-street-pyrmont-nsw-2009-2015899088 Unit Sold prior to auction Price withheld\n",
      "6/84 Harris St https://www.domain.com.au/6-84-harris-street-pyrmont-nsw-2009-2015879759 Unit Sold prior to auction $850k\n",
      "603/243-271 Pyrmont St https://www.domain.com.au/603-243-271-pyrmont-street-pyrmont-nsw-2009-2015897315 Unit Sold $1.011m\n",
      "77 Bonaccordo Rd https://www.domain.com.au/77-bonaccordo-road-quakers-hill-nsw-2763-2015913089 House Passed in \n",
      "5/10 Montrose St https://www.domain.com.au/5-10-montrose-street-quakers-hill-nsw-2763-2015888507 Townhouse Sold $570k\n",
      "8/59 Crown Rd https://www.domain.com.au/8-59-crown-road-queenscliff-nsw-2096-2015897539 Unit Sold prior to auction $1.675m\n",
      "12/198 Carrington Rd https://domain.com.au/property-profile/12-198-200-carrington-road-randwick-nsw-2031 Unit Sold prior to auction $1.17m\n",
      "103/1 Marian St https://domain.com.au/property-profile/103-redfern-street-redfern-nsw-2016 Unit Sold prior to auction $800k\n",
      "735 South Dowling St https://www.domain.com.au/735-south-dowling-street-redfern-nsw-2016-2015873167 Terrace Sold prior to auction Price withheld\n",
      "64 Carrington St https://www.domain.com.au/64-carrington-street-revesby-nsw-2212-2015890578 House Sold prior to auction $1.17m\n",
      "71 Ely St https://www.domain.com.au/71-ely-street-revesby-nsw-2212-2015895597 House Sold $1.238m\n",
      "64 Alamein Rd https://www.domain.com.au/64-alamein-road-revesby-heights-nsw-2212-2015891961 House Sold $1.008m\n",
      "51 Brockman Av https://www.domain.com.au/51-brockman-ave-revesby-heights-nsw-2212-2015887340 House Sold $910k\n",
      "35 Fewtrell Av https://www.domain.com.au/35-fewtrell-avenue-revesby-heights-nsw-2212-2015910565 House Passed in \n",
      "15 Flaumont Av https://www.domain.com.au/15-flaumont-avenue-riverview-nsw-2066-2015889306 House Sold $2.075m\n",
      "27 Mazarin St https://www.domain.com.au/27-mazarin-street-riverwood-nsw-2210-2015908186 House Sold $896k\n",
      "11 York St https://www.domain.com.au/11-york-street-rockdale-nsw-2216-2015892826 House Sold $1.23m\n",
      "57 Tweedmouth Av https://www.domain.com.au/57-tweedmouth-avenue-rosebery-nsw-2018-2015910552 House Sold prior to auction Price withheld\n",
      "70 Arthur St https://www.domain.com.au/70-arthur-street-rosehill-nsw-2142-2015891955 Semi Sold prior to auction Price withheld\n",
      "70A Arthur St https://www.domain.com.au/70-arthur-street-rosehill-nsw-2142-2015891955 Semi Sold prior to auction Price withheld\n",
      "3/98 Payten Av https://www.domain.com.au/3-98-payten-avenue-roselands-nsw-2196-2015907794 Unit Sold $540k\n",
      "44/15-19 Boundary St https://domain.com.au/property-profile/44-roslyn-gardens-rushcutters-bay-nsw-2011 Unit Sold prior to auction $1.82m\n",
      "75/127 Park Rd https://www.domain.com.au/75-127-park-road-rydalmere-nsw-2116-2015900311 Townhouse Sold prior to auction $745k\n",
      "18 Yeramba Pl https://www.domain.com.au/18-yeramba-place-rydalmere-nsw-2116-2015891782 House Passed in $1.3m max bid\n",
      "39A Aeolus Av https://domain.com.au/property-profile/39a-aeolus-avenue-ryde-nsw-2112 Duplex Withdrawn \n",
      "14 Bruce St https://domain.com.au/property-profile/14-bruce-street-ryde-nsw-2112 House Sold Price withheld\n",
      "22 Callaghan St https://www.domain.com.au/22-callaghan-street-ryde-nsw-2112-2015896993 House Sold $2.351m\n",
      "4 Cameron Cr https://www.domain.com.au/4-cameron-crescent-ryde-nsw-2112-2015895427 House Sold prior to auction Price withheld\n",
      "23 Constitution Rd https://www.domain.com.au/23-constitution-road-ryde-nsw-2112-2015891781 House Sold prior to auction $1.555m\n",
      "7a Irvine Cr https://www.domain.com.au/7a-irvine-crescent-ryde-nsw-2112-2015857640 Duplex Sold prior to auction $1.5m\n",
      "14/111-113 Alfred St https://domain.com.au/property-profile/14-111-113-alfred-street-sans-souci-nsw-2219 Unit Passed in $760k max bid\n",
      "3 Palmerston Pl https://www.domain.com.au/3-palmerston-place-seaforth-nsw-2092-2015874039 House Passed in \n",
      "1 Anitra Pl https://www.domain.com.au/1-anitra-place-shalvey-nsw-2770-2015883225 House Sold prior to auction $540k\n",
      "4/60-62 Beaconsfield St https://www.domain.com.au/4-60-beaconsfield-street-silverwater-nsw-2128-2015540092 Townhouse Passed in $595k\n",
      "2/1 Alexander St https://domain.com.au/property-profile/2-1-alexander-street-smithfield-nsw-2164 House Withdrawn \n",
      "912 The Horsley Dr https://www.domain.com.au/912-the-horsley-drive-smithfield-nsw-2164-2015904106 House Sold prior to auction Price withheld\n",
      "1 Marshdale Rd https://www.domain.com.au/1-marshdale-road-springfield-nsw-2250-2015899848 House Sold $537k\n",
      "2 Garrick Rd https://www.domain.com.au/2-garrick-road-st-ives-nsw-2075-2015888227 House Withdrawn \n",
      "453/17-19 Memorial Av https://www.domain.com.au/453-17-19-memorial-avenue-st-ives-nsw-2075-2015880891 Unit Sold prior to auction $910k\n",
      "7 Putarri Av https://www.domain.com.au/7-putarri-avenue-st-ives-nsw-2075-2015881070 House Withdrawn \n",
      "301/1-3 Sturt Pl https://domain.com.au/property-profile/301-1-3-sturt-place-st-ives-nsw-2075 Unit Passed in \n",
      "53 Warrimoo Av https://www.domain.com.au/53-warrimoo-avenue-st-ives-nsw-2075-2015881088 House Sold prior to auction $1.95m\n",
      "34 Willis Av https://www.domain.com.au/34-willis-avenue-st-ives-nsw-2075-2015881089 House Sold $2.646m\n",
      "43 Woodbury Rd https://www.domain.com.au/43-woodbury-road-st-ives-nsw-2075-2015852650 House Sold Price withheld\n",
      "208a Warrimoo Av https://www.domain.com.au/208a-warrimoo-avenue-st-ives-nsw-2075-2015881085 House Sold $1.95m\n",
      "6 Glebe Pl https://www.domain.com.au/6-glebe-place-st-johns-park-nsw-2176-2015891987 House Withdrawn \n",
      "1808/3 Herbert St https://www.domain.com.au/1808-3-herbert-street-st-leonards-nsw-2065-2015893560 Unit Sold prior to auction $1.17m\n",
      "11 Ryan St https://www.domain.com.au/11-ryan-street-st-marys-nsw-2760-2015899453 House Passed in \n",
      "5/56A Cambridge St https://www.domain.com.au/5-56a-cambridge-street-stanmore-nsw-2048-2015914212 Unit Sold prior to auction $859.5k\n",
      "130 Cavendish St https://www.domain.com.au/130-cavendish-street-stanmore-nsw-2048-2015873614 House Sold $1.75m\n",
      "34a Beresford Rd https://www.domain.com.au/34a-beresford-road-strathfield-nsw-2135-2015828365 House Sold prior to auction $3.21m\n",
      "6/19-21 Margaret St https://www.domain.com.au/6-19-21-margaret-street-strathfield-nsw-2135-2015895580 Unit Sold $1.06m\n",
      "2/9 Allman Av https://www.domain.com.au/2-9-allman-avenue-summer-hill-nsw-2130-2015920186 Unit Sold $750k\n",
      "25 Grosvenor Cr https://www.domain.com.au/25-grosvenor-crescent-summer-hill-nsw-2130-2015900952 House Sold $1.675m\n",
      "40 Smith St https://www.domain.com.au/40-smith-street-summer-hill-nsw-2130-2015888864 House Sold $1.855m\n",
      "518 Cleveland St https://www.domain.com.au/518-cleveland-street-surry-hills-nsw-2010-2015884506 Terrace Sold prior to auction Price withheld\n",
      "4/11-21 Flinders St https://domain.com.au/property-profile/4-11-21-flinders-street-surry-hills-nsw-2010 Studio Sold prior to auction $450k\n",
      "4/3 Goulburn La https://www.domain.com.au/4-3-goulburn-lane-surry-hills-nsw-2010-2015902844 Unit Sold $787k\n",
      "1/10-12 Little Albion St https://www.domain.com.au/1-10-12-little-albion-street-surry-hills-nsw-2010-2015897107 Unit Sold $1.345m\n",
      "9/57 York St https://domain.com.au/property-profile/9-57-59-york-street-sydney-nsw-2000 Unit Sold prior to auction $710k\n",
      "9/57-59 York St https://www.domain.com.au/9-57-york-street-sydney-nsw-2000-2015893427 Unit Sold prior to auction $710k\n",
      "17a Crystal St https://www.domain.com.au/17a-crystal-street-sylvania-nsw-2224-2015899675 Semi Sold $1.375m\n",
      "32 Edwin St https://www.domain.com.au/32-edwin-street-tempe-nsw-2044-2015896056 House Sold prior to auction $1.35m\n",
      "39 Edwin St https://www.domain.com.au/39-edwin-street-tempe-nsw-2044-2015895416 House Sold $1.625m\n",
      "42 Ballandella Rd https://www.domain.com.au/42-ballandella-road-toongabbie-nsw-2146-2015896995 House Sold $1.46m\n",
      "6 Ballandella Rd https://domain.com.au/property-profile/6-ballandella-road-toongabbie-nsw-2146 House Passed in \n",
      "146 Binalong Rd https://www.domain.com.au/146-binalong-road-toongabbie-nsw-2146-2015913588 House Sold prior to auction $820k\n",
      "53 Hurley St https://www.domain.com.au/53-hurley-street-toongabbie-nsw-2146-2015895470 House Sold $1.12m\n",
      "32 Trentino Rd https://www.domain.com.au/32-trentino-road-turramurra-nsw-2074-2015876223 House Sold $2.402m\n",
      "64/344 Bulwara Rd https://www.domain.com.au/64-344-bulwara-road-ultimo-nsw-2007-2015879760 Unit Sold prior to auction $890k\n",
      "1 Edgecliff Rd https://www.domain.com.au/1-edgecliff-road-umina-beach-nsw-2257-2015884080 House Passed in \n",
      "36 Bowaga Cct https://www.domain.com.au/36-bowaga-circuit-villawood-nsw-2163-2015897865 House Withdrawn \n",
      "45 Koonoona Av https://www.domain.com.au/45-koonoona-ave-villawood-nsw-2163-2015902470 House Withdrawn \n",
      "6 Voyager St https://domain.com.au/property-profile/6-voyager-street-wadalba-nsw-2259 House Sold prior to auction Price withheld\n",
      "7 Macleay Av https://www.domain.com.au/7-macleay-avenue-wahroonga-nsw-2076-2015901288 House Sold prior to auction $2.25m\n",
      "206/2C Munderah St https://www.domain.com.au/206-2c-munderah-street-wahroonga-nsw-2076-2015892873 Unit Sold prior to auction $842k\n",
      "14 Park La https://www.domain.com.au/14-park-lane-wahroonga-nsw-2076-2015917870 House Sold $1.43m\n",
      "G12/3-11 Orara St https://www.domain.com.au/g12-3-11-orara-street-waitara-nsw-2077-2015896297 Unit Passed in \n",
      "4 Pheasant Pl https://www.domain.com.au/4-pheasant-place-warriewood-nsw-2102-2015833113 House Sold prior to auction $1.35m\n",
      "5/3-5 Browne Pde https://www.domain.com.au/5-3-5-browne-parade-warwick-farm-nsw-2170-2015884158 Unit Sold Price withheld\n",
      "11 Tripp St https://www.domain.com.au/11-tripp-place-warwick-farm-nsw-2170-2015873372 House Sold $905k\n",
      "253/782-822 Bourke St https://www.domain.com.au/253-806-bourke-street-waterloo-nsw-2017-2015884028 Unit Sold prior to auction Price withheld\n",
      "705/41 Hill Rd https://www.domain.com.au/705-41-hill-road-wentworth-point-nsw-2127-2015896824 Unit Sold Price withheld\n",
      "52 Emert St https://www.domain.com.au/52-emert-street-wentworthville-nsw-2145-2015728837 House Sold $778k\n",
      "48 Haig St https://www.domain.com.au/48-haig-street-wentworthville-nsw-2145-2015887602 House Sold $1.352m\n"
     ]
    },
    {
     "name": "stdout",
     "output_type": "stream",
     "text": [
      "59/26-32 Rance Rd https://www.domain.com.au/59-26-32-rance-road-werrington-nsw-2747-2015860796 Villa Passed in \n",
      "11 Bellerive Cl https://www.domain.com.au/11-bellerive-close-west-hoxton-nsw-2171-2015882526 House Sold $1.01m\n",
      "52 Moondarra Dr https://www.domain.com.au/52-moondarra-drive-west-hoxton-nsw-2171-2015886921 House Sold prior to auction Price withheld\n",
      "10 Watling Av https://www.domain.com.au/10-watling-avenue-west-hoxton-nsw-2171-2015909009 House Passed in \n",
      "28 New Farm Rd https://www.domain.com.au/28-new-farm-road-west-pennant-hills-nsw-2125-2015878548 House Sold prior to auction $1.725m\n",
      "14 Wildara Av https://www.domain.com.au/14-wildara-avenue-west-pennant-hills-nsw-2125-2015901757 House Withdrawn \n",
      "6 Moira Av https://www.domain.com.au/6-moira-avenue-west-ryde-nsw-2114-2015895986 House Sold $1.72m\n",
      "880 Victoria Rd https://www.domain.com.au/880-victoria-road-west-ryde-nsw-2114-2015891726 House Sold $1.325m\n",
      "24 Eucalyptus Dr https://www.domain.com.au/24-eucalyptus-drive-westleigh-nsw-2120-2015900674 House Sold prior to auction $1.41m\n",
      "17 Windsor Rd https://www.domain.com.au/17-windsor-road-willoughby-nsw-2068-2015894576 House Sold prior to auction $2.535m\n",
      "1D Hume St https://www.domain.com.au/1d-hume-street-wollstonecraft-nsw-2065-2015898600 Townhouse Sold $1.8m\n",
      "23 Milner Cr https://www.domain.com.au/23-milner-crescent-wollstonecraft-nsw-2065-2015899464 House Sold $2.655m\n",
      "8/8 Morton St https://domain.com.au/property-profile/8-8-10-morton-street-wollstonecraft-nsw-2065 Townhouse Sold prior to auction $1.945m\n",
      "2 James St https://www.domain.com.au/2-james-street-woollahra-nsw-2025-2015895346 Terrace Sold $2.301m\n",
      "1 Dotterel Pl https://www.domain.com.au/1-dotterel-place-woronora-heights-nsw-2233-2015897626 House Sold prior to auction $1.125m\n",
      "22 Spoonbill Av https://www.domain.com.au/22-spoonbill-avenue-woronora-heights-nsw-2233-2015889708 House Sold prior to auction $1.13m\n",
      "22 Anthony St https://www.domain.com.au/22-anthony-street-yagoona-nsw-2199-2015889267 House Sold $795k\n",
      "2/118 Rookwood Rd https://www.domain.com.au/2-118-rookwood-road-yagoona-nsw-2199-2015895978 Townhouse Sold $571.5k\n",
      "39 Wilkins St https://www.domain.com.au/39-wilkins-street-yagoona-nsw-2199-2015887984 House Sold $1.879m\n"
     ]
    }
   ],
   "source": [
    "url = f\"https://www.domain.com.au/auction-results/sydney/\"\n",
    "print(url)\n",
    "resp = requests.get(url)\n",
    "resp.encoding = 'utf-8'\n",
    "soup = BeautifulSoup(resp.text, 'html.parser')\n",
    "\n",
    "for address in soup.select('.css-ymwd1t'):\n",
    "    date = '07/12/2019'\n",
    "    sold_date_list.append(date)\n",
    "\n",
    "\n",
    "    try:\n",
    "        addr = address.select('a')[0].text\n",
    "    except AttributeError:\n",
    "        addr = ''\n",
    "    address_list.append(addr)\n",
    "\n",
    "\n",
    "    try:\n",
    "        href = address.select('a')[0]['href']\n",
    "    except AttributeError:\n",
    "        href = ''\n",
    "    url_list.append(href)\n",
    "\n",
    "\n",
    "    try:   \n",
    "        prop = address.select('span')[0].text\n",
    "    except AttributeError:\n",
    "        prop = ''\n",
    "    prop_type_list.append(prop)\n",
    "\n",
    "    try: \n",
    "        status = address.select('span')[2].text\n",
    "    except AttributeError:\n",
    "        status = ''\n",
    "    status_list.append(status)\n",
    "\n",
    "    try: \n",
    "        price = address.select('span')[3].text\n",
    "    except BaseException:\n",
    "        price = ''\n",
    "    sold_price_list.append(price)\n",
    "\n",
    "\n",
    "\n",
    "    print(addr,href,prop,status,price)\n"
   ]
  },
  {
   "cell_type": "code",
   "execution_count": 7,
   "metadata": {},
   "outputs": [],
   "source": [
    "auction_hist['address'] = address_list\n",
    "auction_hist['prop_type'] = prop_type_list\n",
    "auction_hist['status'] = status_list \n",
    "auction_hist['sold_price'] = sold_price_list\n",
    "auction_hist['url'] = url_list\n",
    "auction_hist['date'] = sold_date_list"
   ]
  },
  {
   "cell_type": "code",
   "execution_count": 9,
   "metadata": {},
   "outputs": [],
   "source": [
    "auction_hist.to_csv('Domain_sold_price_14_12_2019.csv')"
   ]
  },
  {
   "cell_type": "code",
   "execution_count": 24,
   "metadata": {},
   "outputs": [],
   "source": [
    "Domain_auction_price = pd.read_csv('Domain_sold_price_14_12_2019.csv')"
   ]
  },
  {
   "cell_type": "code",
   "execution_count": 25,
   "metadata": {},
   "outputs": [],
   "source": [
    "#去掉sold_price中的Null值和Price withheld\n",
    "#Domain_auction_price = Domain_auction_price[Domain_auction_price.sold_price != 'Price withheld']\n",
    "#Domain_auction_price = Domain_auction_price.dropna(subset=[\"sold_price\"])"
   ]
  },
  {
   "cell_type": "code",
   "execution_count": 26,
   "metadata": {},
   "outputs": [],
   "source": [
    "#去掉prop_type中不是house的值\n",
    "#Domain_auction_price = Domain_auction_price[Domain_auction_price.prop_type != 'Studio']\n",
    "#Domain_auction_price = Domain_auction_price[Domain_auction_price.prop_type != 'Townhouse']\n",
    "#Domain_auction_price = Domain_auction_price[Domain_auction_price.prop_type != 'Unit']\n",
    "#Domain_auction_price = Domain_auction_price[Domain_auction_price.prop_type != 'Villa']"
   ]
  },
  {
   "cell_type": "code",
   "execution_count": 27,
   "metadata": {
    "scrolled": true
   },
   "outputs": [
    {
     "name": "stderr",
     "output_type": "stream",
     "text": [
      "  0%|          | 0/301 [00:00<?, ?it/s]/opt/anaconda3/lib/python3.7/site-packages/ipykernel_launcher.py:6: SettingWithCopyWarning: \n",
      "A value is trying to be set on a copy of a slice from a DataFrame\n",
      "\n",
      "See the caveats in the documentation: http://pandas.pydata.org/pandas-docs/stable/user_guide/indexing.html#returning-a-view-versus-a-copy\n",
      "  \n",
      "/opt/anaconda3/lib/python3.7/site-packages/ipykernel_launcher.py:4: SettingWithCopyWarning: \n",
      "A value is trying to be set on a copy of a slice from a DataFrame\n",
      "\n",
      "See the caveats in the documentation: http://pandas.pydata.org/pandas-docs/stable/user_guide/indexing.html#returning-a-view-versus-a-copy\n",
      "  after removing the cwd from sys.path.\n",
      "100%|██████████| 301/301 [00:00<00:00, 7978.60it/s]\n"
     ]
    }
   ],
   "source": [
    "#把sold_price转换成没有m和k的纯数字格式\n",
    "for i in tqdm(range(len(Domain_auction_price['sold_price']))):\n",
    "    if str(Domain_auction_price['sold_price'][i])[-1] == 'm':\n",
    "        Domain_auction_price['sold_price'][i]=float(str(Domain_auction_price['sold_price'][i])[1:-1])*1000000\n",
    "    else:\n",
    "        Domain_auction_price['sold_price'][i]=float(str(Domain_auction_price['sold_price'][i])[1:-1])*1000"
   ]
  },
  {
   "cell_type": "code",
   "execution_count": 28,
   "metadata": {},
   "outputs": [
    {
     "name": "stderr",
     "output_type": "stream",
     "text": [
      "  0%|          | 0/301 [00:00<?, ?it/s]/opt/anaconda3/lib/python3.7/site-packages/ipykernel_launcher.py:6: SettingWithCopyWarning: \n",
      "A value is trying to be set on a copy of a slice from a DataFrame\n",
      "\n",
      "See the caveats in the documentation: http://pandas.pydata.org/pandas-docs/stable/user_guide/indexing.html#returning-a-view-versus-a-copy\n",
      "  \n",
      "100%|██████████| 301/301 [00:00<00:00, 8551.63it/s]\n"
     ]
    }
   ],
   "source": [
    "#提取post_code\n",
    "Domain_auction_price['post_code']=''\n",
    "for p in tqdm(range(len(Domain_auction_price['url']))):\n",
    "    post = re.search('[23]\\d{3}', str(Domain_auction_price['url'][p]))\n",
    "    post = int(post.group())\n",
    "    Domain_auction_price['post_code'][p] = post"
   ]
  },
  {
   "cell_type": "code",
   "execution_count": 29,
   "metadata": {},
   "outputs": [],
   "source": [
    "road_list = ['STREET', 'AVENUE', 'ROAD', 'DRIVE', 'WAY', 'COURT', 'CIRCUIT', 'CRESCENT', 'PLACE', 'CLOSE', \n",
    "             'PARADE','LANE','BOULEVARDE','GROVE','CIRCLE']"
   ]
  },
  {
   "cell_type": "code",
   "execution_count": 30,
   "metadata": {},
   "outputs": [
    {
     "name": "stderr",
     "output_type": "stream",
     "text": [
      "  0%|          | 0/301 [00:00<?, ?it/s]/opt/anaconda3/lib/python3.7/site-packages/ipykernel_launcher.py:7: SettingWithCopyWarning: \n",
      "A value is trying to be set on a copy of a slice from a DataFrame\n",
      "\n",
      "See the caveats in the documentation: http://pandas.pydata.org/pandas-docs/stable/user_guide/indexing.html#returning-a-view-versus-a-copy\n",
      "  import sys\n",
      "/opt/anaconda3/lib/python3.7/site-packages/ipykernel_launcher.py:8: SettingWithCopyWarning: \n",
      "A value is trying to be set on a copy of a slice from a DataFrame\n",
      "\n",
      "See the caveats in the documentation: http://pandas.pydata.org/pandas-docs/stable/user_guide/indexing.html#returning-a-view-versus-a-copy\n",
      "  \n",
      "100%|██████████| 301/301 [00:00<00:00, 4502.62it/s]\n"
     ]
    }
   ],
   "source": [
    "#提取suburb\n",
    "for i in tqdm(range(len(Domain_auction_price['url']))):\n",
    "    mystring = Domain_auction_price['url'][i].upper()\n",
    "    for keyword in road_list:\n",
    "        befor_keyowrd, keyword, after_keyword = mystring.partition(keyword)\n",
    "        if after_keyword != '':\n",
    "            Domain_auction_price['suburb'][i] = str(re.findall(r\"(\\D*)-NSW-\", after_keyword))[3:-2]\n",
    "            Domain_auction_price['suburb'][i] = Domain_auction_price['suburb'][i].replace('-', ' ')"
   ]
  },
  {
   "cell_type": "code",
   "execution_count": 31,
   "metadata": {},
   "outputs": [
    {
     "data": {
      "text/html": [
       "<div>\n",
       "<style scoped>\n",
       "    .dataframe tbody tr th:only-of-type {\n",
       "        vertical-align: middle;\n",
       "    }\n",
       "\n",
       "    .dataframe tbody tr th {\n",
       "        vertical-align: top;\n",
       "    }\n",
       "\n",
       "    .dataframe thead th {\n",
       "        text-align: right;\n",
       "    }\n",
       "</style>\n",
       "<table border=\"1\" class=\"dataframe\">\n",
       "  <thead>\n",
       "    <tr style=\"text-align: right;\">\n",
       "      <th></th>\n",
       "      <th>Unnamed: 0</th>\n",
       "      <th>date</th>\n",
       "      <th>address</th>\n",
       "      <th>suburb</th>\n",
       "      <th>prop_type</th>\n",
       "      <th>status</th>\n",
       "      <th>sold_price</th>\n",
       "      <th>url</th>\n",
       "      <th>post_code</th>\n",
       "    </tr>\n",
       "  </thead>\n",
       "  <tbody>\n",
       "    <tr>\n",
       "      <td>0</td>\n",
       "      <td>0</td>\n",
       "      <td>14/12/2019</td>\n",
       "      <td>6 Watting St</td>\n",
       "      <td>NaN</td>\n",
       "      <td>House</td>\n",
       "      <td>Sold</td>\n",
       "      <td>950000</td>\n",
       "      <td>https://www.domain.com.au/6-watting-st-abbotsb...</td>\n",
       "      <td>2176</td>\n",
       "    </tr>\n",
       "    <tr>\n",
       "      <td>1</td>\n",
       "      <td>1</td>\n",
       "      <td>14/12/2019</td>\n",
       "      <td>56 Abbotsford Pde</td>\n",
       "      <td>ABBOTSFORD</td>\n",
       "      <td>Semi</td>\n",
       "      <td>Sold</td>\n",
       "      <td>1.69e+06</td>\n",
       "      <td>https://www.domain.com.au/56-abbotsford-parade...</td>\n",
       "      <td>2046</td>\n",
       "    </tr>\n",
       "    <tr>\n",
       "      <td>2</td>\n",
       "      <td>2</td>\n",
       "      <td>14/12/2019</td>\n",
       "      <td>41/25 Birmingham St</td>\n",
       "      <td>ALEXANDRIA</td>\n",
       "      <td>Unit</td>\n",
       "      <td>Sold</td>\n",
       "      <td>882000</td>\n",
       "      <td>https://www.domain.com.au/41-25-birmingham-str...</td>\n",
       "      <td>2015</td>\n",
       "    </tr>\n",
       "    <tr>\n",
       "      <td>3</td>\n",
       "      <td>3</td>\n",
       "      <td>14/12/2019</td>\n",
       "      <td>C426/2-6 Mandible St</td>\n",
       "      <td>ALEXANDRIA</td>\n",
       "      <td>Unit</td>\n",
       "      <td>Sold</td>\n",
       "      <td>482000</td>\n",
       "      <td>https://www.domain.com.au/c426-2-6-mandible-st...</td>\n",
       "      <td>2015</td>\n",
       "    </tr>\n",
       "    <tr>\n",
       "      <td>4</td>\n",
       "      <td>4</td>\n",
       "      <td>14/12/2019</td>\n",
       "      <td>M207/68 McEvoy St</td>\n",
       "      <td>ALEXANDRIA</td>\n",
       "      <td>Unit</td>\n",
       "      <td>Sold prior to auction</td>\n",
       "      <td>820000</td>\n",
       "      <td>https://www.domain.com.au/m207-68-mcevoy-stree...</td>\n",
       "      <td>2015</td>\n",
       "    </tr>\n",
       "    <tr>\n",
       "      <td>...</td>\n",
       "      <td>...</td>\n",
       "      <td>...</td>\n",
       "      <td>...</td>\n",
       "      <td>...</td>\n",
       "      <td>...</td>\n",
       "      <td>...</td>\n",
       "      <td>...</td>\n",
       "      <td>...</td>\n",
       "      <td>...</td>\n",
       "    </tr>\n",
       "    <tr>\n",
       "      <td>296</td>\n",
       "      <td>404</td>\n",
       "      <td>14/12/2019</td>\n",
       "      <td>1 Dotterel Pl</td>\n",
       "      <td>WORONORA HEIGHTS</td>\n",
       "      <td>House</td>\n",
       "      <td>Sold prior to auction</td>\n",
       "      <td>1.125e+06</td>\n",
       "      <td>https://www.domain.com.au/1-dotterel-place-wor...</td>\n",
       "      <td>2233</td>\n",
       "    </tr>\n",
       "    <tr>\n",
       "      <td>297</td>\n",
       "      <td>405</td>\n",
       "      <td>14/12/2019</td>\n",
       "      <td>22 Spoonbill Av</td>\n",
       "      <td>WORONORA HEIGHTS</td>\n",
       "      <td>House</td>\n",
       "      <td>Sold prior to auction</td>\n",
       "      <td>1.13e+06</td>\n",
       "      <td>https://www.domain.com.au/22-spoonbill-avenue-...</td>\n",
       "      <td>2233</td>\n",
       "    </tr>\n",
       "    <tr>\n",
       "      <td>298</td>\n",
       "      <td>406</td>\n",
       "      <td>14/12/2019</td>\n",
       "      <td>22 Anthony St</td>\n",
       "      <td>YAGOONA</td>\n",
       "      <td>House</td>\n",
       "      <td>Sold</td>\n",
       "      <td>795000</td>\n",
       "      <td>https://www.domain.com.au/22-anthony-street-ya...</td>\n",
       "      <td>2199</td>\n",
       "    </tr>\n",
       "    <tr>\n",
       "      <td>299</td>\n",
       "      <td>407</td>\n",
       "      <td>14/12/2019</td>\n",
       "      <td>2/118 Rookwood Rd</td>\n",
       "      <td>YAGOONA</td>\n",
       "      <td>Townhouse</td>\n",
       "      <td>Sold</td>\n",
       "      <td>571500</td>\n",
       "      <td>https://www.domain.com.au/2-118-rookwood-road-...</td>\n",
       "      <td>2199</td>\n",
       "    </tr>\n",
       "    <tr>\n",
       "      <td>300</td>\n",
       "      <td>408</td>\n",
       "      <td>14/12/2019</td>\n",
       "      <td>39 Wilkins St</td>\n",
       "      <td>YAGOONA</td>\n",
       "      <td>House</td>\n",
       "      <td>Sold</td>\n",
       "      <td>1.879e+06</td>\n",
       "      <td>https://www.domain.com.au/39-wilkins-street-ya...</td>\n",
       "      <td>2199</td>\n",
       "    </tr>\n",
       "  </tbody>\n",
       "</table>\n",
       "<p>301 rows × 9 columns</p>\n",
       "</div>"
      ],
      "text/plain": [
       "     Unnamed: 0        date               address            suburb  \\\n",
       "0             0  14/12/2019          6 Watting St               NaN   \n",
       "1             1  14/12/2019     56 Abbotsford Pde        ABBOTSFORD   \n",
       "2             2  14/12/2019   41/25 Birmingham St        ALEXANDRIA   \n",
       "3             3  14/12/2019  C426/2-6 Mandible St        ALEXANDRIA   \n",
       "4             4  14/12/2019     M207/68 McEvoy St        ALEXANDRIA   \n",
       "..          ...         ...                   ...               ...   \n",
       "296         404  14/12/2019         1 Dotterel Pl  WORONORA HEIGHTS   \n",
       "297         405  14/12/2019       22 Spoonbill Av  WORONORA HEIGHTS   \n",
       "298         406  14/12/2019         22 Anthony St           YAGOONA   \n",
       "299         407  14/12/2019     2/118 Rookwood Rd           YAGOONA   \n",
       "300         408  14/12/2019         39 Wilkins St           YAGOONA   \n",
       "\n",
       "     prop_type                 status sold_price  \\\n",
       "0        House                   Sold     950000   \n",
       "1         Semi                   Sold   1.69e+06   \n",
       "2         Unit                   Sold     882000   \n",
       "3         Unit                   Sold     482000   \n",
       "4         Unit  Sold prior to auction     820000   \n",
       "..         ...                    ...        ...   \n",
       "296      House  Sold prior to auction  1.125e+06   \n",
       "297      House  Sold prior to auction   1.13e+06   \n",
       "298      House                   Sold     795000   \n",
       "299  Townhouse                   Sold     571500   \n",
       "300      House                   Sold  1.879e+06   \n",
       "\n",
       "                                                   url post_code  \n",
       "0    https://www.domain.com.au/6-watting-st-abbotsb...      2176  \n",
       "1    https://www.domain.com.au/56-abbotsford-parade...      2046  \n",
       "2    https://www.domain.com.au/41-25-birmingham-str...      2015  \n",
       "3    https://www.domain.com.au/c426-2-6-mandible-st...      2015  \n",
       "4    https://www.domain.com.au/m207-68-mcevoy-stree...      2015  \n",
       "..                                                 ...       ...  \n",
       "296  https://www.domain.com.au/1-dotterel-place-wor...      2233  \n",
       "297  https://www.domain.com.au/22-spoonbill-avenue-...      2233  \n",
       "298  https://www.domain.com.au/22-anthony-street-ya...      2199  \n",
       "299  https://www.domain.com.au/2-118-rookwood-road-...      2199  \n",
       "300  https://www.domain.com.au/39-wilkins-street-ya...      2199  \n",
       "\n",
       "[301 rows x 9 columns]"
      ]
     },
     "execution_count": 31,
     "metadata": {},
     "output_type": "execute_result"
    }
   ],
   "source": [
    "Domain_auction_price"
   ]
  },
  {
   "cell_type": "code",
   "execution_count": 32,
   "metadata": {},
   "outputs": [
    {
     "name": "stderr",
     "output_type": "stream",
     "text": [
      "  0%|          | 0/301 [00:00<?, ?it/s]/opt/anaconda3/lib/python3.7/site-packages/ipykernel_launcher.py:3: SettingWithCopyWarning: \n",
      "A value is trying to be set on a copy of a slice from a DataFrame\n",
      "\n",
      "See the caveats in the documentation: http://pandas.pydata.org/pandas-docs/stable/user_guide/indexing.html#returning-a-view-versus-a-copy\n",
      "  This is separate from the ipykernel package so we can avoid doing imports until\n",
      "100%|██████████| 301/301 [00:00<00:00, 6823.07it/s]\n"
     ]
    }
   ],
   "source": [
    "Domain_auction_price['address_for_api'] =''\n",
    "for i in tqdm(range(len(Domain_auction_price['address_for_api']))):\n",
    "    Domain_auction_price['address_for_api'][i] = str(Domain_auction_price['address'][i])+', '+str(Domain_auction_price['suburb'][i])+' NSW '+ str(Domain_auction_price['post_code'][i])"
   ]
  },
  {
   "cell_type": "code",
   "execution_count": 33,
   "metadata": {},
   "outputs": [
    {
     "name": "stderr",
     "output_type": "stream",
     "text": [
      "  0%|          | 0/301 [00:00<?, ?it/s]/opt/anaconda3/lib/python3.7/site-packages/ipykernel_launcher.py:2: SettingWithCopyWarning: \n",
      "A value is trying to be set on a copy of a slice from a DataFrame\n",
      "\n",
      "See the caveats in the documentation: http://pandas.pydata.org/pandas-docs/stable/user_guide/indexing.html#returning-a-view-versus-a-copy\n",
      "  \n",
      "100%|██████████| 301/301 [00:00<00:00, 9457.67it/s]\n"
     ]
    }
   ],
   "source": [
    "for i in tqdm(range(len(Domain_auction_price['address_for_api']))):\n",
    "    Domain_auction_price['address_for_api'][i] = Domain_auction_price['address_for_api'][i].replace(' ', '+')"
   ]
  },
  {
   "cell_type": "code",
   "execution_count": 34,
   "metadata": {},
   "outputs": [
    {
     "data": {
      "text/html": [
       "<div>\n",
       "<style scoped>\n",
       "    .dataframe tbody tr th:only-of-type {\n",
       "        vertical-align: middle;\n",
       "    }\n",
       "\n",
       "    .dataframe tbody tr th {\n",
       "        vertical-align: top;\n",
       "    }\n",
       "\n",
       "    .dataframe thead th {\n",
       "        text-align: right;\n",
       "    }\n",
       "</style>\n",
       "<table border=\"1\" class=\"dataframe\">\n",
       "  <thead>\n",
       "    <tr style=\"text-align: right;\">\n",
       "      <th></th>\n",
       "      <th>Unnamed: 0</th>\n",
       "      <th>date</th>\n",
       "      <th>address</th>\n",
       "      <th>suburb</th>\n",
       "      <th>prop_type</th>\n",
       "      <th>status</th>\n",
       "      <th>sold_price</th>\n",
       "      <th>url</th>\n",
       "      <th>post_code</th>\n",
       "      <th>address_for_api</th>\n",
       "    </tr>\n",
       "  </thead>\n",
       "  <tbody>\n",
       "    <tr>\n",
       "      <td>0</td>\n",
       "      <td>0</td>\n",
       "      <td>14/12/2019</td>\n",
       "      <td>6 Watting St</td>\n",
       "      <td>NaN</td>\n",
       "      <td>House</td>\n",
       "      <td>Sold</td>\n",
       "      <td>950000</td>\n",
       "      <td>https://www.domain.com.au/6-watting-st-abbotsb...</td>\n",
       "      <td>2176</td>\n",
       "      <td>6+Watting+St,+nan+NSW+2176</td>\n",
       "    </tr>\n",
       "    <tr>\n",
       "      <td>1</td>\n",
       "      <td>1</td>\n",
       "      <td>14/12/2019</td>\n",
       "      <td>56 Abbotsford Pde</td>\n",
       "      <td>ABBOTSFORD</td>\n",
       "      <td>Semi</td>\n",
       "      <td>Sold</td>\n",
       "      <td>1.69e+06</td>\n",
       "      <td>https://www.domain.com.au/56-abbotsford-parade...</td>\n",
       "      <td>2046</td>\n",
       "      <td>56+Abbotsford+Pde,+ABBOTSFORD+NSW+2046</td>\n",
       "    </tr>\n",
       "    <tr>\n",
       "      <td>2</td>\n",
       "      <td>2</td>\n",
       "      <td>14/12/2019</td>\n",
       "      <td>41/25 Birmingham St</td>\n",
       "      <td>ALEXANDRIA</td>\n",
       "      <td>Unit</td>\n",
       "      <td>Sold</td>\n",
       "      <td>882000</td>\n",
       "      <td>https://www.domain.com.au/41-25-birmingham-str...</td>\n",
       "      <td>2015</td>\n",
       "      <td>41/25+Birmingham+St,+ALEXANDRIA+NSW+2015</td>\n",
       "    </tr>\n",
       "    <tr>\n",
       "      <td>3</td>\n",
       "      <td>3</td>\n",
       "      <td>14/12/2019</td>\n",
       "      <td>C426/2-6 Mandible St</td>\n",
       "      <td>ALEXANDRIA</td>\n",
       "      <td>Unit</td>\n",
       "      <td>Sold</td>\n",
       "      <td>482000</td>\n",
       "      <td>https://www.domain.com.au/c426-2-6-mandible-st...</td>\n",
       "      <td>2015</td>\n",
       "      <td>C426/2-6+Mandible+St,+ALEXANDRIA+NSW+2015</td>\n",
       "    </tr>\n",
       "    <tr>\n",
       "      <td>4</td>\n",
       "      <td>4</td>\n",
       "      <td>14/12/2019</td>\n",
       "      <td>M207/68 McEvoy St</td>\n",
       "      <td>ALEXANDRIA</td>\n",
       "      <td>Unit</td>\n",
       "      <td>Sold prior to auction</td>\n",
       "      <td>820000</td>\n",
       "      <td>https://www.domain.com.au/m207-68-mcevoy-stree...</td>\n",
       "      <td>2015</td>\n",
       "      <td>M207/68+McEvoy+St,+ALEXANDRIA+NSW+2015</td>\n",
       "    </tr>\n",
       "    <tr>\n",
       "      <td>...</td>\n",
       "      <td>...</td>\n",
       "      <td>...</td>\n",
       "      <td>...</td>\n",
       "      <td>...</td>\n",
       "      <td>...</td>\n",
       "      <td>...</td>\n",
       "      <td>...</td>\n",
       "      <td>...</td>\n",
       "      <td>...</td>\n",
       "      <td>...</td>\n",
       "    </tr>\n",
       "    <tr>\n",
       "      <td>296</td>\n",
       "      <td>404</td>\n",
       "      <td>14/12/2019</td>\n",
       "      <td>1 Dotterel Pl</td>\n",
       "      <td>WORONORA HEIGHTS</td>\n",
       "      <td>House</td>\n",
       "      <td>Sold prior to auction</td>\n",
       "      <td>1.125e+06</td>\n",
       "      <td>https://www.domain.com.au/1-dotterel-place-wor...</td>\n",
       "      <td>2233</td>\n",
       "      <td>1+Dotterel+Pl,+WORONORA+HEIGHTS+NSW+2233</td>\n",
       "    </tr>\n",
       "    <tr>\n",
       "      <td>297</td>\n",
       "      <td>405</td>\n",
       "      <td>14/12/2019</td>\n",
       "      <td>22 Spoonbill Av</td>\n",
       "      <td>WORONORA HEIGHTS</td>\n",
       "      <td>House</td>\n",
       "      <td>Sold prior to auction</td>\n",
       "      <td>1.13e+06</td>\n",
       "      <td>https://www.domain.com.au/22-spoonbill-avenue-...</td>\n",
       "      <td>2233</td>\n",
       "      <td>22+Spoonbill+Av,+WORONORA+HEIGHTS+NSW+2233</td>\n",
       "    </tr>\n",
       "    <tr>\n",
       "      <td>298</td>\n",
       "      <td>406</td>\n",
       "      <td>14/12/2019</td>\n",
       "      <td>22 Anthony St</td>\n",
       "      <td>YAGOONA</td>\n",
       "      <td>House</td>\n",
       "      <td>Sold</td>\n",
       "      <td>795000</td>\n",
       "      <td>https://www.domain.com.au/22-anthony-street-ya...</td>\n",
       "      <td>2199</td>\n",
       "      <td>22+Anthony+St,+YAGOONA+NSW+2199</td>\n",
       "    </tr>\n",
       "    <tr>\n",
       "      <td>299</td>\n",
       "      <td>407</td>\n",
       "      <td>14/12/2019</td>\n",
       "      <td>2/118 Rookwood Rd</td>\n",
       "      <td>YAGOONA</td>\n",
       "      <td>Townhouse</td>\n",
       "      <td>Sold</td>\n",
       "      <td>571500</td>\n",
       "      <td>https://www.domain.com.au/2-118-rookwood-road-...</td>\n",
       "      <td>2199</td>\n",
       "      <td>2/118+Rookwood+Rd,+YAGOONA+NSW+2199</td>\n",
       "    </tr>\n",
       "    <tr>\n",
       "      <td>300</td>\n",
       "      <td>408</td>\n",
       "      <td>14/12/2019</td>\n",
       "      <td>39 Wilkins St</td>\n",
       "      <td>YAGOONA</td>\n",
       "      <td>House</td>\n",
       "      <td>Sold</td>\n",
       "      <td>1.879e+06</td>\n",
       "      <td>https://www.domain.com.au/39-wilkins-street-ya...</td>\n",
       "      <td>2199</td>\n",
       "      <td>39+Wilkins+St,+YAGOONA+NSW+2199</td>\n",
       "    </tr>\n",
       "  </tbody>\n",
       "</table>\n",
       "<p>301 rows × 10 columns</p>\n",
       "</div>"
      ],
      "text/plain": [
       "     Unnamed: 0        date               address            suburb  \\\n",
       "0             0  14/12/2019          6 Watting St               NaN   \n",
       "1             1  14/12/2019     56 Abbotsford Pde        ABBOTSFORD   \n",
       "2             2  14/12/2019   41/25 Birmingham St        ALEXANDRIA   \n",
       "3             3  14/12/2019  C426/2-6 Mandible St        ALEXANDRIA   \n",
       "4             4  14/12/2019     M207/68 McEvoy St        ALEXANDRIA   \n",
       "..          ...         ...                   ...               ...   \n",
       "296         404  14/12/2019         1 Dotterel Pl  WORONORA HEIGHTS   \n",
       "297         405  14/12/2019       22 Spoonbill Av  WORONORA HEIGHTS   \n",
       "298         406  14/12/2019         22 Anthony St           YAGOONA   \n",
       "299         407  14/12/2019     2/118 Rookwood Rd           YAGOONA   \n",
       "300         408  14/12/2019         39 Wilkins St           YAGOONA   \n",
       "\n",
       "     prop_type                 status sold_price  \\\n",
       "0        House                   Sold     950000   \n",
       "1         Semi                   Sold   1.69e+06   \n",
       "2         Unit                   Sold     882000   \n",
       "3         Unit                   Sold     482000   \n",
       "4         Unit  Sold prior to auction     820000   \n",
       "..         ...                    ...        ...   \n",
       "296      House  Sold prior to auction  1.125e+06   \n",
       "297      House  Sold prior to auction   1.13e+06   \n",
       "298      House                   Sold     795000   \n",
       "299  Townhouse                   Sold     571500   \n",
       "300      House                   Sold  1.879e+06   \n",
       "\n",
       "                                                   url post_code  \\\n",
       "0    https://www.domain.com.au/6-watting-st-abbotsb...      2176   \n",
       "1    https://www.domain.com.au/56-abbotsford-parade...      2046   \n",
       "2    https://www.domain.com.au/41-25-birmingham-str...      2015   \n",
       "3    https://www.domain.com.au/c426-2-6-mandible-st...      2015   \n",
       "4    https://www.domain.com.au/m207-68-mcevoy-stree...      2015   \n",
       "..                                                 ...       ...   \n",
       "296  https://www.domain.com.au/1-dotterel-place-wor...      2233   \n",
       "297  https://www.domain.com.au/22-spoonbill-avenue-...      2233   \n",
       "298  https://www.domain.com.au/22-anthony-street-ya...      2199   \n",
       "299  https://www.domain.com.au/2-118-rookwood-road-...      2199   \n",
       "300  https://www.domain.com.au/39-wilkins-street-ya...      2199   \n",
       "\n",
       "                                address_for_api  \n",
       "0                    6+Watting+St,+nan+NSW+2176  \n",
       "1        56+Abbotsford+Pde,+ABBOTSFORD+NSW+2046  \n",
       "2      41/25+Birmingham+St,+ALEXANDRIA+NSW+2015  \n",
       "3     C426/2-6+Mandible+St,+ALEXANDRIA+NSW+2015  \n",
       "4        M207/68+McEvoy+St,+ALEXANDRIA+NSW+2015  \n",
       "..                                          ...  \n",
       "296    1+Dotterel+Pl,+WORONORA+HEIGHTS+NSW+2233  \n",
       "297  22+Spoonbill+Av,+WORONORA+HEIGHTS+NSW+2233  \n",
       "298             22+Anthony+St,+YAGOONA+NSW+2199  \n",
       "299         2/118+Rookwood+Rd,+YAGOONA+NSW+2199  \n",
       "300             39+Wilkins+St,+YAGOONA+NSW+2199  \n",
       "\n",
       "[301 rows x 10 columns]"
      ]
     },
     "execution_count": 34,
     "metadata": {},
     "output_type": "execute_result"
    }
   ],
   "source": [
    "Domain_auction_price"
   ]
  },
  {
   "cell_type": "code",
   "execution_count": 35,
   "metadata": {},
   "outputs": [
    {
     "name": "stderr",
     "output_type": "stream",
     "text": [
      "  0%|          | 0/301 [00:00<?, ?it/s]/opt/anaconda3/lib/python3.7/site-packages/ipykernel_launcher.py:8: SettingWithCopyWarning: \n",
      "A value is trying to be set on a copy of a slice from a DataFrame\n",
      "\n",
      "See the caveats in the documentation: http://pandas.pydata.org/pandas-docs/stable/user_guide/indexing.html#returning-a-view-versus-a-copy\n",
      "  \n",
      "  2%|▏         | 5/301 [00:00<00:15, 18.99it/s]"
     ]
    },
    {
     "name": "stdout",
     "output_type": "stream",
     "text": [
      "1 6 WATTING ST, NAN NSW 2176\n",
      "2 56 ABBOTSFORD PDE, ABBOTSFORD NSW 2046\n",
      "3 41/25 BIRMINGHAM ST, ALEXANDRIA NSW 2015\n",
      "4 C426/2 MANDIBLE ST, ALEXANDRIA NSW 2015\n",
      "5 M207/68 MCEVOY ST, ALEXANDRIA NSW 2015\n"
     ]
    },
    {
     "name": "stderr",
     "output_type": "stream",
     "text": [
      "  4%|▎         | 11/301 [00:00<00:13, 21.84it/s]"
     ]
    },
    {
     "name": "stdout",
     "output_type": "stream",
     "text": [
      "6 10 HIBISCUS CL, ALFORDS POINT NSW 2234\n",
      "7 4 MAROA CRES, ALLAMBIE HEIGHTS NSW 2100\n",
      "8 1 AVENAL ST, ARNCLIFFE NSW 2205\n",
      "9 21 DUNCAN ST, ARNCLIFFE NSW 2205\n",
      "10 48 HANKS ST, ASHBURY NSW 2193\n",
      "11 284 CHISHOLM RD, AUBURN NSW 2144\n"
     ]
    },
    {
     "name": "stderr",
     "output_type": "stream",
     "text": [
      "  6%|▌         | 17/301 [00:00<00:11, 23.87it/s]"
     ]
    },
    {
     "name": "stdout",
     "output_type": "stream",
     "text": [
      "12 13 WELLINGTON RD, AUBURN NSW 2144\n",
      "13 74 HILLSIDE RD, AVOCA BEACH NSW 2251\n",
      "14 8/52 MENAI RD, BANGOR NSW 2234\n",
      "15 9 COOLOCK CRES, BAULKHAM HILLS NSW 2153\n",
      "16 9 MARCEL PL, BAULKHAM HILLS NSW 2153\n",
      "17 4 TEMPLETON CRES, BAULKHAM HILLS NSW 2153\n"
     ]
    },
    {
     "name": "stderr",
     "output_type": "stream",
     "text": [
      "\r",
      "  7%|▋         | 20/301 [00:00<00:11, 24.04it/s]"
     ]
    },
    {
     "name": "stdout",
     "output_type": "stream",
     "text": [
      "18 6 WITONGA CRES, BAULKHAM HILLS NSW 2153\n",
      "19 35 KOKODA CRES, BEACON HILL NSW 2100\n",
      "20 151 VICTORIA ST, BEACONSFIELD NSW 2015\n",
      "21 3 BLACKWOOD CL, BEECROFT NSW 2119\n",
      "22 4/33 BALFOUR RD, BELLEVUE HILL NSW 2023\n"
     ]
    },
    {
     "name": "stderr",
     "output_type": "stream",
     "text": [
      "  9%|▊         | 26/301 [00:01<00:11, 23.99it/s]"
     ]
    },
    {
     "name": "stdout",
     "output_type": "stream",
     "text": [
      "23 7 STIRLING PL, BELROSE NSW 2085\n",
      "24 76 FOURTH AVE, BERALA NSW 2141\n",
      "25 34 HILLCREST RD, BEROWRA NSW 2081\n",
      "26 25 MERCURY ST, BEVERLY HILLS NSW 2209\n",
      "27 23 ABERCORN ST, BEXLEY NSW 2207\n"
     ]
    },
    {
     "name": "stderr",
     "output_type": "stream",
     "text": [
      " 10%|▉         | 29/301 [00:01<00:12, 22.01it/s]"
     ]
    },
    {
     "name": "stdout",
     "output_type": "stream",
     "text": [
      "28 3/71 QUEEN VICTORIA ST, BEXLEY NSW 2207\n",
      "29 40 ST GEORGES RD, BEXLEY NSW 2207\n",
      "30 44 STONEY CREEK RD, BEXLEY NSW 2207\n",
      "31 4 VIVIAN ST, BEXLEY NSW 2207\n"
     ]
    },
    {
     "name": "stderr",
     "output_type": "stream",
     "text": [
      "\n"
     ]
    },
    {
     "ename": "JSONDecodeError",
     "evalue": "Expecting value: line 1 column 1 (char 0)",
     "output_type": "error",
     "traceback": [
      "\u001b[0;31m---------------------------------------------------------------------------\u001b[0m",
      "\u001b[0;31mJSONDecodeError\u001b[0m                           Traceback (most recent call last)",
      "\u001b[0;32m<ipython-input-35-0e4104a5ec7d>\u001b[0m in \u001b[0;36m<module>\u001b[0;34m\u001b[0m\n\u001b[1;32m      5\u001b[0m     \u001b[0murl\u001b[0m \u001b[0;34m=\u001b[0m \u001b[0;34mf\"https://ab.api.aihouse.io/ParseAddress?addr={Domain_auction_price['address_for_api'][i]}\"\u001b[0m\u001b[0;34m\u001b[0m\u001b[0;34m\u001b[0m\u001b[0m\n\u001b[1;32m      6\u001b[0m     \u001b[0mresp\u001b[0m \u001b[0;34m=\u001b[0m \u001b[0mrequests\u001b[0m\u001b[0;34m.\u001b[0m\u001b[0mget\u001b[0m\u001b[0;34m(\u001b[0m\u001b[0murl\u001b[0m\u001b[0;34m)\u001b[0m\u001b[0;34m\u001b[0m\u001b[0;34m\u001b[0m\u001b[0m\n\u001b[0;32m----> 7\u001b[0;31m     \u001b[0mresponse_dict\u001b[0m \u001b[0;34m=\u001b[0m \u001b[0mresp\u001b[0m\u001b[0;34m.\u001b[0m\u001b[0mjson\u001b[0m\u001b[0;34m(\u001b[0m\u001b[0;34m)\u001b[0m\u001b[0;34m\u001b[0m\u001b[0;34m\u001b[0m\u001b[0m\n\u001b[0m\u001b[1;32m      8\u001b[0m     \u001b[0mDomain_auction_price\u001b[0m\u001b[0;34m[\u001b[0m\u001b[0;34m'address_from_api'\u001b[0m\u001b[0;34m]\u001b[0m\u001b[0;34m[\u001b[0m\u001b[0mi\u001b[0m\u001b[0;34m]\u001b[0m \u001b[0;34m=\u001b[0m \u001b[0mresponse_dict\u001b[0m\u001b[0;34m[\u001b[0m\u001b[0;34m'std_address'\u001b[0m\u001b[0;34m]\u001b[0m\u001b[0;34m\u001b[0m\u001b[0;34m\u001b[0m\u001b[0m\n\u001b[1;32m      9\u001b[0m     \u001b[0mprint\u001b[0m\u001b[0;34m(\u001b[0m\u001b[0mn\u001b[0m\u001b[0;34m,\u001b[0m\u001b[0mresponse_dict\u001b[0m\u001b[0;34m[\u001b[0m\u001b[0;34m'std_address'\u001b[0m\u001b[0;34m]\u001b[0m\u001b[0;34m)\u001b[0m\u001b[0;34m\u001b[0m\u001b[0;34m\u001b[0m\u001b[0m\n",
      "\u001b[0;32m/opt/anaconda3/lib/python3.7/site-packages/requests/models.py\u001b[0m in \u001b[0;36mjson\u001b[0;34m(self, **kwargs)\u001b[0m\n\u001b[1;32m    887\u001b[0m                 \u001b[0;32mtry\u001b[0m\u001b[0;34m:\u001b[0m\u001b[0;34m\u001b[0m\u001b[0;34m\u001b[0m\u001b[0m\n\u001b[1;32m    888\u001b[0m                     return complexjson.loads(\n\u001b[0;32m--> 889\u001b[0;31m                         \u001b[0mself\u001b[0m\u001b[0;34m.\u001b[0m\u001b[0mcontent\u001b[0m\u001b[0;34m.\u001b[0m\u001b[0mdecode\u001b[0m\u001b[0;34m(\u001b[0m\u001b[0mencoding\u001b[0m\u001b[0;34m)\u001b[0m\u001b[0;34m,\u001b[0m \u001b[0;34m**\u001b[0m\u001b[0mkwargs\u001b[0m\u001b[0;34m\u001b[0m\u001b[0;34m\u001b[0m\u001b[0m\n\u001b[0m\u001b[1;32m    890\u001b[0m                     )\n\u001b[1;32m    891\u001b[0m                 \u001b[0;32mexcept\u001b[0m \u001b[0mUnicodeDecodeError\u001b[0m\u001b[0;34m:\u001b[0m\u001b[0;34m\u001b[0m\u001b[0;34m\u001b[0m\u001b[0m\n",
      "\u001b[0;32m/opt/anaconda3/lib/python3.7/json/__init__.py\u001b[0m in \u001b[0;36mloads\u001b[0;34m(s, encoding, cls, object_hook, parse_float, parse_int, parse_constant, object_pairs_hook, **kw)\u001b[0m\n\u001b[1;32m    346\u001b[0m             \u001b[0mparse_int\u001b[0m \u001b[0;32mis\u001b[0m \u001b[0;32mNone\u001b[0m \u001b[0;32mand\u001b[0m \u001b[0mparse_float\u001b[0m \u001b[0;32mis\u001b[0m \u001b[0;32mNone\u001b[0m \u001b[0;32mand\u001b[0m\u001b[0;34m\u001b[0m\u001b[0;34m\u001b[0m\u001b[0m\n\u001b[1;32m    347\u001b[0m             parse_constant is None and object_pairs_hook is None and not kw):\n\u001b[0;32m--> 348\u001b[0;31m         \u001b[0;32mreturn\u001b[0m \u001b[0m_default_decoder\u001b[0m\u001b[0;34m.\u001b[0m\u001b[0mdecode\u001b[0m\u001b[0;34m(\u001b[0m\u001b[0ms\u001b[0m\u001b[0;34m)\u001b[0m\u001b[0;34m\u001b[0m\u001b[0;34m\u001b[0m\u001b[0m\n\u001b[0m\u001b[1;32m    349\u001b[0m     \u001b[0;32mif\u001b[0m \u001b[0mcls\u001b[0m \u001b[0;32mis\u001b[0m \u001b[0;32mNone\u001b[0m\u001b[0;34m:\u001b[0m\u001b[0;34m\u001b[0m\u001b[0;34m\u001b[0m\u001b[0m\n\u001b[1;32m    350\u001b[0m         \u001b[0mcls\u001b[0m \u001b[0;34m=\u001b[0m \u001b[0mJSONDecoder\u001b[0m\u001b[0;34m\u001b[0m\u001b[0;34m\u001b[0m\u001b[0m\n",
      "\u001b[0;32m/opt/anaconda3/lib/python3.7/json/decoder.py\u001b[0m in \u001b[0;36mdecode\u001b[0;34m(self, s, _w)\u001b[0m\n\u001b[1;32m    335\u001b[0m \u001b[0;34m\u001b[0m\u001b[0m\n\u001b[1;32m    336\u001b[0m         \"\"\"\n\u001b[0;32m--> 337\u001b[0;31m         \u001b[0mobj\u001b[0m\u001b[0;34m,\u001b[0m \u001b[0mend\u001b[0m \u001b[0;34m=\u001b[0m \u001b[0mself\u001b[0m\u001b[0;34m.\u001b[0m\u001b[0mraw_decode\u001b[0m\u001b[0;34m(\u001b[0m\u001b[0ms\u001b[0m\u001b[0;34m,\u001b[0m \u001b[0midx\u001b[0m\u001b[0;34m=\u001b[0m\u001b[0m_w\u001b[0m\u001b[0;34m(\u001b[0m\u001b[0ms\u001b[0m\u001b[0;34m,\u001b[0m \u001b[0;36m0\u001b[0m\u001b[0;34m)\u001b[0m\u001b[0;34m.\u001b[0m\u001b[0mend\u001b[0m\u001b[0;34m(\u001b[0m\u001b[0;34m)\u001b[0m\u001b[0;34m)\u001b[0m\u001b[0;34m\u001b[0m\u001b[0;34m\u001b[0m\u001b[0m\n\u001b[0m\u001b[1;32m    338\u001b[0m         \u001b[0mend\u001b[0m \u001b[0;34m=\u001b[0m \u001b[0m_w\u001b[0m\u001b[0;34m(\u001b[0m\u001b[0ms\u001b[0m\u001b[0;34m,\u001b[0m \u001b[0mend\u001b[0m\u001b[0;34m)\u001b[0m\u001b[0;34m.\u001b[0m\u001b[0mend\u001b[0m\u001b[0;34m(\u001b[0m\u001b[0;34m)\u001b[0m\u001b[0;34m\u001b[0m\u001b[0;34m\u001b[0m\u001b[0m\n\u001b[1;32m    339\u001b[0m         \u001b[0;32mif\u001b[0m \u001b[0mend\u001b[0m \u001b[0;34m!=\u001b[0m \u001b[0mlen\u001b[0m\u001b[0;34m(\u001b[0m\u001b[0ms\u001b[0m\u001b[0;34m)\u001b[0m\u001b[0;34m:\u001b[0m\u001b[0;34m\u001b[0m\u001b[0;34m\u001b[0m\u001b[0m\n",
      "\u001b[0;32m/opt/anaconda3/lib/python3.7/json/decoder.py\u001b[0m in \u001b[0;36mraw_decode\u001b[0;34m(self, s, idx)\u001b[0m\n\u001b[1;32m    353\u001b[0m             \u001b[0mobj\u001b[0m\u001b[0;34m,\u001b[0m \u001b[0mend\u001b[0m \u001b[0;34m=\u001b[0m \u001b[0mself\u001b[0m\u001b[0;34m.\u001b[0m\u001b[0mscan_once\u001b[0m\u001b[0;34m(\u001b[0m\u001b[0ms\u001b[0m\u001b[0;34m,\u001b[0m \u001b[0midx\u001b[0m\u001b[0;34m)\u001b[0m\u001b[0;34m\u001b[0m\u001b[0;34m\u001b[0m\u001b[0m\n\u001b[1;32m    354\u001b[0m         \u001b[0;32mexcept\u001b[0m \u001b[0mStopIteration\u001b[0m \u001b[0;32mas\u001b[0m \u001b[0merr\u001b[0m\u001b[0;34m:\u001b[0m\u001b[0;34m\u001b[0m\u001b[0;34m\u001b[0m\u001b[0m\n\u001b[0;32m--> 355\u001b[0;31m             \u001b[0;32mraise\u001b[0m \u001b[0mJSONDecodeError\u001b[0m\u001b[0;34m(\u001b[0m\u001b[0;34m\"Expecting value\"\u001b[0m\u001b[0;34m,\u001b[0m \u001b[0ms\u001b[0m\u001b[0;34m,\u001b[0m \u001b[0merr\u001b[0m\u001b[0;34m.\u001b[0m\u001b[0mvalue\u001b[0m\u001b[0;34m)\u001b[0m \u001b[0;32mfrom\u001b[0m \u001b[0;32mNone\u001b[0m\u001b[0;34m\u001b[0m\u001b[0;34m\u001b[0m\u001b[0m\n\u001b[0m\u001b[1;32m    356\u001b[0m         \u001b[0;32mreturn\u001b[0m \u001b[0mobj\u001b[0m\u001b[0;34m,\u001b[0m \u001b[0mend\u001b[0m\u001b[0;34m\u001b[0m\u001b[0;34m\u001b[0m\u001b[0m\n",
      "\u001b[0;31mJSONDecodeError\u001b[0m: Expecting value: line 1 column 1 (char 0)"
     ]
    }
   ],
   "source": [
    "n = 0\n",
    "Domain_auction_price['address_from_api'] = ''\n",
    "for i in tqdm(range(len(Domain_auction_price['address_for_api']))):\n",
    "    n = n+1\n",
    "    url = f\"https://ab.api.aihouse.io/ParseAddress?addr={Domain_auction_price['address_for_api'][i]}\"\n",
    "    resp = requests.get(url)\n",
    "    response_dict = resp.json()\n",
    "    Domain_auction_price['address_from_api'][i] = response_dict['std_address']\n",
    "    print(n,response_dict['std_address'])"
   ]
  },
  {
   "cell_type": "code",
   "execution_count": 36,
   "metadata": {},
   "outputs": [
    {
     "data": {
      "text/html": [
       "<div>\n",
       "<style scoped>\n",
       "    .dataframe tbody tr th:only-of-type {\n",
       "        vertical-align: middle;\n",
       "    }\n",
       "\n",
       "    .dataframe tbody tr th {\n",
       "        vertical-align: top;\n",
       "    }\n",
       "\n",
       "    .dataframe thead th {\n",
       "        text-align: right;\n",
       "    }\n",
       "</style>\n",
       "<table border=\"1\" class=\"dataframe\">\n",
       "  <thead>\n",
       "    <tr style=\"text-align: right;\">\n",
       "      <th></th>\n",
       "      <th>Unnamed: 0</th>\n",
       "      <th>date</th>\n",
       "      <th>address</th>\n",
       "      <th>suburb</th>\n",
       "      <th>prop_type</th>\n",
       "      <th>status</th>\n",
       "      <th>sold_price</th>\n",
       "      <th>url</th>\n",
       "      <th>post_code</th>\n",
       "      <th>address_for_api</th>\n",
       "      <th>address_from_api</th>\n",
       "    </tr>\n",
       "  </thead>\n",
       "  <tbody>\n",
       "    <tr>\n",
       "      <td>0</td>\n",
       "      <td>0</td>\n",
       "      <td>14/12/2019</td>\n",
       "      <td>6 Watting St</td>\n",
       "      <td>NaN</td>\n",
       "      <td>House</td>\n",
       "      <td>Sold</td>\n",
       "      <td>950000</td>\n",
       "      <td>https://www.domain.com.au/6-watting-st-abbotsb...</td>\n",
       "      <td>2176</td>\n",
       "      <td>6+Watting+St,+nan+NSW+2176</td>\n",
       "      <td>6 WATTING ST, NAN NSW 2176</td>\n",
       "    </tr>\n",
       "    <tr>\n",
       "      <td>1</td>\n",
       "      <td>1</td>\n",
       "      <td>14/12/2019</td>\n",
       "      <td>56 Abbotsford Pde</td>\n",
       "      <td>ABBOTSFORD</td>\n",
       "      <td>Semi</td>\n",
       "      <td>Sold</td>\n",
       "      <td>1.69e+06</td>\n",
       "      <td>https://www.domain.com.au/56-abbotsford-parade...</td>\n",
       "      <td>2046</td>\n",
       "      <td>56+Abbotsford+Pde,+ABBOTSFORD+NSW+2046</td>\n",
       "      <td>56 ABBOTSFORD PDE, ABBOTSFORD NSW 2046</td>\n",
       "    </tr>\n",
       "    <tr>\n",
       "      <td>2</td>\n",
       "      <td>2</td>\n",
       "      <td>14/12/2019</td>\n",
       "      <td>41/25 Birmingham St</td>\n",
       "      <td>ALEXANDRIA</td>\n",
       "      <td>Unit</td>\n",
       "      <td>Sold</td>\n",
       "      <td>882000</td>\n",
       "      <td>https://www.domain.com.au/41-25-birmingham-str...</td>\n",
       "      <td>2015</td>\n",
       "      <td>41/25+Birmingham+St,+ALEXANDRIA+NSW+2015</td>\n",
       "      <td>41/25 BIRMINGHAM ST, ALEXANDRIA NSW 2015</td>\n",
       "    </tr>\n",
       "    <tr>\n",
       "      <td>3</td>\n",
       "      <td>3</td>\n",
       "      <td>14/12/2019</td>\n",
       "      <td>C426/2-6 Mandible St</td>\n",
       "      <td>ALEXANDRIA</td>\n",
       "      <td>Unit</td>\n",
       "      <td>Sold</td>\n",
       "      <td>482000</td>\n",
       "      <td>https://www.domain.com.au/c426-2-6-mandible-st...</td>\n",
       "      <td>2015</td>\n",
       "      <td>C426/2-6+Mandible+St,+ALEXANDRIA+NSW+2015</td>\n",
       "      <td>C426/2 MANDIBLE ST, ALEXANDRIA NSW 2015</td>\n",
       "    </tr>\n",
       "    <tr>\n",
       "      <td>4</td>\n",
       "      <td>4</td>\n",
       "      <td>14/12/2019</td>\n",
       "      <td>M207/68 McEvoy St</td>\n",
       "      <td>ALEXANDRIA</td>\n",
       "      <td>Unit</td>\n",
       "      <td>Sold prior to auction</td>\n",
       "      <td>820000</td>\n",
       "      <td>https://www.domain.com.au/m207-68-mcevoy-stree...</td>\n",
       "      <td>2015</td>\n",
       "      <td>M207/68+McEvoy+St,+ALEXANDRIA+NSW+2015</td>\n",
       "      <td>M207/68 MCEVOY ST, ALEXANDRIA NSW 2015</td>\n",
       "    </tr>\n",
       "    <tr>\n",
       "      <td>...</td>\n",
       "      <td>...</td>\n",
       "      <td>...</td>\n",
       "      <td>...</td>\n",
       "      <td>...</td>\n",
       "      <td>...</td>\n",
       "      <td>...</td>\n",
       "      <td>...</td>\n",
       "      <td>...</td>\n",
       "      <td>...</td>\n",
       "      <td>...</td>\n",
       "      <td>...</td>\n",
       "    </tr>\n",
       "    <tr>\n",
       "      <td>296</td>\n",
       "      <td>404</td>\n",
       "      <td>14/12/2019</td>\n",
       "      <td>1 Dotterel Pl</td>\n",
       "      <td>WORONORA HEIGHTS</td>\n",
       "      <td>House</td>\n",
       "      <td>Sold prior to auction</td>\n",
       "      <td>1.125e+06</td>\n",
       "      <td>https://www.domain.com.au/1-dotterel-place-wor...</td>\n",
       "      <td>2233</td>\n",
       "      <td>1+Dotterel+Pl,+WORONORA+HEIGHTS+NSW+2233</td>\n",
       "      <td></td>\n",
       "    </tr>\n",
       "    <tr>\n",
       "      <td>297</td>\n",
       "      <td>405</td>\n",
       "      <td>14/12/2019</td>\n",
       "      <td>22 Spoonbill Av</td>\n",
       "      <td>WORONORA HEIGHTS</td>\n",
       "      <td>House</td>\n",
       "      <td>Sold prior to auction</td>\n",
       "      <td>1.13e+06</td>\n",
       "      <td>https://www.domain.com.au/22-spoonbill-avenue-...</td>\n",
       "      <td>2233</td>\n",
       "      <td>22+Spoonbill+Av,+WORONORA+HEIGHTS+NSW+2233</td>\n",
       "      <td></td>\n",
       "    </tr>\n",
       "    <tr>\n",
       "      <td>298</td>\n",
       "      <td>406</td>\n",
       "      <td>14/12/2019</td>\n",
       "      <td>22 Anthony St</td>\n",
       "      <td>YAGOONA</td>\n",
       "      <td>House</td>\n",
       "      <td>Sold</td>\n",
       "      <td>795000</td>\n",
       "      <td>https://www.domain.com.au/22-anthony-street-ya...</td>\n",
       "      <td>2199</td>\n",
       "      <td>22+Anthony+St,+YAGOONA+NSW+2199</td>\n",
       "      <td></td>\n",
       "    </tr>\n",
       "    <tr>\n",
       "      <td>299</td>\n",
       "      <td>407</td>\n",
       "      <td>14/12/2019</td>\n",
       "      <td>2/118 Rookwood Rd</td>\n",
       "      <td>YAGOONA</td>\n",
       "      <td>Townhouse</td>\n",
       "      <td>Sold</td>\n",
       "      <td>571500</td>\n",
       "      <td>https://www.domain.com.au/2-118-rookwood-road-...</td>\n",
       "      <td>2199</td>\n",
       "      <td>2/118+Rookwood+Rd,+YAGOONA+NSW+2199</td>\n",
       "      <td></td>\n",
       "    </tr>\n",
       "    <tr>\n",
       "      <td>300</td>\n",
       "      <td>408</td>\n",
       "      <td>14/12/2019</td>\n",
       "      <td>39 Wilkins St</td>\n",
       "      <td>YAGOONA</td>\n",
       "      <td>House</td>\n",
       "      <td>Sold</td>\n",
       "      <td>1.879e+06</td>\n",
       "      <td>https://www.domain.com.au/39-wilkins-street-ya...</td>\n",
       "      <td>2199</td>\n",
       "      <td>39+Wilkins+St,+YAGOONA+NSW+2199</td>\n",
       "      <td></td>\n",
       "    </tr>\n",
       "  </tbody>\n",
       "</table>\n",
       "<p>301 rows × 11 columns</p>\n",
       "</div>"
      ],
      "text/plain": [
       "     Unnamed: 0        date               address            suburb  \\\n",
       "0             0  14/12/2019          6 Watting St               NaN   \n",
       "1             1  14/12/2019     56 Abbotsford Pde        ABBOTSFORD   \n",
       "2             2  14/12/2019   41/25 Birmingham St        ALEXANDRIA   \n",
       "3             3  14/12/2019  C426/2-6 Mandible St        ALEXANDRIA   \n",
       "4             4  14/12/2019     M207/68 McEvoy St        ALEXANDRIA   \n",
       "..          ...         ...                   ...               ...   \n",
       "296         404  14/12/2019         1 Dotterel Pl  WORONORA HEIGHTS   \n",
       "297         405  14/12/2019       22 Spoonbill Av  WORONORA HEIGHTS   \n",
       "298         406  14/12/2019         22 Anthony St           YAGOONA   \n",
       "299         407  14/12/2019     2/118 Rookwood Rd           YAGOONA   \n",
       "300         408  14/12/2019         39 Wilkins St           YAGOONA   \n",
       "\n",
       "     prop_type                 status sold_price  \\\n",
       "0        House                   Sold     950000   \n",
       "1         Semi                   Sold   1.69e+06   \n",
       "2         Unit                   Sold     882000   \n",
       "3         Unit                   Sold     482000   \n",
       "4         Unit  Sold prior to auction     820000   \n",
       "..         ...                    ...        ...   \n",
       "296      House  Sold prior to auction  1.125e+06   \n",
       "297      House  Sold prior to auction   1.13e+06   \n",
       "298      House                   Sold     795000   \n",
       "299  Townhouse                   Sold     571500   \n",
       "300      House                   Sold  1.879e+06   \n",
       "\n",
       "                                                   url post_code  \\\n",
       "0    https://www.domain.com.au/6-watting-st-abbotsb...      2176   \n",
       "1    https://www.domain.com.au/56-abbotsford-parade...      2046   \n",
       "2    https://www.domain.com.au/41-25-birmingham-str...      2015   \n",
       "3    https://www.domain.com.au/c426-2-6-mandible-st...      2015   \n",
       "4    https://www.domain.com.au/m207-68-mcevoy-stree...      2015   \n",
       "..                                                 ...       ...   \n",
       "296  https://www.domain.com.au/1-dotterel-place-wor...      2233   \n",
       "297  https://www.domain.com.au/22-spoonbill-avenue-...      2233   \n",
       "298  https://www.domain.com.au/22-anthony-street-ya...      2199   \n",
       "299  https://www.domain.com.au/2-118-rookwood-road-...      2199   \n",
       "300  https://www.domain.com.au/39-wilkins-street-ya...      2199   \n",
       "\n",
       "                                address_for_api  \\\n",
       "0                    6+Watting+St,+nan+NSW+2176   \n",
       "1        56+Abbotsford+Pde,+ABBOTSFORD+NSW+2046   \n",
       "2      41/25+Birmingham+St,+ALEXANDRIA+NSW+2015   \n",
       "3     C426/2-6+Mandible+St,+ALEXANDRIA+NSW+2015   \n",
       "4        M207/68+McEvoy+St,+ALEXANDRIA+NSW+2015   \n",
       "..                                          ...   \n",
       "296    1+Dotterel+Pl,+WORONORA+HEIGHTS+NSW+2233   \n",
       "297  22+Spoonbill+Av,+WORONORA+HEIGHTS+NSW+2233   \n",
       "298             22+Anthony+St,+YAGOONA+NSW+2199   \n",
       "299         2/118+Rookwood+Rd,+YAGOONA+NSW+2199   \n",
       "300             39+Wilkins+St,+YAGOONA+NSW+2199   \n",
       "\n",
       "                             address_from_api  \n",
       "0                  6 WATTING ST, NAN NSW 2176  \n",
       "1      56 ABBOTSFORD PDE, ABBOTSFORD NSW 2046  \n",
       "2    41/25 BIRMINGHAM ST, ALEXANDRIA NSW 2015  \n",
       "3     C426/2 MANDIBLE ST, ALEXANDRIA NSW 2015  \n",
       "4      M207/68 MCEVOY ST, ALEXANDRIA NSW 2015  \n",
       "..                                        ...  \n",
       "296                                            \n",
       "297                                            \n",
       "298                                            \n",
       "299                                            \n",
       "300                                            \n",
       "\n",
       "[301 rows x 11 columns]"
      ]
     },
     "execution_count": 36,
     "metadata": {},
     "output_type": "execute_result"
    }
   ],
   "source": [
    "Domain_auction_price"
   ]
  },
  {
   "cell_type": "code",
   "execution_count": 37,
   "metadata": {},
   "outputs": [],
   "source": [
    "Domain_auction_price['beds'] = '' \n",
    "Domain_auction_price['baths'] = ''\n",
    "Domain_auction_price['cars'] = ''"
   ]
  },
  {
   "cell_type": "code",
   "execution_count": 38,
   "metadata": {},
   "outputs": [
    {
     "name": "stderr",
     "output_type": "stream",
     "text": [
      "  0%|          | 0/301 [00:00<?, ?it/s]/opt/anaconda3/lib/python3.7/site-packages/ipykernel_launcher.py:9: SettingWithCopyWarning: \n",
      "A value is trying to be set on a copy of a slice from a DataFrame\n",
      "\n",
      "See the caveats in the documentation: http://pandas.pydata.org/pandas-docs/stable/user_guide/indexing.html#returning-a-view-versus-a-copy\n",
      "  if __name__ == '__main__':\n",
      "/opt/anaconda3/lib/python3.7/site-packages/ipykernel_launcher.py:10: SettingWithCopyWarning: \n",
      "A value is trying to be set on a copy of a slice from a DataFrame\n",
      "\n",
      "See the caveats in the documentation: http://pandas.pydata.org/pandas-docs/stable/user_guide/indexing.html#returning-a-view-versus-a-copy\n",
      "  # Remove the CWD from sys.path while we load stuff.\n",
      "/opt/anaconda3/lib/python3.7/site-packages/ipykernel_launcher.py:11: SettingWithCopyWarning: \n",
      "A value is trying to be set on a copy of a slice from a DataFrame\n",
      "\n",
      "See the caveats in the documentation: http://pandas.pydata.org/pandas-docs/stable/user_guide/indexing.html#returning-a-view-versus-a-copy\n",
      "  # This is added back by InteractiveShellApp.init_path()\n",
      "  0%|          | 1/301 [00:00<01:48,  2.78it/s]"
     ]
    },
    {
     "name": "stdout",
     "output_type": "stream",
     "text": [
      "1 https://www.domain.com.au/6-watting-st-abbotsbury-nsw-2176-2015871534 4 2 2\n"
     ]
    },
    {
     "name": "stderr",
     "output_type": "stream",
     "text": [
      "\r",
      "  1%|          | 2/301 [00:00<01:47,  2.78it/s]"
     ]
    },
    {
     "name": "stdout",
     "output_type": "stream",
     "text": [
      "2 https://www.domain.com.au/56-abbotsford-parade-abbotsford-nsw-2046-2015888508 4 2 1\n"
     ]
    },
    {
     "name": "stderr",
     "output_type": "stream",
     "text": [
      "\r",
      "  1%|          | 3/301 [00:01<01:44,  2.86it/s]"
     ]
    },
    {
     "name": "stdout",
     "output_type": "stream",
     "text": [
      "3 https://www.domain.com.au/41-25-birmingham-street-alexandria-nsw-2015-2015888188 2 1 1\n"
     ]
    },
    {
     "name": "stderr",
     "output_type": "stream",
     "text": [
      "\r",
      "  1%|▏         | 4/301 [00:01<01:37,  3.05it/s]"
     ]
    },
    {
     "name": "stdout",
     "output_type": "stream",
     "text": [
      "4 https://www.domain.com.au/c426-2-6-mandible-street-alexandria-nsw-2015-2015825012 1 1 −\n"
     ]
    },
    {
     "name": "stderr",
     "output_type": "stream",
     "text": [
      "\r",
      "  2%|▏         | 5/301 [00:01<01:35,  3.10it/s]"
     ]
    },
    {
     "name": "stdout",
     "output_type": "stream",
     "text": [
      "5 https://www.domain.com.au/m207-68-mcevoy-street-alexandria-nsw-2015-2015892857 2 2 1\n"
     ]
    },
    {
     "name": "stderr",
     "output_type": "stream",
     "text": [
      "\r",
      "  2%|▏         | 6/301 [00:01<01:38,  3.00it/s]"
     ]
    },
    {
     "name": "stdout",
     "output_type": "stream",
     "text": [
      "6 https://www.domain.com.au/10-hibiscus-close-alfords-point-nsw-2234-2015873087 4 2 1\n"
     ]
    },
    {
     "name": "stderr",
     "output_type": "stream",
     "text": [
      "\r",
      "  2%|▏         | 7/301 [00:02<01:38,  3.00it/s]"
     ]
    },
    {
     "name": "stdout",
     "output_type": "stream",
     "text": [
      "7 https://www.domain.com.au/4-maroa-crescent-allambie-heights-nsw-2100-2015932727 5 2 3\n"
     ]
    },
    {
     "name": "stderr",
     "output_type": "stream",
     "text": [
      "\r",
      "  3%|▎         | 8/301 [00:02<01:38,  2.97it/s]"
     ]
    },
    {
     "name": "stdout",
     "output_type": "stream",
     "text": [
      "8 https://www.domain.com.au/1-avenal-street-arncliffe-nsw-2205-2015885901 5 4 2\n"
     ]
    },
    {
     "name": "stderr",
     "output_type": "stream",
     "text": [
      "\r",
      "  3%|▎         | 9/301 [00:02<01:36,  3.03it/s]"
     ]
    },
    {
     "name": "stdout",
     "output_type": "stream",
     "text": [
      "9 https://www.domain.com.au/21-duncan-street-arncliffe-nsw-2205-2015863814 3 1 −\n"
     ]
    },
    {
     "name": "stderr",
     "output_type": "stream",
     "text": [
      "\r",
      "  3%|▎         | 10/301 [00:03<01:35,  3.03it/s]"
     ]
    },
    {
     "name": "stdout",
     "output_type": "stream",
     "text": [
      "10 https://www.domain.com.au/48-hanks-street-ashbury-nsw-2193-2015885959 3 2 2\n"
     ]
    },
    {
     "name": "stderr",
     "output_type": "stream",
     "text": [
      "\r",
      "  4%|▎         | 11/301 [00:03<01:58,  2.45it/s]"
     ]
    },
    {
     "name": "stdout",
     "output_type": "stream",
     "text": [
      "11 https://www.domain.com.au/284-chisholm-road-auburn-nsw-2144-2015903643 2 1 1\n"
     ]
    },
    {
     "name": "stderr",
     "output_type": "stream",
     "text": [
      "\r",
      "  4%|▍         | 12/301 [00:04<01:55,  2.51it/s]"
     ]
    },
    {
     "name": "stdout",
     "output_type": "stream",
     "text": [
      "12 https://www.domain.com.au/13-wellington-road-auburn-nsw-2144-2015902652 7 3 3\n"
     ]
    },
    {
     "name": "stderr",
     "output_type": "stream",
     "text": [
      "\r",
      "  4%|▍         | 13/301 [00:04<01:48,  2.66it/s]"
     ]
    },
    {
     "name": "stdout",
     "output_type": "stream",
     "text": [
      "13 https://www.domain.com.au/74-hillside-road-avoca-beach-nsw-2251-2015902519 7 4 2\n"
     ]
    },
    {
     "name": "stderr",
     "output_type": "stream",
     "text": [
      "\r",
      "  5%|▍         | 14/301 [00:04<01:37,  2.95it/s]"
     ]
    },
    {
     "name": "stdout",
     "output_type": "stream",
     "text": [
      "14 https://www.domain.com.au/8-52-menai-road-bangor-nsw-2234-2015895842 4 3 2\n"
     ]
    },
    {
     "name": "stderr",
     "output_type": "stream",
     "text": [
      "\r",
      "  5%|▍         | 15/301 [00:05<01:32,  3.08it/s]"
     ]
    },
    {
     "name": "stdout",
     "output_type": "stream",
     "text": [
      "15 https://www.domain.com.au/9-coolock-crescent-baulkham-hills-nsw-2153-2015902106 5 3 2\n"
     ]
    },
    {
     "name": "stderr",
     "output_type": "stream",
     "text": [
      "\r",
      "  5%|▌         | 16/301 [00:05<01:26,  3.29it/s]"
     ]
    },
    {
     "name": "stdout",
     "output_type": "stream",
     "text": [
      "16 https://www.domain.com.au/9-marcel-place-baulkham-hills-nsw-2153-2015901934 3 1 1\n"
     ]
    },
    {
     "name": "stderr",
     "output_type": "stream",
     "text": [
      "\r",
      "  6%|▌         | 17/301 [00:05<01:27,  3.25it/s]"
     ]
    },
    {
     "name": "stdout",
     "output_type": "stream",
     "text": [
      "17 https://www.domain.com.au/4-templeton-crescent-baulkham-hills-nsw-2153-2015896113 4 2 2\n"
     ]
    },
    {
     "name": "stderr",
     "output_type": "stream",
     "text": [
      "\r",
      "  6%|▌         | 18/301 [00:06<01:27,  3.24it/s]"
     ]
    },
    {
     "name": "stdout",
     "output_type": "stream",
     "text": [
      "18 https://www.domain.com.au/6-witonga-crescent-baulkham-hills-nsw-2153-2015888270 3 2 2\n"
     ]
    },
    {
     "name": "stderr",
     "output_type": "stream",
     "text": [
      "\r",
      "  6%|▋         | 19/301 [00:06<01:34,  2.99it/s]"
     ]
    },
    {
     "name": "stdout",
     "output_type": "stream",
     "text": [
      "19 https://www.domain.com.au/35-kokoda-crescent-beacon-hill-nsw-2100-2015920277 4 1 4\n"
     ]
    },
    {
     "name": "stderr",
     "output_type": "stream",
     "text": [
      "\r",
      "  7%|▋         | 20/301 [00:06<01:37,  2.87it/s]"
     ]
    },
    {
     "name": "stdout",
     "output_type": "stream",
     "text": [
      "20 https://www.domain.com.au/151-victoria-street-beaconsfield-nsw-2015-2015892342 1 1 1\n"
     ]
    },
    {
     "name": "stderr",
     "output_type": "stream",
     "text": [
      "\r",
      "  7%|▋         | 21/301 [00:07<01:38,  2.85it/s]"
     ]
    },
    {
     "name": "stdout",
     "output_type": "stream",
     "text": [
      "21 https://www.domain.com.au/3-blackwood-close-beecroft-nsw-2119-2015903414 5 4 2\n"
     ]
    },
    {
     "name": "stderr",
     "output_type": "stream",
     "text": [
      "\r",
      "  7%|▋         | 22/301 [00:07<01:42,  2.73it/s]"
     ]
    },
    {
     "name": "stdout",
     "output_type": "stream",
     "text": [
      "22 https://www.domain.com.au/4-33-balfour-road-bellevue-hill-nsw-2023-2015893365 2 1 −\n"
     ]
    },
    {
     "name": "stderr",
     "output_type": "stream",
     "text": [
      "\r",
      "  8%|▊         | 23/301 [00:07<01:37,  2.85it/s]"
     ]
    },
    {
     "name": "stdout",
     "output_type": "stream",
     "text": [
      "23 https://www.domain.com.au/7-stirling-place-belrose-nsw-2085-2015895804 4 3 2\n"
     ]
    },
    {
     "name": "stderr",
     "output_type": "stream",
     "text": [
      "\r",
      "  8%|▊         | 24/301 [00:08<01:40,  2.75it/s]"
     ]
    },
    {
     "name": "stdout",
     "output_type": "stream",
     "text": [
      "24 https://www.domain.com.au/76-fourth-avenue-berala-nsw-2141-2015921567 4 1 1\n"
     ]
    },
    {
     "name": "stderr",
     "output_type": "stream",
     "text": [
      "\r",
      "  8%|▊         | 25/301 [00:08<01:42,  2.70it/s]"
     ]
    },
    {
     "name": "stdout",
     "output_type": "stream",
     "text": [
      "25 https://www.domain.com.au/34-hillcrest-road-berowra-nsw-2081-2015894165 5 1 1\n"
     ]
    },
    {
     "name": "stderr",
     "output_type": "stream",
     "text": [
      "\r",
      "  9%|▊         | 26/301 [00:09<01:46,  2.57it/s]"
     ]
    },
    {
     "name": "stdout",
     "output_type": "stream",
     "text": [
      "26 https://www.domain.com.au/25-mercury-street-beverly-hills-nsw-2209-2015895955 4 2 2\n"
     ]
    },
    {
     "name": "stderr",
     "output_type": "stream",
     "text": [
      "\r",
      "  9%|▉         | 27/301 [00:09<01:44,  2.63it/s]"
     ]
    },
    {
     "name": "stdout",
     "output_type": "stream",
     "text": [
      "27 https://www.domain.com.au/23-abercorn-street-bexley-nsw-2207-2015879805 5 3 6\n"
     ]
    },
    {
     "name": "stderr",
     "output_type": "stream",
     "text": [
      "\r",
      "  9%|▉         | 28/301 [00:09<01:48,  2.51it/s]"
     ]
    },
    {
     "name": "stdout",
     "output_type": "stream",
     "text": [
      "28 https://www.domain.com.au/3-71-queen-victoria-street-bexley-nsw-2207-2015902200 2 1 1\n"
     ]
    },
    {
     "name": "stderr",
     "output_type": "stream",
     "text": [
      "\r",
      " 10%|▉         | 29/301 [00:10<01:37,  2.78it/s]"
     ]
    },
    {
     "name": "stdout",
     "output_type": "stream",
     "text": [
      "29 https://www.domain.com.au/40-st-georges-road-bexley-nsw-2207-2015884525 4 2 2\n"
     ]
    },
    {
     "name": "stderr",
     "output_type": "stream",
     "text": [
      "\r",
      " 10%|▉         | 30/301 [00:10<01:38,  2.74it/s]"
     ]
    },
    {
     "name": "stdout",
     "output_type": "stream",
     "text": [
      "30 https://www.domain.com.au/44-stoney-creek-road-bexley-nsw-2207-2015883646 2 1 2\n"
     ]
    },
    {
     "name": "stderr",
     "output_type": "stream",
     "text": [
      "\r",
      " 10%|█         | 31/301 [00:10<01:29,  3.02it/s]"
     ]
    },
    {
     "name": "stdout",
     "output_type": "stream",
     "text": [
      "31 https://www.domain.com.au/4-vivian-street-bexley-nsw-2207-2015867874 5 2 1\n"
     ]
    },
    {
     "name": "stderr",
     "output_type": "stream",
     "text": [
      "\r",
      " 11%|█         | 32/301 [00:11<01:28,  3.03it/s]"
     ]
    },
    {
     "name": "stdout",
     "output_type": "stream",
     "text": [
      "32 https://www.domain.com.au/1-challenger-place-birchgrove-nsw-2041-2015899271 3 2 2\n"
     ]
    },
    {
     "name": "stderr",
     "output_type": "stream",
     "text": [
      "\r",
      " 11%|█         | 33/301 [00:11<01:31,  2.92it/s]"
     ]
    },
    {
     "name": "stdout",
     "output_type": "stream",
     "text": [
      "33 https://www.domain.com.au/18-aliberti-drive-blacktown-nsw-2148-2015905994 3 1 2\n"
     ]
    },
    {
     "name": "stderr",
     "output_type": "stream",
     "text": [
      "\r",
      " 11%|█▏        | 34/301 [00:11<01:22,  3.22it/s]"
     ]
    },
    {
     "name": "stdout",
     "output_type": "stream",
     "text": [
      "34 https://www.domain.com.au/14-siebel-street-blacktown-nsw-2148-2015896311 3 1 1\n"
     ]
    },
    {
     "name": "stderr",
     "output_type": "stream",
     "text": [
      "\r",
      " 12%|█▏        | 35/301 [00:12<01:26,  3.09it/s]"
     ]
    },
    {
     "name": "stdout",
     "output_type": "stream",
     "text": [
      "35 https://www.domain.com.au/12-orana-crescent-blakehurst-nsw-2221-2015899678 4 2 1\n"
     ]
    },
    {
     "name": "stderr",
     "output_type": "stream",
     "text": [
      "\r",
      " 12%|█▏        | 36/301 [00:12<01:28,  3.00it/s]"
     ]
    },
    {
     "name": "stdout",
     "output_type": "stream",
     "text": [
      "36 https://www.domain.com.au/5-jefferson-crescent-bonnet-bay-nsw-2226-2015897087 4 2 2\n"
     ]
    },
    {
     "name": "stderr",
     "output_type": "stream",
     "text": [
      "\r",
      " 12%|█▏        | 37/301 [00:12<01:21,  3.24it/s]"
     ]
    },
    {
     "name": "stdout",
     "output_type": "stream",
     "text": [
      "37 https://www.domain.com.au/29-holbrook-street-bossley-park-nsw-2176-2015896998 4 2 2\n"
     ]
    },
    {
     "name": "stderr",
     "output_type": "stream",
     "text": [
      "\r",
      " 13%|█▎        | 38/301 [00:13<01:23,  3.15it/s]"
     ]
    },
    {
     "name": "stdout",
     "output_type": "stream",
     "text": [
      "38 https://www.domain.com.au/13-tuncurry-street-bossley-park-nsw-2176-2015891629 4 1 1\n"
     ]
    },
    {
     "name": "stderr",
     "output_type": "stream",
     "text": [
      "\r",
      " 13%|█▎        | 39/301 [00:13<01:15,  3.46it/s]"
     ]
    },
    {
     "name": "stdout",
     "output_type": "stream",
     "text": [
      "39 https://www.domain.com.au/1412-botany-road-botany-nsw-2019-2015878722 3 1 −\n"
     ]
    },
    {
     "name": "stderr",
     "output_type": "stream",
     "text": [
      "\r",
      " 13%|█▎        | 40/301 [00:13<01:29,  2.93it/s]"
     ]
    },
    {
     "name": "stdout",
     "output_type": "stream",
     "text": [
      "40 https://www.domain.com.au/45-4-10-the-boulevarde-brighton-le-sands-nsw-2216-2015896811 2 1 1\n"
     ]
    },
    {
     "name": "stderr",
     "output_type": "stream",
     "text": [
      "\r",
      " 14%|█▎        | 41/301 [00:13<01:22,  3.16it/s]"
     ]
    },
    {
     "name": "stdout",
     "output_type": "stream",
     "text": [
      "41 https://www.domain.com.au/21-belgrave-street-bronte-nsw-2024-2015887419 4 2 2\n"
     ]
    },
    {
     "name": "stderr",
     "output_type": "stream",
     "text": [
      "\r",
      " 14%|█▍        | 42/301 [00:14<01:24,  3.07it/s]"
     ]
    },
    {
     "name": "stdout",
     "output_type": "stream",
     "text": [
      "42 https://www.domain.com.au/5-14-16-park-avenue-burwood-nsw-2134-2014135339 2 1 1\n"
     ]
    },
    {
     "name": "stderr",
     "output_type": "stream",
     "text": [
      "\r",
      " 14%|█▍        | 43/301 [00:14<01:24,  3.07it/s]"
     ]
    },
    {
     "name": "stdout",
     "output_type": "stream",
     "text": [
      "43 https://www.domain.com.au/10-galloway-street-busby-nsw-2168-2015873314 3 1 1\n"
     ]
    },
    {
     "name": "stderr",
     "output_type": "stream",
     "text": [
      "\r",
      " 15%|█▍        | 44/301 [00:15<01:27,  2.93it/s]"
     ]
    },
    {
     "name": "stdout",
     "output_type": "stream",
     "text": [
      "44 https://www.domain.com.au/73-water-street-cabramatta-west-nsw-2166-2015899854 4 1 2\n"
     ]
    },
    {
     "name": "stderr",
     "output_type": "stream",
     "text": [
      "\r",
      " 15%|█▍        | 45/301 [00:15<01:33,  2.73it/s]"
     ]
    },
    {
     "name": "stdout",
     "output_type": "stream",
     "text": [
      "45 https://www.domain.com.au/20-1-11-brodrick-street-camperdown-nsw-2050-2015890701 2 1 1\n"
     ]
    },
    {
     "name": "stderr",
     "output_type": "stream",
     "text": [
      "\r",
      " 15%|█▌        | 46/301 [00:15<01:25,  2.97it/s]"
     ]
    },
    {
     "name": "stdout",
     "output_type": "stream",
     "text": [
      "46 https://www.domain.com.au/710-7-sterling-circuit-camperdown-nsw-2050-2015898875 2 2 1\n"
     ]
    },
    {
     "name": "stderr",
     "output_type": "stream",
     "text": [
      "\r",
      " 16%|█▌        | 47/301 [00:16<01:32,  2.73it/s]"
     ]
    },
    {
     "name": "stdout",
     "output_type": "stream",
     "text": [
      "47 https://www.domain.com.au/85-eighth-avenue-campsie-nsw-2194-2015860576 3 1 3\n"
     ]
    },
    {
     "name": "stderr",
     "output_type": "stream",
     "text": [
      "\r",
      " 16%|█▌        | 48/301 [00:16<01:38,  2.58it/s]"
     ]
    },
    {
     "name": "stdout",
     "output_type": "stream",
     "text": [
      "48 https://domain.com.au/property-profile/65a-delamere-street-canley-vale-nsw-2166   \n"
     ]
    },
    {
     "name": "stderr",
     "output_type": "stream",
     "text": [
      "\r",
      " 16%|█▋        | 49/301 [00:17<01:44,  2.41it/s]"
     ]
    },
    {
     "name": "stdout",
     "output_type": "stream",
     "text": [
      "49 https://www.domain.com.au/8-3-fore-street-canterbury-nsw-2193-2015899594 2 2 1\n"
     ]
    },
    {
     "name": "stderr",
     "output_type": "stream",
     "text": [
      "\r",
      " 17%|█▋        | 50/301 [00:17<01:35,  2.62it/s]"
     ]
    },
    {
     "name": "stdout",
     "output_type": "stream",
     "text": [
      "50 https://www.domain.com.au/17-chamberlain-avenue-caringbah-nsw-2229-2015920501 3 1 2\n"
     ]
    },
    {
     "name": "stderr",
     "output_type": "stream",
     "text": [
      "\r",
      " 17%|█▋        | 51/301 [00:17<01:27,  2.84it/s]"
     ]
    },
    {
     "name": "stdout",
     "output_type": "stream",
     "text": [
      "51 https://www.domain.com.au/203-carlingford-road-carlingford-nsw-2118-2015870869 6 3 2\n"
     ]
    },
    {
     "name": "stderr",
     "output_type": "stream",
     "text": [
      "\r",
      " 17%|█▋        | 52/301 [00:18<01:31,  2.73it/s]"
     ]
    },
    {
     "name": "stdout",
     "output_type": "stream",
     "text": [
      "52 https://www.domain.com.au/18-hibiscus-avenue-carlingford-nsw-2118-2015898979 5 3 2\n"
     ]
    },
    {
     "name": "stderr",
     "output_type": "stream",
     "text": [
      "\r",
      " 18%|█▊        | 53/301 [00:18<01:26,  2.88it/s]"
     ]
    },
    {
     "name": "stdout",
     "output_type": "stream",
     "text": [
      "53 https://www.domain.com.au/3-62-honiton-avenue-carlingford-nsw-2118-2015891463 3 2 2\n"
     ]
    },
    {
     "name": "stderr",
     "output_type": "stream",
     "text": [
      "\r",
      " 18%|█▊        | 54/301 [00:18<01:32,  2.67it/s]"
     ]
    },
    {
     "name": "stdout",
     "output_type": "stream",
     "text": [
      "54 https://www.domain.com.au/9-11-17-bembridge-street-carlton-nsw-2218-2015889264 2 1 2\n"
     ]
    },
    {
     "name": "stderr",
     "output_type": "stream",
     "text": [
      "\r",
      " 18%|█▊        | 55/301 [00:19<01:34,  2.61it/s]"
     ]
    },
    {
     "name": "stdout",
     "output_type": "stream",
     "text": [
      "55 https://www.domain.com.au/1-53-cronulla-street-carlton-nsw-2218-2015895231 2 1 −\n"
     ]
    },
    {
     "name": "stderr",
     "output_type": "stream",
     "text": [
      "\r",
      " 19%|█▊        | 56/301 [00:19<01:29,  2.73it/s]"
     ]
    },
    {
     "name": "stdout",
     "output_type": "stream",
     "text": [
      "56 https://www.domain.com.au/16-planthurst-road-carlton-nsw-2218-2015883680 4 2 4\n"
     ]
    },
    {
     "name": "stderr",
     "output_type": "stream",
     "text": [
      "\r",
      " 19%|█▉        | 57/301 [00:19<01:21,  2.99it/s]"
     ]
    },
    {
     "name": "stdout",
     "output_type": "stream",
     "text": [
      "57 https://www.domain.com.au/14-26-32-shaftesbury-street-carlton-nsw-2218-2015887474 2 1 2\n"
     ]
    },
    {
     "name": "stderr",
     "output_type": "stream",
     "text": [
      "\r",
      " 19%|█▉        | 58/301 [00:20<01:14,  3.24it/s]"
     ]
    },
    {
     "name": "stdout",
     "output_type": "stream",
     "text": [
      "58 https://www.domain.com.au/12-9-wilde-street-carramar-nsw-2163-2015892827 3 1 1\n"
     ]
    },
    {
     "name": "stderr",
     "output_type": "stream",
     "text": [
      "\r",
      " 20%|█▉        | 59/301 [00:20<01:12,  3.33it/s]"
     ]
    },
    {
     "name": "stdout",
     "output_type": "stream",
     "text": [
      "59 https://www.domain.com.au/4-3-banks-road-castle-hill-nsw-2154-2015899724 3 2 2\n"
     ]
    },
    {
     "name": "stderr",
     "output_type": "stream",
     "text": [
      "\r",
      " 20%|█▉        | 60/301 [00:20<01:12,  3.31it/s]"
     ]
    },
    {
     "name": "stdout",
     "output_type": "stream",
     "text": [
      "60 https://www.domain.com.au/1-talofa-place-castle-hill-nsw-2154-2015884289 4 2 2\n"
     ]
    },
    {
     "name": "stderr",
     "output_type": "stream",
     "text": [
      "\r",
      " 20%|██        | 61/301 [00:20<01:11,  3.37it/s]"
     ]
    },
    {
     "name": "stdout",
     "output_type": "stream",
     "text": [
      "61 https://www.domain.com.au/21-winchcombe-place-castle-hill-nsw-2154-2015913343 4 3 3\n"
     ]
    },
    {
     "name": "stderr",
     "output_type": "stream",
     "text": [
      "\r",
      " 21%|██        | 62/301 [00:21<01:18,  3.03it/s]"
     ]
    },
    {
     "name": "stdout",
     "output_type": "stream",
     "text": [
      "62 https://www.domain.com.au/16-aragon-street-cecil-hills-nsw-2171-2015887636 5 3 3\n"
     ]
    },
    {
     "name": "stderr",
     "output_type": "stream",
     "text": [
      "\r",
      " 21%|██        | 63/301 [00:22<01:44,  2.28it/s]"
     ]
    },
    {
     "name": "stdout",
     "output_type": "stream",
     "text": [
      "63 https://www.domain.com.au/130-goodrich-road-cecil-park-nsw-2178-2015903847 8 5 6\n"
     ]
    },
    {
     "name": "stderr",
     "output_type": "stream",
     "text": [
      "\r",
      " 21%|██▏       | 64/301 [00:22<01:31,  2.58it/s]"
     ]
    },
    {
     "name": "stdout",
     "output_type": "stream",
     "text": [
      "64 https://www.domain.com.au/35-trevally-avenue-chain-valley-bay-nsw-2259-2014781474 3 1 5\n"
     ]
    },
    {
     "name": "stderr",
     "output_type": "stream",
     "text": [
      "\r",
      " 22%|██▏       | 65/301 [00:22<01:20,  2.95it/s]"
     ]
    },
    {
     "name": "stdout",
     "output_type": "stream",
     "text": [
      "65 https://www.domain.com.au/2-foxwood-way-cherrybrook-nsw-2126-2015910702 4 2 2\n"
     ]
    },
    {
     "name": "stderr",
     "output_type": "stream",
     "text": [
      "\r",
      " 22%|██▏       | 66/301 [00:22<01:25,  2.74it/s]"
     ]
    },
    {
     "name": "stdout",
     "output_type": "stream",
     "text": [
      "66 https://www.domain.com.au/10-parkhill-crescent-cherrybrook-nsw-2126-2015891145 4 3 2\n"
     ]
    },
    {
     "name": "stderr",
     "output_type": "stream",
     "text": [
      "\r",
      " 22%|██▏       | 67/301 [00:23<01:45,  2.23it/s]"
     ]
    },
    {
     "name": "stdout",
     "output_type": "stream",
     "text": [
      "67 https://www.domain.com.au/31-lawn-avenue-clemton-park-nsw-2206-2015868885 4 2 2\n"
     ]
    },
    {
     "name": "stderr",
     "output_type": "stream",
     "text": [
      "\r",
      " 23%|██▎       | 68/301 [00:23<01:39,  2.35it/s]"
     ]
    },
    {
     "name": "stdout",
     "output_type": "stream",
     "text": [
      "68 https://www.domain.com.au/10-26-28-melrose-pde-clovelly-nsw-2031-2015898946 2 1 1\n"
     ]
    },
    {
     "name": "stderr",
     "output_type": "stream",
     "text": [
      "\r",
      " 23%|██▎       | 69/301 [00:24<01:35,  2.42it/s]"
     ]
    },
    {
     "name": "stdout",
     "output_type": "stream",
     "text": [
      "69 https://www.domain.com.au/35-kangaroo-road-collaroy-plateau-nsw-2097-2015899667 5 3 2\n"
     ]
    },
    {
     "name": "stderr",
     "output_type": "stream",
     "text": [
      "\r",
      " 23%|██▎       | 70/301 [00:24<01:28,  2.60it/s]"
     ]
    },
    {
     "name": "stdout",
     "output_type": "stream",
     "text": [
      "70 https://www.domain.com.au/28-stella-street-collaroy-plateau-nsw-2097-2015896646 4 2 2\n"
     ]
    },
    {
     "name": "stderr",
     "output_type": "stream",
     "text": [
      "\r",
      " 24%|██▎       | 71/301 [00:25<01:31,  2.51it/s]"
     ]
    },
    {
     "name": "stdout",
     "output_type": "stream",
     "text": [
      "71 https://www.domain.com.au/49-woronora-crescent-como-nsw-2226-2015912388 5 3 2\n"
     ]
    },
    {
     "name": "stderr",
     "output_type": "stream",
     "text": [
      "\r",
      " 24%|██▍       | 72/301 [00:25<01:20,  2.85it/s]"
     ]
    },
    {
     "name": "stdout",
     "output_type": "stream",
     "text": [
      "72 https://www.domain.com.au/19-jones-street-concord-nsw-2137-2015887262 5 3 4\n"
     ]
    },
    {
     "name": "stderr",
     "output_type": "stream",
     "text": [
      "\r",
      " 24%|██▍       | 73/301 [00:25<01:10,  3.21it/s]"
     ]
    },
    {
     "name": "stdout",
     "output_type": "stream",
     "text": [
      "73 https://www.domain.com.au/1-watkin-street-concord-nsw-2137-2015878704 3 2 2\n"
     ]
    },
    {
     "name": "stderr",
     "output_type": "stream",
     "text": [
      "\r",
      " 25%|██▍       | 74/301 [00:25<01:19,  2.87it/s]"
     ]
    },
    {
     "name": "stdout",
     "output_type": "stream",
     "text": [
      "74 https://www.domain.com.au/6-64-gleeson-avenue-condell-park-nsw-2200-2015892903 3 2 2\n"
     ]
    },
    {
     "name": "stderr",
     "output_type": "stream",
     "text": [
      "\r",
      " 25%|██▍       | 75/301 [00:26<01:22,  2.74it/s]"
     ]
    },
    {
     "name": "stdout",
     "output_type": "stream",
     "text": [
      "75 https://www.domain.com.au/5-16-leemon-street-condell-park-nsw-2200-2015885355 2 1 2\n"
     ]
    },
    {
     "name": "stderr",
     "output_type": "stream",
     "text": [
      "\r",
      " 25%|██▌       | 76/301 [00:26<01:35,  2.36it/s]"
     ]
    },
    {
     "name": "stdout",
     "output_type": "stream",
     "text": [
      "76 https://www.domain.com.au/18-mitchell-street-condell-park-nsw-2200-2015885563 3 1 4\n"
     ]
    },
    {
     "name": "stderr",
     "output_type": "stream",
     "text": [
      "\r",
      " 26%|██▌       | 77/301 [00:27<01:25,  2.63it/s]"
     ]
    },
    {
     "name": "stdout",
     "output_type": "stream",
     "text": [
      "77 https://www.domain.com.au/3-329-331-arden-street-coogee-nsw-2034-2015894751 2 1 1\n"
     ]
    },
    {
     "name": "stderr",
     "output_type": "stream",
     "text": [
      "\r",
      " 26%|██▌       | 78/301 [00:27<01:16,  2.91it/s]"
     ]
    },
    {
     "name": "stdout",
     "output_type": "stream",
     "text": [
      "78 https://www.domain.com.au/5-101-carrington-road-coogee-nsw-2034-2015897543 2 2 −\n"
     ]
    },
    {
     "name": "stderr",
     "output_type": "stream",
     "text": [
      "\r",
      " 26%|██▌       | 79/301 [00:27<01:22,  2.68it/s]"
     ]
    },
    {
     "name": "stdout",
     "output_type": "stream",
     "text": [
      "79 https://www.domain.com.au/8-50-52-albany-street-crows-nest-nsw-2065-2015877708 3 1 1\n"
     ]
    },
    {
     "name": "stderr",
     "output_type": "stream",
     "text": [
      "\r",
      " 27%|██▋       | 80/301 [00:28<01:16,  2.90it/s]"
     ]
    },
    {
     "name": "stdout",
     "output_type": "stream",
     "text": [
      "80 https://www.domain.com.au/5-144-edwin-street-north-croydon-nsw-2132-2015888904 2 1 1\n"
     ]
    },
    {
     "name": "stderr",
     "output_type": "stream",
     "text": [
      "\r",
      " 27%|██▋       | 81/301 [00:28<01:11,  3.10it/s]"
     ]
    },
    {
     "name": "stdout",
     "output_type": "stream",
     "text": [
      "81 https://www.domain.com.au/12a-dunmore-street-croydon-park-nsw-2133-2015898817 3 1 2\n"
     ]
    },
    {
     "name": "stderr",
     "output_type": "stream",
     "text": [
      "\r",
      " 27%|██▋       | 82/301 [00:28<01:14,  2.92it/s]"
     ]
    },
    {
     "name": "stdout",
     "output_type": "stream",
     "text": [
      "82 https://www.domain.com.au/44-15-19-boundary-street-rushcutters-bay-nsw-2011-2015897625 2 2 1\n"
     ]
    },
    {
     "name": "stderr",
     "output_type": "stream",
     "text": [
      "\r",
      " 28%|██▊       | 83/301 [00:29<01:16,  2.83it/s]"
     ]
    },
    {
     "name": "stdout",
     "output_type": "stream",
     "text": [
      "83 https://www.domain.com.au/7-93-howard-avenue-dee-why-nsw-2099-2015875148 2 1 1\n"
     ]
    },
    {
     "name": "stderr",
     "output_type": "stream",
     "text": [
      "\r",
      " 28%|██▊       | 84/301 [00:29<01:35,  2.28it/s]"
     ]
    },
    {
     "name": "stdout",
     "output_type": "stream",
     "text": [
      "84 https://www.domain.com.au/7-106-oaks-avenue-dee-why-nsw-2099-2015895643 2 1 1\n"
     ]
    },
    {
     "name": "stderr",
     "output_type": "stream",
     "text": [
      "\r",
      " 28%|██▊       | 85/301 [00:30<01:29,  2.41it/s]"
     ]
    },
    {
     "name": "stdout",
     "output_type": "stream",
     "text": [
      "85 https://www.domain.com.au/17-19-23-sturdee-parade-dee-why-nsw-2099-2015898637 2 2 2\n"
     ]
    },
    {
     "name": "stderr",
     "output_type": "stream",
     "text": [
      "\r",
      " 29%|██▊       | 86/301 [00:30<01:32,  2.32it/s]"
     ]
    },
    {
     "name": "stdout",
     "output_type": "stream",
     "text": [
      "86 https://www.domain.com.au/5-44-the-crescent-dee-why-nsw-2099-2015872789 4 2 2\n"
     ]
    },
    {
     "name": "stderr",
     "output_type": "stream",
     "text": [
      "\r",
      " 29%|██▉       | 87/301 [00:30<01:22,  2.58it/s]"
     ]
    },
    {
     "name": "stdout",
     "output_type": "stream",
     "text": [
      "87 https://www.domain.com.au/178-willowdale-drive-denham-court-nsw-2565-2015888407 4 2 2\n"
     ]
    },
    {
     "name": "stderr",
     "output_type": "stream",
     "text": [
      "\r",
      " 29%|██▉       | 88/301 [00:31<01:29,  2.37it/s]"
     ]
    },
    {
     "name": "stdout",
     "output_type": "stream",
     "text": [
      "88 https://www.domain.com.au/14-lund-street-denistone-nsw-2114-2014319363 3 2 3\n"
     ]
    },
    {
     "name": "stderr",
     "output_type": "stream",
     "text": [
      "\r",
      " 30%|██▉       | 89/301 [00:31<01:28,  2.38it/s]"
     ]
    },
    {
     "name": "stdout",
     "output_type": "stream",
     "text": [
      "89 https://www.domain.com.au/3-30-wrights-road-drummoyne-nsw-2047-2015879177 2 2 2\n"
     ]
    },
    {
     "name": "stderr",
     "output_type": "stream",
     "text": [
      "\r",
      " 30%|██▉       | 90/301 [00:32<01:29,  2.35it/s]"
     ]
    },
    {
     "name": "stdout",
     "output_type": "stream",
     "text": [
      "90 https://www.domain.com.au/15-57-69-cobar-street-dulwich-hill-nsw-2203-2015895533 2 1 1\n"
     ]
    },
    {
     "name": "stderr",
     "output_type": "stream",
     "text": [
      "\r",
      " 30%|███       | 91/301 [00:32<01:24,  2.49it/s]"
     ]
    },
    {
     "name": "stdout",
     "output_type": "stream",
     "text": [
      "91 https://www.domain.com.au/46-king-street-dundas-valley-nsw-2117-2015898596 3 2 2\n"
     ]
    },
    {
     "name": "stderr",
     "output_type": "stream",
     "text": [
      "\r",
      " 31%|███       | 92/301 [00:32<01:17,  2.70it/s]"
     ]
    },
    {
     "name": "stdout",
     "output_type": "stream",
     "text": [
      "92 https://www.domain.com.au/7-wyoming-road-dural-nsw-2158-2015901861 5 5 4\n"
     ]
    },
    {
     "name": "stderr",
     "output_type": "stream",
     "text": [
      "\r",
      " 31%|███       | 93/301 [00:33<01:14,  2.78it/s]"
     ]
    },
    {
     "name": "stdout",
     "output_type": "stream",
     "text": [
      "93 https://www.domain.com.au/4-keith-street-earlwood-nsw-2206-2015887851 3 1 2\n"
     ]
    },
    {
     "name": "stderr",
     "output_type": "stream",
     "text": [
      "\r",
      " 31%|███       | 94/301 [00:33<01:10,  2.93it/s]"
     ]
    },
    {
     "name": "stdout",
     "output_type": "stream",
     "text": [
      "94 https://www.domain.com.au/18-ronald-avenue-earlwood-nsw-2206-2015897968 2 1 1\n"
     ]
    },
    {
     "name": "stderr",
     "output_type": "stream",
     "text": [
      "\r",
      " 32%|███▏      | 95/301 [00:34<01:16,  2.70it/s]"
     ]
    },
    {
     "name": "stdout",
     "output_type": "stream",
     "text": [
      "95 https://www.domain.com.au/160-abuklea-road-eastwood-nsw-2122-2015898164 5 2 2\n"
     ]
    },
    {
     "name": "stderr",
     "output_type": "stream",
     "text": [
      "\r",
      " 32%|███▏      | 96/301 [00:34<01:14,  2.75it/s]"
     ]
    },
    {
     "name": "stdout",
     "output_type": "stream",
     "text": [
      "96 https://www.domain.com.au/35-avondale-way-eastwood-nsw-2122-2015900381 5 3 2\n"
     ]
    },
    {
     "name": "stderr",
     "output_type": "stream",
     "text": [
      "\r",
      " 32%|███▏      | 97/301 [00:34<01:16,  2.68it/s]"
     ]
    },
    {
     "name": "stdout",
     "output_type": "stream",
     "text": [
      "97 https://www.domain.com.au/7-21-may-street-eastwood-nsw-2122-2015917943 2 1 1\n"
     ]
    },
    {
     "name": "stderr",
     "output_type": "stream",
     "text": [
      "\r",
      " 33%|███▎      | 98/301 [00:35<01:13,  2.76it/s]"
     ]
    },
    {
     "name": "stdout",
     "output_type": "stream",
     "text": [
      "98 https://www.domain.com.au/14-orlando-place-edensor-park-nsw-2176-2015888171 3 2 2\n"
     ]
    },
    {
     "name": "stderr",
     "output_type": "stream",
     "text": [
      "\r",
      " 33%|███▎      | 99/301 [00:35<01:11,  2.82it/s]"
     ]
    },
    {
     "name": "stdout",
     "output_type": "stream",
     "text": [
      "99 https://www.domain.com.au/5-great-thorne-street-edgecliff-nsw-2027-2015903791 2 1 −\n"
     ]
    },
    {
     "name": "stderr",
     "output_type": "stream",
     "text": [
      "\r",
      " 33%|███▎      | 100/301 [00:35<01:04,  3.14it/s]"
     ]
    },
    {
     "name": "stdout",
     "output_type": "stream",
     "text": [
      "100 https://www.domain.com.au/5-10-onslow-avenue-elizabeth-bay-nsw-2011-2015896873 3 2 1\n"
     ]
    },
    {
     "name": "stderr",
     "output_type": "stream",
     "text": [
      "\r",
      " 34%|███▎      | 101/301 [00:35<00:58,  3.42it/s]"
     ]
    },
    {
     "name": "stdout",
     "output_type": "stream",
     "text": [
      "101 https://www.domain.com.au/4-sharon-place-engadine-nsw-2233-2015897120 4 2 2\n"
     ]
    },
    {
     "name": "stderr",
     "output_type": "stream",
     "text": [
      "\r",
      " 34%|███▍      | 102/301 [00:36<01:04,  3.09it/s]"
     ]
    },
    {
     "name": "stdout",
     "output_type": "stream",
     "text": [
      "102 https://www.domain.com.au/31-fotheringham-street-enmore-nsw-2042-2015900269 2 1 −\n"
     ]
    },
    {
     "name": "stderr",
     "output_type": "stream",
     "text": [
      "\r",
      " 34%|███▍      | 103/301 [00:36<01:02,  3.15it/s]"
     ]
    },
    {
     "name": "stdout",
     "output_type": "stream",
     "text": [
      "103 https://www.domain.com.au/42-boronia-avenue-epping-nsw-2121-2015888394 6 3 2\n"
     ]
    },
    {
     "name": "stderr",
     "output_type": "stream",
     "text": [
      "\r",
      " 35%|███▍      | 104/301 [00:36<01:03,  3.10it/s]"
     ]
    },
    {
     "name": "stdout",
     "output_type": "stream",
     "text": [
      "104 https://www.domain.com.au/12a-cumberland-street-epping-nsw-2121-2015879206 5 5 1\n"
     ]
    },
    {
     "name": "stderr",
     "output_type": "stream",
     "text": [
      "\r",
      " 35%|███▍      | 105/301 [00:37<01:02,  3.15it/s]"
     ]
    },
    {
     "name": "stdout",
     "output_type": "stream",
     "text": [
      "105 https://www.domain.com.au/7-42-dorset-street-epping-nsw-2121-2015898855 5 3 2\n"
     ]
    },
    {
     "name": "stderr",
     "output_type": "stream",
     "text": [
      "\r",
      " 35%|███▌      | 106/301 [00:37<00:57,  3.37it/s]"
     ]
    },
    {
     "name": "stdout",
     "output_type": "stream",
     "text": [
      "106 https://www.domain.com.au/24-dunmore-road-epping-nsw-2121-2015900458 6 3 2\n"
     ]
    },
    {
     "name": "stderr",
     "output_type": "stream",
     "text": [
      "\r",
      " 36%|███▌      | 107/301 [00:37<00:56,  3.42it/s]"
     ]
    },
    {
     "name": "stdout",
     "output_type": "stream",
     "text": [
      "107 https://www.domain.com.au/17-first-avenue-epping-nsw-2121-2015879059 3 1 1\n"
     ]
    },
    {
     "name": "stderr",
     "output_type": "stream",
     "text": [
      "\r",
      " 36%|███▌      | 108/301 [00:38<00:59,  3.26it/s]"
     ]
    },
    {
     "name": "stdout",
     "output_type": "stream",
     "text": [
      "108 https://www.domain.com.au/39-gloucester-road-epping-nsw-2121-2015898778 4 2 2\n"
     ]
    },
    {
     "name": "stderr",
     "output_type": "stream",
     "text": [
      "\r",
      " 36%|███▌      | 109/301 [00:38<00:58,  3.30it/s]"
     ]
    },
    {
     "name": "stdout",
     "output_type": "stream",
     "text": [
      "109 https://www.domain.com.au/9-hillside-crescent-epping-nsw-2121-2015888894 6 4 2\n"
     ]
    },
    {
     "name": "stderr",
     "output_type": "stream",
     "text": [
      "\r",
      " 37%|███▋      | 110/301 [00:39<01:39,  1.92it/s]"
     ]
    },
    {
     "name": "stdout",
     "output_type": "stream",
     "text": [
      "110 https://www.domain.com.au/21-allura-crescent-ermington-nsw-2115-2015912321 4 2 1\n"
     ]
    },
    {
     "name": "stderr",
     "output_type": "stream",
     "text": [
      "\r",
      " 37%|███▋      | 111/301 [00:39<01:34,  2.01it/s]"
     ]
    },
    {
     "name": "stdout",
     "output_type": "stream",
     "text": [
      "111 https://www.domain.com.au/6-dennis-street-ermington-nsw-2115-2015912036 5 3 4\n"
     ]
    },
    {
     "name": "stderr",
     "output_type": "stream",
     "text": [
      "\r",
      " 37%|███▋      | 112/301 [00:40<01:25,  2.21it/s]"
     ]
    },
    {
     "name": "stdout",
     "output_type": "stream",
     "text": [
      "112 https://www.domain.com.au/8-vignes-street-ermington-nsw-2115-2015892840 2 1 2\n"
     ]
    },
    {
     "name": "stderr",
     "output_type": "stream",
     "text": [
      "\r",
      " 38%|███▊      | 113/301 [00:40<01:19,  2.36it/s]"
     ]
    },
    {
     "name": "stdout",
     "output_type": "stream",
     "text": [
      "113 https://www.domain.com.au/2-parkers-lane-erskineville-nsw-2043-2015903062 3 2 −\n"
     ]
    },
    {
     "name": "stderr",
     "output_type": "stream",
     "text": [
      "\r",
      " 38%|███▊      | 114/301 [00:41<01:17,  2.41it/s]"
     ]
    },
    {
     "name": "stdout",
     "output_type": "stream",
     "text": [
      "114 https://www.domain.com.au/7-turtle-lane-erskineville-nsw-2043-2015895791 3 2 −\n"
     ]
    },
    {
     "ename": "IndexError",
     "evalue": "list index out of range",
     "output_type": "error",
     "traceback": [
      "\u001b[0;31m---------------------------------------------------------------------------\u001b[0m",
      "\u001b[0;31mIndexError\u001b[0m                                Traceback (most recent call last)",
      "\u001b[0;32m<ipython-input-38-5b9a19f6fba0>\u001b[0m in \u001b[0;36m<module>\u001b[0;34m\u001b[0m\n\u001b[1;32m      8\u001b[0m     \u001b[0;32mfor\u001b[0m \u001b[0mbed\u001b[0m \u001b[0;32min\u001b[0m \u001b[0msoup\u001b[0m\u001b[0;34m.\u001b[0m\u001b[0mselect\u001b[0m\u001b[0;34m(\u001b[0m\u001b[0;34m'.listing-details__listing-summary-features'\u001b[0m\u001b[0;34m)\u001b[0m\u001b[0;34m:\u001b[0m\u001b[0;34m\u001b[0m\u001b[0;34m\u001b[0m\u001b[0m\n\u001b[1;32m      9\u001b[0m         \u001b[0mDomain_auction_price\u001b[0m\u001b[0;34m[\u001b[0m\u001b[0;34m'beds'\u001b[0m\u001b[0;34m]\u001b[0m\u001b[0;34m[\u001b[0m\u001b[0mi\u001b[0m\u001b[0;34m]\u001b[0m \u001b[0;34m=\u001b[0m \u001b[0mbed\u001b[0m\u001b[0;34m.\u001b[0m\u001b[0mselect\u001b[0m\u001b[0;34m(\u001b[0m\u001b[0;34m'span'\u001b[0m\u001b[0;34m)\u001b[0m\u001b[0;34m[\u001b[0m\u001b[0;36m1\u001b[0m\u001b[0;34m]\u001b[0m\u001b[0;34m.\u001b[0m\u001b[0mtext\u001b[0m\u001b[0;34m[\u001b[0m\u001b[0;36m0\u001b[0m\u001b[0;34m]\u001b[0m\u001b[0;34m\u001b[0m\u001b[0;34m\u001b[0m\u001b[0m\n\u001b[0;32m---> 10\u001b[0;31m         \u001b[0mDomain_auction_price\u001b[0m\u001b[0;34m[\u001b[0m\u001b[0;34m'baths'\u001b[0m\u001b[0;34m]\u001b[0m\u001b[0;34m[\u001b[0m\u001b[0mi\u001b[0m\u001b[0;34m]\u001b[0m \u001b[0;34m=\u001b[0m \u001b[0mbaths\u001b[0m \u001b[0;34m=\u001b[0m \u001b[0mbed\u001b[0m\u001b[0;34m.\u001b[0m\u001b[0mselect\u001b[0m\u001b[0;34m(\u001b[0m\u001b[0;34m'span'\u001b[0m\u001b[0;34m)\u001b[0m\u001b[0;34m[\u001b[0m\u001b[0;36m3\u001b[0m\u001b[0;34m]\u001b[0m\u001b[0;34m.\u001b[0m\u001b[0mtext\u001b[0m\u001b[0;34m[\u001b[0m\u001b[0;36m0\u001b[0m\u001b[0;34m]\u001b[0m\u001b[0;34m\u001b[0m\u001b[0;34m\u001b[0m\u001b[0m\n\u001b[0m\u001b[1;32m     11\u001b[0m         \u001b[0mDomain_auction_price\u001b[0m\u001b[0;34m[\u001b[0m\u001b[0;34m'cars'\u001b[0m\u001b[0;34m]\u001b[0m\u001b[0;34m[\u001b[0m\u001b[0mi\u001b[0m\u001b[0;34m]\u001b[0m \u001b[0;34m=\u001b[0m \u001b[0mbed\u001b[0m\u001b[0;34m.\u001b[0m\u001b[0mselect\u001b[0m\u001b[0;34m(\u001b[0m\u001b[0;34m'span'\u001b[0m\u001b[0;34m)\u001b[0m\u001b[0;34m[\u001b[0m\u001b[0;36m6\u001b[0m\u001b[0;34m]\u001b[0m\u001b[0;34m.\u001b[0m\u001b[0mtext\u001b[0m\u001b[0;34m[\u001b[0m\u001b[0;36m0\u001b[0m\u001b[0;34m]\u001b[0m\u001b[0;34m\u001b[0m\u001b[0;34m\u001b[0m\u001b[0m\n\u001b[1;32m     12\u001b[0m     \u001b[0mprint\u001b[0m\u001b[0;34m(\u001b[0m\u001b[0mn\u001b[0m\u001b[0;34m,\u001b[0m \u001b[0murl\u001b[0m\u001b[0;34m,\u001b[0m \u001b[0mDomain_auction_price\u001b[0m\u001b[0;34m[\u001b[0m\u001b[0;34m'beds'\u001b[0m\u001b[0;34m]\u001b[0m\u001b[0;34m[\u001b[0m\u001b[0mi\u001b[0m\u001b[0;34m]\u001b[0m\u001b[0;34m,\u001b[0m \u001b[0mDomain_auction_price\u001b[0m\u001b[0;34m[\u001b[0m\u001b[0;34m'baths'\u001b[0m\u001b[0;34m]\u001b[0m\u001b[0;34m[\u001b[0m\u001b[0mi\u001b[0m\u001b[0;34m]\u001b[0m\u001b[0;34m,\u001b[0m \u001b[0mDomain_auction_price\u001b[0m\u001b[0;34m[\u001b[0m\u001b[0;34m'cars'\u001b[0m\u001b[0;34m]\u001b[0m\u001b[0;34m[\u001b[0m\u001b[0mi\u001b[0m\u001b[0;34m]\u001b[0m\u001b[0;34m)\u001b[0m\u001b[0;34m\u001b[0m\u001b[0;34m\u001b[0m\u001b[0m\n",
      "\u001b[0;31mIndexError\u001b[0m: list index out of range"
     ]
    }
   ],
   "source": [
    "n = 0\n",
    "for i in tqdm(range(len(Domain_auction_price['url']))):\n",
    "    n = n+1\n",
    "    url = Domain_auction_price['url'][i]\n",
    "    resp = requests.get(url)\n",
    "    resp.encoding = 'utf-8'\n",
    "    soup = BeautifulSoup(resp.text, 'html.parser')\n",
    "    for bed in soup.select('.listing-details__listing-summary-features'):\n",
    "        Domain_auction_price['beds'][i] = bed.select('span')[1].text[0]\n",
    "        Domain_auction_price['baths'][i] = baths = bed.select('span')[3].text[0]\n",
    "        Domain_auction_price['cars'][i] = bed.select('span')[6].text[0]\n",
    "    print(n, url, Domain_auction_price['beds'][i], Domain_auction_price['baths'][i], Domain_auction_price['cars'][i])"
   ]
  },
  {
   "cell_type": "code",
   "execution_count": 39,
   "metadata": {},
   "outputs": [
    {
     "data": {
      "text/html": [
       "<div>\n",
       "<style scoped>\n",
       "    .dataframe tbody tr th:only-of-type {\n",
       "        vertical-align: middle;\n",
       "    }\n",
       "\n",
       "    .dataframe tbody tr th {\n",
       "        vertical-align: top;\n",
       "    }\n",
       "\n",
       "    .dataframe thead th {\n",
       "        text-align: right;\n",
       "    }\n",
       "</style>\n",
       "<table border=\"1\" class=\"dataframe\">\n",
       "  <thead>\n",
       "    <tr style=\"text-align: right;\">\n",
       "      <th></th>\n",
       "      <th>Unnamed: 0</th>\n",
       "      <th>date</th>\n",
       "      <th>address</th>\n",
       "      <th>suburb</th>\n",
       "      <th>prop_type</th>\n",
       "      <th>status</th>\n",
       "      <th>sold_price</th>\n",
       "      <th>url</th>\n",
       "      <th>post_code</th>\n",
       "      <th>address_for_api</th>\n",
       "      <th>address_from_api</th>\n",
       "      <th>beds</th>\n",
       "      <th>baths</th>\n",
       "      <th>cars</th>\n",
       "    </tr>\n",
       "  </thead>\n",
       "  <tbody>\n",
       "    <tr>\n",
       "      <td>0</td>\n",
       "      <td>0</td>\n",
       "      <td>14/12/2019</td>\n",
       "      <td>6 Watting St</td>\n",
       "      <td>NaN</td>\n",
       "      <td>House</td>\n",
       "      <td>Sold</td>\n",
       "      <td>950000</td>\n",
       "      <td>https://www.domain.com.au/6-watting-st-abbotsb...</td>\n",
       "      <td>2176</td>\n",
       "      <td>6+Watting+St,+nan+NSW+2176</td>\n",
       "      <td>6 WATTING ST, NAN NSW 2176</td>\n",
       "      <td>4</td>\n",
       "      <td>2</td>\n",
       "      <td>2</td>\n",
       "    </tr>\n",
       "    <tr>\n",
       "      <td>1</td>\n",
       "      <td>1</td>\n",
       "      <td>14/12/2019</td>\n",
       "      <td>56 Abbotsford Pde</td>\n",
       "      <td>ABBOTSFORD</td>\n",
       "      <td>Semi</td>\n",
       "      <td>Sold</td>\n",
       "      <td>1.69e+06</td>\n",
       "      <td>https://www.domain.com.au/56-abbotsford-parade...</td>\n",
       "      <td>2046</td>\n",
       "      <td>56+Abbotsford+Pde,+ABBOTSFORD+NSW+2046</td>\n",
       "      <td>56 ABBOTSFORD PDE, ABBOTSFORD NSW 2046</td>\n",
       "      <td>4</td>\n",
       "      <td>2</td>\n",
       "      <td>1</td>\n",
       "    </tr>\n",
       "    <tr>\n",
       "      <td>2</td>\n",
       "      <td>2</td>\n",
       "      <td>14/12/2019</td>\n",
       "      <td>41/25 Birmingham St</td>\n",
       "      <td>ALEXANDRIA</td>\n",
       "      <td>Unit</td>\n",
       "      <td>Sold</td>\n",
       "      <td>882000</td>\n",
       "      <td>https://www.domain.com.au/41-25-birmingham-str...</td>\n",
       "      <td>2015</td>\n",
       "      <td>41/25+Birmingham+St,+ALEXANDRIA+NSW+2015</td>\n",
       "      <td>41/25 BIRMINGHAM ST, ALEXANDRIA NSW 2015</td>\n",
       "      <td>2</td>\n",
       "      <td>1</td>\n",
       "      <td>1</td>\n",
       "    </tr>\n",
       "    <tr>\n",
       "      <td>3</td>\n",
       "      <td>3</td>\n",
       "      <td>14/12/2019</td>\n",
       "      <td>C426/2-6 Mandible St</td>\n",
       "      <td>ALEXANDRIA</td>\n",
       "      <td>Unit</td>\n",
       "      <td>Sold</td>\n",
       "      <td>482000</td>\n",
       "      <td>https://www.domain.com.au/c426-2-6-mandible-st...</td>\n",
       "      <td>2015</td>\n",
       "      <td>C426/2-6+Mandible+St,+ALEXANDRIA+NSW+2015</td>\n",
       "      <td>C426/2 MANDIBLE ST, ALEXANDRIA NSW 2015</td>\n",
       "      <td>1</td>\n",
       "      <td>1</td>\n",
       "      <td>−</td>\n",
       "    </tr>\n",
       "    <tr>\n",
       "      <td>4</td>\n",
       "      <td>4</td>\n",
       "      <td>14/12/2019</td>\n",
       "      <td>M207/68 McEvoy St</td>\n",
       "      <td>ALEXANDRIA</td>\n",
       "      <td>Unit</td>\n",
       "      <td>Sold prior to auction</td>\n",
       "      <td>820000</td>\n",
       "      <td>https://www.domain.com.au/m207-68-mcevoy-stree...</td>\n",
       "      <td>2015</td>\n",
       "      <td>M207/68+McEvoy+St,+ALEXANDRIA+NSW+2015</td>\n",
       "      <td>M207/68 MCEVOY ST, ALEXANDRIA NSW 2015</td>\n",
       "      <td>2</td>\n",
       "      <td>2</td>\n",
       "      <td>1</td>\n",
       "    </tr>\n",
       "    <tr>\n",
       "      <td>...</td>\n",
       "      <td>...</td>\n",
       "      <td>...</td>\n",
       "      <td>...</td>\n",
       "      <td>...</td>\n",
       "      <td>...</td>\n",
       "      <td>...</td>\n",
       "      <td>...</td>\n",
       "      <td>...</td>\n",
       "      <td>...</td>\n",
       "      <td>...</td>\n",
       "      <td>...</td>\n",
       "      <td>...</td>\n",
       "      <td>...</td>\n",
       "      <td>...</td>\n",
       "    </tr>\n",
       "    <tr>\n",
       "      <td>296</td>\n",
       "      <td>404</td>\n",
       "      <td>14/12/2019</td>\n",
       "      <td>1 Dotterel Pl</td>\n",
       "      <td>WORONORA HEIGHTS</td>\n",
       "      <td>House</td>\n",
       "      <td>Sold prior to auction</td>\n",
       "      <td>1.125e+06</td>\n",
       "      <td>https://www.domain.com.au/1-dotterel-place-wor...</td>\n",
       "      <td>2233</td>\n",
       "      <td>1+Dotterel+Pl,+WORONORA+HEIGHTS+NSW+2233</td>\n",
       "      <td></td>\n",
       "      <td></td>\n",
       "      <td></td>\n",
       "      <td></td>\n",
       "    </tr>\n",
       "    <tr>\n",
       "      <td>297</td>\n",
       "      <td>405</td>\n",
       "      <td>14/12/2019</td>\n",
       "      <td>22 Spoonbill Av</td>\n",
       "      <td>WORONORA HEIGHTS</td>\n",
       "      <td>House</td>\n",
       "      <td>Sold prior to auction</td>\n",
       "      <td>1.13e+06</td>\n",
       "      <td>https://www.domain.com.au/22-spoonbill-avenue-...</td>\n",
       "      <td>2233</td>\n",
       "      <td>22+Spoonbill+Av,+WORONORA+HEIGHTS+NSW+2233</td>\n",
       "      <td></td>\n",
       "      <td></td>\n",
       "      <td></td>\n",
       "      <td></td>\n",
       "    </tr>\n",
       "    <tr>\n",
       "      <td>298</td>\n",
       "      <td>406</td>\n",
       "      <td>14/12/2019</td>\n",
       "      <td>22 Anthony St</td>\n",
       "      <td>YAGOONA</td>\n",
       "      <td>House</td>\n",
       "      <td>Sold</td>\n",
       "      <td>795000</td>\n",
       "      <td>https://www.domain.com.au/22-anthony-street-ya...</td>\n",
       "      <td>2199</td>\n",
       "      <td>22+Anthony+St,+YAGOONA+NSW+2199</td>\n",
       "      <td></td>\n",
       "      <td></td>\n",
       "      <td></td>\n",
       "      <td></td>\n",
       "    </tr>\n",
       "    <tr>\n",
       "      <td>299</td>\n",
       "      <td>407</td>\n",
       "      <td>14/12/2019</td>\n",
       "      <td>2/118 Rookwood Rd</td>\n",
       "      <td>YAGOONA</td>\n",
       "      <td>Townhouse</td>\n",
       "      <td>Sold</td>\n",
       "      <td>571500</td>\n",
       "      <td>https://www.domain.com.au/2-118-rookwood-road-...</td>\n",
       "      <td>2199</td>\n",
       "      <td>2/118+Rookwood+Rd,+YAGOONA+NSW+2199</td>\n",
       "      <td></td>\n",
       "      <td></td>\n",
       "      <td></td>\n",
       "      <td></td>\n",
       "    </tr>\n",
       "    <tr>\n",
       "      <td>300</td>\n",
       "      <td>408</td>\n",
       "      <td>14/12/2019</td>\n",
       "      <td>39 Wilkins St</td>\n",
       "      <td>YAGOONA</td>\n",
       "      <td>House</td>\n",
       "      <td>Sold</td>\n",
       "      <td>1.879e+06</td>\n",
       "      <td>https://www.domain.com.au/39-wilkins-street-ya...</td>\n",
       "      <td>2199</td>\n",
       "      <td>39+Wilkins+St,+YAGOONA+NSW+2199</td>\n",
       "      <td></td>\n",
       "      <td></td>\n",
       "      <td></td>\n",
       "      <td></td>\n",
       "    </tr>\n",
       "  </tbody>\n",
       "</table>\n",
       "<p>301 rows × 14 columns</p>\n",
       "</div>"
      ],
      "text/plain": [
       "     Unnamed: 0        date               address            suburb  \\\n",
       "0             0  14/12/2019          6 Watting St               NaN   \n",
       "1             1  14/12/2019     56 Abbotsford Pde        ABBOTSFORD   \n",
       "2             2  14/12/2019   41/25 Birmingham St        ALEXANDRIA   \n",
       "3             3  14/12/2019  C426/2-6 Mandible St        ALEXANDRIA   \n",
       "4             4  14/12/2019     M207/68 McEvoy St        ALEXANDRIA   \n",
       "..          ...         ...                   ...               ...   \n",
       "296         404  14/12/2019         1 Dotterel Pl  WORONORA HEIGHTS   \n",
       "297         405  14/12/2019       22 Spoonbill Av  WORONORA HEIGHTS   \n",
       "298         406  14/12/2019         22 Anthony St           YAGOONA   \n",
       "299         407  14/12/2019     2/118 Rookwood Rd           YAGOONA   \n",
       "300         408  14/12/2019         39 Wilkins St           YAGOONA   \n",
       "\n",
       "     prop_type                 status sold_price  \\\n",
       "0        House                   Sold     950000   \n",
       "1         Semi                   Sold   1.69e+06   \n",
       "2         Unit                   Sold     882000   \n",
       "3         Unit                   Sold     482000   \n",
       "4         Unit  Sold prior to auction     820000   \n",
       "..         ...                    ...        ...   \n",
       "296      House  Sold prior to auction  1.125e+06   \n",
       "297      House  Sold prior to auction   1.13e+06   \n",
       "298      House                   Sold     795000   \n",
       "299  Townhouse                   Sold     571500   \n",
       "300      House                   Sold  1.879e+06   \n",
       "\n",
       "                                                   url post_code  \\\n",
       "0    https://www.domain.com.au/6-watting-st-abbotsb...      2176   \n",
       "1    https://www.domain.com.au/56-abbotsford-parade...      2046   \n",
       "2    https://www.domain.com.au/41-25-birmingham-str...      2015   \n",
       "3    https://www.domain.com.au/c426-2-6-mandible-st...      2015   \n",
       "4    https://www.domain.com.au/m207-68-mcevoy-stree...      2015   \n",
       "..                                                 ...       ...   \n",
       "296  https://www.domain.com.au/1-dotterel-place-wor...      2233   \n",
       "297  https://www.domain.com.au/22-spoonbill-avenue-...      2233   \n",
       "298  https://www.domain.com.au/22-anthony-street-ya...      2199   \n",
       "299  https://www.domain.com.au/2-118-rookwood-road-...      2199   \n",
       "300  https://www.domain.com.au/39-wilkins-street-ya...      2199   \n",
       "\n",
       "                                address_for_api  \\\n",
       "0                    6+Watting+St,+nan+NSW+2176   \n",
       "1        56+Abbotsford+Pde,+ABBOTSFORD+NSW+2046   \n",
       "2      41/25+Birmingham+St,+ALEXANDRIA+NSW+2015   \n",
       "3     C426/2-6+Mandible+St,+ALEXANDRIA+NSW+2015   \n",
       "4        M207/68+McEvoy+St,+ALEXANDRIA+NSW+2015   \n",
       "..                                          ...   \n",
       "296    1+Dotterel+Pl,+WORONORA+HEIGHTS+NSW+2233   \n",
       "297  22+Spoonbill+Av,+WORONORA+HEIGHTS+NSW+2233   \n",
       "298             22+Anthony+St,+YAGOONA+NSW+2199   \n",
       "299         2/118+Rookwood+Rd,+YAGOONA+NSW+2199   \n",
       "300             39+Wilkins+St,+YAGOONA+NSW+2199   \n",
       "\n",
       "                             address_from_api beds baths cars  \n",
       "0                  6 WATTING ST, NAN NSW 2176    4     2    2  \n",
       "1      56 ABBOTSFORD PDE, ABBOTSFORD NSW 2046    4     2    1  \n",
       "2    41/25 BIRMINGHAM ST, ALEXANDRIA NSW 2015    2     1    1  \n",
       "3     C426/2 MANDIBLE ST, ALEXANDRIA NSW 2015    1     1    −  \n",
       "4      M207/68 MCEVOY ST, ALEXANDRIA NSW 2015    2     2    1  \n",
       "..                                        ...  ...   ...  ...  \n",
       "296                                                            \n",
       "297                                                            \n",
       "298                                                            \n",
       "299                                                            \n",
       "300                                                            \n",
       "\n",
       "[301 rows x 14 columns]"
      ]
     },
     "execution_count": 39,
     "metadata": {},
     "output_type": "execute_result"
    }
   ],
   "source": [
    "Domain_auction_price"
   ]
  },
  {
   "cell_type": "code",
   "execution_count": 40,
   "metadata": {},
   "outputs": [
    {
     "name": "stderr",
     "output_type": "stream",
     "text": [
      "/opt/anaconda3/lib/python3.7/site-packages/ipykernel_launcher.py:28: SettingWithCopyWarning: \n",
      "A value is trying to be set on a copy of a slice from a DataFrame\n",
      "\n",
      "See the caveats in the documentation: http://pandas.pydata.org/pandas-docs/stable/user_guide/indexing.html#returning-a-view-versus-a-copy\n"
     ]
    }
   ],
   "source": [
    "for j in range(len(Domain_auction_price['address'])):\n",
    "    i = Domain_auction_price['address'][j]\n",
    "    i = str(i).upper()\n",
    "    if i[-2:] == 'ST':\n",
    "        i = i[0:-3] + ' STREET'\n",
    "    elif i[-2:] == 'AV':\n",
    "        i = i[0:-3] + ' AVENUE'\n",
    "    elif i[-2:] == 'RD':\n",
    "        i = i[0:-3] + ' ROAD'\n",
    "    elif i[-2:] == 'DR':\n",
    "        i = i[0:-3] + ' DRIVE'\n",
    "    elif i[-2:] == 'WY':\n",
    "        i = i[0:-3] + ' WAY'\n",
    "    elif i[-3:] == ' CT':\n",
    "        i = i[0:-4] + ' COURT'\n",
    "    elif i[-3:] == 'CCT':\n",
    "        i = i[0:-4] + ' CIRCUIT'\n",
    "    elif i[-2:] == 'CR':\n",
    "        i = i[0:-3] + ' CRESCENT'\n",
    "    elif i[-2:] == 'PL':\n",
    "        i = i[0:-3] + ' PLACE'\n",
    "    elif i[-2:] == 'CL':\n",
    "        i = i[0:-3] + ' CLOSE'\n",
    "    elif i[-3:] == 'PDE':\n",
    "        i = i[0:-3] + ' PLACE'\n",
    "    elif i[-3:] == 'PDE':\n",
    "        i = i[0:-3] + ' PLACE'\n",
    "    Domain_auction_price['address'][j] = i"
   ]
  },
  {
   "cell_type": "code",
   "execution_count": 42,
   "metadata": {},
   "outputs": [],
   "source": [
    "Domain_auction_price.to_csv('Domain_sold_price_14_12_2019_updated.csv')"
   ]
  },
  {
   "cell_type": "code",
   "execution_count": null,
   "metadata": {},
   "outputs": [],
   "source": []
  }
 ],
 "metadata": {
  "kernelspec": {
   "display_name": "Python 3",
   "language": "python",
   "name": "python3"
  },
  "language_info": {
   "codemirror_mode": {
    "name": "ipython",
    "version": 3
   },
   "file_extension": ".py",
   "mimetype": "text/x-python",
   "name": "python",
   "nbconvert_exporter": "python",
   "pygments_lexer": "ipython3",
   "version": "3.7.4"
  }
 },
 "nbformat": 4,
 "nbformat_minor": 2
}
