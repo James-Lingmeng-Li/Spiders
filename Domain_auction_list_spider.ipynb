{
 "cells": [
  {
   "cell_type": "code",
   "execution_count": 3,
   "metadata": {},
   "outputs": [],
   "source": [
    "from bs4 import BeautifulSoup\n",
    "import pandas as pd\n",
    "import requests,re,json, random\n",
    "from tqdm import tqdm"
   ]
  },
  {
   "cell_type": "code",
   "execution_count": 4,
   "metadata": {},
   "outputs": [],
   "source": [
    "df = pd.DataFrame(columns=['full_address', 'url', 'prop_type', 'street','suburb_state_postcode','suburb',\n",
    "                          'state','post_code','beds','baths','cars','area'])\n",
    "full_address_list = []\n",
    "url_list = []\n",
    "prop_type_list = []\n",
    "street_list = []\n",
    "suburb_state_postcode_list = []\n",
    "suburb_list = []\n",
    "state_list = []\n",
    "post_code_list = []\n",
    "beds_list = []\n",
    "baths_list = []\n",
    "cars_list = []\n",
    "ares_list = []"
   ]
  },
  {
   "cell_type": "code",
   "execution_count": 5,
   "metadata": {},
   "outputs": [
    {
     "name": "stderr",
     "output_type": "stream",
     "text": [
      "  4%|▍         | 1/25 [00:00<00:21,  1.13it/s]"
     ]
    },
    {
     "name": "stdout",
     "output_type": "stream",
     "text": [
      "1\n"
     ]
    },
    {
     "name": "stderr",
     "output_type": "stream",
     "text": [
      "\r",
      "  8%|▊         | 2/25 [00:01<00:18,  1.25it/s]"
     ]
    },
    {
     "name": "stdout",
     "output_type": "stream",
     "text": [
      "2\n"
     ]
    },
    {
     "name": "stderr",
     "output_type": "stream",
     "text": [
      "\r",
      " 12%|█▏        | 3/25 [00:02<00:16,  1.37it/s]"
     ]
    },
    {
     "name": "stdout",
     "output_type": "stream",
     "text": [
      "3\n"
     ]
    },
    {
     "name": "stderr",
     "output_type": "stream",
     "text": [
      "\r",
      " 16%|█▌        | 4/25 [00:02<00:14,  1.45it/s]"
     ]
    },
    {
     "name": "stdout",
     "output_type": "stream",
     "text": [
      "4\n"
     ]
    },
    {
     "name": "stderr",
     "output_type": "stream",
     "text": [
      "\r",
      " 20%|██        | 5/25 [00:03<00:13,  1.52it/s]"
     ]
    },
    {
     "name": "stdout",
     "output_type": "stream",
     "text": [
      "5\n"
     ]
    },
    {
     "name": "stderr",
     "output_type": "stream",
     "text": [
      "\r",
      " 24%|██▍       | 6/25 [00:03<00:12,  1.52it/s]"
     ]
    },
    {
     "name": "stdout",
     "output_type": "stream",
     "text": [
      "6\n"
     ]
    },
    {
     "name": "stderr",
     "output_type": "stream",
     "text": [
      "\r",
      " 28%|██▊       | 7/25 [00:04<00:09,  1.84it/s]"
     ]
    },
    {
     "name": "stdout",
     "output_type": "stream",
     "text": [
      "7\n"
     ]
    },
    {
     "name": "stderr",
     "output_type": "stream",
     "text": [
      "\r",
      " 32%|███▏      | 8/25 [00:04<00:08,  2.12it/s]"
     ]
    },
    {
     "name": "stdout",
     "output_type": "stream",
     "text": [
      "8\n"
     ]
    },
    {
     "name": "stderr",
     "output_type": "stream",
     "text": [
      "\r",
      " 36%|███▌      | 9/25 [00:04<00:06,  2.45it/s]"
     ]
    },
    {
     "name": "stdout",
     "output_type": "stream",
     "text": [
      "9\n"
     ]
    },
    {
     "name": "stderr",
     "output_type": "stream",
     "text": [
      "\r",
      " 40%|████      | 10/25 [00:04<00:05,  2.75it/s]"
     ]
    },
    {
     "name": "stdout",
     "output_type": "stream",
     "text": [
      "10\n"
     ]
    },
    {
     "name": "stderr",
     "output_type": "stream",
     "text": [
      "\r",
      " 44%|████▍     | 11/25 [00:05<00:04,  2.98it/s]"
     ]
    },
    {
     "name": "stdout",
     "output_type": "stream",
     "text": [
      "11\n"
     ]
    },
    {
     "name": "stderr",
     "output_type": "stream",
     "text": [
      "\r",
      " 48%|████▊     | 12/25 [00:05<00:04,  3.14it/s]"
     ]
    },
    {
     "name": "stdout",
     "output_type": "stream",
     "text": [
      "12\n"
     ]
    },
    {
     "name": "stderr",
     "output_type": "stream",
     "text": [
      "\r",
      " 52%|█████▏    | 13/25 [00:05<00:03,  3.29it/s]"
     ]
    },
    {
     "name": "stdout",
     "output_type": "stream",
     "text": [
      "13\n"
     ]
    },
    {
     "name": "stderr",
     "output_type": "stream",
     "text": [
      "\r",
      " 56%|█████▌    | 14/25 [00:06<00:03,  3.14it/s]"
     ]
    },
    {
     "name": "stdout",
     "output_type": "stream",
     "text": [
      "14\n"
     ]
    },
    {
     "name": "stderr",
     "output_type": "stream",
     "text": [
      "\r",
      " 60%|██████    | 15/25 [00:06<00:03,  3.31it/s]"
     ]
    },
    {
     "name": "stdout",
     "output_type": "stream",
     "text": [
      "15\n"
     ]
    },
    {
     "name": "stderr",
     "output_type": "stream",
     "text": [
      "\r",
      " 64%|██████▍   | 16/25 [00:06<00:02,  3.34it/s]"
     ]
    },
    {
     "name": "stdout",
     "output_type": "stream",
     "text": [
      "16\n"
     ]
    },
    {
     "name": "stderr",
     "output_type": "stream",
     "text": [
      "\r",
      " 68%|██████▊   | 17/25 [00:06<00:02,  3.48it/s]"
     ]
    },
    {
     "name": "stdout",
     "output_type": "stream",
     "text": [
      "17\n"
     ]
    },
    {
     "name": "stderr",
     "output_type": "stream",
     "text": [
      "\r",
      " 72%|███████▏  | 18/25 [00:07<00:01,  3.54it/s]"
     ]
    },
    {
     "name": "stdout",
     "output_type": "stream",
     "text": [
      "18\n"
     ]
    },
    {
     "name": "stderr",
     "output_type": "stream",
     "text": [
      "\r",
      " 76%|███████▌  | 19/25 [00:07<00:01,  3.42it/s]"
     ]
    },
    {
     "name": "stdout",
     "output_type": "stream",
     "text": [
      "19\n"
     ]
    },
    {
     "name": "stderr",
     "output_type": "stream",
     "text": [
      "\r",
      " 80%|████████  | 20/25 [00:07<00:01,  3.16it/s]"
     ]
    },
    {
     "name": "stdout",
     "output_type": "stream",
     "text": [
      "20\n"
     ]
    },
    {
     "name": "stderr",
     "output_type": "stream",
     "text": [
      "\r",
      " 84%|████████▍ | 21/25 [00:08<00:01,  3.33it/s]"
     ]
    },
    {
     "name": "stdout",
     "output_type": "stream",
     "text": [
      "21\n"
     ]
    },
    {
     "name": "stderr",
     "output_type": "stream",
     "text": [
      "\r",
      " 88%|████████▊ | 22/25 [00:08<00:00,  3.27it/s]"
     ]
    },
    {
     "name": "stdout",
     "output_type": "stream",
     "text": [
      "22\n"
     ]
    },
    {
     "name": "stderr",
     "output_type": "stream",
     "text": [
      "\r",
      " 92%|█████████▏| 23/25 [00:08<00:00,  3.22it/s]"
     ]
    },
    {
     "name": "stdout",
     "output_type": "stream",
     "text": [
      "23\n"
     ]
    },
    {
     "name": "stderr",
     "output_type": "stream",
     "text": [
      "\r",
      " 96%|█████████▌| 24/25 [00:09<00:00,  3.39it/s]"
     ]
    },
    {
     "name": "stdout",
     "output_type": "stream",
     "text": [
      "24\n"
     ]
    },
    {
     "name": "stderr",
     "output_type": "stream",
     "text": [
      "100%|██████████| 25/25 [00:09<00:00,  2.67it/s]"
     ]
    },
    {
     "name": "stdout",
     "output_type": "stream",
     "text": [
      "25\n"
     ]
    },
    {
     "name": "stderr",
     "output_type": "stream",
     "text": [
      "\n"
     ]
    }
   ],
   "source": [
    "for page in tqdm(range(1,26)):\n",
    "    url = f'https://www.domain.com.au/sale/sydney-region-nsw/auction-times/?ptype=apartment-unit-flat,block-of-units,duplex,free-standing,new-apartments,new-home-designs,new-house-land,pent-house,semi-detached,studio,terrace,town-house,villa&page={page}'\n",
    "    resp = requests.get(url)\n",
    "    soup = BeautifulSoup(resp.text, 'html.parser')\n",
    "    print(page)\n",
    "    for properties in soup.select('.listing-result__listing-details'):\n",
    "        if (len(properties.select('h2'))>0):\n",
    "            full_address = properties.select('h2')[0].text\n",
    "            url = properties.select('a')[0]['href']\n",
    "            prop_type = properties.select('div')[0].text\n",
    "            street = properties.select('span')[0].text\n",
    "            suburb_state_postcode = properties.select('span')[1].text\n",
    "            suburb = properties.select('span')[2].text\n",
    "            state = properties.select('span')[3].text\n",
    "            post_code = properties.select('span')[4].text\n",
    "            beds = properties.select('span')[5].text\n",
    "            try:\n",
    "                baths = properties.select('span')[8].text\n",
    "            except:\n",
    "                baths = ''\n",
    "            try:\n",
    "                cars = properties.select('span')[11].text\n",
    "            except:\n",
    "                cars = ''\n",
    "            try:\n",
    "                area = properties.select('span')[14].text\n",
    "            except:\n",
    "                area = ''\n",
    "            \n",
    "            full_address_list.append(full_address)\n",
    "            url_list.append(url)\n",
    "            prop_type_list.append(prop_type)\n",
    "            street_list.append(street)\n",
    "            suburb_state_postcode_list.append(suburb_state_postcode)\n",
    "            suburb_list.append(suburb)\n",
    "            state_list.append(state)\n",
    "            post_code_list.append(post_code)\n",
    "            beds_list.append(beds)\n",
    "            baths_list.append(baths)\n",
    "            cars_list.append(cars)\n",
    "            ares_list.append(area)    "
   ]
  },
  {
   "cell_type": "code",
   "execution_count": 6,
   "metadata": {},
   "outputs": [
    {
     "data": {
      "text/plain": [
       "106"
      ]
     },
     "execution_count": 6,
     "metadata": {},
     "output_type": "execute_result"
    }
   ],
   "source": [
    "len(full_address_list)"
   ]
  },
  {
   "cell_type": "code",
   "execution_count": 7,
   "metadata": {},
   "outputs": [],
   "source": [
    "df['full_address'] = full_address_list\n",
    "df['url'] = url_list\n",
    "df['prop_type'] = prop_type_list\n",
    "df['street'] = street_list\n",
    "df['suburb_state_postcode'] = suburb_state_postcode_list\n",
    "df['suburb'] = suburb_list\n",
    "df['state'] = state_list\n",
    "df['post_code'] = post_code_list\n",
    "df['beds'] = beds_list\n",
    "df['baths'] = baths_list\n",
    "df['cars'] = cars_list\n",
    "df['area'] = ares_list"
   ]
  },
  {
   "cell_type": "code",
   "execution_count": 8,
   "metadata": {},
   "outputs": [
    {
     "data": {
      "text/html": [
       "<div>\n",
       "<style scoped>\n",
       "    .dataframe tbody tr th:only-of-type {\n",
       "        vertical-align: middle;\n",
       "    }\n",
       "\n",
       "    .dataframe tbody tr th {\n",
       "        vertical-align: top;\n",
       "    }\n",
       "\n",
       "    .dataframe thead th {\n",
       "        text-align: right;\n",
       "    }\n",
       "</style>\n",
       "<table border=\"1\" class=\"dataframe\">\n",
       "  <thead>\n",
       "    <tr style=\"text-align: right;\">\n",
       "      <th></th>\n",
       "      <th>full_address</th>\n",
       "      <th>url</th>\n",
       "      <th>prop_type</th>\n",
       "      <th>street</th>\n",
       "      <th>suburb_state_postcode</th>\n",
       "      <th>suburb</th>\n",
       "      <th>state</th>\n",
       "      <th>post_code</th>\n",
       "      <th>beds</th>\n",
       "      <th>baths</th>\n",
       "      <th>cars</th>\n",
       "      <th>area</th>\n",
       "    </tr>\n",
       "  </thead>\n",
       "  <tbody>\n",
       "    <tr>\n",
       "      <td>0</td>\n",
       "      <td>19 The Crescent, DEE WHY NSW 2099</td>\n",
       "      <td>https://www.domain.com.au/19-the-crescent-dee-...</td>\n",
       "      <td>House</td>\n",
       "      <td>19 The Crescent,</td>\n",
       "      <td>DEE WHY NSW 2099</td>\n",
       "      <td>DEE WHY</td>\n",
       "      <td>NSW</td>\n",
       "      <td>2099</td>\n",
       "      <td>.css-k9a40f{font-weight:bold;margin-right:6px;...</td>\n",
       "      <td>2 Baths</td>\n",
       "      <td>2 Parking</td>\n",
       "      <td>737m²</td>\n",
       "    </tr>\n",
       "    <tr>\n",
       "      <td>1</td>\n",
       "      <td>51 River Road, GREENWICH NSW 2065</td>\n",
       "      <td>https://www.domain.com.au/51-river-road-greenw...</td>\n",
       "      <td>House</td>\n",
       "      <td>51 River Road,</td>\n",
       "      <td>GREENWICH NSW 2065</td>\n",
       "      <td>GREENWICH</td>\n",
       "      <td>NSW</td>\n",
       "      <td>2065</td>\n",
       "      <td>3 Beds</td>\n",
       "      <td>3 Baths</td>\n",
       "      <td>1 Parking</td>\n",
       "      <td>575m²</td>\n",
       "    </tr>\n",
       "    <tr>\n",
       "      <td>2</td>\n",
       "      <td>11 Tenth Avenue, OYSTER BAY NSW 2225</td>\n",
       "      <td>https://www.domain.com.au/11-tenth-avenue-oyst...</td>\n",
       "      <td>House</td>\n",
       "      <td>11 Tenth Avenue,</td>\n",
       "      <td>OYSTER BAY NSW 2225</td>\n",
       "      <td>OYSTER BAY</td>\n",
       "      <td>NSW</td>\n",
       "      <td>2225</td>\n",
       "      <td>4 Beds</td>\n",
       "      <td>2 Baths</td>\n",
       "      <td>2 Parking</td>\n",
       "      <td>645m²</td>\n",
       "    </tr>\n",
       "    <tr>\n",
       "      <td>3</td>\n",
       "      <td>6/141 Woniora Road, SOUTH HURSTVILLE NSW 2221</td>\n",
       "      <td>https://www.domain.com.au/6-141-woniora-road-s...</td>\n",
       "      <td>Apartment / Unit / Flat</td>\n",
       "      <td>6/141 Woniora Road,</td>\n",
       "      <td>SOUTH HURSTVILLE NSW 2221</td>\n",
       "      <td>SOUTH HURSTVILLE</td>\n",
       "      <td>NSW</td>\n",
       "      <td>2221</td>\n",
       "      <td>2 Beds</td>\n",
       "      <td>1 Bath</td>\n",
       "      <td>1 Parking</td>\n",
       "      <td></td>\n",
       "    </tr>\n",
       "    <tr>\n",
       "      <td>4</td>\n",
       "      <td>3/7a Reginald Avenue, BELMORE NSW 2192</td>\n",
       "      <td>https://www.domain.com.au/3-7a-reginald-avenue...</td>\n",
       "      <td>Apartment / Unit / Flat</td>\n",
       "      <td>3/7a Reginald Avenue,</td>\n",
       "      <td>BELMORE NSW 2192</td>\n",
       "      <td>BELMORE</td>\n",
       "      <td>NSW</td>\n",
       "      <td>2192</td>\n",
       "      <td>2 Beds</td>\n",
       "      <td>1 Bath</td>\n",
       "      <td>1 Parking</td>\n",
       "      <td></td>\n",
       "    </tr>\n",
       "    <tr>\n",
       "      <td>...</td>\n",
       "      <td>...</td>\n",
       "      <td>...</td>\n",
       "      <td>...</td>\n",
       "      <td>...</td>\n",
       "      <td>...</td>\n",
       "      <td>...</td>\n",
       "      <td>...</td>\n",
       "      <td>...</td>\n",
       "      <td>...</td>\n",
       "      <td>...</td>\n",
       "      <td>...</td>\n",
       "      <td>...</td>\n",
       "    </tr>\n",
       "    <tr>\n",
       "      <td>101</td>\n",
       "      <td>3/14-16 Short Street, WENTWORTHVILLE NSW 2145</td>\n",
       "      <td>https://www.domain.com.au/3-14-16-short-street...</td>\n",
       "      <td>Townhouse</td>\n",
       "      <td>3/14-16 Short Street,</td>\n",
       "      <td>WENTWORTHVILLE NSW 2145</td>\n",
       "      <td>WENTWORTHVILLE</td>\n",
       "      <td>NSW</td>\n",
       "      <td>2145</td>\n",
       "      <td>3 Beds</td>\n",
       "      <td>2 Baths</td>\n",
       "      <td>1 Parking</td>\n",
       "      <td>173m²</td>\n",
       "    </tr>\n",
       "    <tr>\n",
       "      <td>102</td>\n",
       "      <td>16/2a Maxim Street, WEST RYDE NSW 2114</td>\n",
       "      <td>https://www.domain.com.au/16-2a-maxim-street-w...</td>\n",
       "      <td>Apartment / Unit / Flat</td>\n",
       "      <td>16/2a Maxim Street,</td>\n",
       "      <td>WEST RYDE NSW 2114</td>\n",
       "      <td>WEST RYDE</td>\n",
       "      <td>NSW</td>\n",
       "      <td>2114</td>\n",
       "      <td>2 Beds</td>\n",
       "      <td>1 Bath</td>\n",
       "      <td>1 Parking</td>\n",
       "      <td></td>\n",
       "    </tr>\n",
       "    <tr>\n",
       "      <td>103</td>\n",
       "      <td>32 Mahratta Avenue, WAHROONGA NSW 2076</td>\n",
       "      <td>https://www.domain.com.au/32-mahratta-avenue-w...</td>\n",
       "      <td>House</td>\n",
       "      <td>32 Mahratta Avenue,</td>\n",
       "      <td>WAHROONGA NSW 2076</td>\n",
       "      <td>WAHROONGA</td>\n",
       "      <td>NSW</td>\n",
       "      <td>2076</td>\n",
       "      <td>4 Beds</td>\n",
       "      <td>1 Bath</td>\n",
       "      <td>2 Parking</td>\n",
       "      <td>999m²</td>\n",
       "    </tr>\n",
       "    <tr>\n",
       "      <td>104</td>\n",
       "      <td>23 Yanderra Grove, CHERRYBROOK NSW 2126</td>\n",
       "      <td>https://www.domain.com.au/23-yanderra-grove-ch...</td>\n",
       "      <td>House</td>\n",
       "      <td>23 Yanderra Grove,</td>\n",
       "      <td>CHERRYBROOK NSW 2126</td>\n",
       "      <td>CHERRYBROOK</td>\n",
       "      <td>NSW</td>\n",
       "      <td>2126</td>\n",
       "      <td>5 Beds</td>\n",
       "      <td>3 Baths</td>\n",
       "      <td>2 Parking</td>\n",
       "      <td></td>\n",
       "    </tr>\n",
       "    <tr>\n",
       "      <td>105</td>\n",
       "      <td>11/44 Bridge Street, SYDNEY NSW 2000</td>\n",
       "      <td>https://www.domain.com.au/11-44-bridge-street-...</td>\n",
       "      <td>Apartment / Unit / Flat</td>\n",
       "      <td>11/44 Bridge Street,</td>\n",
       "      <td>SYDNEY NSW 2000</td>\n",
       "      <td>SYDNEY</td>\n",
       "      <td>NSW</td>\n",
       "      <td>2000</td>\n",
       "      <td>3 Beds</td>\n",
       "      <td>1 Bath</td>\n",
       "      <td>− .css-12a1b0h{position:absolute;width:1px;hei...</td>\n",
       "      <td></td>\n",
       "    </tr>\n",
       "  </tbody>\n",
       "</table>\n",
       "<p>106 rows × 12 columns</p>\n",
       "</div>"
      ],
      "text/plain": [
       "                                      full_address  \\\n",
       "0                19 The Crescent, DEE WHY NSW 2099   \n",
       "1                51 River Road, GREENWICH NSW 2065   \n",
       "2             11 Tenth Avenue, OYSTER BAY NSW 2225   \n",
       "3    6/141 Woniora Road, SOUTH HURSTVILLE NSW 2221   \n",
       "4           3/7a Reginald Avenue, BELMORE NSW 2192   \n",
       "..                                             ...   \n",
       "101  3/14-16 Short Street, WENTWORTHVILLE NSW 2145   \n",
       "102         16/2a Maxim Street, WEST RYDE NSW 2114   \n",
       "103         32 Mahratta Avenue, WAHROONGA NSW 2076   \n",
       "104        23 Yanderra Grove, CHERRYBROOK NSW 2126   \n",
       "105           11/44 Bridge Street, SYDNEY NSW 2000   \n",
       "\n",
       "                                                   url  \\\n",
       "0    https://www.domain.com.au/19-the-crescent-dee-...   \n",
       "1    https://www.domain.com.au/51-river-road-greenw...   \n",
       "2    https://www.domain.com.au/11-tenth-avenue-oyst...   \n",
       "3    https://www.domain.com.au/6-141-woniora-road-s...   \n",
       "4    https://www.domain.com.au/3-7a-reginald-avenue...   \n",
       "..                                                 ...   \n",
       "101  https://www.domain.com.au/3-14-16-short-street...   \n",
       "102  https://www.domain.com.au/16-2a-maxim-street-w...   \n",
       "103  https://www.domain.com.au/32-mahratta-avenue-w...   \n",
       "104  https://www.domain.com.au/23-yanderra-grove-ch...   \n",
       "105  https://www.domain.com.au/11-44-bridge-street-...   \n",
       "\n",
       "                   prop_type                  street  \\\n",
       "0                      House       19 The Crescent,    \n",
       "1                      House         51 River Road,    \n",
       "2                      House       11 Tenth Avenue,    \n",
       "3    Apartment / Unit / Flat    6/141 Woniora Road,    \n",
       "4    Apartment / Unit / Flat  3/7a Reginald Avenue,    \n",
       "..                       ...                     ...   \n",
       "101                Townhouse  3/14-16 Short Street,    \n",
       "102  Apartment / Unit / Flat    16/2a Maxim Street,    \n",
       "103                    House    32 Mahratta Avenue,    \n",
       "104                    House     23 Yanderra Grove,    \n",
       "105  Apartment / Unit / Flat   11/44 Bridge Street,    \n",
       "\n",
       "         suburb_state_postcode            suburb state post_code  \\\n",
       "0             DEE WHY NSW 2099           DEE WHY   NSW      2099   \n",
       "1           GREENWICH NSW 2065         GREENWICH   NSW      2065   \n",
       "2          OYSTER BAY NSW 2225        OYSTER BAY   NSW      2225   \n",
       "3    SOUTH HURSTVILLE NSW 2221  SOUTH HURSTVILLE   NSW      2221   \n",
       "4             BELMORE NSW 2192           BELMORE   NSW      2192   \n",
       "..                         ...               ...   ...       ...   \n",
       "101    WENTWORTHVILLE NSW 2145    WENTWORTHVILLE   NSW      2145   \n",
       "102         WEST RYDE NSW 2114         WEST RYDE   NSW      2114   \n",
       "103         WAHROONGA NSW 2076         WAHROONGA   NSW      2076   \n",
       "104       CHERRYBROOK NSW 2126       CHERRYBROOK   NSW      2126   \n",
       "105            SYDNEY NSW 2000            SYDNEY   NSW      2000   \n",
       "\n",
       "                                                  beds    baths  \\\n",
       "0    .css-k9a40f{font-weight:bold;margin-right:6px;...  2 Baths   \n",
       "1                                               3 Beds  3 Baths   \n",
       "2                                               4 Beds  2 Baths   \n",
       "3                                               2 Beds   1 Bath   \n",
       "4                                               2 Beds   1 Bath   \n",
       "..                                                 ...      ...   \n",
       "101                                             3 Beds  2 Baths   \n",
       "102                                             2 Beds   1 Bath   \n",
       "103                                             4 Beds   1 Bath   \n",
       "104                                             5 Beds  3 Baths   \n",
       "105                                             3 Beds   1 Bath   \n",
       "\n",
       "                                                  cars    area  \n",
       "0                                            2 Parking  737m²   \n",
       "1                                            1 Parking  575m²   \n",
       "2                                            2 Parking  645m²   \n",
       "3                                            1 Parking          \n",
       "4                                            1 Parking          \n",
       "..                                                 ...     ...  \n",
       "101                                          1 Parking  173m²   \n",
       "102                                          1 Parking          \n",
       "103                                          2 Parking  999m²   \n",
       "104                                          2 Parking          \n",
       "105  − .css-12a1b0h{position:absolute;width:1px;hei...          \n",
       "\n",
       "[106 rows x 12 columns]"
      ]
     },
     "execution_count": 8,
     "metadata": {},
     "output_type": "execute_result"
    }
   ],
   "source": [
    "df"
   ]
  },
  {
   "cell_type": "code",
   "execution_count": 9,
   "metadata": {},
   "outputs": [],
   "source": [
    "df.to_csv('Domain_auction_list_21_12_2019.csv')"
   ]
  },
  {
   "cell_type": "code",
   "execution_count": 10,
   "metadata": {},
   "outputs": [],
   "source": [
    "df = pd.read_csv('Domain_auction_list_21_12_2019.csv')"
   ]
  },
  {
   "cell_type": "code",
   "execution_count": 11,
   "metadata": {},
   "outputs": [],
   "source": [
    "df['multi-storey'] = ''\n",
    "df['Swimming pool'] = ''\n",
    "df['Need major renovation'] = ''\n",
    "df['Impressive decor'] = ''\n",
    "df['Lack of natural lights'] = ''\n",
    "df['Weatherboard house'] = ''\n",
    "df['Recently built'] = ''\n",
    "df['Tennis court'] = ''\n",
    "df['Well designed outdoor space'] = ''\n",
    "df['Indoor-outdoor connected living'] = ''\n",
    "df['Granny flat'] = ''\n",
    "df['Reasonable floor plan'] = ''\n",
    "df['Indoor space'] = ''\n",
    "df['sec_pri_sold_time'] = ''\n",
    "df['syd_pri_sold_time'] = ''\n",
    "df['syd_pri_lv_time'] = ''\n",
    "df['sec_pri_lv_time'] = ''"
   ]
  },
  {
   "cell_type": "code",
   "execution_count": 12,
   "metadata": {},
   "outputs": [
    {
     "data": {
      "text/html": [
       "<div>\n",
       "<style scoped>\n",
       "    .dataframe tbody tr th:only-of-type {\n",
       "        vertical-align: middle;\n",
       "    }\n",
       "\n",
       "    .dataframe tbody tr th {\n",
       "        vertical-align: top;\n",
       "    }\n",
       "\n",
       "    .dataframe thead th {\n",
       "        text-align: right;\n",
       "    }\n",
       "</style>\n",
       "<table border=\"1\" class=\"dataframe\">\n",
       "  <thead>\n",
       "    <tr style=\"text-align: right;\">\n",
       "      <th></th>\n",
       "      <th>Unnamed: 0</th>\n",
       "      <th>full_address</th>\n",
       "      <th>url</th>\n",
       "      <th>prop_type</th>\n",
       "      <th>street</th>\n",
       "      <th>suburb_state_postcode</th>\n",
       "      <th>suburb</th>\n",
       "      <th>state</th>\n",
       "      <th>post_code</th>\n",
       "      <th>beds</th>\n",
       "      <th>...</th>\n",
       "      <th>Tennis court</th>\n",
       "      <th>Well designed outdoor space</th>\n",
       "      <th>Indoor-outdoor connected living</th>\n",
       "      <th>Granny flat</th>\n",
       "      <th>Reasonable floor plan</th>\n",
       "      <th>Indoor space</th>\n",
       "      <th>sec_pri_sold_time</th>\n",
       "      <th>syd_pri_sold_time</th>\n",
       "      <th>syd_pri_lv_time</th>\n",
       "      <th>sec_pri_lv_time</th>\n",
       "    </tr>\n",
       "  </thead>\n",
       "  <tbody>\n",
       "    <tr>\n",
       "      <td>0</td>\n",
       "      <td>0</td>\n",
       "      <td>19 The Crescent, DEE WHY NSW 2099</td>\n",
       "      <td>https://www.domain.com.au/19-the-crescent-dee-...</td>\n",
       "      <td>House</td>\n",
       "      <td>19 The Crescent,</td>\n",
       "      <td>DEE WHY NSW 2099</td>\n",
       "      <td>DEE WHY</td>\n",
       "      <td>NSW</td>\n",
       "      <td>2099</td>\n",
       "      <td>4</td>\n",
       "      <td>...</td>\n",
       "      <td></td>\n",
       "      <td></td>\n",
       "      <td></td>\n",
       "      <td></td>\n",
       "      <td></td>\n",
       "      <td></td>\n",
       "      <td></td>\n",
       "      <td></td>\n",
       "      <td></td>\n",
       "      <td></td>\n",
       "    </tr>\n",
       "    <tr>\n",
       "      <td>1</td>\n",
       "      <td>1</td>\n",
       "      <td>51 River Road, GREENWICH NSW 2065</td>\n",
       "      <td>https://www.domain.com.au/51-river-road-greenw...</td>\n",
       "      <td>House</td>\n",
       "      <td>51 River Road,</td>\n",
       "      <td>GREENWICH NSW 2065</td>\n",
       "      <td>GREENWICH</td>\n",
       "      <td>NSW</td>\n",
       "      <td>2065</td>\n",
       "      <td>3</td>\n",
       "      <td>...</td>\n",
       "      <td></td>\n",
       "      <td></td>\n",
       "      <td></td>\n",
       "      <td></td>\n",
       "      <td></td>\n",
       "      <td></td>\n",
       "      <td></td>\n",
       "      <td></td>\n",
       "      <td></td>\n",
       "      <td></td>\n",
       "    </tr>\n",
       "    <tr>\n",
       "      <td>2</td>\n",
       "      <td>2</td>\n",
       "      <td>11 Tenth Avenue, OYSTER BAY NSW 2225</td>\n",
       "      <td>https://www.domain.com.au/11-tenth-avenue-oyst...</td>\n",
       "      <td>House</td>\n",
       "      <td>11 Tenth Avenue,</td>\n",
       "      <td>OYSTER BAY NSW 2225</td>\n",
       "      <td>OYSTER BAY</td>\n",
       "      <td>NSW</td>\n",
       "      <td>2225</td>\n",
       "      <td>4</td>\n",
       "      <td>...</td>\n",
       "      <td></td>\n",
       "      <td></td>\n",
       "      <td></td>\n",
       "      <td></td>\n",
       "      <td></td>\n",
       "      <td></td>\n",
       "      <td></td>\n",
       "      <td></td>\n",
       "      <td></td>\n",
       "      <td></td>\n",
       "    </tr>\n",
       "    <tr>\n",
       "      <td>3</td>\n",
       "      <td>3</td>\n",
       "      <td>6/141 Woniora Road, SOUTH HURSTVILLE NSW 2221</td>\n",
       "      <td>https://www.domain.com.au/6-141-woniora-road-s...</td>\n",
       "      <td>Apartment / Unit / Flat</td>\n",
       "      <td>6/141 Woniora Road,</td>\n",
       "      <td>SOUTH HURSTVILLE NSW 2221</td>\n",
       "      <td>SOUTH HURSTVILLE</td>\n",
       "      <td>NSW</td>\n",
       "      <td>2221</td>\n",
       "      <td>2</td>\n",
       "      <td>...</td>\n",
       "      <td></td>\n",
       "      <td></td>\n",
       "      <td></td>\n",
       "      <td></td>\n",
       "      <td></td>\n",
       "      <td></td>\n",
       "      <td></td>\n",
       "      <td></td>\n",
       "      <td></td>\n",
       "      <td></td>\n",
       "    </tr>\n",
       "    <tr>\n",
       "      <td>4</td>\n",
       "      <td>4</td>\n",
       "      <td>3/7a Reginald Avenue, BELMORE NSW 2192</td>\n",
       "      <td>https://www.domain.com.au/3-7a-reginald-avenue...</td>\n",
       "      <td>Apartment / Unit / Flat</td>\n",
       "      <td>3/7a Reginald Avenue,</td>\n",
       "      <td>BELMORE NSW 2192</td>\n",
       "      <td>BELMORE</td>\n",
       "      <td>NSW</td>\n",
       "      <td>2192</td>\n",
       "      <td>2</td>\n",
       "      <td>...</td>\n",
       "      <td></td>\n",
       "      <td></td>\n",
       "      <td></td>\n",
       "      <td></td>\n",
       "      <td></td>\n",
       "      <td></td>\n",
       "      <td></td>\n",
       "      <td></td>\n",
       "      <td></td>\n",
       "      <td></td>\n",
       "    </tr>\n",
       "    <tr>\n",
       "      <td>...</td>\n",
       "      <td>...</td>\n",
       "      <td>...</td>\n",
       "      <td>...</td>\n",
       "      <td>...</td>\n",
       "      <td>...</td>\n",
       "      <td>...</td>\n",
       "      <td>...</td>\n",
       "      <td>...</td>\n",
       "      <td>...</td>\n",
       "      <td>...</td>\n",
       "      <td>...</td>\n",
       "      <td>...</td>\n",
       "      <td>...</td>\n",
       "      <td>...</td>\n",
       "      <td>...</td>\n",
       "      <td>...</td>\n",
       "      <td>...</td>\n",
       "      <td>...</td>\n",
       "      <td>...</td>\n",
       "      <td>...</td>\n",
       "      <td>...</td>\n",
       "    </tr>\n",
       "    <tr>\n",
       "      <td>101</td>\n",
       "      <td>101</td>\n",
       "      <td>3/14-16 Short Street, WENTWORTHVILLE NSW 2145</td>\n",
       "      <td>https://www.domain.com.au/3-14-16-short-street...</td>\n",
       "      <td>Townhouse</td>\n",
       "      <td>3/14-16 Short Street,</td>\n",
       "      <td>WENTWORTHVILLE NSW 2145</td>\n",
       "      <td>WENTWORTHVILLE</td>\n",
       "      <td>NSW</td>\n",
       "      <td>2145</td>\n",
       "      <td>3</td>\n",
       "      <td>...</td>\n",
       "      <td></td>\n",
       "      <td></td>\n",
       "      <td></td>\n",
       "      <td></td>\n",
       "      <td></td>\n",
       "      <td></td>\n",
       "      <td></td>\n",
       "      <td></td>\n",
       "      <td></td>\n",
       "      <td></td>\n",
       "    </tr>\n",
       "    <tr>\n",
       "      <td>102</td>\n",
       "      <td>102</td>\n",
       "      <td>16/2a Maxim Street, WEST RYDE NSW 2114</td>\n",
       "      <td>https://www.domain.com.au/16-2a-maxim-street-w...</td>\n",
       "      <td>Apartment / Unit / Flat</td>\n",
       "      <td>16/2a Maxim Street,</td>\n",
       "      <td>WEST RYDE NSW 2114</td>\n",
       "      <td>WEST RYDE</td>\n",
       "      <td>NSW</td>\n",
       "      <td>2114</td>\n",
       "      <td>2</td>\n",
       "      <td>...</td>\n",
       "      <td></td>\n",
       "      <td></td>\n",
       "      <td></td>\n",
       "      <td></td>\n",
       "      <td></td>\n",
       "      <td></td>\n",
       "      <td></td>\n",
       "      <td></td>\n",
       "      <td></td>\n",
       "      <td></td>\n",
       "    </tr>\n",
       "    <tr>\n",
       "      <td>103</td>\n",
       "      <td>103</td>\n",
       "      <td>32 Mahratta Avenue, WAHROONGA NSW 2076</td>\n",
       "      <td>https://www.domain.com.au/32-mahratta-avenue-w...</td>\n",
       "      <td>House</td>\n",
       "      <td>32 Mahratta Avenue,</td>\n",
       "      <td>WAHROONGA NSW 2076</td>\n",
       "      <td>WAHROONGA</td>\n",
       "      <td>NSW</td>\n",
       "      <td>2076</td>\n",
       "      <td>4</td>\n",
       "      <td>...</td>\n",
       "      <td></td>\n",
       "      <td></td>\n",
       "      <td></td>\n",
       "      <td></td>\n",
       "      <td></td>\n",
       "      <td></td>\n",
       "      <td></td>\n",
       "      <td></td>\n",
       "      <td></td>\n",
       "      <td></td>\n",
       "    </tr>\n",
       "    <tr>\n",
       "      <td>104</td>\n",
       "      <td>104</td>\n",
       "      <td>23 Yanderra Grove, CHERRYBROOK NSW 2126</td>\n",
       "      <td>https://www.domain.com.au/23-yanderra-grove-ch...</td>\n",
       "      <td>House</td>\n",
       "      <td>23 Yanderra Grove,</td>\n",
       "      <td>CHERRYBROOK NSW 2126</td>\n",
       "      <td>CHERRYBROOK</td>\n",
       "      <td>NSW</td>\n",
       "      <td>2126</td>\n",
       "      <td>5</td>\n",
       "      <td>...</td>\n",
       "      <td></td>\n",
       "      <td></td>\n",
       "      <td></td>\n",
       "      <td></td>\n",
       "      <td></td>\n",
       "      <td></td>\n",
       "      <td></td>\n",
       "      <td></td>\n",
       "      <td></td>\n",
       "      <td></td>\n",
       "    </tr>\n",
       "    <tr>\n",
       "      <td>105</td>\n",
       "      <td>105</td>\n",
       "      <td>11/44 Bridge Street, SYDNEY NSW 2000</td>\n",
       "      <td>https://www.domain.com.au/11-44-bridge-street-...</td>\n",
       "      <td>Apartment / Unit / Flat</td>\n",
       "      <td>11/44 Bridge Street,</td>\n",
       "      <td>SYDNEY NSW 2000</td>\n",
       "      <td>SYDNEY</td>\n",
       "      <td>NSW</td>\n",
       "      <td>2000</td>\n",
       "      <td>3</td>\n",
       "      <td>...</td>\n",
       "      <td></td>\n",
       "      <td></td>\n",
       "      <td></td>\n",
       "      <td></td>\n",
       "      <td></td>\n",
       "      <td></td>\n",
       "      <td></td>\n",
       "      <td></td>\n",
       "      <td></td>\n",
       "      <td></td>\n",
       "    </tr>\n",
       "  </tbody>\n",
       "</table>\n",
       "<p>106 rows × 30 columns</p>\n",
       "</div>"
      ],
      "text/plain": [
       "     Unnamed: 0                                   full_address  \\\n",
       "0             0              19 The Crescent, DEE WHY NSW 2099   \n",
       "1             1              51 River Road, GREENWICH NSW 2065   \n",
       "2             2           11 Tenth Avenue, OYSTER BAY NSW 2225   \n",
       "3             3  6/141 Woniora Road, SOUTH HURSTVILLE NSW 2221   \n",
       "4             4         3/7a Reginald Avenue, BELMORE NSW 2192   \n",
       "..          ...                                            ...   \n",
       "101         101  3/14-16 Short Street, WENTWORTHVILLE NSW 2145   \n",
       "102         102         16/2a Maxim Street, WEST RYDE NSW 2114   \n",
       "103         103         32 Mahratta Avenue, WAHROONGA NSW 2076   \n",
       "104         104        23 Yanderra Grove, CHERRYBROOK NSW 2126   \n",
       "105         105           11/44 Bridge Street, SYDNEY NSW 2000   \n",
       "\n",
       "                                                   url  \\\n",
       "0    https://www.domain.com.au/19-the-crescent-dee-...   \n",
       "1    https://www.domain.com.au/51-river-road-greenw...   \n",
       "2    https://www.domain.com.au/11-tenth-avenue-oyst...   \n",
       "3    https://www.domain.com.au/6-141-woniora-road-s...   \n",
       "4    https://www.domain.com.au/3-7a-reginald-avenue...   \n",
       "..                                                 ...   \n",
       "101  https://www.domain.com.au/3-14-16-short-street...   \n",
       "102  https://www.domain.com.au/16-2a-maxim-street-w...   \n",
       "103  https://www.domain.com.au/32-mahratta-avenue-w...   \n",
       "104  https://www.domain.com.au/23-yanderra-grove-ch...   \n",
       "105  https://www.domain.com.au/11-44-bridge-street-...   \n",
       "\n",
       "                   prop_type                 street  \\\n",
       "0                      House       19 The Crescent,   \n",
       "1                      House         51 River Road,   \n",
       "2                      House       11 Tenth Avenue,   \n",
       "3    Apartment / Unit / Flat    6/141 Woniora Road,   \n",
       "4    Apartment / Unit / Flat  3/7a Reginald Avenue,   \n",
       "..                       ...                    ...   \n",
       "101                Townhouse  3/14-16 Short Street,   \n",
       "102  Apartment / Unit / Flat    16/2a Maxim Street,   \n",
       "103                    House    32 Mahratta Avenue,   \n",
       "104                    House     23 Yanderra Grove,   \n",
       "105  Apartment / Unit / Flat   11/44 Bridge Street,   \n",
       "\n",
       "         suburb_state_postcode            suburb state  post_code  beds  ...  \\\n",
       "0             DEE WHY NSW 2099           DEE WHY   NSW       2099     4  ...   \n",
       "1           GREENWICH NSW 2065         GREENWICH   NSW       2065     3  ...   \n",
       "2          OYSTER BAY NSW 2225        OYSTER BAY   NSW       2225     4  ...   \n",
       "3    SOUTH HURSTVILLE NSW 2221  SOUTH HURSTVILLE   NSW       2221     2  ...   \n",
       "4             BELMORE NSW 2192           BELMORE   NSW       2192     2  ...   \n",
       "..                         ...               ...   ...        ...   ...  ...   \n",
       "101    WENTWORTHVILLE NSW 2145    WENTWORTHVILLE   NSW       2145     3  ...   \n",
       "102         WEST RYDE NSW 2114         WEST RYDE   NSW       2114     2  ...   \n",
       "103         WAHROONGA NSW 2076         WAHROONGA   NSW       2076     4  ...   \n",
       "104       CHERRYBROOK NSW 2126       CHERRYBROOK   NSW       2126     5  ...   \n",
       "105            SYDNEY NSW 2000            SYDNEY   NSW       2000     3  ...   \n",
       "\n",
       "     Tennis court  Well designed outdoor space  \\\n",
       "0                                                \n",
       "1                                                \n",
       "2                                                \n",
       "3                                                \n",
       "4                                                \n",
       "..            ...                          ...   \n",
       "101                                              \n",
       "102                                              \n",
       "103                                              \n",
       "104                                              \n",
       "105                                              \n",
       "\n",
       "    Indoor-outdoor connected living Granny flat Reasonable floor plan  \\\n",
       "0                                                                       \n",
       "1                                                                       \n",
       "2                                                                       \n",
       "3                                                                       \n",
       "4                                                                       \n",
       "..                              ...         ...                   ...   \n",
       "101                                                                     \n",
       "102                                                                     \n",
       "103                                                                     \n",
       "104                                                                     \n",
       "105                                                                     \n",
       "\n",
       "    Indoor space sec_pri_sold_time syd_pri_sold_time syd_pri_lv_time  \\\n",
       "0                                                                      \n",
       "1                                                                      \n",
       "2                                                                      \n",
       "3                                                                      \n",
       "4                                                                      \n",
       "..           ...               ...               ...             ...   \n",
       "101                                                                    \n",
       "102                                                                    \n",
       "103                                                                    \n",
       "104                                                                    \n",
       "105                                                                    \n",
       "\n",
       "    sec_pri_lv_time  \n",
       "0                    \n",
       "1                    \n",
       "2                    \n",
       "3                    \n",
       "4                    \n",
       "..              ...  \n",
       "101                  \n",
       "102                  \n",
       "103                  \n",
       "104                  \n",
       "105                  \n",
       "\n",
       "[106 rows x 30 columns]"
      ]
     },
     "execution_count": 12,
     "metadata": {},
     "output_type": "execute_result"
    }
   ],
   "source": [
    "df"
   ]
  },
  {
   "cell_type": "code",
   "execution_count": 13,
   "metadata": {},
   "outputs": [],
   "source": [
    "df.to_csv('Auction_list_21_12_2019_updated.csv', index = False)"
   ]
  },
  {
   "cell_type": "code",
   "execution_count": null,
   "metadata": {},
   "outputs": [],
   "source": []
  }
 ],
 "metadata": {
  "kernelspec": {
   "display_name": "Python 3",
   "language": "python",
   "name": "python3"
  },
  "language_info": {
   "codemirror_mode": {
    "name": "ipython",
    "version": 3
   },
   "file_extension": ".py",
   "mimetype": "text/x-python",
   "name": "python",
   "nbconvert_exporter": "python",
   "pygments_lexer": "ipython3",
   "version": "3.7.4"
  }
 },
 "nbformat": 4,
 "nbformat_minor": 2
}
